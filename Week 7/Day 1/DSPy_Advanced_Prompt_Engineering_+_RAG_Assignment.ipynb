{
  "cells": [
    {
      "cell_type": "markdown",
      "metadata": {
        "id": "lNF2FTJcYP7u"
      },
      "source": [
        "# DSPy - Advanced Prompt Engineering\n",
        "\n",
        "1. Breakout Room #1:\n",
        "  - Task 1: Dependencies\n",
        "  - Task 2: Loading Our Model\n",
        "  - Task 3: Loading Our Data\n",
        "  - Task 4: Setting Our Signature\n",
        "  - Task 5: Creating a Predictor\n",
        "  - Task 6: Making a Chain, I mean...Module\n",
        "  - Task 7: Evaluate\n",
        "  - Task 8: Program Optimization\n",
        "2. Breakout Room #2:\n",
        "  - Task 1: Defining Appliation\n",
        "  - Task 2: Hyper-Parameters and Data\n",
        "  - Task 3: Signature And Module Creation\n",
        "  - Task 4: Evaluating Our LongFormQA Module\n",
        "  - Task 5: Adding Assertions\n",
        "\n",
        "---\n",
        "\n",
        "In the following notebook, we'll explore an introduction to DSPy and what it can do in just a few lines of code!"
      ]
    },
    {
      "cell_type": "markdown",
      "metadata": {
        "id": "J8VnLGF_33VI"
      },
      "source": [
        "# 🤝 Breakout Room #1"
      ]
    },
    {
      "cell_type": "markdown",
      "metadata": {
        "id": "qmhp5fwk2nvT"
      },
      "source": [
        "## Task 1: Dependencies\n",
        "\n",
        "We'll start by installing DSPy, `nltk` (for later) and including our OpenAI API key."
      ]
    },
    {
      "cell_type": "code",
      "execution_count": 1,
      "metadata": {
        "colab": {
          "base_uri": "https://localhost:8080/"
        },
        "id": "MeoJU4iE3AWt",
        "outputId": "ec75ddd4-470e-4f5b-9237-8535e6356b05"
      },
      "outputs": [],
      "source": [
        "!pip install -qU dspy-ai nltk"
      ]
    },
    {
      "cell_type": "markdown",
      "metadata": {
        "id": "PrDi65cdY0pa"
      },
      "source": [
        "DSPy can leverage OpenAI's models under the hood, and still provide an advantage - in order to do so, however, we'll need to provide an OpenAI API Key!"
      ]
    },
    {
      "cell_type": "code",
      "execution_count": 2,
      "metadata": {
        "colab": {
          "base_uri": "https://localhost:8080/"
        },
        "id": "8lPWT4vL8zFd",
        "outputId": "eb053089-dcf3-40e1-883f-6f69ff87d18d"
      },
      "outputs": [],
      "source": [
        "import os\n",
        "import getpass\n",
        "\n",
        "os.environ['OPENAI_API_KEY'] = getpass.getpass('OpenAI API Key: ')"
      ]
    },
    {
      "cell_type": "markdown",
      "metadata": {
        "id": "FW3W8ogDZJS_"
      },
      "source": [
        "## Task 2: Loading Our Model\n",
        "\n",
        "Now we can setup our OpenAI language model - which we'll use through the remaining cells in the notebook."
      ]
    },
    {
      "cell_type": "code",
      "execution_count": 3,
      "metadata": {
        "id": "VJAy8_hw8rUu"
      },
      "outputs": [
        {
          "name": "stderr",
          "output_type": "stream",
          "text": [
            "/Users/gmedrano/Docs/skowak/apps/ai-bootcamp-apps/aie4-bootcamp/bootcamp-lessons/AIE4/.conda/lib/python3.11/site-packages/tqdm/auto.py:21: TqdmWarning: IProgress not found. Please update jupyter and ipywidgets. See https://ipywidgets.readthedocs.io/en/stable/user_install.html\n",
            "  from .autonotebook import tqdm as notebook_tqdm\n"
          ]
        }
      ],
      "source": [
        "from dspy import LM\n",
        "\n",
        "llm = LM(model='openai/gpt-3.5-turbo')"
      ]
    },
    {
      "cell_type": "markdown",
      "metadata": {
        "id": "ONjD_6hKZPsD"
      },
      "source": [
        "Similar to other libraries, we can call the LLM directly with a string to get a response!"
      ]
    },
    {
      "cell_type": "code",
      "execution_count": 4,
      "metadata": {
        "colab": {
          "base_uri": "https://localhost:8080/"
        },
        "id": "BlwRrI1UZOFc",
        "outputId": "7c359dbf-dd63-44a1-f43f-f2a19ec632e4"
      },
      "outputs": [
        {
          "data": {
            "text/plain": [
              "['The square root of pi is approximately 1.77245385091.']"
            ]
          },
          "execution_count": 4,
          "metadata": {},
          "output_type": "execute_result"
        }
      ],
      "source": [
        "llm(\"What is the square root of pi?\")"
      ]
    },
    {
      "cell_type": "markdown",
      "metadata": {
        "id": "oAO_nkG_ZVVV"
      },
      "source": [
        "We'll also set our `setting.configure` with our OpenAI model in the `lm` (Language Model) field for a default LM to use in case we don't specify which LM we'd like to use when calling our DSPy `Predictors`."
      ]
    },
    {
      "cell_type": "code",
      "execution_count": 5,
      "metadata": {
        "id": "feM8E46m9Gna"
      },
      "outputs": [],
      "source": [
        "import dspy\n",
        "\n",
        "dspy.settings.configure(lm=llm)"
      ]
    },
    {
      "cell_type": "markdown",
      "metadata": {
        "id": "G5H-q4WdZhc3"
      },
      "source": [
        "## Task 3: Load Our Data\n",
        "\n",
        "We're going to be using a dataset that provides a number of example sentences, along with a rating that indicates their \"dopeness\" level."
      ]
    },
    {
      "cell_type": "code",
      "execution_count": 6,
      "metadata": {
        "id": "n__G5nrU-Epz"
      },
      "outputs": [
        {
          "name": "stderr",
          "output_type": "stream",
          "text": [
            "Generating train split: 100%|██████████| 99/99 [00:00<00:00, 9469.03 examples/s]\n"
          ]
        }
      ],
      "source": [
        "from datasets import load_dataset\n",
        "\n",
        "dataset = load_dataset(\"llm-wizard/dope_or_nope_v2\")"
      ]
    },
    {
      "cell_type": "markdown",
      "metadata": {
        "id": "OMgZxUByaz68"
      },
      "source": [
        "We have a total of 99 rows of data, and will be splitting that into a `trainset` and a `valset` - for training and evaluation."
      ]
    },
    {
      "cell_type": "code",
      "execution_count": 7,
      "metadata": {
        "colab": {
          "base_uri": "https://localhost:8080/"
        },
        "id": "YMBCVzwhDKJr",
        "outputId": "c90f89e1-eef9-4ceb-fbe1-1492d2b462ad"
      },
      "outputs": [
        {
          "data": {
            "text/plain": [
              "DatasetDict({\n",
              "    train: Dataset({\n",
              "        features: ['Sentence', 'Rating', 'Fire Emojis'],\n",
              "        num_rows: 99\n",
              "    })\n",
              "})"
            ]
          },
          "execution_count": 7,
          "metadata": {},
          "output_type": "execute_result"
        }
      ],
      "source": [
        "dataset"
      ]
    },
    {
      "cell_type": "markdown",
      "metadata": {
        "id": "ZwyoqDkvcBxr"
      },
      "source": [
        "Due to the nature of the dataset, we'll need to shuffle our dataset to ensure our labels are not clumped up, and our `valset` is remotely representative to our `trainset`."
      ]
    },
    {
      "cell_type": "code",
      "execution_count": 8,
      "metadata": {
        "id": "RecukH0rVkNY"
      },
      "outputs": [],
      "source": [
        "dataset = dataset.shuffle(seed=42)"
      ]
    },
    {
      "cell_type": "markdown",
      "metadata": {
        "id": "nrr-xSbtcPBK"
      },
      "source": [
        "We'll move our `Dataset` into the expected format in DSPy which is the [`Example`](https://dspy-docs.vercel.app/docs/deep-dive/data-handling/examples)!\n",
        "\n",
        "\n",
        "Our examples will have two keys:\n",
        "\n",
        "- `sentence`, our input sentence to be rated\n",
        "- `rating`, our rating label\n",
        "\n",
        "We'll specify our input as `sentence` to properly leverage the DSPy framework."
      ]
    },
    {
      "cell_type": "code",
      "execution_count": 9,
      "metadata": {
        "colab": {
          "base_uri": "https://localhost:8080/"
        },
        "id": "07ARkkb_CnBT",
        "outputId": "c4662436-8ab1-4381-dd3a-82867b711ddc"
      },
      "outputs": [
        {
          "data": {
            "text/plain": [
              "89"
            ]
          },
          "execution_count": 9,
          "metadata": {},
          "output_type": "execute_result"
        }
      ],
      "source": [
        "from dspy import Example\n",
        "\n",
        "trainset = []\n",
        "\n",
        "for row in dataset[\"train\"].select(range(0,len(dataset[\"train\"])-10)):\n",
        "  trainset.append(Example(sentence=row[\"Sentence\"], rating=row[\"Rating\"]).with_inputs(\"sentence\"))\n",
        "\n",
        "len(trainset)"
      ]
    },
    {
      "cell_type": "markdown",
      "metadata": {
        "id": "wZC2yAnqc31Q"
      },
      "source": [
        "We'll repeat the same process for our `valset` as well."
      ]
    },
    {
      "cell_type": "code",
      "execution_count": 10,
      "metadata": {
        "colab": {
          "base_uri": "https://localhost:8080/"
        },
        "id": "VTDPZJUZD_hM",
        "outputId": "1e9ddeda-6813-4e8f-89e8-05ffceee10d4"
      },
      "outputs": [
        {
          "data": {
            "text/plain": [
              "10"
            ]
          },
          "execution_count": 10,
          "metadata": {},
          "output_type": "execute_result"
        }
      ],
      "source": [
        "valset = []\n",
        "\n",
        "for row in dataset[\"train\"].select(range(len(trainset),len(dataset[\"train\"]))):\n",
        "  valset.append(Example(sentence=row[\"Sentence\"], rating=row[\"Rating\"]).with_inputs(\"sentence\"))\n",
        "\n",
        "len(valset)"
      ]
    },
    {
      "cell_type": "markdown",
      "metadata": {
        "id": "GKKim9uRc8Q0"
      },
      "source": [
        "Let's take a peek at an example from our `trainset` and `valset`!"
      ]
    },
    {
      "cell_type": "code",
      "execution_count": 11,
      "metadata": {
        "colab": {
          "base_uri": "https://localhost:8080/"
        },
        "id": "PVgP0ctkEJC9",
        "outputId": "18a13416-4ed2-4144-bacb-cce2e21f7e11"
      },
      "outputs": [
        {
          "name": "stdout",
          "output_type": "stream",
          "text": [
            "Sentence: The results were satisfactory.\n",
            "Label: 0\n"
          ]
        }
      ],
      "source": [
        "train_example = trainset[0]\n",
        "print(f\"Sentence: {train_example.sentence}\")\n",
        "print(f\"Label: {train_example.rating}\")"
      ]
    },
    {
      "cell_type": "code",
      "execution_count": 12,
      "metadata": {
        "colab": {
          "base_uri": "https://localhost:8080/"
        },
        "id": "zHFDjOT9EUip",
        "outputId": "3744d91b-6791-4935-ab0c-30f805ababcc"
      },
      "outputs": [
        {
          "name": "stdout",
          "output_type": "stream",
          "text": [
            "Sentence: This is top tier.\n",
            "Label: 4\n"
          ]
        }
      ],
      "source": [
        "valset_example = valset[0]\n",
        "print(f\"Sentence: {valset_example.sentence}\")\n",
        "print(f\"Label: {valset_example.rating}\")"
      ]
    },
    {
      "cell_type": "markdown",
      "metadata": {
        "id": "lbjjPIJsdAYs"
      },
      "source": [
        "## Task 4: Setting Our Signature\n",
        "\n",
        "The first foundational unit in DSPy is the `Signature`.\n",
        "\n",
        "In a sense, a `Signature` can be thought of as both a prompt, as well as metadata about that prompt.\n",
        "\n",
        "Going beyond just a simple `SystemMessage`, as seen in other frameworks, the `Signature` helps DSPy validate datatypes, create examples, and more.\n",
        "\n",
        "> NOTE: DSPy's [documentation](https://dspy-docs.vercel.app/docs/deep-dive/signature/understanding-signatures#what-is-a-signature) goes into more detail about what exactly a `Signature` is."
      ]
    },
    {
      "cell_type": "code",
      "execution_count": 13,
      "metadata": {
        "id": "WcshNXosEaRb"
      },
      "outputs": [],
      "source": [
        "from dspy import Signature, InputField, OutputField\n",
        "\n",
        "class DopeOrNopeSignature(Signature):\n",
        "  \"\"\"Rate a sentence from 0 to 4 on a dopeness scale\"\"\"\n",
        "  sentence: str = InputField()\n",
        "  rating: int = OutputField()"
      ]
    },
    {
      "cell_type": "markdown",
      "metadata": {
        "id": "R5BnXK3VdnSL"
      },
      "source": [
        "## Task 5: Creating a Predictor\n",
        "\n",
        "Now that we have our `Signature`, we can build a `Predictor` that leverages it.\n",
        "\n",
        "A `Predictor`, in the simplest terms, is what calls the LLM using our signature. Importantly, the `Predictor` knows how to leverage our signature to call the LLM. From DSPy's documentation, one of the most interesting parts of a `Predictor` is that it can *learn* to become better at the desired task!\n",
        "\n",
        "Let's take a look at our `TypedPredictor` below to see more."
      ]
    },
    {
      "cell_type": "code",
      "execution_count": 14,
      "metadata": {
        "id": "xxsLox0KEtwk"
      },
      "outputs": [],
      "source": [
        "from dspy.functional import TypedPredictor\n",
        "\n",
        "generate_label = TypedPredictor(DopeOrNopeSignature)"
      ]
    },
    {
      "cell_type": "code",
      "execution_count": 15,
      "metadata": {
        "colab": {
          "base_uri": "https://localhost:8080/"
        },
        "id": "uKjZPqJCeeGs",
        "outputId": "7305bfe1-4414-46bb-bcac-4f8566022317"
      },
      "outputs": [
        {
          "data": {
            "text/plain": [
              "TypedPredictor(DopeOrNopeSignature(sentence -> rating\n",
              "    instructions='Rate a sentence from 0 to 4 on a dopeness scale'\n",
              "    sentence = Field(annotation=str required=True json_schema_extra={'__dspy_field_type': 'input', 'prefix': 'Sentence:', 'desc': '${sentence}'})\n",
              "    rating = Field(annotation=int required=True json_schema_extra={'__dspy_field_type': 'output', 'prefix': 'Rating:', 'desc': '${rating}'})\n",
              "))"
            ]
          },
          "execution_count": 15,
          "metadata": {},
          "output_type": "execute_result"
        }
      ],
      "source": [
        "generate_label"
      ]
    },
    {
      "cell_type": "code",
      "execution_count": 17,
      "metadata": {
        "colab": {
          "base_uri": "https://localhost:8080/"
        },
        "id": "UUjXc2BIE_as",
        "outputId": "15c937b9-f0ef-4c3c-8aef-f09e73ee8e6a"
      },
      "outputs": [
        {
          "name": "stdout",
          "output_type": "stream",
          "text": [
            "Sentence: This is top tier.\n",
            "Prediction: Prediction(\n",
            "    rating=4\n",
            ")\n"
          ]
        }
      ],
      "source": [
        "label_prediction = generate_label(sentence=valset_example.sentence)\n",
        "print(f\"Sentence: {valset_example.sentence}\")\n",
        "print(f\"Prediction: {label_prediction}\")"
      ]
    },
    {
      "cell_type": "markdown",
      "metadata": {
        "id": "Fw6qrDP7gbf1"
      },
      "source": [
        "We can, at any time, check our LLMs outputs through the `inspect_history`."
      ]
    },
    {
      "cell_type": "code",
      "execution_count": 18,
      "metadata": {
        "colab": {
          "base_uri": "https://localhost:8080/"
        },
        "id": "ncjnowmCHGd0",
        "outputId": "f3ecc6a9-db92-45a8-eef4-b9b68928d09f"
      },
      "outputs": [
        {
          "name": "stdout",
          "output_type": "stream",
          "text": [
            "\n",
            "\n",
            "\n",
            "\n",
            "\u001b[31mSystem message:\u001b[0m\n",
            "\n",
            "Your input fields are:\n",
            "1. `sentence` (str)\n",
            "\n",
            "Your output fields are:\n",
            "1. `rating` (int): ${rating} (Respond with a single int value)\n",
            "\n",
            "All interactions will be structured in the following way, with the appropriate values filled in.\n",
            "\n",
            "[[ ## sentence ## ]]\n",
            "{sentence}\n",
            "\n",
            "[[ ## rating ## ]]\n",
            "{rating}\n",
            "\n",
            "[[ ## completed ## ]]\n",
            "\n",
            "In adhering to this structure, your objective is: \n",
            "        Rate a sentence from 0 to 4 on a dopeness scale\n",
            "\n",
            "\n",
            "\u001b[31mUser message:\u001b[0m\n",
            "\n",
            "[[ ## sentence ## ]]\n",
            "This is top tier.\n",
            "\n",
            "Respond with the corresponding output fields, starting with the field `rating`, and then ending with the marker for `completed`.\n",
            "\n",
            "\n",
            "\u001b[31mResponse:\u001b[0m\n",
            "\n",
            "\u001b[32m[[ ## rating ## ]]\n",
            "4\n",
            "[[ ## completed ## ]]\u001b[0m\n",
            "\n",
            "\n",
            "\n",
            "\n",
            "\n"
          ]
        }
      ],
      "source": [
        "llm.inspect_history(n=1)"
      ]
    },
    {
      "cell_type": "markdown",
      "metadata": {
        "id": "XTiQ2g3afO8k"
      },
      "source": [
        "Notice how, without our input - the `TypedPredictor` has included format instructions to the LLM to help ensure our returned data resembles what we desire."
      ]
    },
    {
      "cell_type": "markdown",
      "metadata": {
        "id": "wuuQ1GxNffdm"
      },
      "source": [
        "Let's look at another example of a `Predictor` - this time with Chain of Thought.\n",
        "\n",
        "In order to use this - we don't have to do anything with our `Signature`! We can leave it exactly as is - and allow the `Predictor` to adapt to it.\n",
        "\n",
        "> NOTE: We won't be using this predictor going forward - this is just to showcase the ease of using another `Predictor` with a `Signature`."
      ]
    },
    {
      "cell_type": "code",
      "execution_count": 19,
      "metadata": {
        "id": "CcRQk4uQHImC"
      },
      "outputs": [],
      "source": [
        "from dspy.functional import TypedChainOfThought\n",
        "\n",
        "generate_label_with_chain_of_thought = TypedChainOfThought(DopeOrNopeSignature)\n",
        "\n",
        "label_prediction = generate_label_with_chain_of_thought(sentence=valset_example.sentence)"
      ]
    },
    {
      "cell_type": "code",
      "execution_count": 22,
      "metadata": {
        "colab": {
          "base_uri": "https://localhost:8080/"
        },
        "id": "vZf2PNb8HYaT",
        "outputId": "e4fb363d-a7dd-41c0-eb2d-dae82939ee07"
      },
      "outputs": [
        {
          "name": "stdout",
          "output_type": "stream",
          "text": [
            "Sentence: This is top tier.\n",
            "Reasoning: I would rate this sentence as a 4 because it conveys a high level of excellence or superiority.\n",
            "Ground Truth Label: 4\n",
            "Prediction: 4\n"
          ]
        }
      ],
      "source": [
        "print(f\"Sentence: {valset_example.sentence}\")\n",
        "print(f\"Reasoning: {label_prediction.reasoning}\")\n",
        "print(f\"Ground Truth Label: {valset_example.rating}\")\n",
        "print(f\"Prediction: {label_prediction.rating}\")"
      ]
    },
    {
      "cell_type": "markdown",
      "metadata": {
        "id": "miii9xQxgAzm"
      },
      "source": [
        "We can, again, check our LLM's history to see what the actual prompt/response is.\n"
      ]
    },
    {
      "cell_type": "code",
      "execution_count": 23,
      "metadata": {
        "colab": {
          "base_uri": "https://localhost:8080/"
        },
        "id": "dMxOlK65VzCZ",
        "outputId": "ba589f03-e711-4574-f19e-069a0904193d"
      },
      "outputs": [
        {
          "name": "stdout",
          "output_type": "stream",
          "text": [
            "\n",
            "\n",
            "\n",
            "\n",
            "\u001b[31mSystem message:\u001b[0m\n",
            "\n",
            "Your input fields are:\n",
            "1. `sentence` (str)\n",
            "\n",
            "Your output fields are:\n",
            "1. `reasoning` (str): ${produce the rating}. We ...\n",
            "2. `rating` (int): ${rating} (Respond with a single int value)\n",
            "\n",
            "All interactions will be structured in the following way, with the appropriate values filled in.\n",
            "\n",
            "[[ ## sentence ## ]]\n",
            "{sentence}\n",
            "\n",
            "[[ ## reasoning ## ]]\n",
            "{reasoning}\n",
            "\n",
            "[[ ## rating ## ]]\n",
            "{rating}\n",
            "\n",
            "[[ ## completed ## ]]\n",
            "\n",
            "In adhering to this structure, your objective is: \n",
            "        Rate a sentence from 0 to 4 on a dopeness scale\n",
            "\n",
            "\n",
            "\u001b[31mUser message:\u001b[0m\n",
            "\n",
            "[[ ## sentence ## ]]\n",
            "This is top tier.\n",
            "\n",
            "Respond with the corresponding output fields, starting with the field `reasoning`, then `rating`, and then ending with the marker for `completed`.\n",
            "\n",
            "\n",
            "\u001b[31mResponse:\u001b[0m\n",
            "\n",
            "\u001b[32m[[ ## reasoning ## ]]\n",
            "I would rate this sentence as a 4 because it conveys a high level of excellence or superiority. \n",
            "\n",
            "[[ ## rating ## ]]\n",
            "4\n",
            "\n",
            "[[ ## completed ## ]]\u001b[0m\n",
            "\n",
            "\n",
            "\n",
            "\n",
            "\n"
          ]
        }
      ],
      "source": [
        "llm.inspect_history(n=1)"
      ]
    },
    {
      "cell_type": "markdown",
      "metadata": {
        "id": "a7U3yeCsg3B2"
      },
      "source": [
        "## Task 6: Making a Chain, I mean...Module.\n",
        "\n",
        "Now that we have our `TypedPredictor`, we can create a `Module`!\n",
        "\n",
        "A `Module` is useful because it allows us to interact with the `Predictor` and `Signature` in a way that DSPy can leverage for optimization.\n",
        "\n",
        "The helps the DSPy framework determine paths through your program - and helps during the `compilation` or optimisation steps (formerly `teleprompting`).\n",
        "\n",
        "> NOTE: You might notice this looks strikingly familiar to PyTorch, and this is by design!"
      ]
    },
    {
      "cell_type": "code",
      "execution_count": 24,
      "metadata": {
        "id": "H6GoyWyUJkl6"
      },
      "outputs": [],
      "source": [
        "from dspy import Module, Prediction\n",
        "\n",
        "class DopeOrNopeStudent(Module):\n",
        "  def __init__(self):\n",
        "    super().__init__()\n",
        "\n",
        "    self.generate_rating = TypedPredictor(DopeOrNopeSignature)\n",
        "\n",
        "  def forward(self, sentence):\n",
        "    prediction = self.generate_rating(sentence=sentence)\n",
        "    return Prediction(rating=prediction.rating)"
      ]
    },
    {
      "cell_type": "markdown",
      "metadata": {
        "id": "PS2pf8tjh7lH"
      },
      "source": [
        "## Task 7: Evaluate\n",
        "\n",
        "As with any good framework, DSPy has the ability to `Evaluate` - we can leverage this to determine how our current DSPy \"program\" (our `Module` in this case) operates.\n",
        "\n",
        "> NOTE: DSPy's \"program\" could be loosely related to a \"chain\" from the popular LLM Framework LangChain."
      ]
    },
    {
      "cell_type": "code",
      "execution_count": 25,
      "metadata": {
        "colab": {
          "base_uri": "https://localhost:8080/",
          "height": 397
        },
        "id": "C9o5461qMKyt",
        "outputId": "7237d853-bdc1-4e48-c084-81d49e110d47"
      },
      "outputs": [
        {
          "name": "stdout",
          "output_type": "stream",
          "text": [
            "Average Metric: 6 / 10  (60.0): 100%|██████████| 10/10 [00:05<00:00,  1.84it/s]\n"
          ]
        },
        {
          "data": {
            "text/html": [
              "<style type=\"text/css\">\n",
              "#T_f7cd1 th {\n",
              "  text-align: left;\n",
              "}\n",
              "#T_f7cd1 td {\n",
              "  text-align: left;\n",
              "}\n",
              "#T_f7cd1_row0_col0, #T_f7cd1_row0_col1, #T_f7cd1_row0_col2, #T_f7cd1_row0_col3, #T_f7cd1_row1_col0, #T_f7cd1_row1_col1, #T_f7cd1_row1_col2, #T_f7cd1_row1_col3, #T_f7cd1_row2_col0, #T_f7cd1_row2_col1, #T_f7cd1_row2_col2, #T_f7cd1_row2_col3, #T_f7cd1_row3_col0, #T_f7cd1_row3_col1, #T_f7cd1_row3_col2, #T_f7cd1_row3_col3, #T_f7cd1_row4_col0, #T_f7cd1_row4_col1, #T_f7cd1_row4_col2, #T_f7cd1_row4_col3, #T_f7cd1_row5_col0, #T_f7cd1_row5_col1, #T_f7cd1_row5_col2, #T_f7cd1_row5_col3, #T_f7cd1_row6_col0, #T_f7cd1_row6_col1, #T_f7cd1_row6_col2, #T_f7cd1_row6_col3, #T_f7cd1_row7_col0, #T_f7cd1_row7_col1, #T_f7cd1_row7_col2, #T_f7cd1_row7_col3, #T_f7cd1_row8_col0, #T_f7cd1_row8_col1, #T_f7cd1_row8_col2, #T_f7cd1_row8_col3, #T_f7cd1_row9_col0, #T_f7cd1_row9_col1, #T_f7cd1_row9_col2, #T_f7cd1_row9_col3 {\n",
              "  text-align: left;\n",
              "  white-space: pre-wrap;\n",
              "  word-wrap: break-word;\n",
              "  max-width: 400px;\n",
              "}\n",
              "</style>\n",
              "<table id=\"T_f7cd1\">\n",
              "  <thead>\n",
              "    <tr>\n",
              "      <th class=\"blank level0\" >&nbsp;</th>\n",
              "      <th id=\"T_f7cd1_level0_col0\" class=\"col_heading level0 col0\" >sentence</th>\n",
              "      <th id=\"T_f7cd1_level0_col1\" class=\"col_heading level0 col1\" >example_rating</th>\n",
              "      <th id=\"T_f7cd1_level0_col2\" class=\"col_heading level0 col2\" >pred_rating</th>\n",
              "      <th id=\"T_f7cd1_level0_col3\" class=\"col_heading level0 col3\" >exact_match_metric</th>\n",
              "    </tr>\n",
              "  </thead>\n",
              "  <tbody>\n",
              "    <tr>\n",
              "      <th id=\"T_f7cd1_level0_row0\" class=\"row_heading level0 row0\" >0</th>\n",
              "      <td id=\"T_f7cd1_row0_col0\" class=\"data row0 col0\" >This is top tier.</td>\n",
              "      <td id=\"T_f7cd1_row0_col1\" class=\"data row0 col1\" >4</td>\n",
              "      <td id=\"T_f7cd1_row0_col2\" class=\"data row0 col2\" >4</td>\n",
              "      <td id=\"T_f7cd1_row0_col3\" class=\"data row0 col3\" >✔️ [True]</td>\n",
              "    </tr>\n",
              "    <tr>\n",
              "      <th id=\"T_f7cd1_level0_row1\" class=\"row_heading level0 row1\" >1</th>\n",
              "      <td id=\"T_f7cd1_row1_col0\" class=\"data row1 col0\" >Big mood.</td>\n",
              "      <td id=\"T_f7cd1_row1_col1\" class=\"data row1 col1\" >3</td>\n",
              "      <td id=\"T_f7cd1_row1_col2\" class=\"data row1 col2\" >3</td>\n",
              "      <td id=\"T_f7cd1_row1_col3\" class=\"data row1 col3\" >✔️ [True]</td>\n",
              "    </tr>\n",
              "    <tr>\n",
              "      <th id=\"T_f7cd1_level0_row2\" class=\"row_heading level0 row2\" >2</th>\n",
              "      <td id=\"T_f7cd1_row2_col0\" class=\"data row2 col0\" >The presentation was outstanding.</td>\n",
              "      <td id=\"T_f7cd1_row2_col1\" class=\"data row2 col1\" >1</td>\n",
              "      <td id=\"T_f7cd1_row2_col2\" class=\"data row2 col2\" >4</td>\n",
              "      <td id=\"T_f7cd1_row2_col3\" class=\"data row2 col3\" ><class 'str'></td>\n",
              "    </tr>\n",
              "    <tr>\n",
              "      <th id=\"T_f7cd1_level0_row3\" class=\"row_heading level0 row3\" >3</th>\n",
              "      <td id=\"T_f7cd1_row3_col0\" class=\"data row3 col0\" >I'm living my best life.</td>\n",
              "      <td id=\"T_f7cd1_row3_col1\" class=\"data row3 col1\" >4</td>\n",
              "      <td id=\"T_f7cd1_row3_col2\" class=\"data row3 col2\" >4</td>\n",
              "      <td id=\"T_f7cd1_row3_col3\" class=\"data row3 col3\" >✔️ [True]</td>\n",
              "    </tr>\n",
              "    <tr>\n",
              "      <th id=\"T_f7cd1_level0_row4\" class=\"row_heading level0 row4\" >4</th>\n",
              "      <td id=\"T_f7cd1_row4_col0\" class=\"data row4 col0\" >Sksksksk, that's hilarious.</td>\n",
              "      <td id=\"T_f7cd1_row4_col1\" class=\"data row4 col1\" >3</td>\n",
              "      <td id=\"T_f7cd1_row4_col2\" class=\"data row4 col2\" >3</td>\n",
              "      <td id=\"T_f7cd1_row4_col3\" class=\"data row4 col3\" >✔️ [True]</td>\n",
              "    </tr>\n",
              "    <tr>\n",
              "      <th id=\"T_f7cd1_level0_row5\" class=\"row_heading level0 row5\" >5</th>\n",
              "      <td id=\"T_f7cd1_row5_col0\" class=\"data row5 col0\" >The report is comprehensive.</td>\n",
              "      <td id=\"T_f7cd1_row5_col1\" class=\"data row5 col1\" >1</td>\n",
              "      <td id=\"T_f7cd1_row5_col2\" class=\"data row5 col2\" >3</td>\n",
              "      <td id=\"T_f7cd1_row5_col3\" class=\"data row5 col3\" ><class 'str'></td>\n",
              "    </tr>\n",
              "    <tr>\n",
              "      <th id=\"T_f7cd1_level0_row6\" class=\"row_heading level0 row6\" >6</th>\n",
              "      <td id=\"T_f7cd1_row6_col0\" class=\"data row6 col0\" >This is next level.</td>\n",
              "      <td id=\"T_f7cd1_row6_col1\" class=\"data row6 col1\" >4</td>\n",
              "      <td id=\"T_f7cd1_row6_col2\" class=\"data row6 col2\" >4</td>\n",
              "      <td id=\"T_f7cd1_row6_col3\" class=\"data row6 col3\" >✔️ [True]</td>\n",
              "    </tr>\n",
              "    <tr>\n",
              "      <th id=\"T_f7cd1_level0_row7\" class=\"row_heading level0 row7\" >7</th>\n",
              "      <td id=\"T_f7cd1_row7_col0\" class=\"data row7 col0\" >The meeting was productive.</td>\n",
              "      <td id=\"T_f7cd1_row7_col1\" class=\"data row7 col1\" >1</td>\n",
              "      <td id=\"T_f7cd1_row7_col2\" class=\"data row7 col2\" >3</td>\n",
              "      <td id=\"T_f7cd1_row7_col3\" class=\"data row7 col3\" ><class 'str'></td>\n",
              "    </tr>\n",
              "    <tr>\n",
              "      <th id=\"T_f7cd1_level0_row8\" class=\"row_heading level0 row8\" >8</th>\n",
              "      <td id=\"T_f7cd1_row8_col0\" class=\"data row8 col0\" >The analysis was insightful.</td>\n",
              "      <td id=\"T_f7cd1_row8_col1\" class=\"data row8 col1\" >1</td>\n",
              "      <td id=\"T_f7cd1_row8_col2\" class=\"data row8 col2\" >3</td>\n",
              "      <td id=\"T_f7cd1_row8_col3\" class=\"data row8 col3\" ><class 'str'></td>\n",
              "    </tr>\n",
              "    <tr>\n",
              "      <th id=\"T_f7cd1_level0_row9\" class=\"row_heading level0 row9\" >9</th>\n",
              "      <td id=\"T_f7cd1_row9_col0\" class=\"data row9 col0\" >I stan a legend.</td>\n",
              "      <td id=\"T_f7cd1_row9_col1\" class=\"data row9 col1\" >3</td>\n",
              "      <td id=\"T_f7cd1_row9_col2\" class=\"data row9 col2\" >3</td>\n",
              "      <td id=\"T_f7cd1_row9_col3\" class=\"data row9 col3\" >✔️ [True]</td>\n",
              "    </tr>\n",
              "  </tbody>\n",
              "</table>\n"
            ],
            "text/plain": [
              "<pandas.io.formats.style.Styler at 0x11cffdd10>"
            ]
          },
          "metadata": {},
          "output_type": "display_data"
        },
        {
          "data": {
            "text/plain": [
              "60.0"
            ]
          },
          "execution_count": 25,
          "metadata": {},
          "output_type": "execute_result"
        }
      ],
      "source": [
        "from dspy.evaluate.evaluate import Evaluate\n",
        "\n",
        "evaluate_fewshot = Evaluate(devset=valset, num_threads=1, display_progress=True, display_table=10)\n",
        "\n",
        "def exact_match_metric(answer, pred, trace=None):\n",
        "  return answer.rating == pred.rating\n",
        "\n",
        "evaluate_fewshot(DopeOrNopeStudent(), metric=exact_match_metric)"
      ]
    },
    {
      "cell_type": "markdown",
      "metadata": {
        "id": "tw030e6I4UEo"
      },
      "source": [
        "#### ❓Question #1:\n",
        "\n",
        "Does DSPy lend itself to more complex less exactly defined evaluations? Provide reasoning for your answer.\n",
        "#### Answer:\n",
        "Yes, DSPy is designed to handle complex evaluations beyond simple exact matches. It allows for custom metrics and supports evaluations that involve reasoning, open-ended answers, or partial correctness. By using custom evaluation functions and metrics, we can assess the performance of language model programs on tasks where the correctness is not strictly defined, such as summarization, translation, or creative writing."
      ]
    },
    {
      "cell_type": "markdown",
      "metadata": {
        "id": "eIK6OdQFiUww"
      },
      "source": [
        "## Task 8: Program Optimization (the Artist Formerly Known as Teleprompting)\n",
        "\n",
        "Optimization is the crux of the DSPy framework - it is what allows it to operate at a level beyond traditional prompt engineering.\n",
        "\n",
        "At a high level, optimisation is a way for the DSPy framework to take the program, a training set, and a metric - and make changes/tweaks to our program to improve our metrics on our dataset.\n",
        "\n",
        "Let's get started with the `LabeledFewShot` optimizer.\n",
        "\n",
        "The `LabeledFewShot` optimizer very simply provides a sample of the `trainset` as few-shot examples!"
      ]
    },
    {
      "cell_type": "code",
      "execution_count": 26,
      "metadata": {
        "id": "wBq1Xs-CHphS"
      },
      "outputs": [],
      "source": [
        "from dspy.teleprompt import LabeledFewShot\n",
        "\n",
        "labeled_fewshot_optimizer = LabeledFewShot(k=4)"
      ]
    },
    {
      "cell_type": "markdown",
      "metadata": {
        "id": "KdtrS7hXjHzv"
      },
      "source": [
        "Once we define our optimizer, we can compile our program!"
      ]
    },
    {
      "cell_type": "code",
      "execution_count": 27,
      "metadata": {
        "id": "eVv4aK2QJD3v"
      },
      "outputs": [],
      "source": [
        "compiled_dspy = labeled_fewshot_optimizer.compile(student=DopeOrNopeStudent(), trainset=trainset)"
      ]
    },
    {
      "cell_type": "markdown",
      "metadata": {
        "id": "8k_KhbL_jMXK"
      },
      "source": [
        "Let's evaluate!"
      ]
    },
    {
      "cell_type": "code",
      "execution_count": 29,
      "metadata": {
        "colab": {
          "base_uri": "https://localhost:8080/",
          "height": 397
        },
        "id": "oxl_zZ51JQRc",
        "outputId": "b23db3fe-4902-4399-d0b7-e93dbbcc875a"
      },
      "outputs": [
        {
          "name": "stdout",
          "output_type": "stream",
          "text": [
            "Average Metric: 4 / 10  (40.0): 100%|██████████| 10/10 [00:00<00:00, 259.11it/s]\n"
          ]
        },
        {
          "data": {
            "text/html": [
              "<style type=\"text/css\">\n",
              "#T_e7872 th {\n",
              "  text-align: left;\n",
              "}\n",
              "#T_e7872 td {\n",
              "  text-align: left;\n",
              "}\n",
              "#T_e7872_row0_col0, #T_e7872_row0_col1, #T_e7872_row0_col2, #T_e7872_row0_col3, #T_e7872_row1_col0, #T_e7872_row1_col1, #T_e7872_row1_col2, #T_e7872_row1_col3, #T_e7872_row2_col0, #T_e7872_row2_col1, #T_e7872_row2_col2, #T_e7872_row2_col3, #T_e7872_row3_col0, #T_e7872_row3_col1, #T_e7872_row3_col2, #T_e7872_row3_col3, #T_e7872_row4_col0, #T_e7872_row4_col1, #T_e7872_row4_col2, #T_e7872_row4_col3, #T_e7872_row5_col0, #T_e7872_row5_col1, #T_e7872_row5_col2, #T_e7872_row5_col3, #T_e7872_row6_col0, #T_e7872_row6_col1, #T_e7872_row6_col2, #T_e7872_row6_col3, #T_e7872_row7_col0, #T_e7872_row7_col1, #T_e7872_row7_col2, #T_e7872_row7_col3, #T_e7872_row8_col0, #T_e7872_row8_col1, #T_e7872_row8_col2, #T_e7872_row8_col3, #T_e7872_row9_col0, #T_e7872_row9_col1, #T_e7872_row9_col2, #T_e7872_row9_col3 {\n",
              "  text-align: left;\n",
              "  white-space: pre-wrap;\n",
              "  word-wrap: break-word;\n",
              "  max-width: 400px;\n",
              "}\n",
              "</style>\n",
              "<table id=\"T_e7872\">\n",
              "  <thead>\n",
              "    <tr>\n",
              "      <th class=\"blank level0\" >&nbsp;</th>\n",
              "      <th id=\"T_e7872_level0_col0\" class=\"col_heading level0 col0\" >sentence</th>\n",
              "      <th id=\"T_e7872_level0_col1\" class=\"col_heading level0 col1\" >example_rating</th>\n",
              "      <th id=\"T_e7872_level0_col2\" class=\"col_heading level0 col2\" >pred_rating</th>\n",
              "      <th id=\"T_e7872_level0_col3\" class=\"col_heading level0 col3\" >exact_match_metric</th>\n",
              "    </tr>\n",
              "  </thead>\n",
              "  <tbody>\n",
              "    <tr>\n",
              "      <th id=\"T_e7872_level0_row0\" class=\"row_heading level0 row0\" >0</th>\n",
              "      <td id=\"T_e7872_row0_col0\" class=\"data row0 col0\" >This is top tier.</td>\n",
              "      <td id=\"T_e7872_row0_col1\" class=\"data row0 col1\" >4</td>\n",
              "      <td id=\"T_e7872_row0_col2\" class=\"data row0 col2\" >4</td>\n",
              "      <td id=\"T_e7872_row0_col3\" class=\"data row0 col3\" >✔️ [True]</td>\n",
              "    </tr>\n",
              "    <tr>\n",
              "      <th id=\"T_e7872_level0_row1\" class=\"row_heading level0 row1\" >1</th>\n",
              "      <td id=\"T_e7872_row1_col0\" class=\"data row1 col0\" >Big mood.</td>\n",
              "      <td id=\"T_e7872_row1_col1\" class=\"data row1 col1\" >3</td>\n",
              "      <td id=\"T_e7872_row1_col2\" class=\"data row1 col2\" >3</td>\n",
              "      <td id=\"T_e7872_row1_col3\" class=\"data row1 col3\" >✔️ [True]</td>\n",
              "    </tr>\n",
              "    <tr>\n",
              "      <th id=\"T_e7872_level0_row2\" class=\"row_heading level0 row2\" >2</th>\n",
              "      <td id=\"T_e7872_row2_col0\" class=\"data row2 col0\" >The presentation was outstanding.</td>\n",
              "      <td id=\"T_e7872_row2_col1\" class=\"data row2 col1\" >1</td>\n",
              "      <td id=\"T_e7872_row2_col2\" class=\"data row2 col2\" >3</td>\n",
              "      <td id=\"T_e7872_row2_col3\" class=\"data row2 col3\" ><class 'str'></td>\n",
              "    </tr>\n",
              "    <tr>\n",
              "      <th id=\"T_e7872_level0_row3\" class=\"row_heading level0 row3\" >3</th>\n",
              "      <td id=\"T_e7872_row3_col0\" class=\"data row3 col0\" >I'm living my best life.</td>\n",
              "      <td id=\"T_e7872_row3_col1\" class=\"data row3 col1\" >4</td>\n",
              "      <td id=\"T_e7872_row3_col2\" class=\"data row3 col2\" >3</td>\n",
              "      <td id=\"T_e7872_row3_col3\" class=\"data row3 col3\" ><class 'str'></td>\n",
              "    </tr>\n",
              "    <tr>\n",
              "      <th id=\"T_e7872_level0_row4\" class=\"row_heading level0 row4\" >4</th>\n",
              "      <td id=\"T_e7872_row4_col0\" class=\"data row4 col0\" >Sksksksk, that's hilarious.</td>\n",
              "      <td id=\"T_e7872_row4_col1\" class=\"data row4 col1\" >3</td>\n",
              "      <td id=\"T_e7872_row4_col2\" class=\"data row4 col2\" >3</td>\n",
              "      <td id=\"T_e7872_row4_col3\" class=\"data row4 col3\" >✔️ [True]</td>\n",
              "    </tr>\n",
              "    <tr>\n",
              "      <th id=\"T_e7872_level0_row5\" class=\"row_heading level0 row5\" >5</th>\n",
              "      <td id=\"T_e7872_row5_col0\" class=\"data row5 col0\" >The report is comprehensive.</td>\n",
              "      <td id=\"T_e7872_row5_col1\" class=\"data row5 col1\" >1</td>\n",
              "      <td id=\"T_e7872_row5_col2\" class=\"data row5 col2\" >2</td>\n",
              "      <td id=\"T_e7872_row5_col3\" class=\"data row5 col3\" ><class 'str'></td>\n",
              "    </tr>\n",
              "    <tr>\n",
              "      <th id=\"T_e7872_level0_row6\" class=\"row_heading level0 row6\" >6</th>\n",
              "      <td id=\"T_e7872_row6_col0\" class=\"data row6 col0\" >This is next level.</td>\n",
              "      <td id=\"T_e7872_row6_col1\" class=\"data row6 col1\" >4</td>\n",
              "      <td id=\"T_e7872_row6_col2\" class=\"data row6 col2\" >3</td>\n",
              "      <td id=\"T_e7872_row6_col3\" class=\"data row6 col3\" ><class 'str'></td>\n",
              "    </tr>\n",
              "    <tr>\n",
              "      <th id=\"T_e7872_level0_row7\" class=\"row_heading level0 row7\" >7</th>\n",
              "      <td id=\"T_e7872_row7_col0\" class=\"data row7 col0\" >The meeting was productive.</td>\n",
              "      <td id=\"T_e7872_row7_col1\" class=\"data row7 col1\" >1</td>\n",
              "      <td id=\"T_e7872_row7_col2\" class=\"data row7 col2\" >3</td>\n",
              "      <td id=\"T_e7872_row7_col3\" class=\"data row7 col3\" ><class 'str'></td>\n",
              "    </tr>\n",
              "    <tr>\n",
              "      <th id=\"T_e7872_level0_row8\" class=\"row_heading level0 row8\" >8</th>\n",
              "      <td id=\"T_e7872_row8_col0\" class=\"data row8 col0\" >The analysis was insightful.</td>\n",
              "      <td id=\"T_e7872_row8_col1\" class=\"data row8 col1\" >1</td>\n",
              "      <td id=\"T_e7872_row8_col2\" class=\"data row8 col2\" >3</td>\n",
              "      <td id=\"T_e7872_row8_col3\" class=\"data row8 col3\" ><class 'str'></td>\n",
              "    </tr>\n",
              "    <tr>\n",
              "      <th id=\"T_e7872_level0_row9\" class=\"row_heading level0 row9\" >9</th>\n",
              "      <td id=\"T_e7872_row9_col0\" class=\"data row9 col0\" >I stan a legend.</td>\n",
              "      <td id=\"T_e7872_row9_col1\" class=\"data row9 col1\" >3</td>\n",
              "      <td id=\"T_e7872_row9_col2\" class=\"data row9 col2\" >3</td>\n",
              "      <td id=\"T_e7872_row9_col3\" class=\"data row9 col3\" >✔️ [True]</td>\n",
              "    </tr>\n",
              "  </tbody>\n",
              "</table>\n"
            ],
            "text/plain": [
              "<pandas.io.formats.style.Styler at 0x11fc19b90>"
            ]
          },
          "metadata": {},
          "output_type": "display_data"
        },
        {
          "data": {
            "text/plain": [
              "40.0"
            ]
          },
          "execution_count": 29,
          "metadata": {},
          "output_type": "execute_result"
        }
      ],
      "source": [
        "evaluate_fewshot(compiled_dspy, metric=exact_match_metric)"
      ]
    },
    {
      "cell_type": "markdown",
      "metadata": {
        "id": "htpDiJLcjOOI"
      },
      "source": [
        "As you can see - with no effort at all - we can improve our performance on our `valset`!"
      ]
    },
    {
      "cell_type": "markdown",
      "metadata": {
        "id": "fyf5baq0jU1Z"
      },
      "source": [
        "Let's try another optimizer - this time: [`BootstrapFewShot`](https://dspy-docs.vercel.app/docs/deep-dive/teleprompter/bootstrap-fewshot).\n",
        "\n",
        "The key thing to note is that this optimizer works with even very few examples - by way of generating new examples by the LLMs!"
      ]
    },
    {
      "cell_type": "code",
      "execution_count": 32,
      "metadata": {
        "colab": {
          "base_uri": "https://localhost:8080/"
        },
        "id": "vPx1wKpAUKBx",
        "outputId": "72691991-d2b1-4c2e-c064-2f62e79f6ba5"
      },
      "outputs": [
        {
          "name": "stderr",
          "output_type": "stream",
          "text": [
            " 12%|█▏        | 11/89 [00:03<00:26,  2.95it/s]"
          ]
        },
        {
          "name": "stdout",
          "output_type": "stream",
          "text": [
            "Bootstrapped 8 full traces after 12 examples in round 0.\n"
          ]
        },
        {
          "name": "stderr",
          "output_type": "stream",
          "text": [
            "\n"
          ]
        }
      ],
      "source": [
        "from dspy.teleprompt import BootstrapFewShot\n",
        "\n",
        "optimizer = BootstrapFewShot(metric=exact_match_metric, max_bootstrapped_demos=8, max_labeled_demos=12)\n",
        "\n",
        "compiled_dspy_BOOTSTRAP = optimizer.compile(student=DopeOrNopeStudent(), trainset=trainset)"
      ]
    },
    {
      "attachments": {
        "image.png": {
          "image/png": "[encoded data removed]"
        }
      },
      "cell_type": "markdown",
      "metadata": {
        "id": "xBO22kS42TLi"
      },
      "source": [
        "#### 🏗️ Activity #1:\n",
        "\n",
        "Outline how `BootstrapFewShot` works \"under the hood\" in natural language or create a diagram of the workflow.\n",
        "\n",
        "#### Answer:\n",
        "1. Initialize BootstrapFewShot\n",
        "Set up the BootstrapFewShot instance with specific parameters such as the evaluation metric, maximum number of bootstrapped examples, and maximum number of labeled examples.\n",
        "\n",
        "2. Prepare Seed Examples (Few-Shot Examples)\n",
        "Create a small set of manually crafted examples that demonstrate the desired input-output behavior for the task.\n",
        "\n",
        "3. Compile BootstrapFewShot with Seed Examples\n",
        "Use the compile method to integrate the seed examples into the BootstrapFewShot instance, preparing it for generating additional examples.\n",
        "\n",
        "4. Generate Additional Prompt-Response Pairs\n",
        "The BootstrapFewShot mechanism uses the seed examples to generate new prompt-response pairs by leveraging the language model’s ability to create variations based on the initial data.\n",
        "\n",
        "5. Evaluate Generated Responses\n",
        "Assess the quality of the newly generated responses using the specified evaluation metric (e.g., exact match). Determine if they meet the desired criteria.\n",
        "\n",
        "6. Refine Prompts if Necessary\n",
        "If any generated responses do not meet the evaluation criteria, adjust or rephrase the prompts to improve the quality of future responses.\n",
        "\n",
        "7. Store Successful Prompt-Response Pairs\n",
        "Save the prompt-response pairs that successfully meet the evaluation criteria for future reference and use in optimizing the TypedPredictor.\n",
        "\n",
        "8. Iterate Until Completion\n",
        "Continue generating, evaluating, refining, and storing prompt-response pairs until the maximum number of bootstrapped examples is reached or the desired performance level is achieved.\n",
        "\n",
        "9. Finalize and Utilize Bootstrapped Examples\n",
        "Once the bootstrapping process is complete, use the compiled set of prompt-response pairs to enhance the TypedPredictor’s ability to generate accurate and consistent responses in future tasks. A final response can then be sent to the user.\n",
        "\n",
        "![image.png](attachment:image.png)"
      ]
    },
    {
      "cell_type": "markdown",
      "metadata": {
        "id": "YsF13taMo6dm"
      },
      "source": [
        "Let's finally evaluate!"
      ]
    },
    {
      "cell_type": "code",
      "execution_count": 33,
      "metadata": {
        "colab": {
          "base_uri": "https://localhost:8080/",
          "height": 397
        },
        "id": "lFwORTZbUcwG",
        "outputId": "9eddab79-f222-4ac3-ad43-02c4076f4d1a"
      },
      "outputs": [
        {
          "name": "stdout",
          "output_type": "stream",
          "text": [
            "Average Metric: 8 / 10  (80.0): 100%|██████████| 10/10 [00:09<00:00,  1.09it/s]\n"
          ]
        },
        {
          "data": {
            "text/html": [
              "<style type=\"text/css\">\n",
              "#T_b38b2 th {\n",
              "  text-align: left;\n",
              "}\n",
              "#T_b38b2 td {\n",
              "  text-align: left;\n",
              "}\n",
              "#T_b38b2_row0_col0, #T_b38b2_row0_col1, #T_b38b2_row0_col2, #T_b38b2_row0_col3, #T_b38b2_row1_col0, #T_b38b2_row1_col1, #T_b38b2_row1_col2, #T_b38b2_row1_col3, #T_b38b2_row2_col0, #T_b38b2_row2_col1, #T_b38b2_row2_col2, #T_b38b2_row2_col3, #T_b38b2_row3_col0, #T_b38b2_row3_col1, #T_b38b2_row3_col2, #T_b38b2_row3_col3, #T_b38b2_row4_col0, #T_b38b2_row4_col1, #T_b38b2_row4_col2, #T_b38b2_row4_col3, #T_b38b2_row5_col0, #T_b38b2_row5_col1, #T_b38b2_row5_col2, #T_b38b2_row5_col3, #T_b38b2_row6_col0, #T_b38b2_row6_col1, #T_b38b2_row6_col2, #T_b38b2_row6_col3, #T_b38b2_row7_col0, #T_b38b2_row7_col1, #T_b38b2_row7_col2, #T_b38b2_row7_col3, #T_b38b2_row8_col0, #T_b38b2_row8_col1, #T_b38b2_row8_col2, #T_b38b2_row8_col3, #T_b38b2_row9_col0, #T_b38b2_row9_col1, #T_b38b2_row9_col2, #T_b38b2_row9_col3 {\n",
              "  text-align: left;\n",
              "  white-space: pre-wrap;\n",
              "  word-wrap: break-word;\n",
              "  max-width: 400px;\n",
              "}\n",
              "</style>\n",
              "<table id=\"T_b38b2\">\n",
              "  <thead>\n",
              "    <tr>\n",
              "      <th class=\"blank level0\" >&nbsp;</th>\n",
              "      <th id=\"T_b38b2_level0_col0\" class=\"col_heading level0 col0\" >sentence</th>\n",
              "      <th id=\"T_b38b2_level0_col1\" class=\"col_heading level0 col1\" >example_rating</th>\n",
              "      <th id=\"T_b38b2_level0_col2\" class=\"col_heading level0 col2\" >pred_rating</th>\n",
              "      <th id=\"T_b38b2_level0_col3\" class=\"col_heading level0 col3\" >exact_match_metric</th>\n",
              "    </tr>\n",
              "  </thead>\n",
              "  <tbody>\n",
              "    <tr>\n",
              "      <th id=\"T_b38b2_level0_row0\" class=\"row_heading level0 row0\" >0</th>\n",
              "      <td id=\"T_b38b2_row0_col0\" class=\"data row0 col0\" >This is top tier.</td>\n",
              "      <td id=\"T_b38b2_row0_col1\" class=\"data row0 col1\" >4</td>\n",
              "      <td id=\"T_b38b2_row0_col2\" class=\"data row0 col2\" >4</td>\n",
              "      <td id=\"T_b38b2_row0_col3\" class=\"data row0 col3\" >✔️ [True]</td>\n",
              "    </tr>\n",
              "    <tr>\n",
              "      <th id=\"T_b38b2_level0_row1\" class=\"row_heading level0 row1\" >1</th>\n",
              "      <td id=\"T_b38b2_row1_col0\" class=\"data row1 col0\" >Big mood.</td>\n",
              "      <td id=\"T_b38b2_row1_col1\" class=\"data row1 col1\" >3</td>\n",
              "      <td id=\"T_b38b2_row1_col2\" class=\"data row1 col2\" >4</td>\n",
              "      <td id=\"T_b38b2_row1_col3\" class=\"data row1 col3\" ><class 'str'></td>\n",
              "    </tr>\n",
              "    <tr>\n",
              "      <th id=\"T_b38b2_level0_row2\" class=\"row_heading level0 row2\" >2</th>\n",
              "      <td id=\"T_b38b2_row2_col0\" class=\"data row2 col0\" >The presentation was outstanding.</td>\n",
              "      <td id=\"T_b38b2_row2_col1\" class=\"data row2 col1\" >1</td>\n",
              "      <td id=\"T_b38b2_row2_col2\" class=\"data row2 col2\" >1</td>\n",
              "      <td id=\"T_b38b2_row2_col3\" class=\"data row2 col3\" >✔️ [True]</td>\n",
              "    </tr>\n",
              "    <tr>\n",
              "      <th id=\"T_b38b2_level0_row3\" class=\"row_heading level0 row3\" >3</th>\n",
              "      <td id=\"T_b38b2_row3_col0\" class=\"data row3 col0\" >I'm living my best life.</td>\n",
              "      <td id=\"T_b38b2_row3_col1\" class=\"data row3 col1\" >4</td>\n",
              "      <td id=\"T_b38b2_row3_col2\" class=\"data row3 col2\" >4</td>\n",
              "      <td id=\"T_b38b2_row3_col3\" class=\"data row3 col3\" >✔️ [True]</td>\n",
              "    </tr>\n",
              "    <tr>\n",
              "      <th id=\"T_b38b2_level0_row4\" class=\"row_heading level0 row4\" >4</th>\n",
              "      <td id=\"T_b38b2_row4_col0\" class=\"data row4 col0\" >Sksksksk, that's hilarious.</td>\n",
              "      <td id=\"T_b38b2_row4_col1\" class=\"data row4 col1\" >3</td>\n",
              "      <td id=\"T_b38b2_row4_col2\" class=\"data row4 col2\" >3</td>\n",
              "      <td id=\"T_b38b2_row4_col3\" class=\"data row4 col3\" >✔️ [True]</td>\n",
              "    </tr>\n",
              "    <tr>\n",
              "      <th id=\"T_b38b2_level0_row5\" class=\"row_heading level0 row5\" >5</th>\n",
              "      <td id=\"T_b38b2_row5_col0\" class=\"data row5 col0\" >The report is comprehensive.</td>\n",
              "      <td id=\"T_b38b2_row5_col1\" class=\"data row5 col1\" >1</td>\n",
              "      <td id=\"T_b38b2_row5_col2\" class=\"data row5 col2\" >1</td>\n",
              "      <td id=\"T_b38b2_row5_col3\" class=\"data row5 col3\" >✔️ [True]</td>\n",
              "    </tr>\n",
              "    <tr>\n",
              "      <th id=\"T_b38b2_level0_row6\" class=\"row_heading level0 row6\" >6</th>\n",
              "      <td id=\"T_b38b2_row6_col0\" class=\"data row6 col0\" >This is next level.</td>\n",
              "      <td id=\"T_b38b2_row6_col1\" class=\"data row6 col1\" >4</td>\n",
              "      <td id=\"T_b38b2_row6_col2\" class=\"data row6 col2\" >4</td>\n",
              "      <td id=\"T_b38b2_row6_col3\" class=\"data row6 col3\" >✔️ [True]</td>\n",
              "    </tr>\n",
              "    <tr>\n",
              "      <th id=\"T_b38b2_level0_row7\" class=\"row_heading level0 row7\" >7</th>\n",
              "      <td id=\"T_b38b2_row7_col0\" class=\"data row7 col0\" >The meeting was productive.</td>\n",
              "      <td id=\"T_b38b2_row7_col1\" class=\"data row7 col1\" >1</td>\n",
              "      <td id=\"T_b38b2_row7_col2\" class=\"data row7 col2\" >1</td>\n",
              "      <td id=\"T_b38b2_row7_col3\" class=\"data row7 col3\" >✔️ [True]</td>\n",
              "    </tr>\n",
              "    <tr>\n",
              "      <th id=\"T_b38b2_level0_row8\" class=\"row_heading level0 row8\" >8</th>\n",
              "      <td id=\"T_b38b2_row8_col0\" class=\"data row8 col0\" >The analysis was insightful.</td>\n",
              "      <td id=\"T_b38b2_row8_col1\" class=\"data row8 col1\" >1</td>\n",
              "      <td id=\"T_b38b2_row8_col2\" class=\"data row8 col2\" >1</td>\n",
              "      <td id=\"T_b38b2_row8_col3\" class=\"data row8 col3\" >✔️ [True]</td>\n",
              "    </tr>\n",
              "    <tr>\n",
              "      <th id=\"T_b38b2_level0_row9\" class=\"row_heading level0 row9\" >9</th>\n",
              "      <td id=\"T_b38b2_row9_col0\" class=\"data row9 col0\" >I stan a legend.</td>\n",
              "      <td id=\"T_b38b2_row9_col1\" class=\"data row9 col1\" >3</td>\n",
              "      <td id=\"T_b38b2_row9_col2\" class=\"data row9 col2\" >4</td>\n",
              "      <td id=\"T_b38b2_row9_col3\" class=\"data row9 col3\" ><class 'str'></td>\n",
              "    </tr>\n",
              "  </tbody>\n",
              "</table>\n"
            ],
            "text/plain": [
              "<pandas.io.formats.style.Styler at 0x11cffc190>"
            ]
          },
          "metadata": {},
          "output_type": "display_data"
        },
        {
          "data": {
            "text/plain": [
              "80.0"
            ]
          },
          "execution_count": 33,
          "metadata": {},
          "output_type": "execute_result"
        }
      ],
      "source": [
        "evaluate_fewshot(compiled_dspy_BOOTSTRAP, metric=exact_match_metric)"
      ]
    },
    {
      "cell_type": "markdown",
      "metadata": {
        "id": "2k9ov1j-pMV8"
      },
      "source": [
        "We can see that this optimization helps our program achieve 30 points higher on our evaluation!"
      ]
    },
    {
      "cell_type": "code",
      "execution_count": 34,
      "metadata": {
        "colab": {
          "base_uri": "https://localhost:8080/"
        },
        "id": "K-7qjXPKWMWF",
        "outputId": "b53cb50f-2dac-44d1-9b6d-732374516a27"
      },
      "outputs": [
        {
          "name": "stdout",
          "output_type": "stream",
          "text": [
            "\n",
            "\n",
            "\n",
            "\n",
            "\u001b[31mSystem message:\u001b[0m\n",
            "\n",
            "Your input fields are:\n",
            "1. `sentence` (str)\n",
            "\n",
            "Your output fields are:\n",
            "1. `rating` (int): ${rating} (Respond with a single int value)\n",
            "\n",
            "All interactions will be structured in the following way, with the appropriate values filled in.\n",
            "\n",
            "[[ ## sentence ## ]]\n",
            "{sentence}\n",
            "\n",
            "[[ ## rating ## ]]\n",
            "{rating}\n",
            "\n",
            "[[ ## completed ## ]]\n",
            "\n",
            "In adhering to this structure, your objective is: \n",
            "        Rate a sentence from 0 to 4 on a dopeness scale\n",
            "\n",
            "\n",
            "\u001b[31mUser message:\u001b[0m\n",
            "\n",
            "[[ ## sentence ## ]]\n",
            "This tea is piping hot.\n",
            "\n",
            "Respond with the corresponding output fields, starting with the field `rating`, and then ending with the marker for `completed`.\n",
            "\n",
            "\n",
            "\u001b[31mAssistant message:\u001b[0m\n",
            "\n",
            "[[ ## rating ## ]]\n",
            "4\n",
            "\n",
            "[[ ## completed ## ]]\n",
            "\n",
            "\n",
            "\u001b[31mUser message:\u001b[0m\n",
            "\n",
            "[[ ## sentence ## ]]\n",
            "Your professionalism is appreciated.\n",
            "\n",
            "Respond with the corresponding output fields, starting with the field `rating`, and then ending with the marker for `completed`.\n",
            "\n",
            "\n",
            "\u001b[31mAssistant message:\u001b[0m\n",
            "\n",
            "[[ ## rating ## ]]\n",
            "1\n",
            "\n",
            "[[ ## completed ## ]]\n",
            "\n",
            "\n",
            "\u001b[31mUser message:\u001b[0m\n",
            "\n",
            "[[ ## sentence ## ]]\n",
            "I'm shook!\n",
            "\n",
            "Respond with the corresponding output fields, starting with the field `rating`, and then ending with the marker for `completed`.\n",
            "\n",
            "\n",
            "\u001b[31mAssistant message:\u001b[0m\n",
            "\n",
            "[[ ## rating ## ]]\n",
            "4\n",
            "\n",
            "[[ ## completed ## ]]\n",
            "\n",
            "\n",
            "\u001b[31mUser message:\u001b[0m\n",
            "\n",
            "[[ ## sentence ## ]]\n",
            "This is a whole mood.\n",
            "\n",
            "Respond with the corresponding output fields, starting with the field `rating`, and then ending with the marker for `completed`.\n",
            "\n",
            "\n",
            "\u001b[31mAssistant message:\u001b[0m\n",
            "\n",
            "[[ ## rating ## ]]\n",
            "4\n",
            "\n",
            "[[ ## completed ## ]]\n",
            "\n",
            "\n",
            "\u001b[31mUser message:\u001b[0m\n",
            "\n",
            "[[ ## sentence ## ]]\n",
            "The training was effective.\n",
            "\n",
            "Respond with the corresponding output fields, starting with the field `rating`, and then ending with the marker for `completed`.\n",
            "\n",
            "\n",
            "\u001b[31mAssistant message:\u001b[0m\n",
            "\n",
            "[[ ## rating ## ]]\n",
            "1\n",
            "\n",
            "[[ ## completed ## ]]\n",
            "\n",
            "\n",
            "\u001b[31mUser message:\u001b[0m\n",
            "\n",
            "[[ ## sentence ## ]]\n",
            "I am grateful for your support.\n",
            "\n",
            "Respond with the corresponding output fields, starting with the field `rating`, and then ending with the marker for `completed`.\n",
            "\n",
            "\n",
            "\u001b[31mAssistant message:\u001b[0m\n",
            "\n",
            "[[ ## rating ## ]]\n",
            "1\n",
            "\n",
            "[[ ## completed ## ]]\n",
            "\n",
            "\n",
            "\u001b[31mUser message:\u001b[0m\n",
            "\n",
            "[[ ## sentence ## ]]\n",
            "This is everything.\n",
            "\n",
            "Respond with the corresponding output fields, starting with the field `rating`, and then ending with the marker for `completed`.\n",
            "\n",
            "\n",
            "\u001b[31mAssistant message:\u001b[0m\n",
            "\n",
            "[[ ## rating ## ]]\n",
            "4\n",
            "\n",
            "[[ ## completed ## ]]\n",
            "\n",
            "\n",
            "\u001b[31mUser message:\u001b[0m\n",
            "\n",
            "[[ ## sentence ## ]]\n",
            "YOLO!\n",
            "\n",
            "Respond with the corresponding output fields, starting with the field `rating`, and then ending with the marker for `completed`.\n",
            "\n",
            "\n",
            "\u001b[31mAssistant message:\u001b[0m\n",
            "\n",
            "[[ ## rating ## ]]\n",
            "4\n",
            "\n",
            "[[ ## completed ## ]]\n",
            "\n",
            "\n",
            "\u001b[31mUser message:\u001b[0m\n",
            "\n",
            "[[ ## sentence ## ]]\n",
            "The initiative was commendable.\n",
            "\n",
            "Respond with the corresponding output fields, starting with the field `rating`, and then ending with the marker for `completed`.\n",
            "\n",
            "\n",
            "\u001b[31mAssistant message:\u001b[0m\n",
            "\n",
            "[[ ## rating ## ]]\n",
            "1\n",
            "\n",
            "[[ ## completed ## ]]\n",
            "\n",
            "\n",
            "\u001b[31mUser message:\u001b[0m\n",
            "\n",
            "[[ ## sentence ## ]]\n",
            "I can't even with this homework.\n",
            "\n",
            "Respond with the corresponding output fields, starting with the field `rating`, and then ending with the marker for `completed`.\n",
            "\n",
            "\n",
            "\u001b[31mAssistant message:\u001b[0m\n",
            "\n",
            "[[ ## rating ## ]]\n",
            "3\n",
            "\n",
            "[[ ## completed ## ]]\n",
            "\n",
            "\n",
            "\u001b[31mUser message:\u001b[0m\n",
            "\n",
            "[[ ## sentence ## ]]\n",
            "I can't even.\n",
            "\n",
            "Respond with the corresponding output fields, starting with the field `rating`, and then ending with the marker for `completed`.\n",
            "\n",
            "\n",
            "\u001b[31mAssistant message:\u001b[0m\n",
            "\n",
            "[[ ## rating ## ]]\n",
            "4\n",
            "\n",
            "[[ ## completed ## ]]\n",
            "\n",
            "\n",
            "\u001b[31mUser message:\u001b[0m\n",
            "\n",
            "[[ ## sentence ## ]]\n",
            "This hits different.\n",
            "\n",
            "Respond with the corresponding output fields, starting with the field `rating`, and then ending with the marker for `completed`.\n",
            "\n",
            "\n",
            "\u001b[31mAssistant message:\u001b[0m\n",
            "\n",
            "[[ ## rating ## ]]\n",
            "4\n",
            "\n",
            "[[ ## completed ## ]]\n",
            "\n",
            "\n",
            "\u001b[31mUser message:\u001b[0m\n",
            "\n",
            "[[ ## sentence ## ]]\n",
            "I stan a legend.\n",
            "\n",
            "Respond with the corresponding output fields, starting with the field `rating`, and then ending with the marker for `completed`.\n",
            "\n",
            "\n",
            "\u001b[31mResponse:\u001b[0m\n",
            "\n",
            "\u001b[32m[[ ## rating ## ]]\n",
            "4\n",
            "\n",
            "[[ ## completed ## ]]\u001b[0m\n",
            "\n",
            "\n",
            "\n",
            "\n",
            "\n"
          ]
        }
      ],
      "source": [
        "llm.inspect_history(n=1)"
      ]
    },
    {
      "cell_type": "code",
      "execution_count": 35,
      "metadata": {
        "colab": {
          "base_uri": "https://localhost:8080/"
        },
        "id": "XEP0Sf6CUvuo",
        "outputId": "c1c961c5-e375-491e-f8d1-10fa04f41bc5"
      },
      "outputs": [
        {
          "name": "stdout",
          "output_type": "stream",
          "text": [
            "Parameter generate_rating.predictor: Num Examples: 12, Example({'augmented': True, 'sentence': 'This tea is piping hot.', 'rating': '4'}) (input_keys=None)\n",
            "\n"
          ]
        }
      ],
      "source": [
        "for name, parameter in compiled_dspy_BOOTSTRAP.named_parameters():\n",
        "  print(f\"Parameter {name}: Num Examples: {len(parameter.demos)}, {parameter.demos[0]}\")\n",
        "  print()"
      ]
    },
    {
      "cell_type": "markdown",
      "metadata": {
        "id": "EnKHiDch1H8O"
      },
      "source": [
        "# 🤝 Breakout Room #2"
      ]
    },
    {
      "cell_type": "markdown",
      "metadata": {
        "id": "mbRgUUYK-qbd"
      },
      "source": [
        "## Task 1: Defining Application\n",
        "\n",
        "In this breakoutroom, we'll be using DSPy to optimize a Multi-Hop QA module with `Assertions`.\n",
        "\n",
        "So what is a \"Multi-Hop QA module\"?\n",
        "\n",
        "Well - going beyond naive RAG retrieval, Multi-Hop QA lets us create applications that are well-suited to questions that (potentially have) multiple \"hops\" required to answer them.\n",
        "\n",
        "For instance: \"Who is the top goal scorer that has ever played on the Winnipeg Jets, and what years did he play for the Winnipeg Jets?\"\n",
        "\n",
        "You can see that there are two \"hops\" required to respond correctly:\n",
        "\n",
        "1. Who is the top goal scorer for the Winnipeg Jets?\n",
        "2. What years did X player play for the Winnipeg Jets?\n",
        "\n",
        "While this is a toy example, the idea is the same across complexity: Questions that take more than one step of reasoning to answer.\n",
        "\n",
        "Let's grab some data, set-up some hyper-parameters, and then get to implmentation!"
      ]
    },
    {
      "cell_type": "markdown",
      "metadata": {
        "id": "DtLPLh-RAHgx"
      },
      "source": [
        "## Task 2: Hyper-Parameters and Data\n",
        "\n",
        "We'll use the DSPy ColBERT abstracts as our retrieval system for this example.\n",
        "\n",
        "We'll also use `GPT-4o-Mini` as our LM to keep things light and inexpensive as we'll be sending quite a few LLM calls."
      ]
    },
    {
      "cell_type": "code",
      "execution_count": 36,
      "metadata": {
        "id": "TsZ_AUUg5HaL"
      },
      "outputs": [],
      "source": [
        "colbertv2_wiki17_abstracts = dspy.ColBERTv2(url='http://20.102.90.50:2017/wiki17_abstracts')\n",
        "dspy.settings.configure(rm=colbertv2_wiki17_abstracts)\n",
        "lm_openai_four_mini = dspy.LM(model='openai/gpt-4o-mini', max_tokens=500)\n",
        "dspy.settings.configure(lm=lm_openai_four_mini, trace=[], temperature=0.7)"
      ]
    },
    {
      "cell_type": "markdown",
      "metadata": {
        "id": "_36Kh9pbAZ7R"
      },
      "source": [
        "We'll be using the [`HotPotQA`](https://hotpotqa.github.io/) dataset which is a number of multi-hop QA pairs that includes context, and is based on Wikipedia (for compatibility with our Retriever system)."
      ]
    },
    {
      "cell_type": "code",
      "execution_count": 37,
      "metadata": {
        "colab": {
          "base_uri": "https://localhost:8080/",
          "height": 273,
          "referenced_widgets": [
            "ddc89690926542edb21e18d21b38f290",
            "c9a5e98ac1c0439184a25156faccafa4",
            "3cc62e51c0054391a97285041effb9eb",
            "157f2e32d4d64b0f97fce8dd6b6c0aa0",
            "e9f68cc27b0447edbf869c2b574561d3",
            "f582823133e742fd97c493b13ad6725a",
            "3fabea11413045bc855b15f67a19295b",
            "a6b6a55df9e54f4e8a78b60be2d6b428",
            "bfdd211fe3254acebc8055c64d860df4",
            "13a65abc2df041a883bbb5eed0e52b5f",
            "46706fe76314427dadc2ace6cd08298f",
            "cccb6cb145144b4dbc1193a3ad038da6",
            "ef9741e6c7294731a93322a729722a70",
            "7fe72ab9ede74cc99fe65d4661711878",
            "aa094cc9d2de43628f9c5d84e912cc28",
            "439d0a0aa2ee45a596ffb818f7e9aba7",
            "67d1745c64aa4b84ae3ee9af9913300d",
            "9c17831856c9468db0a509757dad7bab",
            "287f9d25fd2b4067ac2cceab564582ad",
            "b3a0943acee3465f8b8a17022e5377e4",
            "7e2b681cdc6a4bdc9fe8960f0716075b",
            "d21d239a8cd4400b9987c0d8f67e9e6a",
            "8095e6b1e63f435f8cca916f3e006ad6",
            "068bac62fba641dfbcbd5c3196ff7340",
            "a15e6f0872ef42b0b3dbb911d8230e38",
            "114148a5f6604d3b884979d817e0de14",
            "a44728f29e1a4ac1be943dea32b4f523",
            "53b4ac424fb64014ba31b3a2a23d115d",
            "d493a94b45e043cb9160bfa1c8551034",
            "0f19dcbac295409eb34c344398253185",
            "6b836b589fec4ebaaf87cf8e09231188",
            "99d0d381e9a04abfa13f7d77c545fd4e",
            "e4252456e5e64ffcb8b878cd8e91fccd",
            "04ed1e19a0804e43a57c24237d8bf39b",
            "40bce611191f458ea7cb46c377772aaf",
            "b2ee20a1a0304a53ad2fb0f255eaa238",
            "65d95352e3734b888baf328f43052059",
            "fa46867bccfa46a99776ef6860efcad5",
            "b6bda1a7494144b2a33f90d388904cb1",
            "7489ab1143944c04a43852be97abf167",
            "7602ef16a6cd47ea99437b7169309bf5",
            "c5074a2d505e4ec3bbdeda7fd102d136",
            "210d4c7b54194dde94b537fe4241121b",
            "b5470ceb8e7549e182922046553ebe14",
            "ea13eefe1e5146c1b0efaf6daea9836d",
            "a73e7ea4421a48caaabee0d52dd9b587",
            "b3b02e6442fb404794e71927d1f51193",
            "bfff80779eec4b5892db0bffc21b51dc",
            "ef61094d96b947fbb6eae94525f26de4",
            "6a175e0b70904ad38ae51a34b1e45213",
            "aad65fcec3914434b3426c4642525fdb",
            "8368607ff6a245d28651cb836f69f4ce",
            "ea18f461695c46929f5e460171076f78",
            "67e6d1b2ee2c4848ab2d970eab619ba8",
            "332e15773ba849e19240cc8445fdb8a0",
            "9c6ef46097514ed9bbfd47bdda092428",
            "eaa63f930e1b42cab7f023a7269adbfd",
            "929627c2c12b494a970a680ba02afa13",
            "a1b4ff4c4a914ae8b5b9022ca62859fb",
            "18249fe85f49463591078ace65faadc6",
            "52076f7a4bac47cfb3a65c9757694908",
            "19ef5ad5902d43b38a2fce37391800ea",
            "0302a171e46b464abe17d81469b0594c",
            "28ee5df360274ac698d8b48462d70fe2",
            "957992fd850d4775ad9c54e41e77fdd8",
            "6bc764919f624e44b55a55fd6a3f8c4d",
            "4ebace7f52db461faf6e8f130bde035d",
            "0eea145cf3254a5c83ab0da961cf4def",
            "819092066aac4d7d8a5e51d56fb04539",
            "67fafbee75954a389a6d18b5b9fb1db4",
            "ba1fb3d2e0444db7aadd5e36d0ee3554",
            "aea86595dc1240df892fa61d2cb08b9f",
            "07ef69ac580e43f19cf1b5ce479e3a6d",
            "6f29c0d47e6e44428e7507bd2096d595",
            "ce41c10f3b084a3b8a85c4f5773204fe",
            "3f80665ab98b4c028258ce6f54cef756",
            "2918717a6b0c48a5b51f86ae538955b1",
            "b6222ce0ab55472c803f1e588b2094d1",
            "37aa6d1288f64fe48404a0225d057f90",
            "1b61b7277cfc4b93b00ae0d5e912672a",
            "18ec38fb829f489e9f70ec1a99b1ac8a",
            "6594989c3c784e1889bfab4936bf0202",
            "c8648d7df7aa4a788baf738a1b741d18",
            "7641e40416f44e628da9577cd185be33",
            "bfc1ab5a674b4f43bce5a2426be04fa3",
            "a7916b5cf83d478392c92d03d613ad0b",
            "04816968076446bd89d71a9133c889b8",
            "7a1ddbc8d17e47ec9686dba8c11a50da"
          ]
        },
        "id": "eHlnHiJD31G_",
        "outputId": "19897c4c-fb85-4315-b181-4373f952473c"
      },
      "outputs": [
        {
          "name": "stderr",
          "output_type": "stream",
          "text": [
            "Downloading data: 100%|██████████| 566M/566M [00:11<00:00, 50.6MB/s] \n",
            "Downloading data: 100%|██████████| 47.5M/47.5M [00:00<00:00, 54.9MB/s]\n",
            "Downloading data: 100%|██████████| 46.2M/46.2M [00:00<00:00, 57.5MB/s]\n",
            "Generating train split: 100%|██████████| 90447/90447 [00:23<00:00, 3904.30 examples/s]\n",
            "Generating validation split: 100%|██████████| 7405/7405 [00:01<00:00, 4466.72 examples/s]\n",
            "Generating test split: 100%|██████████| 7405/7405 [00:01<00:00, 3732.10 examples/s]\n"
          ]
        }
      ],
      "source": [
        "from dspy.datasets import HotPotQA\n",
        "\n",
        "dataset = HotPotQA(train_seed=1, train_size=20, eval_seed=2023, dev_size=50, test_size=0, keep_details=True)\n",
        "trainset = [x.with_inputs('question') for x in dataset.train]\n",
        "devset = [x.with_inputs('question') for x in dataset.dev]"
      ]
    },
    {
      "cell_type": "markdown",
      "metadata": {
        "id": "fiBIhbwCA26F"
      },
      "source": [
        "We can look at a few examples:"
      ]
    },
    {
      "cell_type": "code",
      "execution_count": 38,
      "metadata": {
        "colab": {
          "base_uri": "https://localhost:8080/"
        },
        "id": "jLYSTfNh47I6",
        "outputId": "aeed7294-e288-497a-8231-0324172608c1"
      },
      "outputs": [
        {
          "name": "stdout",
          "output_type": "stream",
          "text": [
            "Question: At My Window was released by which American singer-songwriter?\n",
            "Answer: John Townes Van Zandt\n",
            "Relevant Wikipedia Titles: {'Townes Van Zandt', 'At My Window (album)'}\n"
          ]
        }
      ],
      "source": [
        "train_example = trainset[0]\n",
        "print(f\"Question: {train_example.question}\")\n",
        "print(f\"Answer: {train_example.answer}\")\n",
        "print(f\"Relevant Wikipedia Titles: {train_example.gold_titles}\")"
      ]
    },
    {
      "cell_type": "code",
      "execution_count": 39,
      "metadata": {
        "colab": {
          "base_uri": "https://localhost:8080/"
        },
        "id": "lLQTYBXY48Gx",
        "outputId": "b76ae68f-6453-4041-a932-962166a1a746"
      },
      "outputs": [
        {
          "name": "stdout",
          "output_type": "stream",
          "text": [
            "Question: What is the nationality of the chef and restaurateur featured in Restaurant: Impossible?\n",
            "Answer: English\n",
            "Relevant Wikipedia Titles: {'Restaurant: Impossible', 'Robert Irvine'}\n"
          ]
        }
      ],
      "source": [
        "dev_example = devset[18]\n",
        "print(f\"Question: {dev_example.question}\")\n",
        "print(f\"Answer: {dev_example.answer}\")\n",
        "print(f\"Relevant Wikipedia Titles: {dev_example.gold_titles}\")"
      ]
    },
    {
      "cell_type": "markdown",
      "metadata": {
        "id": "EINXkiD4A4-e"
      },
      "source": [
        "## Task 3: Signature and Module Creation\n",
        "\n",
        "As we learned above - the bread and butter for DSPy is the `Signature` and `Module`, so we'll create each below.\n",
        "\n",
        "For our `Signatures`, things are fairly straight-forward, we need to:\n",
        "\n",
        "1. Create a `Signature` that will allow us to generate sub-questions.\n",
        "2. Create a `Signature` that will provide citations for our responses."
      ]
    },
    {
      "cell_type": "code",
      "execution_count": 40,
      "metadata": {
        "id": "QozzQ2YnBErb"
      },
      "outputs": [],
      "source": [
        "from dsp.utils import deduplicate\n",
        "\n",
        "class GenerateSearchQuery(dspy.Signature):\n",
        "    \"\"\"Write a simple search query that will help answer a complex question.\"\"\"\n",
        "    context = dspy.InputField(desc=\"may contain relevant facts\")\n",
        "    question = dspy.InputField()\n",
        "    query = dspy.OutputField()\n",
        "\n",
        "class GenerateCitedParagraph(dspy.Signature):\n",
        "    \"\"\"Generate a paragraph with citations.\"\"\"\n",
        "    context = dspy.InputField(desc=\"may contain relevant facts\")\n",
        "    question = dspy.InputField()\n",
        "    paragraph = dspy.OutputField(desc=\"includes citations\")"
      ]
    },
    {
      "cell_type": "markdown",
      "metadata": {
        "id": "vktUyOnOBUxf"
      },
      "source": [
        "Our `Module` is a bit more complex than what we've seen before - so let's walk through what's happening inside of it. We're going to concern ourselves with the `forward` method - as that is where the logic of our `Module` is contained.\n",
        "\n",
        "In the `forward` method we:\n",
        "\n",
        "1. Create an empty list of contexts.\n",
        "2. For each `hop` in our `max_hops` (by default, it will be 2) we:\n",
        "  - Generate a new `query` using our `GenerateSearchQuery` with a `ChainOfThought` predictor.\n",
        "  - Retrieve a number (default 3) of `passages` based on that new `query`.\n",
        "  - Add unique (non-present) `passages` into our `context` list.\n",
        "3. Take all that `context` and our original `question` and generate a cited paragraph and use it to predict an answer."
      ]
    },
    {
      "cell_type": "code",
      "execution_count": 41,
      "metadata": {
        "id": "5yLb4hAY4_ti"
      },
      "outputs": [],
      "source": [
        "class LongFormQA(dspy.Module):\n",
        "    def __init__(self, passages_per_hop=3, max_hops=2):\n",
        "        super().__init__()\n",
        "        self.generate_query = [dspy.ChainOfThought(GenerateSearchQuery) for _ in range(max_hops)]\n",
        "        self.retrieve = dspy.Retrieve(k=passages_per_hop)\n",
        "        self.generate_cited_paragraph = dspy.ChainOfThought(GenerateCitedParagraph)\n",
        "        self.max_hops = max_hops\n",
        "\n",
        "    def forward(self, question):\n",
        "        context = []\n",
        "        for hop in range(self.max_hops):\n",
        "            query = self.generate_query[hop](context=context, question=question).query\n",
        "            passages = self.retrieve(query).passages\n",
        "            context = deduplicate(context + passages)\n",
        "        pred = self.generate_cited_paragraph(context=context, question=question)\n",
        "        pred = dspy.Prediction(context=context, paragraph=pred.paragraph)\n",
        "        return pred"
      ]
    },
    {
      "cell_type": "markdown",
      "metadata": {
        "id": "tgY7ZP43CmIg"
      },
      "source": [
        "Next, we'll need a way to evaluate how we're doing!"
      ]
    },
    {
      "cell_type": "markdown",
      "metadata": {
        "id": "-gReqGYZCuE9"
      },
      "source": [
        "## Task 4: Evaluating our LongFormQA Module.\n",
        "\n",
        "Now we'd like to evaluate our module - we'll need a number of helper functions to do so - which will be instantiated below."
      ]
    },
    {
      "cell_type": "markdown",
      "metadata": {
        "id": "KbQ26BmM5M-a"
      },
      "source": [
        "#### Utility Functions for Citation Checking"
      ]
    },
    {
      "cell_type": "code",
      "execution_count": 42,
      "metadata": {
        "colab": {
          "base_uri": "https://localhost:8080/"
        },
        "id": "ZeYo6sTX5NiZ",
        "outputId": "181ad9e7-f39d-4c33-8b72-94f3ccfcebac"
      },
      "outputs": [
        {
          "name": "stderr",
          "output_type": "stream",
          "text": [
            "[nltk_data] Downloading package punkt to /Users/gmedrano/nltk_data...\n",
            "[nltk_data]   Unzipping tokenizers/punkt.zip.\n"
          ]
        }
      ],
      "source": [
        "import nltk\n",
        "import regex as re\n",
        "\n",
        "from nltk.tokenize import sent_tokenize\n",
        "nltk.download('punkt')\n",
        "\n",
        "def extract_text_by_citation(paragraph):\n",
        "    citation_regex = re.compile(r'(.*?)(\\[\\d+\\]\\.)', re.DOTALL)\n",
        "    parts_with_citation = citation_regex.findall(paragraph)\n",
        "    citation_dict = {}\n",
        "    for part, citation in parts_with_citation:\n",
        "        part = part.strip()\n",
        "        citation_num = re.search(r'\\[(\\d+)\\]\\.', citation).group(1)\n",
        "        citation_dict.setdefault(str(int(citation_num) - 1), []).append(part)\n",
        "    return citation_dict\n",
        "\n",
        "def correct_citation_format(paragraph):\n",
        "    modified_sentences = []\n",
        "    sentences = sent_tokenize(paragraph)\n",
        "    for sentence in sentences:\n",
        "        modified_sentences.append(sentence)\n",
        "    citation_regex = re.compile(r'\\[\\d+\\]\\.')\n",
        "    i = 0\n",
        "    if len(modified_sentences) == 1:\n",
        "      has_citation = bool(citation_regex.search(modified_sentences[i]))\n",
        "    while i < len(modified_sentences):\n",
        "      if len(modified_sentences[i:i+2]) == 2:\n",
        "        sentence_group = \" \".join(modified_sentences[i:i+2])\n",
        "        has_citation = bool(citation_regex.search(sentence_group))\n",
        "        if not has_citation:\n",
        "            return False\n",
        "        i += 2 if has_citation and i+1 < len(modified_sentences) and citation_regex.search(modified_sentences[i+1]) else 1\n",
        "      else:\n",
        "        return True\n",
        "    return True\n",
        "\n",
        "def has_citations(paragraph):\n",
        "    return bool(re.search(r'\\[\\d+\\]\\.', paragraph))\n",
        "\n",
        "def citations_check(paragraph):\n",
        "    return has_citations(paragraph) and correct_citation_format(paragraph)"
      ]
    },
    {
      "cell_type": "markdown",
      "metadata": {
        "id": "7-odXQWg5WWD"
      },
      "source": [
        "### Checking Citation Faithfulness\n",
        "\n",
        "We will create a number of useful metrics for our pipeline - included \"Faithfulness\", as well as a number of more traditional metrics. \""
      ]
    },
    {
      "cell_type": "code",
      "execution_count": 43,
      "metadata": {
        "id": "TU5Yx0gE5C1c"
      },
      "outputs": [],
      "source": [
        "class CheckCitationFaithfulness(dspy.Signature):\n",
        "    \"\"\"Verify that the text is based on the provided context.\"\"\"\n",
        "    context = dspy.InputField(desc=\"may contain relevant facts\")\n",
        "    text = dspy.InputField(desc=\"between 1 to 2 sentences\")\n",
        "    faithfulness = dspy.OutputField(desc=\"boolean indicating if text is faithful to context\")\n",
        "\n",
        "def citation_faithfulness(example, pred, trace):\n",
        "    paragraph, context = pred.paragraph, pred.context\n",
        "    citation_dict = extract_text_by_citation(paragraph)\n",
        "    if not citation_dict:\n",
        "        return False, None\n",
        "    context_dict = {str(i): context[i].split(' | ')[1] for i in range(len(context))}\n",
        "    faithfulness_results = []\n",
        "    unfaithful_citations = []\n",
        "    check_citation_faithfulness = dspy.ChainOfThought(CheckCitationFaithfulness)\n",
        "    for citation_num, texts in citation_dict.items():\n",
        "        if citation_num not in context_dict:\n",
        "            continue\n",
        "        current_context = context_dict[citation_num]\n",
        "        for text in texts:\n",
        "            try:\n",
        "                result = check_citation_faithfulness(context=current_context, text=text)\n",
        "                is_faithful = result.faithfulness.lower() == 'true'\n",
        "                faithfulness_results.append(is_faithful)\n",
        "                if not is_faithful:\n",
        "                    unfaithful_citations.append({'paragraph': paragraph, 'text': text, 'context': current_context})\n",
        "            except ValueError as e:\n",
        "                faithfulness_results.append(False)\n",
        "                unfaithful_citations.append({'paragraph': paragraph, 'text': text, 'error': str(e)})\n",
        "    final_faithfulness = all(faithfulness_results)\n",
        "    if not faithfulness_results:\n",
        "        return False, None\n",
        "    return final_faithfulness, unfaithful_citations"
      ]
    },
    {
      "cell_type": "markdown",
      "metadata": {
        "id": "dOinluoLDRXr"
      },
      "source": [
        "#### ❓Question #2:\n",
        "\n",
        "How is faithfulness being determined here? How is this different from Ragas Faithfulness.\n",
        "#### Answer:\n",
        "Faithfulness is being determined by checking whether the generated paragraph's content is based on the provided context. Specifically, it involves:\n",
        "\n",
        "- Extracting cited texts and their corresponding context passages.\n",
        "- Using a Chain of Thought to assess if each cited text is faithful to its context.\n",
        "\n",
        "This approach differs from RAGAS faithfulness, which typically involves statistical measures and focuses on the alignment between retrieved documents and the generated answer. In this case, we're using the language model itself to evaluate faithfulness, providing a qualitative assessment that can capture nuances beyond what quantitative metrics might detect."
      ]
    },
    {
      "cell_type": "markdown",
      "metadata": {
        "id": "L1yA4kEbDbea"
      },
      "source": [
        "Next, we can create a number of useful metrics that rely on more traditional evaluations, like Precision, Recall, and \"does this contain the answer\"."
      ]
    },
    {
      "cell_type": "code",
      "execution_count": 44,
      "metadata": {
        "id": "Cimjr9Ji5yY5"
      },
      "outputs": [],
      "source": [
        "from dsp.utils import normalize_text\n",
        "\n",
        "def extract_cited_titles_from_paragraph(paragraph, context):\n",
        "    cited_indices = [int(m.group(1)) for m in re.finditer(r'\\[(\\d+)\\]\\.', paragraph)]\n",
        "    cited_indices = [index - 1 for index in cited_indices if index <= len(context)]\n",
        "    cited_titles = [context[index].split(' | ')[0] for index in cited_indices]\n",
        "    return cited_titles\n",
        "\n",
        "def calculate_recall(example, pred, trace=None):\n",
        "    gold_titles = set(example['gold_titles'])\n",
        "    found_cited_titles = set(extract_cited_titles_from_paragraph(pred.paragraph, pred.context))\n",
        "    intersection = gold_titles.intersection(found_cited_titles)\n",
        "    recall = len(intersection) / len(gold_titles) if gold_titles else 0\n",
        "    return recall\n",
        "\n",
        "def calculate_precision(example, pred, trace=None):\n",
        "    gold_titles = set(example['gold_titles'])\n",
        "    found_cited_titles = set(extract_cited_titles_from_paragraph(pred.paragraph, pred.context))\n",
        "    intersection = gold_titles.intersection(found_cited_titles)\n",
        "    precision = len(intersection) / len(found_cited_titles) if found_cited_titles else 0\n",
        "    return precision\n",
        "\n",
        "def answer_correctness(example, pred, trace=None):\n",
        "    assert hasattr(example, 'answer'), \"Example does not have 'answer'.\"\n",
        "    normalized_context = normalize_text(pred.paragraph)\n",
        "    if isinstance(example.answer, str):\n",
        "        gold_answers = [example.answer]\n",
        "    elif isinstance(example.answer, list):\n",
        "        gold_answers = example.answer\n",
        "    else:\n",
        "        raise ValueError(\"'example.answer' is not string or list.\")\n",
        "    return 1 if any(normalize_text(answer) in normalized_context for answer in gold_answers) else 0"
      ]
    },
    {
      "cell_type": "markdown",
      "metadata": {
        "id": "aDdr3nY1D4Rb"
      },
      "source": [
        "### Creating the Evaluation Function\n",
        "\n",
        "In essence, all this function does is call all the created metrics above and sum/average them."
      ]
    },
    {
      "cell_type": "code",
      "execution_count": 45,
      "metadata": {
        "id": "yiLjsf5050j9"
      },
      "outputs": [],
      "source": [
        "from tqdm import tqdm\n",
        "\n",
        "def evaluate(module):\n",
        "    correctness_values = []\n",
        "    recall_values = []\n",
        "    precision_values = []\n",
        "    citation_faithfulness_values = []\n",
        "    for i in tqdm(range(len(devset[:20]))):\n",
        "        example = devset[i]\n",
        "        try:\n",
        "            pred = module(question=example.question)\n",
        "            correctness_values.append(answer_correctness(example, pred))\n",
        "            citation_faithfulness_score, _ = citation_faithfulness(None, pred, None)\n",
        "            citation_faithfulness_values.append(citation_faithfulness_score)\n",
        "            recall = calculate_recall(example, pred)\n",
        "            precision = calculate_precision(example, pred)\n",
        "            recall_values.append(recall)\n",
        "            precision_values.append(precision)\n",
        "        except Exception as e:\n",
        "            print(f\"Failed generation with error: {e}\")\n",
        "\n",
        "    average_correctness = sum(correctness_values) / len(devset[:20]) if correctness_values else 0\n",
        "    average_recall = sum(recall_values) / len(devset[:20]) if recall_values else 0\n",
        "    average_precision = sum(precision_values) / len(devset[:20]) if precision_values else 0\n",
        "    average_citation_faithfulness = sum(citation_faithfulness_values) / len(devset[:20]) if citation_faithfulness_values else 0\n",
        "\n",
        "    print(f\"\\nAverage Correctness: {average_correctness}\")\n",
        "    print(f\"Average Recall: {average_recall}\")\n",
        "    print(f\"Average Precision: {average_precision}\")\n",
        "    print(f\"Average Citation Faithfulness: {average_citation_faithfulness}\")"
      ]
    },
    {
      "cell_type": "markdown",
      "metadata": {
        "id": "e9hqGVpaEXOi"
      },
      "source": [
        "### Evaluating our LongFormQA Module\n",
        "\n",
        "Finally, we can evaluate our module!"
      ]
    },
    {
      "cell_type": "code",
      "execution_count": 46,
      "metadata": {
        "colab": {
          "base_uri": "https://localhost:8080/"
        },
        "id": "kuHF8UQo52Qu",
        "outputId": "b7db8106-d495-45b2-9f4a-aa6c3aa7dc84"
      },
      "outputs": [
        {
          "name": "stderr",
          "output_type": "stream",
          "text": [
            "100%|██████████| 20/20 [02:23<00:00,  7.20s/it]"
          ]
        },
        {
          "name": "stdout",
          "output_type": "stream",
          "text": [
            "\n",
            "Average Correctness: 0.75\n",
            "Average Recall: 0.025\n",
            "Average Precision: 0.05\n",
            "Average Citation Faithfulness: 0.05\n"
          ]
        },
        {
          "name": "stderr",
          "output_type": "stream",
          "text": [
            "\n"
          ]
        }
      ],
      "source": [
        "longformqa = LongFormQA()\n",
        "evaluate(longformqa)"
      ]
    },
    {
      "cell_type": "markdown",
      "metadata": {
        "id": "U3TKIZrGEh8p"
      },
      "source": [
        "This did surprisingly poorly on `Recall`, `Precision` and `Citation Faithfulness`."
      ]
    },
    {
      "cell_type": "markdown",
      "metadata": {
        "id": "_BMGNZSeEpfe"
      },
      "source": [
        "❓Question #3:\n",
        "\n",
        "Why did our `Module` do surprisingly poorly on `Recall`, `Precision` and `Citation Faithfulness`?\n",
        "\n",
        "> HINT: The name `LongFormQA` should provide a fairly big hint.\n",
        "#### Answer:\n",
        "The initial module lacked mechanisms to ensure that:\n",
        "- The generated queries were effective in retrieving the relevant passages (leading to low recall and precision).\n",
        "- The generated paragraphs included proper citations and were faithful to the retrieved context.\n",
        "\n",
        "The module is limited by parameters such as max_hops=2 and passages_per_hop=3, which restrict the amount of context it can retrieve and process. This insufficient context means the language model lacks the necessary information to generate accurate and faithful answers, especially for complex multi-hop questions that require reasoning over multiple pieces of information.\n",
        "\n",
        "Also, the simplistic query generation and lack of optimization techniques further hinder the module's effectiveness. Without enhancements like improved query strategies, increased retrieval capacity, or optimization methods like DSPy's BootstrapFewShot, the module fails to retrieve relevant passages and generate well-grounded answers. \n",
        "\n",
        "The absence of assertions or suggestions means there are no mechanisms in place to enforce proper citation formatting or ensure the generated content is faithful to the retrieved context."
      ]
    },
    {
      "cell_type": "markdown",
      "metadata": {
        "id": "iX3rawv5E3xe"
      },
      "source": [
        "## Task 5: Adding `Assertions`.\n",
        "\n",
        "DSPy comes equipped with an extremely useful feature called `Assertions` and `Suggestions`.\n",
        "\n",
        "Let's take a look at what each one does:\n",
        "\n",
        "1. `dspy.Assert` - this is a hard rule that must be followed, and if it's not followed; an exception will be raised.\n",
        "2. `dspy.Suggest` - this is a looser rule, or guiding principle, it will not raise an exception if the rule isn't met; but it will try and ensure the suggestion is met.\n",
        "\n",
        "Let's improve our `Module` with some `dspy.Suggest`s!\n"
      ]
    },
    {
      "cell_type": "code",
      "execution_count": 47,
      "metadata": {
        "id": "yAHRD9pm7Paa"
      },
      "outputs": [],
      "source": [
        "class LongFormQAWithAssertions(dspy.Module):\n",
        "    def __init__(self, passages_per_hop=3, max_hops=2):\n",
        "        super().__init__()\n",
        "        self.generate_query = [dspy.ChainOfThought(GenerateSearchQuery) for _ in range(max_hops)]\n",
        "        self.retrieve = dspy.Retrieve(k=passages_per_hop)\n",
        "        self.generate_cited_paragraph = dspy.ChainOfThought(GenerateCitedParagraph)\n",
        "        self.max_hops = max_hops\n",
        "\n",
        "    def forward(self, question):\n",
        "        context = []\n",
        "        for hop in range(self.max_hops):\n",
        "            query = self.generate_query[hop](context=context, question=question).query\n",
        "            passages = self.retrieve(query).passages\n",
        "            context = deduplicate(context + passages)\n",
        "        pred = self.generate_cited_paragraph(context=context, question=question)\n",
        "        pred = dspy.Prediction(context=context, paragraph=pred.paragraph)\n",
        "        dspy.Suggest(citations_check(pred.paragraph), \"Make sure every 1-2 sentences has citations. If any 1-2 sentences lack citations, add them in 'text... [x].' format.\", target_module=self.generate_cited_paragraph)\n",
        "        _, unfaithful_outputs = citation_faithfulness(None, pred, None)\n",
        "        if unfaithful_outputs:\n",
        "            unfaithful_pairs = [(output['text'], output['context']) for output in unfaithful_outputs]\n",
        "            for _, context in unfaithful_pairs:\n",
        "                dspy.Suggest(len(unfaithful_pairs) == 0, f\"Make sure your output is based on the following context: '{context}'.\", target_module=self.generate_cited_paragraph)\n",
        "        else:\n",
        "            return pred\n",
        "        return pred"
      ]
    },
    {
      "cell_type": "markdown",
      "metadata": {
        "id": "qsnkEzZ_9Lkc"
      },
      "source": [
        "#### 🏗️ Activity #2:\n",
        "\n",
        "#### Write out the above flow in natural language or using a drawing program.\n",
        "\n",
        "1. Initial Answer Generation:\n",
        "The module starts by generating an initial answer using the language model.\n",
        "\n",
        "2. First Suggestion – Ensuring Proper Citation Formatting:\n",
        "The module checks if the generated paragraph includes proper citations using the citations_check function.\n",
        "\n",
        "3. Regeneration After First Suggestion:\n",
        "The language model regenerates the paragraph, incorporating the suggestion to include proper citations.\n",
        "\n",
        "4. Second Suggestion – Ensuring Content Faithfulness:\n",
        "The module assesses the faithfulness of the content using the citation_faithfulness function.\n",
        "\n",
        "5. Regeneration After Second Suggestion:\n",
        "The language model regenerates the paragraph, this time ensuring that the content is based on the specified context passages.\n",
        "\n",
        "6. Final Output:\n",
        "The module returns the final, improved paragraph as the output.\n",
        "\n",
        "#### What is the key advantage provided by using `dspy.Suggest`?\n",
        "Using dspy.Suggest in the LongFormQAWithAssertions module enhances the quality of the generated answers without enforcing strict constraints that might hinder the language model's creative abilities.\n",
        "\n",
        "Firstly, it offers flexible guidance that encourages the language model to adjust its outputs to meet specific criteria, such as proper citation formatting and content faithfulness. By suggesting improvements rather than imposing hard rules, dspy.Suggest allows the model to maintain its generative capabilities while gently steering it toward producing outputs that adhere to desired guidelines.\n",
        "\n",
        "Secondly, dspy.Suggest enables incremental and targeted improvements by addressing multiple aspects of output quality at different stages of the processing flow. It checks for both structural elements (like ensuring every 1-2 sentences have citations in the correct format) and semantic accuracy (ensuring the content is faithful to the provided context). This approach allows the language model to iteratively refine its answers based on specific feedback, leading to higher-quality, well-formatted, and reliable responses."
      ]
    },
    {
      "cell_type": "code",
      "execution_count": 48,
      "metadata": {
        "colab": {
          "base_uri": "https://localhost:8080/"
        },
        "id": "WBzJTpvq7RXW",
        "outputId": "609ac2bb-2f16-4ed1-ee58-f75ccbc2374d"
      },
      "outputs": [
        {
          "name": "stderr",
          "output_type": "stream",
          "text": [
            "100%|██████████| 20/20 [03:37<00:00, 10.88s/it]"
          ]
        },
        {
          "name": "stdout",
          "output_type": "stream",
          "text": [
            "\n",
            "Average Correctness: 0.75\n",
            "Average Recall: 0.5\n",
            "Average Precision: 0.575\n",
            "Average Citation Faithfulness: 0.35\n"
          ]
        },
        {
          "name": "stderr",
          "output_type": "stream",
          "text": [
            "\n"
          ]
        }
      ],
      "source": [
        "from dspy.primitives.assertions import assert_transform_module, backtrack_handler\n",
        "from dspy.predict import Retry\n",
        "\n",
        "longformqa_with_assertions = assert_transform_module(LongFormQAWithAssertions().map_named_predictors(Retry), backtrack_handler)\n",
        "evaluate(longformqa_with_assertions)"
      ]
    },
    {
      "cell_type": "code",
      "execution_count": 49,
      "metadata": {
        "colab": {
          "base_uri": "https://localhost:8080/"
        },
        "id": "6I8qm_Oq8bUo",
        "outputId": "4fa42a02-bbbb-4fe7-b38c-fa87914a24e8"
      },
      "outputs": [
        {
          "name": "stdout",
          "output_type": "stream",
          "text": [
            "Going to sample between 1 and 2 traces per predictor.\n",
            "Will attempt to bootstrap 6 candidate sets.\n"
          ]
        },
        {
          "name": "stderr",
          "output_type": "stream",
          "text": [
            "Average Metric: 19 / 25  (76.0): 100%|██████████| 25/25 [01:26<00:00,  3.46s/it] \n"
          ]
        },
        {
          "name": "stderr",
          "output_type": "stream",
          "text": [
            "Average Metric: 16 / 21  (76.2):  84%|████████▍ | 21/25 [00:17<00:00, 171.53it/s]"
          ]
        },
        {
          "name": "stdout",
          "output_type": "stream",
          "text": [
            "New best score: 76.0 for seed -3\n",
            "Scores so far: [76.0]\n",
            "Best score so far: 76.0\n"
          ]
        },
        {
          "name": "stderr",
          "output_type": "stream",
          "text": [
            "Average Metric: 19 / 25  (76.0): 100%|██████████| 25/25 [00:00<00:00, 126.33it/s]\n"
          ]
        },
        {
          "name": "stdout",
          "output_type": "stream",
          "text": [
            "Scores so far: [76.0, 76.0]\n",
            "Best score so far: 76.0\n"
          ]
        },
        {
          "name": "stderr",
          "output_type": "stream",
          "text": [
            " 20%|██        | 4/20 [00:55<03:41, 13.81s/it]\n"
          ]
        },
        {
          "name": "stdout",
          "output_type": "stream",
          "text": [
            "Bootstrapped 2 full traces after 5 examples in round 0.\n"
          ]
        },
        {
          "name": "stderr",
          "output_type": "stream",
          "text": [
            "Average Metric: 21 / 25  (84.0): 100%|██████████| 25/25 [05:37<00:00, 13.48s/it]\n"
          ]
        },
        {
          "name": "stdout",
          "output_type": "stream",
          "text": [
            "New best score: 84.0 for seed -1\n",
            "Scores so far: [76.0, 76.0, 84.0]\n",
            "Best score so far: 84.0\n"
          ]
        },
        {
          "name": "stderr",
          "output_type": "stream",
          "text": [
            " 10%|█         | 2/20 [00:35<05:17, 17.66s/it]\n"
          ]
        },
        {
          "name": "stdout",
          "output_type": "stream",
          "text": [
            "Bootstrapped 2 full traces after 3 examples in round 0.\n"
          ]
        },
        {
          "name": "stderr",
          "output_type": "stream",
          "text": [
            "Average Metric: 20 / 25  (80.0): 100%|██████████| 25/25 [05:46<00:00, 13.84s/it]\n"
          ]
        },
        {
          "name": "stdout",
          "output_type": "stream",
          "text": [
            "Scores so far: [76.0, 76.0, 84.0, 80.0]\n",
            "Best score so far: 84.0\n"
          ]
        },
        {
          "name": "stderr",
          "output_type": "stream",
          "text": [
            "  5%|▌         | 1/20 [00:14<04:41, 14.84s/it]\n"
          ]
        },
        {
          "name": "stdout",
          "output_type": "stream",
          "text": [
            "Bootstrapped 1 full traces after 2 examples in round 0.\n"
          ]
        },
        {
          "name": "stderr",
          "output_type": "stream",
          "text": [
            "Average Metric: 19 / 25  (76.0): 100%|██████████| 25/25 [06:36<00:00, 15.85s/it]\n"
          ]
        },
        {
          "name": "stdout",
          "output_type": "stream",
          "text": [
            "Scores so far: [76.0, 76.0, 84.0, 80.0, 76.0]\n",
            "Best score so far: 84.0\n"
          ]
        },
        {
          "name": "stderr",
          "output_type": "stream",
          "text": [
            "  5%|▌         | 1/20 [00:13<04:25, 14.00s/it]\n"
          ]
        },
        {
          "name": "stdout",
          "output_type": "stream",
          "text": [
            "Bootstrapped 1 full traces after 2 examples in round 0.\n"
          ]
        },
        {
          "name": "stderr",
          "output_type": "stream",
          "text": [
            "Average Metric: 20 / 25  (80.0): 100%|██████████| 25/25 [07:20<00:00, 17.61s/it]\n"
          ]
        },
        {
          "name": "stdout",
          "output_type": "stream",
          "text": [
            "Scores so far: [76.0, 76.0, 84.0, 80.0, 76.0, 80.0]\n",
            "Best score so far: 84.0\n"
          ]
        },
        {
          "name": "stderr",
          "output_type": "stream",
          "text": [
            " 10%|█         | 2/20 [00:20<03:01, 10.09s/it]\n"
          ]
        },
        {
          "name": "stdout",
          "output_type": "stream",
          "text": [
            "Bootstrapped 1 full traces after 3 examples in round 0.\n"
          ]
        },
        {
          "name": "stderr",
          "output_type": "stream",
          "text": [
            "Average Metric: 19 / 25  (76.0): 100%|██████████| 25/25 [05:48<00:00, 13.95s/it]\n"
          ]
        },
        {
          "name": "stdout",
          "output_type": "stream",
          "text": [
            "Scores so far: [76.0, 76.0, 84.0, 80.0, 76.0, 80.0, 76.0]\n",
            "Best score so far: 84.0\n"
          ]
        },
        {
          "name": "stderr",
          "output_type": "stream",
          "text": [
            "  5%|▌         | 1/20 [00:22<07:15, 22.94s/it]\n"
          ]
        },
        {
          "name": "stdout",
          "output_type": "stream",
          "text": [
            "Bootstrapped 1 full traces after 2 examples in round 0.\n"
          ]
        },
        {
          "name": "stderr",
          "output_type": "stream",
          "text": [
            "Average Metric: 20 / 25  (80.0): 100%|██████████| 25/25 [08:14<00:00, 19.78s/it]\n"
          ]
        },
        {
          "name": "stdout",
          "output_type": "stream",
          "text": [
            "Scores so far: [76.0, 76.0, 84.0, 80.0, 76.0, 80.0, 76.0, 80.0]\n",
            "Best score so far: 84.0\n"
          ]
        },
        {
          "name": "stderr",
          "output_type": "stream",
          "text": [
            " 15%|█▌        | 3/20 [01:07<06:21, 22.47s/it]\n"
          ]
        },
        {
          "name": "stdout",
          "output_type": "stream",
          "text": [
            "Bootstrapped 2 full traces after 4 examples in round 0.\n"
          ]
        },
        {
          "name": "stderr",
          "output_type": "stream",
          "text": [
            "Average Metric: 19 / 25  (76.0): 100%|██████████| 25/25 [06:37<00:00, 15.89s/it]\n"
          ]
        },
        {
          "name": "stdout",
          "output_type": "stream",
          "text": [
            "Scores so far: [76.0, 76.0, 84.0, 80.0, 76.0, 80.0, 76.0, 80.0, 76.0]\n",
            "Best score so far: 84.0\n",
            "9 candidate programs found.\n"
          ]
        },
        {
          "name": "stderr",
          "output_type": "stream",
          "text": [
            "100%|██████████| 20/20 [00:00<00:00, 57.93it/s]"
          ]
        },
        {
          "name": "stdout",
          "output_type": "stream",
          "text": [
            "\n",
            "Average Correctness: 0.85\n",
            "Average Recall: 0.0\n",
            "Average Precision: 0.0\n",
            "Average Citation Faithfulness: 0.0\n"
          ]
        },
        {
          "name": "stderr",
          "output_type": "stream",
          "text": [
            "\n"
          ]
        }
      ],
      "source": [
        "from dspy.teleprompt import BootstrapFewShotWithRandomSearch\n",
        "\n",
        "longformqa = LongFormQAWithAssertions()\n",
        "teleprompter = BootstrapFewShotWithRandomSearch(metric = answer_correctness, max_bootstrapped_demos=2, num_candidate_programs=6)\n",
        "cited_longformqa_student_teacher = teleprompter.compile(student=assert_transform_module(LongFormQAWithAssertions().map_named_predictors(Retry), backtrack_handler), teacher = assert_transform_module(LongFormQAWithAssertions().map_named_predictors(Retry), backtrack_handler), trainset=trainset, valset=devset[:25])\n",
        "evaluate(cited_longformqa_student_teacher)"
      ]
    }
  ],
  "metadata": {
    "colab": {
      "collapsed_sections": [
        "KbQ26BmM5M-a"
      ],
      "provenance": [],
      "toc_visible": true
    },
    "kernelspec": {
      "display_name": "Python 3",
      "name": "python3"
    },
    "language_info": {
      "codemirror_mode": {
        "name": "ipython",
        "version": 3
      },
      "file_extension": ".py",
      "mimetype": "text/x-python",
      "name": "python",
      "nbconvert_exporter": "python",
      "pygments_lexer": "ipython3",
      "version": "3.11.9"
    },
    "widgets": {
      "application/vnd.jupyter.widget-state+json": {
        "0302a171e46b464abe17d81469b0594c": {
          "model_module": "@jupyter-widgets/base",
          "model_module_version": "1.2.0",
          "model_name": "LayoutModel",
          "state": {
            "_model_module": "@jupyter-widgets/base",
            "_model_module_version": "1.2.0",
            "_model_name": "LayoutModel",
            "_view_count": null,
            "_view_module": "@jupyter-widgets/base",
            "_view_module_version": "1.2.0",
            "_view_name": "LayoutView",
            "align_content": null,
            "align_items": null,
            "align_self": null,
            "border": null,
            "bottom": null,
            "display": null,
            "flex": null,
            "flex_flow": null,
            "grid_area": null,
            "grid_auto_columns": null,
            "grid_auto_flow": null,
            "grid_auto_rows": null,
            "grid_column": null,
            "grid_gap": null,
            "grid_row": null,
            "grid_template_areas": null,
            "grid_template_columns": null,
            "grid_template_rows": null,
            "height": null,
            "justify_content": null,
            "justify_items": null,
            "left": null,
            "margin": null,
            "max_height": null,
            "max_width": null,
            "min_height": null,
            "min_width": null,
            "object_fit": null,
            "object_position": null,
            "order": null,
            "overflow": null,
            "overflow_x": null,
            "overflow_y": null,
            "padding": null,
            "right": null,
            "top": null,
            "visibility": null,
            "width": null
          }
        },
        "04816968076446bd89d71a9133c889b8": {
          "model_module": "@jupyter-widgets/base",
          "model_module_version": "1.2.0",
          "model_name": "LayoutModel",
          "state": {
            "_model_module": "@jupyter-widgets/base",
            "_model_module_version": "1.2.0",
            "_model_name": "LayoutModel",
            "_view_count": null,
            "_view_module": "@jupyter-widgets/base",
            "_view_module_version": "1.2.0",
            "_view_name": "LayoutView",
            "align_content": null,
            "align_items": null,
            "align_self": null,
            "border": null,
            "bottom": null,
            "display": null,
            "flex": null,
            "flex_flow": null,
            "grid_area": null,
            "grid_auto_columns": null,
            "grid_auto_flow": null,
            "grid_auto_rows": null,
            "grid_column": null,
            "grid_gap": null,
            "grid_row": null,
            "grid_template_areas": null,
            "grid_template_columns": null,
            "grid_template_rows": null,
            "height": null,
            "justify_content": null,
            "justify_items": null,
            "left": null,
            "margin": null,
            "max_height": null,
            "max_width": null,
            "min_height": null,
            "min_width": null,
            "object_fit": null,
            "object_position": null,
            "order": null,
            "overflow": null,
            "overflow_x": null,
            "overflow_y": null,
            "padding": null,
            "right": null,
            "top": null,
            "visibility": null,
            "width": null
          }
        },
        "04ed1e19a0804e43a57c24237d8bf39b": {
          "model_module": "@jupyter-widgets/controls",
          "model_module_version": "1.5.0",
          "model_name": "HBoxModel",
          "state": {
            "_dom_classes": [],
            "_model_module": "@jupyter-widgets/controls",
            "_model_module_version": "1.5.0",
            "_model_name": "HBoxModel",
            "_view_count": null,
            "_view_module": "@jupyter-widgets/controls",
            "_view_module_version": "1.5.0",
            "_view_name": "HBoxView",
            "box_style": "",
            "children": [
              "IPY_MODEL_40bce611191f458ea7cb46c377772aaf",
              "IPY_MODEL_b2ee20a1a0304a53ad2fb0f255eaa238",
              "IPY_MODEL_65d95352e3734b888baf328f43052059"
            ],
            "layout": "IPY_MODEL_fa46867bccfa46a99776ef6860efcad5"
          }
        },
        "068bac62fba641dfbcbd5c3196ff7340": {
          "model_module": "@jupyter-widgets/controls",
          "model_module_version": "1.5.0",
          "model_name": "HTMLModel",
          "state": {
            "_dom_classes": [],
            "_model_module": "@jupyter-widgets/controls",
            "_model_module_version": "1.5.0",
            "_model_name": "HTMLModel",
            "_view_count": null,
            "_view_module": "@jupyter-widgets/controls",
            "_view_module_version": "1.5.0",
            "_view_name": "HTMLView",
            "description": "",
            "description_tooltip": null,
            "layout": "IPY_MODEL_53b4ac424fb64014ba31b3a2a23d115d",
            "placeholder": "​",
            "style": "IPY_MODEL_d493a94b45e043cb9160bfa1c8551034",
            "value": "Downloading data: 100%"
          }
        },
        "07ef69ac580e43f19cf1b5ce479e3a6d": {
          "model_module": "@jupyter-widgets/controls",
          "model_module_version": "1.5.0",
          "model_name": "DescriptionStyleModel",
          "state": {
            "_model_module": "@jupyter-widgets/controls",
            "_model_module_version": "1.5.0",
            "_model_name": "DescriptionStyleModel",
            "_view_count": null,
            "_view_module": "@jupyter-widgets/base",
            "_view_module_version": "1.2.0",
            "_view_name": "StyleView",
            "description_width": ""
          }
        },
        "0eea145cf3254a5c83ab0da961cf4def": {
          "model_module": "@jupyter-widgets/controls",
          "model_module_version": "1.5.0",
          "model_name": "HTMLModel",
          "state": {
            "_dom_classes": [],
            "_model_module": "@jupyter-widgets/controls",
            "_model_module_version": "1.5.0",
            "_model_name": "HTMLModel",
            "_view_count": null,
            "_view_module": "@jupyter-widgets/controls",
            "_view_module_version": "1.5.0",
            "_view_name": "HTMLView",
            "description": "",
            "description_tooltip": null,
            "layout": "IPY_MODEL_aea86595dc1240df892fa61d2cb08b9f",
            "placeholder": "​",
            "style": "IPY_MODEL_07ef69ac580e43f19cf1b5ce479e3a6d",
            "value": "Generating validation split: 100%"
          }
        },
        "0f19dcbac295409eb34c344398253185": {
          "model_module": "@jupyter-widgets/base",
          "model_module_version": "1.2.0",
          "model_name": "LayoutModel",
          "state": {
            "_model_module": "@jupyter-widgets/base",
            "_model_module_version": "1.2.0",
            "_model_name": "LayoutModel",
            "_view_count": null,
            "_view_module": "@jupyter-widgets/base",
            "_view_module_version": "1.2.0",
            "_view_name": "LayoutView",
            "align_content": null,
            "align_items": null,
            "align_self": null,
            "border": null,
            "bottom": null,
            "display": null,
            "flex": null,
            "flex_flow": null,
            "grid_area": null,
            "grid_auto_columns": null,
            "grid_auto_flow": null,
            "grid_auto_rows": null,
            "grid_column": null,
            "grid_gap": null,
            "grid_row": null,
            "grid_template_areas": null,
            "grid_template_columns": null,
            "grid_template_rows": null,
            "height": null,
            "justify_content": null,
            "justify_items": null,
            "left": null,
            "margin": null,
            "max_height": null,
            "max_width": null,
            "min_height": null,
            "min_width": null,
            "object_fit": null,
            "object_position": null,
            "order": null,
            "overflow": null,
            "overflow_x": null,
            "overflow_y": null,
            "padding": null,
            "right": null,
            "top": null,
            "visibility": null,
            "width": null
          }
        },
        "114148a5f6604d3b884979d817e0de14": {
          "model_module": "@jupyter-widgets/controls",
          "model_module_version": "1.5.0",
          "model_name": "HTMLModel",
          "state": {
            "_dom_classes": [],
            "_model_module": "@jupyter-widgets/controls",
            "_model_module_version": "1.5.0",
            "_model_name": "HTMLModel",
            "_view_count": null,
            "_view_module": "@jupyter-widgets/controls",
            "_view_module_version": "1.5.0",
            "_view_name": "HTMLView",
            "description": "",
            "description_tooltip": null,
            "layout": "IPY_MODEL_99d0d381e9a04abfa13f7d77c545fd4e",
            "placeholder": "​",
            "style": "IPY_MODEL_e4252456e5e64ffcb8b878cd8e91fccd",
            "value": " 566M/566M [00:14&lt;00:00, 51.1MB/s]"
          }
        },
        "13a65abc2df041a883bbb5eed0e52b5f": {
          "model_module": "@jupyter-widgets/base",
          "model_module_version": "1.2.0",
          "model_name": "LayoutModel",
          "state": {
            "_model_module": "@jupyter-widgets/base",
            "_model_module_version": "1.2.0",
            "_model_name": "LayoutModel",
            "_view_count": null,
            "_view_module": "@jupyter-widgets/base",
            "_view_module_version": "1.2.0",
            "_view_name": "LayoutView",
            "align_content": null,
            "align_items": null,
            "align_self": null,
            "border": null,
            "bottom": null,
            "display": null,
            "flex": null,
            "flex_flow": null,
            "grid_area": null,
            "grid_auto_columns": null,
            "grid_auto_flow": null,
            "grid_auto_rows": null,
            "grid_column": null,
            "grid_gap": null,
            "grid_row": null,
            "grid_template_areas": null,
            "grid_template_columns": null,
            "grid_template_rows": null,
            "height": null,
            "justify_content": null,
            "justify_items": null,
            "left": null,
            "margin": null,
            "max_height": null,
            "max_width": null,
            "min_height": null,
            "min_width": null,
            "object_fit": null,
            "object_position": null,
            "order": null,
            "overflow": null,
            "overflow_x": null,
            "overflow_y": null,
            "padding": null,
            "right": null,
            "top": null,
            "visibility": null,
            "width": null
          }
        },
        "157f2e32d4d64b0f97fce8dd6b6c0aa0": {
          "model_module": "@jupyter-widgets/controls",
          "model_module_version": "1.5.0",
          "model_name": "HTMLModel",
          "state": {
            "_dom_classes": [],
            "_model_module": "@jupyter-widgets/controls",
            "_model_module_version": "1.5.0",
            "_model_name": "HTMLModel",
            "_view_count": null,
            "_view_module": "@jupyter-widgets/controls",
            "_view_module_version": "1.5.0",
            "_view_name": "HTMLView",
            "description": "",
            "description_tooltip": null,
            "layout": "IPY_MODEL_13a65abc2df041a883bbb5eed0e52b5f",
            "placeholder": "​",
            "style": "IPY_MODEL_46706fe76314427dadc2ace6cd08298f",
            "value": " 6.42k/6.42k [00:00&lt;00:00, 290kB/s]"
          }
        },
        "18249fe85f49463591078ace65faadc6": {
          "model_module": "@jupyter-widgets/base",
          "model_module_version": "1.2.0",
          "model_name": "LayoutModel",
          "state": {
            "_model_module": "@jupyter-widgets/base",
            "_model_module_version": "1.2.0",
            "_model_name": "LayoutModel",
            "_view_count": null,
            "_view_module": "@jupyter-widgets/base",
            "_view_module_version": "1.2.0",
            "_view_name": "LayoutView",
            "align_content": null,
            "align_items": null,
            "align_self": null,
            "border": null,
            "bottom": null,
            "display": null,
            "flex": null,
            "flex_flow": null,
            "grid_area": null,
            "grid_auto_columns": null,
            "grid_auto_flow": null,
            "grid_auto_rows": null,
            "grid_column": null,
            "grid_gap": null,
            "grid_row": null,
            "grid_template_areas": null,
            "grid_template_columns": null,
            "grid_template_rows": null,
            "height": null,
            "justify_content": null,
            "justify_items": null,
            "left": null,
            "margin": null,
            "max_height": null,
            "max_width": null,
            "min_height": null,
            "min_width": null,
            "object_fit": null,
            "object_position": null,
            "order": null,
            "overflow": null,
            "overflow_x": null,
            "overflow_y": null,
            "padding": null,
            "right": null,
            "top": null,
            "visibility": null,
            "width": null
          }
        },
        "18ec38fb829f489e9f70ec1a99b1ac8a": {
          "model_module": "@jupyter-widgets/controls",
          "model_module_version": "1.5.0",
          "model_name": "HTMLModel",
          "state": {
            "_dom_classes": [],
            "_model_module": "@jupyter-widgets/controls",
            "_model_module_version": "1.5.0",
            "_model_name": "HTMLModel",
            "_view_count": null,
            "_view_module": "@jupyter-widgets/controls",
            "_view_module_version": "1.5.0",
            "_view_name": "HTMLView",
            "description": "",
            "description_tooltip": null,
            "layout": "IPY_MODEL_04816968076446bd89d71a9133c889b8",
            "placeholder": "​",
            "style": "IPY_MODEL_7a1ddbc8d17e47ec9686dba8c11a50da",
            "value": " 7405/7405 [00:03&lt;00:00, 2089.20 examples/s]"
          }
        },
        "19ef5ad5902d43b38a2fce37391800ea": {
          "model_module": "@jupyter-widgets/controls",
          "model_module_version": "1.5.0",
          "model_name": "DescriptionStyleModel",
          "state": {
            "_model_module": "@jupyter-widgets/controls",
            "_model_module_version": "1.5.0",
            "_model_name": "DescriptionStyleModel",
            "_view_count": null,
            "_view_module": "@jupyter-widgets/base",
            "_view_module_version": "1.2.0",
            "_view_name": "StyleView",
            "description_width": ""
          }
        },
        "1b61b7277cfc4b93b00ae0d5e912672a": {
          "model_module": "@jupyter-widgets/controls",
          "model_module_version": "1.5.0",
          "model_name": "FloatProgressModel",
          "state": {
            "_dom_classes": [],
            "_model_module": "@jupyter-widgets/controls",
            "_model_module_version": "1.5.0",
            "_model_name": "FloatProgressModel",
            "_view_count": null,
            "_view_module": "@jupyter-widgets/controls",
            "_view_module_version": "1.5.0",
            "_view_name": "ProgressView",
            "bar_style": "success",
            "description": "",
            "description_tooltip": null,
            "layout": "IPY_MODEL_bfc1ab5a674b4f43bce5a2426be04fa3",
            "max": 7405,
            "min": 0,
            "orientation": "horizontal",
            "style": "IPY_MODEL_a7916b5cf83d478392c92d03d613ad0b",
            "value": 7405
          }
        },
        "210d4c7b54194dde94b537fe4241121b": {
          "model_module": "@jupyter-widgets/base",
          "model_module_version": "1.2.0",
          "model_name": "LayoutModel",
          "state": {
            "_model_module": "@jupyter-widgets/base",
            "_model_module_version": "1.2.0",
            "_model_name": "LayoutModel",
            "_view_count": null,
            "_view_module": "@jupyter-widgets/base",
            "_view_module_version": "1.2.0",
            "_view_name": "LayoutView",
            "align_content": null,
            "align_items": null,
            "align_self": null,
            "border": null,
            "bottom": null,
            "display": null,
            "flex": null,
            "flex_flow": null,
            "grid_area": null,
            "grid_auto_columns": null,
            "grid_auto_flow": null,
            "grid_auto_rows": null,
            "grid_column": null,
            "grid_gap": null,
            "grid_row": null,
            "grid_template_areas": null,
            "grid_template_columns": null,
            "grid_template_rows": null,
            "height": null,
            "justify_content": null,
            "justify_items": null,
            "left": null,
            "margin": null,
            "max_height": null,
            "max_width": null,
            "min_height": null,
            "min_width": null,
            "object_fit": null,
            "object_position": null,
            "order": null,
            "overflow": null,
            "overflow_x": null,
            "overflow_y": null,
            "padding": null,
            "right": null,
            "top": null,
            "visibility": null,
            "width": null
          }
        },
        "287f9d25fd2b4067ac2cceab564582ad": {
          "model_module": "@jupyter-widgets/base",
          "model_module_version": "1.2.0",
          "model_name": "LayoutModel",
          "state": {
            "_model_module": "@jupyter-widgets/base",
            "_model_module_version": "1.2.0",
            "_model_name": "LayoutModel",
            "_view_count": null,
            "_view_module": "@jupyter-widgets/base",
            "_view_module_version": "1.2.0",
            "_view_name": "LayoutView",
            "align_content": null,
            "align_items": null,
            "align_self": null,
            "border": null,
            "bottom": null,
            "display": null,
            "flex": null,
            "flex_flow": null,
            "grid_area": null,
            "grid_auto_columns": null,
            "grid_auto_flow": null,
            "grid_auto_rows": null,
            "grid_column": null,
            "grid_gap": null,
            "grid_row": null,
            "grid_template_areas": null,
            "grid_template_columns": null,
            "grid_template_rows": null,
            "height": null,
            "justify_content": null,
            "justify_items": null,
            "left": null,
            "margin": null,
            "max_height": null,
            "max_width": null,
            "min_height": null,
            "min_width": null,
            "object_fit": null,
            "object_position": null,
            "order": null,
            "overflow": null,
            "overflow_x": null,
            "overflow_y": null,
            "padding": null,
            "right": null,
            "top": null,
            "visibility": null,
            "width": null
          }
        },
        "28ee5df360274ac698d8b48462d70fe2": {
          "model_module": "@jupyter-widgets/controls",
          "model_module_version": "1.5.0",
          "model_name": "ProgressStyleModel",
          "state": {
            "_model_module": "@jupyter-widgets/controls",
            "_model_module_version": "1.5.0",
            "_model_name": "ProgressStyleModel",
            "_view_count": null,
            "_view_module": "@jupyter-widgets/base",
            "_view_module_version": "1.2.0",
            "_view_name": "StyleView",
            "bar_color": null,
            "description_width": ""
          }
        },
        "2918717a6b0c48a5b51f86ae538955b1": {
          "model_module": "@jupyter-widgets/controls",
          "model_module_version": "1.5.0",
          "model_name": "DescriptionStyleModel",
          "state": {
            "_model_module": "@jupyter-widgets/controls",
            "_model_module_version": "1.5.0",
            "_model_name": "DescriptionStyleModel",
            "_view_count": null,
            "_view_module": "@jupyter-widgets/base",
            "_view_module_version": "1.2.0",
            "_view_name": "StyleView",
            "description_width": ""
          }
        },
        "332e15773ba849e19240cc8445fdb8a0": {
          "model_module": "@jupyter-widgets/controls",
          "model_module_version": "1.5.0",
          "model_name": "DescriptionStyleModel",
          "state": {
            "_model_module": "@jupyter-widgets/controls",
            "_model_module_version": "1.5.0",
            "_model_name": "DescriptionStyleModel",
            "_view_count": null,
            "_view_module": "@jupyter-widgets/base",
            "_view_module_version": "1.2.0",
            "_view_name": "StyleView",
            "description_width": ""
          }
        },
        "37aa6d1288f64fe48404a0225d057f90": {
          "model_module": "@jupyter-widgets/controls",
          "model_module_version": "1.5.0",
          "model_name": "HTMLModel",
          "state": {
            "_dom_classes": [],
            "_model_module": "@jupyter-widgets/controls",
            "_model_module_version": "1.5.0",
            "_model_name": "HTMLModel",
            "_view_count": null,
            "_view_module": "@jupyter-widgets/controls",
            "_view_module_version": "1.5.0",
            "_view_name": "HTMLView",
            "description": "",
            "description_tooltip": null,
            "layout": "IPY_MODEL_c8648d7df7aa4a788baf738a1b741d18",
            "placeholder": "​",
            "style": "IPY_MODEL_7641e40416f44e628da9577cd185be33",
            "value": "Generating test split: 100%"
          }
        },
        "3cc62e51c0054391a97285041effb9eb": {
          "model_module": "@jupyter-widgets/controls",
          "model_module_version": "1.5.0",
          "model_name": "FloatProgressModel",
          "state": {
            "_dom_classes": [],
            "_model_module": "@jupyter-widgets/controls",
            "_model_module_version": "1.5.0",
            "_model_name": "FloatProgressModel",
            "_view_count": null,
            "_view_module": "@jupyter-widgets/controls",
            "_view_module_version": "1.5.0",
            "_view_name": "ProgressView",
            "bar_style": "success",
            "description": "",
            "description_tooltip": null,
            "layout": "IPY_MODEL_a6b6a55df9e54f4e8a78b60be2d6b428",
            "max": 6422,
            "min": 0,
            "orientation": "horizontal",
            "style": "IPY_MODEL_bfdd211fe3254acebc8055c64d860df4",
            "value": 6422
          }
        },
        "3f80665ab98b4c028258ce6f54cef756": {
          "model_module": "@jupyter-widgets/base",
          "model_module_version": "1.2.0",
          "model_name": "LayoutModel",
          "state": {
            "_model_module": "@jupyter-widgets/base",
            "_model_module_version": "1.2.0",
            "_model_name": "LayoutModel",
            "_view_count": null,
            "_view_module": "@jupyter-widgets/base",
            "_view_module_version": "1.2.0",
            "_view_name": "LayoutView",
            "align_content": null,
            "align_items": null,
            "align_self": null,
            "border": null,
            "bottom": null,
            "display": null,
            "flex": null,
            "flex_flow": null,
            "grid_area": null,
            "grid_auto_columns": null,
            "grid_auto_flow": null,
            "grid_auto_rows": null,
            "grid_column": null,
            "grid_gap": null,
            "grid_row": null,
            "grid_template_areas": null,
            "grid_template_columns": null,
            "grid_template_rows": null,
            "height": null,
            "justify_content": null,
            "justify_items": null,
            "left": null,
            "margin": null,
            "max_height": null,
            "max_width": null,
            "min_height": null,
            "min_width": null,
            "object_fit": null,
            "object_position": null,
            "order": null,
            "overflow": null,
            "overflow_x": null,
            "overflow_y": null,
            "padding": null,
            "right": null,
            "top": null,
            "visibility": null,
            "width": null
          }
        },
        "3fabea11413045bc855b15f67a19295b": {
          "model_module": "@jupyter-widgets/controls",
          "model_module_version": "1.5.0",
          "model_name": "DescriptionStyleModel",
          "state": {
            "_model_module": "@jupyter-widgets/controls",
            "_model_module_version": "1.5.0",
            "_model_name": "DescriptionStyleModel",
            "_view_count": null,
            "_view_module": "@jupyter-widgets/base",
            "_view_module_version": "1.2.0",
            "_view_name": "StyleView",
            "description_width": ""
          }
        },
        "40bce611191f458ea7cb46c377772aaf": {
          "model_module": "@jupyter-widgets/controls",
          "model_module_version": "1.5.0",
          "model_name": "HTMLModel",
          "state": {
            "_dom_classes": [],
            "_model_module": "@jupyter-widgets/controls",
            "_model_module_version": "1.5.0",
            "_model_name": "HTMLModel",
            "_view_count": null,
            "_view_module": "@jupyter-widgets/controls",
            "_view_module_version": "1.5.0",
            "_view_name": "HTMLView",
            "description": "",
            "description_tooltip": null,
            "layout": "IPY_MODEL_b6bda1a7494144b2a33f90d388904cb1",
            "placeholder": "​",
            "style": "IPY_MODEL_7489ab1143944c04a43852be97abf167",
            "value": "Downloading data: 100%"
          }
        },
        "439d0a0aa2ee45a596ffb818f7e9aba7": {
          "model_module": "@jupyter-widgets/base",
          "model_module_version": "1.2.0",
          "model_name": "LayoutModel",
          "state": {
            "_model_module": "@jupyter-widgets/base",
            "_model_module_version": "1.2.0",
            "_model_name": "LayoutModel",
            "_view_count": null,
            "_view_module": "@jupyter-widgets/base",
            "_view_module_version": "1.2.0",
            "_view_name": "LayoutView",
            "align_content": null,
            "align_items": null,
            "align_self": null,
            "border": null,
            "bottom": null,
            "display": null,
            "flex": null,
            "flex_flow": null,
            "grid_area": null,
            "grid_auto_columns": null,
            "grid_auto_flow": null,
            "grid_auto_rows": null,
            "grid_column": null,
            "grid_gap": null,
            "grid_row": null,
            "grid_template_areas": null,
            "grid_template_columns": null,
            "grid_template_rows": null,
            "height": null,
            "justify_content": null,
            "justify_items": null,
            "left": null,
            "margin": null,
            "max_height": null,
            "max_width": null,
            "min_height": null,
            "min_width": null,
            "object_fit": null,
            "object_position": null,
            "order": null,
            "overflow": null,
            "overflow_x": null,
            "overflow_y": null,
            "padding": null,
            "right": null,
            "top": null,
            "visibility": null,
            "width": null
          }
        },
        "46706fe76314427dadc2ace6cd08298f": {
          "model_module": "@jupyter-widgets/controls",
          "model_module_version": "1.5.0",
          "model_name": "DescriptionStyleModel",
          "state": {
            "_model_module": "@jupyter-widgets/controls",
            "_model_module_version": "1.5.0",
            "_model_name": "DescriptionStyleModel",
            "_view_count": null,
            "_view_module": "@jupyter-widgets/base",
            "_view_module_version": "1.2.0",
            "_view_name": "StyleView",
            "description_width": ""
          }
        },
        "4ebace7f52db461faf6e8f130bde035d": {
          "model_module": "@jupyter-widgets/controls",
          "model_module_version": "1.5.0",
          "model_name": "HBoxModel",
          "state": {
            "_dom_classes": [],
            "_model_module": "@jupyter-widgets/controls",
            "_model_module_version": "1.5.0",
            "_model_name": "HBoxModel",
            "_view_count": null,
            "_view_module": "@jupyter-widgets/controls",
            "_view_module_version": "1.5.0",
            "_view_name": "HBoxView",
            "box_style": "",
            "children": [
              "IPY_MODEL_0eea145cf3254a5c83ab0da961cf4def",
              "IPY_MODEL_819092066aac4d7d8a5e51d56fb04539",
              "IPY_MODEL_67fafbee75954a389a6d18b5b9fb1db4"
            ],
            "layout": "IPY_MODEL_ba1fb3d2e0444db7aadd5e36d0ee3554"
          }
        },
        "52076f7a4bac47cfb3a65c9757694908": {
          "model_module": "@jupyter-widgets/base",
          "model_module_version": "1.2.0",
          "model_name": "LayoutModel",
          "state": {
            "_model_module": "@jupyter-widgets/base",
            "_model_module_version": "1.2.0",
            "_model_name": "LayoutModel",
            "_view_count": null,
            "_view_module": "@jupyter-widgets/base",
            "_view_module_version": "1.2.0",
            "_view_name": "LayoutView",
            "align_content": null,
            "align_items": null,
            "align_self": null,
            "border": null,
            "bottom": null,
            "display": null,
            "flex": null,
            "flex_flow": null,
            "grid_area": null,
            "grid_auto_columns": null,
            "grid_auto_flow": null,
            "grid_auto_rows": null,
            "grid_column": null,
            "grid_gap": null,
            "grid_row": null,
            "grid_template_areas": null,
            "grid_template_columns": null,
            "grid_template_rows": null,
            "height": null,
            "justify_content": null,
            "justify_items": null,
            "left": null,
            "margin": null,
            "max_height": null,
            "max_width": null,
            "min_height": null,
            "min_width": null,
            "object_fit": null,
            "object_position": null,
            "order": null,
            "overflow": null,
            "overflow_x": null,
            "overflow_y": null,
            "padding": null,
            "right": null,
            "top": null,
            "visibility": null,
            "width": null
          }
        },
        "53b4ac424fb64014ba31b3a2a23d115d": {
          "model_module": "@jupyter-widgets/base",
          "model_module_version": "1.2.0",
          "model_name": "LayoutModel",
          "state": {
            "_model_module": "@jupyter-widgets/base",
            "_model_module_version": "1.2.0",
            "_model_name": "LayoutModel",
            "_view_count": null,
            "_view_module": "@jupyter-widgets/base",
            "_view_module_version": "1.2.0",
            "_view_name": "LayoutView",
            "align_content": null,
            "align_items": null,
            "align_self": null,
            "border": null,
            "bottom": null,
            "display": null,
            "flex": null,
            "flex_flow": null,
            "grid_area": null,
            "grid_auto_columns": null,
            "grid_auto_flow": null,
            "grid_auto_rows": null,
            "grid_column": null,
            "grid_gap": null,
            "grid_row": null,
            "grid_template_areas": null,
            "grid_template_columns": null,
            "grid_template_rows": null,
            "height": null,
            "justify_content": null,
            "justify_items": null,
            "left": null,
            "margin": null,
            "max_height": null,
            "max_width": null,
            "min_height": null,
            "min_width": null,
            "object_fit": null,
            "object_position": null,
            "order": null,
            "overflow": null,
            "overflow_x": null,
            "overflow_y": null,
            "padding": null,
            "right": null,
            "top": null,
            "visibility": null,
            "width": null
          }
        },
        "6594989c3c784e1889bfab4936bf0202": {
          "model_module": "@jupyter-widgets/base",
          "model_module_version": "1.2.0",
          "model_name": "LayoutModel",
          "state": {
            "_model_module": "@jupyter-widgets/base",
            "_model_module_version": "1.2.0",
            "_model_name": "LayoutModel",
            "_view_count": null,
            "_view_module": "@jupyter-widgets/base",
            "_view_module_version": "1.2.0",
            "_view_name": "LayoutView",
            "align_content": null,
            "align_items": null,
            "align_self": null,
            "border": null,
            "bottom": null,
            "display": null,
            "flex": null,
            "flex_flow": null,
            "grid_area": null,
            "grid_auto_columns": null,
            "grid_auto_flow": null,
            "grid_auto_rows": null,
            "grid_column": null,
            "grid_gap": null,
            "grid_row": null,
            "grid_template_areas": null,
            "grid_template_columns": null,
            "grid_template_rows": null,
            "height": null,
            "justify_content": null,
            "justify_items": null,
            "left": null,
            "margin": null,
            "max_height": null,
            "max_width": null,
            "min_height": null,
            "min_width": null,
            "object_fit": null,
            "object_position": null,
            "order": null,
            "overflow": null,
            "overflow_x": null,
            "overflow_y": null,
            "padding": null,
            "right": null,
            "top": null,
            "visibility": null,
            "width": null
          }
        },
        "65d95352e3734b888baf328f43052059": {
          "model_module": "@jupyter-widgets/controls",
          "model_module_version": "1.5.0",
          "model_name": "HTMLModel",
          "state": {
            "_dom_classes": [],
            "_model_module": "@jupyter-widgets/controls",
            "_model_module_version": "1.5.0",
            "_model_name": "HTMLModel",
            "_view_count": null,
            "_view_module": "@jupyter-widgets/controls",
            "_view_module_version": "1.5.0",
            "_view_name": "HTMLView",
            "description": "",
            "description_tooltip": null,
            "layout": "IPY_MODEL_210d4c7b54194dde94b537fe4241121b",
            "placeholder": "​",
            "style": "IPY_MODEL_b5470ceb8e7549e182922046553ebe14",
            "value": " 47.5M/47.5M [00:00&lt;00:00, 46.5MB/s]"
          }
        },
        "67d1745c64aa4b84ae3ee9af9913300d": {
          "model_module": "@jupyter-widgets/base",
          "model_module_version": "1.2.0",
          "model_name": "LayoutModel",
          "state": {
            "_model_module": "@jupyter-widgets/base",
            "_model_module_version": "1.2.0",
            "_model_name": "LayoutModel",
            "_view_count": null,
            "_view_module": "@jupyter-widgets/base",
            "_view_module_version": "1.2.0",
            "_view_name": "LayoutView",
            "align_content": null,
            "align_items": null,
            "align_self": null,
            "border": null,
            "bottom": null,
            "display": null,
            "flex": null,
            "flex_flow": null,
            "grid_area": null,
            "grid_auto_columns": null,
            "grid_auto_flow": null,
            "grid_auto_rows": null,
            "grid_column": null,
            "grid_gap": null,
            "grid_row": null,
            "grid_template_areas": null,
            "grid_template_columns": null,
            "grid_template_rows": null,
            "height": null,
            "justify_content": null,
            "justify_items": null,
            "left": null,
            "margin": null,
            "max_height": null,
            "max_width": null,
            "min_height": null,
            "min_width": null,
            "object_fit": null,
            "object_position": null,
            "order": null,
            "overflow": null,
            "overflow_x": null,
            "overflow_y": null,
            "padding": null,
            "right": null,
            "top": null,
            "visibility": null,
            "width": null
          }
        },
        "67e6d1b2ee2c4848ab2d970eab619ba8": {
          "model_module": "@jupyter-widgets/base",
          "model_module_version": "1.2.0",
          "model_name": "LayoutModel",
          "state": {
            "_model_module": "@jupyter-widgets/base",
            "_model_module_version": "1.2.0",
            "_model_name": "LayoutModel",
            "_view_count": null,
            "_view_module": "@jupyter-widgets/base",
            "_view_module_version": "1.2.0",
            "_view_name": "LayoutView",
            "align_content": null,
            "align_items": null,
            "align_self": null,
            "border": null,
            "bottom": null,
            "display": null,
            "flex": null,
            "flex_flow": null,
            "grid_area": null,
            "grid_auto_columns": null,
            "grid_auto_flow": null,
            "grid_auto_rows": null,
            "grid_column": null,
            "grid_gap": null,
            "grid_row": null,
            "grid_template_areas": null,
            "grid_template_columns": null,
            "grid_template_rows": null,
            "height": null,
            "justify_content": null,
            "justify_items": null,
            "left": null,
            "margin": null,
            "max_height": null,
            "max_width": null,
            "min_height": null,
            "min_width": null,
            "object_fit": null,
            "object_position": null,
            "order": null,
            "overflow": null,
            "overflow_x": null,
            "overflow_y": null,
            "padding": null,
            "right": null,
            "top": null,
            "visibility": null,
            "width": null
          }
        },
        "67fafbee75954a389a6d18b5b9fb1db4": {
          "model_module": "@jupyter-widgets/controls",
          "model_module_version": "1.5.0",
          "model_name": "HTMLModel",
          "state": {
            "_dom_classes": [],
            "_model_module": "@jupyter-widgets/controls",
            "_model_module_version": "1.5.0",
            "_model_name": "HTMLModel",
            "_view_count": null,
            "_view_module": "@jupyter-widgets/controls",
            "_view_module_version": "1.5.0",
            "_view_name": "HTMLView",
            "description": "",
            "description_tooltip": null,
            "layout": "IPY_MODEL_3f80665ab98b4c028258ce6f54cef756",
            "placeholder": "​",
            "style": "IPY_MODEL_2918717a6b0c48a5b51f86ae538955b1",
            "value": " 7405/7405 [00:03&lt;00:00, 2789.89 examples/s]"
          }
        },
        "6a175e0b70904ad38ae51a34b1e45213": {
          "model_module": "@jupyter-widgets/base",
          "model_module_version": "1.2.0",
          "model_name": "LayoutModel",
          "state": {
            "_model_module": "@jupyter-widgets/base",
            "_model_module_version": "1.2.0",
            "_model_name": "LayoutModel",
            "_view_count": null,
            "_view_module": "@jupyter-widgets/base",
            "_view_module_version": "1.2.0",
            "_view_name": "LayoutView",
            "align_content": null,
            "align_items": null,
            "align_self": null,
            "border": null,
            "bottom": null,
            "display": null,
            "flex": null,
            "flex_flow": null,
            "grid_area": null,
            "grid_auto_columns": null,
            "grid_auto_flow": null,
            "grid_auto_rows": null,
            "grid_column": null,
            "grid_gap": null,
            "grid_row": null,
            "grid_template_areas": null,
            "grid_template_columns": null,
            "grid_template_rows": null,
            "height": null,
            "justify_content": null,
            "justify_items": null,
            "left": null,
            "margin": null,
            "max_height": null,
            "max_width": null,
            "min_height": null,
            "min_width": null,
            "object_fit": null,
            "object_position": null,
            "order": null,
            "overflow": null,
            "overflow_x": null,
            "overflow_y": null,
            "padding": null,
            "right": null,
            "top": null,
            "visibility": null,
            "width": null
          }
        },
        "6b836b589fec4ebaaf87cf8e09231188": {
          "model_module": "@jupyter-widgets/controls",
          "model_module_version": "1.5.0",
          "model_name": "ProgressStyleModel",
          "state": {
            "_model_module": "@jupyter-widgets/controls",
            "_model_module_version": "1.5.0",
            "_model_name": "ProgressStyleModel",
            "_view_count": null,
            "_view_module": "@jupyter-widgets/base",
            "_view_module_version": "1.2.0",
            "_view_name": "StyleView",
            "bar_color": null,
            "description_width": ""
          }
        },
        "6bc764919f624e44b55a55fd6a3f8c4d": {
          "model_module": "@jupyter-widgets/controls",
          "model_module_version": "1.5.0",
          "model_name": "DescriptionStyleModel",
          "state": {
            "_model_module": "@jupyter-widgets/controls",
            "_model_module_version": "1.5.0",
            "_model_name": "DescriptionStyleModel",
            "_view_count": null,
            "_view_module": "@jupyter-widgets/base",
            "_view_module_version": "1.2.0",
            "_view_name": "StyleView",
            "description_width": ""
          }
        },
        "6f29c0d47e6e44428e7507bd2096d595": {
          "model_module": "@jupyter-widgets/base",
          "model_module_version": "1.2.0",
          "model_name": "LayoutModel",
          "state": {
            "_model_module": "@jupyter-widgets/base",
            "_model_module_version": "1.2.0",
            "_model_name": "LayoutModel",
            "_view_count": null,
            "_view_module": "@jupyter-widgets/base",
            "_view_module_version": "1.2.0",
            "_view_name": "LayoutView",
            "align_content": null,
            "align_items": null,
            "align_self": null,
            "border": null,
            "bottom": null,
            "display": null,
            "flex": null,
            "flex_flow": null,
            "grid_area": null,
            "grid_auto_columns": null,
            "grid_auto_flow": null,
            "grid_auto_rows": null,
            "grid_column": null,
            "grid_gap": null,
            "grid_row": null,
            "grid_template_areas": null,
            "grid_template_columns": null,
            "grid_template_rows": null,
            "height": null,
            "justify_content": null,
            "justify_items": null,
            "left": null,
            "margin": null,
            "max_height": null,
            "max_width": null,
            "min_height": null,
            "min_width": null,
            "object_fit": null,
            "object_position": null,
            "order": null,
            "overflow": null,
            "overflow_x": null,
            "overflow_y": null,
            "padding": null,
            "right": null,
            "top": null,
            "visibility": null,
            "width": null
          }
        },
        "7489ab1143944c04a43852be97abf167": {
          "model_module": "@jupyter-widgets/controls",
          "model_module_version": "1.5.0",
          "model_name": "DescriptionStyleModel",
          "state": {
            "_model_module": "@jupyter-widgets/controls",
            "_model_module_version": "1.5.0",
            "_model_name": "DescriptionStyleModel",
            "_view_count": null,
            "_view_module": "@jupyter-widgets/base",
            "_view_module_version": "1.2.0",
            "_view_name": "StyleView",
            "description_width": ""
          }
        },
        "7602ef16a6cd47ea99437b7169309bf5": {
          "model_module": "@jupyter-widgets/base",
          "model_module_version": "1.2.0",
          "model_name": "LayoutModel",
          "state": {
            "_model_module": "@jupyter-widgets/base",
            "_model_module_version": "1.2.0",
            "_model_name": "LayoutModel",
            "_view_count": null,
            "_view_module": "@jupyter-widgets/base",
            "_view_module_version": "1.2.0",
            "_view_name": "LayoutView",
            "align_content": null,
            "align_items": null,
            "align_self": null,
            "border": null,
            "bottom": null,
            "display": null,
            "flex": null,
            "flex_flow": null,
            "grid_area": null,
            "grid_auto_columns": null,
            "grid_auto_flow": null,
            "grid_auto_rows": null,
            "grid_column": null,
            "grid_gap": null,
            "grid_row": null,
            "grid_template_areas": null,
            "grid_template_columns": null,
            "grid_template_rows": null,
            "height": null,
            "justify_content": null,
            "justify_items": null,
            "left": null,
            "margin": null,
            "max_height": null,
            "max_width": null,
            "min_height": null,
            "min_width": null,
            "object_fit": null,
            "object_position": null,
            "order": null,
            "overflow": null,
            "overflow_x": null,
            "overflow_y": null,
            "padding": null,
            "right": null,
            "top": null,
            "visibility": null,
            "width": null
          }
        },
        "7641e40416f44e628da9577cd185be33": {
          "model_module": "@jupyter-widgets/controls",
          "model_module_version": "1.5.0",
          "model_name": "DescriptionStyleModel",
          "state": {
            "_model_module": "@jupyter-widgets/controls",
            "_model_module_version": "1.5.0",
            "_model_name": "DescriptionStyleModel",
            "_view_count": null,
            "_view_module": "@jupyter-widgets/base",
            "_view_module_version": "1.2.0",
            "_view_name": "StyleView",
            "description_width": ""
          }
        },
        "7a1ddbc8d17e47ec9686dba8c11a50da": {
          "model_module": "@jupyter-widgets/controls",
          "model_module_version": "1.5.0",
          "model_name": "DescriptionStyleModel",
          "state": {
            "_model_module": "@jupyter-widgets/controls",
            "_model_module_version": "1.5.0",
            "_model_name": "DescriptionStyleModel",
            "_view_count": null,
            "_view_module": "@jupyter-widgets/base",
            "_view_module_version": "1.2.0",
            "_view_name": "StyleView",
            "description_width": ""
          }
        },
        "7e2b681cdc6a4bdc9fe8960f0716075b": {
          "model_module": "@jupyter-widgets/base",
          "model_module_version": "1.2.0",
          "model_name": "LayoutModel",
          "state": {
            "_model_module": "@jupyter-widgets/base",
            "_model_module_version": "1.2.0",
            "_model_name": "LayoutModel",
            "_view_count": null,
            "_view_module": "@jupyter-widgets/base",
            "_view_module_version": "1.2.0",
            "_view_name": "LayoutView",
            "align_content": null,
            "align_items": null,
            "align_self": null,
            "border": null,
            "bottom": null,
            "display": null,
            "flex": null,
            "flex_flow": null,
            "grid_area": null,
            "grid_auto_columns": null,
            "grid_auto_flow": null,
            "grid_auto_rows": null,
            "grid_column": null,
            "grid_gap": null,
            "grid_row": null,
            "grid_template_areas": null,
            "grid_template_columns": null,
            "grid_template_rows": null,
            "height": null,
            "justify_content": null,
            "justify_items": null,
            "left": null,
            "margin": null,
            "max_height": null,
            "max_width": null,
            "min_height": null,
            "min_width": null,
            "object_fit": null,
            "object_position": null,
            "order": null,
            "overflow": null,
            "overflow_x": null,
            "overflow_y": null,
            "padding": null,
            "right": null,
            "top": null,
            "visibility": null,
            "width": null
          }
        },
        "7fe72ab9ede74cc99fe65d4661711878": {
          "model_module": "@jupyter-widgets/controls",
          "model_module_version": "1.5.0",
          "model_name": "FloatProgressModel",
          "state": {
            "_dom_classes": [],
            "_model_module": "@jupyter-widgets/controls",
            "_model_module_version": "1.5.0",
            "_model_name": "FloatProgressModel",
            "_view_count": null,
            "_view_module": "@jupyter-widgets/controls",
            "_view_module_version": "1.5.0",
            "_view_name": "ProgressView",
            "bar_style": "success",
            "description": "",
            "description_tooltip": null,
            "layout": "IPY_MODEL_287f9d25fd2b4067ac2cceab564582ad",
            "max": 9193,
            "min": 0,
            "orientation": "horizontal",
            "style": "IPY_MODEL_b3a0943acee3465f8b8a17022e5377e4",
            "value": 9193
          }
        },
        "8095e6b1e63f435f8cca916f3e006ad6": {
          "model_module": "@jupyter-widgets/controls",
          "model_module_version": "1.5.0",
          "model_name": "HBoxModel",
          "state": {
            "_dom_classes": [],
            "_model_module": "@jupyter-widgets/controls",
            "_model_module_version": "1.5.0",
            "_model_name": "HBoxModel",
            "_view_count": null,
            "_view_module": "@jupyter-widgets/controls",
            "_view_module_version": "1.5.0",
            "_view_name": "HBoxView",
            "box_style": "",
            "children": [
              "IPY_MODEL_068bac62fba641dfbcbd5c3196ff7340",
              "IPY_MODEL_a15e6f0872ef42b0b3dbb911d8230e38",
              "IPY_MODEL_114148a5f6604d3b884979d817e0de14"
            ],
            "layout": "IPY_MODEL_a44728f29e1a4ac1be943dea32b4f523"
          }
        },
        "819092066aac4d7d8a5e51d56fb04539": {
          "model_module": "@jupyter-widgets/controls",
          "model_module_version": "1.5.0",
          "model_name": "FloatProgressModel",
          "state": {
            "_dom_classes": [],
            "_model_module": "@jupyter-widgets/controls",
            "_model_module_version": "1.5.0",
            "_model_name": "FloatProgressModel",
            "_view_count": null,
            "_view_module": "@jupyter-widgets/controls",
            "_view_module_version": "1.5.0",
            "_view_name": "ProgressView",
            "bar_style": "success",
            "description": "",
            "description_tooltip": null,
            "layout": "IPY_MODEL_6f29c0d47e6e44428e7507bd2096d595",
            "max": 7405,
            "min": 0,
            "orientation": "horizontal",
            "style": "IPY_MODEL_ce41c10f3b084a3b8a85c4f5773204fe",
            "value": 7405
          }
        },
        "8368607ff6a245d28651cb836f69f4ce": {
          "model_module": "@jupyter-widgets/base",
          "model_module_version": "1.2.0",
          "model_name": "LayoutModel",
          "state": {
            "_model_module": "@jupyter-widgets/base",
            "_model_module_version": "1.2.0",
            "_model_name": "LayoutModel",
            "_view_count": null,
            "_view_module": "@jupyter-widgets/base",
            "_view_module_version": "1.2.0",
            "_view_name": "LayoutView",
            "align_content": null,
            "align_items": null,
            "align_self": null,
            "border": null,
            "bottom": null,
            "display": null,
            "flex": null,
            "flex_flow": null,
            "grid_area": null,
            "grid_auto_columns": null,
            "grid_auto_flow": null,
            "grid_auto_rows": null,
            "grid_column": null,
            "grid_gap": null,
            "grid_row": null,
            "grid_template_areas": null,
            "grid_template_columns": null,
            "grid_template_rows": null,
            "height": null,
            "justify_content": null,
            "justify_items": null,
            "left": null,
            "margin": null,
            "max_height": null,
            "max_width": null,
            "min_height": null,
            "min_width": null,
            "object_fit": null,
            "object_position": null,
            "order": null,
            "overflow": null,
            "overflow_x": null,
            "overflow_y": null,
            "padding": null,
            "right": null,
            "top": null,
            "visibility": null,
            "width": null
          }
        },
        "929627c2c12b494a970a680ba02afa13": {
          "model_module": "@jupyter-widgets/controls",
          "model_module_version": "1.5.0",
          "model_name": "FloatProgressModel",
          "state": {
            "_dom_classes": [],
            "_model_module": "@jupyter-widgets/controls",
            "_model_module_version": "1.5.0",
            "_model_name": "FloatProgressModel",
            "_view_count": null,
            "_view_module": "@jupyter-widgets/controls",
            "_view_module_version": "1.5.0",
            "_view_name": "ProgressView",
            "bar_style": "success",
            "description": "",
            "description_tooltip": null,
            "layout": "IPY_MODEL_0302a171e46b464abe17d81469b0594c",
            "max": 90447,
            "min": 0,
            "orientation": "horizontal",
            "style": "IPY_MODEL_28ee5df360274ac698d8b48462d70fe2",
            "value": 90447
          }
        },
        "957992fd850d4775ad9c54e41e77fdd8": {
          "model_module": "@jupyter-widgets/base",
          "model_module_version": "1.2.0",
          "model_name": "LayoutModel",
          "state": {
            "_model_module": "@jupyter-widgets/base",
            "_model_module_version": "1.2.0",
            "_model_name": "LayoutModel",
            "_view_count": null,
            "_view_module": "@jupyter-widgets/base",
            "_view_module_version": "1.2.0",
            "_view_name": "LayoutView",
            "align_content": null,
            "align_items": null,
            "align_self": null,
            "border": null,
            "bottom": null,
            "display": null,
            "flex": null,
            "flex_flow": null,
            "grid_area": null,
            "grid_auto_columns": null,
            "grid_auto_flow": null,
            "grid_auto_rows": null,
            "grid_column": null,
            "grid_gap": null,
            "grid_row": null,
            "grid_template_areas": null,
            "grid_template_columns": null,
            "grid_template_rows": null,
            "height": null,
            "justify_content": null,
            "justify_items": null,
            "left": null,
            "margin": null,
            "max_height": null,
            "max_width": null,
            "min_height": null,
            "min_width": null,
            "object_fit": null,
            "object_position": null,
            "order": null,
            "overflow": null,
            "overflow_x": null,
            "overflow_y": null,
            "padding": null,
            "right": null,
            "top": null,
            "visibility": null,
            "width": null
          }
        },
        "99d0d381e9a04abfa13f7d77c545fd4e": {
          "model_module": "@jupyter-widgets/base",
          "model_module_version": "1.2.0",
          "model_name": "LayoutModel",
          "state": {
            "_model_module": "@jupyter-widgets/base",
            "_model_module_version": "1.2.0",
            "_model_name": "LayoutModel",
            "_view_count": null,
            "_view_module": "@jupyter-widgets/base",
            "_view_module_version": "1.2.0",
            "_view_name": "LayoutView",
            "align_content": null,
            "align_items": null,
            "align_self": null,
            "border": null,
            "bottom": null,
            "display": null,
            "flex": null,
            "flex_flow": null,
            "grid_area": null,
            "grid_auto_columns": null,
            "grid_auto_flow": null,
            "grid_auto_rows": null,
            "grid_column": null,
            "grid_gap": null,
            "grid_row": null,
            "grid_template_areas": null,
            "grid_template_columns": null,
            "grid_template_rows": null,
            "height": null,
            "justify_content": null,
            "justify_items": null,
            "left": null,
            "margin": null,
            "max_height": null,
            "max_width": null,
            "min_height": null,
            "min_width": null,
            "object_fit": null,
            "object_position": null,
            "order": null,
            "overflow": null,
            "overflow_x": null,
            "overflow_y": null,
            "padding": null,
            "right": null,
            "top": null,
            "visibility": null,
            "width": null
          }
        },
        "9c17831856c9468db0a509757dad7bab": {
          "model_module": "@jupyter-widgets/controls",
          "model_module_version": "1.5.0",
          "model_name": "DescriptionStyleModel",
          "state": {
            "_model_module": "@jupyter-widgets/controls",
            "_model_module_version": "1.5.0",
            "_model_name": "DescriptionStyleModel",
            "_view_count": null,
            "_view_module": "@jupyter-widgets/base",
            "_view_module_version": "1.2.0",
            "_view_name": "StyleView",
            "description_width": ""
          }
        },
        "9c6ef46097514ed9bbfd47bdda092428": {
          "model_module": "@jupyter-widgets/controls",
          "model_module_version": "1.5.0",
          "model_name": "HBoxModel",
          "state": {
            "_dom_classes": [],
            "_model_module": "@jupyter-widgets/controls",
            "_model_module_version": "1.5.0",
            "_model_name": "HBoxModel",
            "_view_count": null,
            "_view_module": "@jupyter-widgets/controls",
            "_view_module_version": "1.5.0",
            "_view_name": "HBoxView",
            "box_style": "",
            "children": [
              "IPY_MODEL_eaa63f930e1b42cab7f023a7269adbfd",
              "IPY_MODEL_929627c2c12b494a970a680ba02afa13",
              "IPY_MODEL_a1b4ff4c4a914ae8b5b9022ca62859fb"
            ],
            "layout": "IPY_MODEL_18249fe85f49463591078ace65faadc6"
          }
        },
        "a15e6f0872ef42b0b3dbb911d8230e38": {
          "model_module": "@jupyter-widgets/controls",
          "model_module_version": "1.5.0",
          "model_name": "FloatProgressModel",
          "state": {
            "_dom_classes": [],
            "_model_module": "@jupyter-widgets/controls",
            "_model_module_version": "1.5.0",
            "_model_name": "FloatProgressModel",
            "_view_count": null,
            "_view_module": "@jupyter-widgets/controls",
            "_view_module_version": "1.5.0",
            "_view_name": "ProgressView",
            "bar_style": "success",
            "description": "",
            "description_tooltip": null,
            "layout": "IPY_MODEL_0f19dcbac295409eb34c344398253185",
            "max": 566426227,
            "min": 0,
            "orientation": "horizontal",
            "style": "IPY_MODEL_6b836b589fec4ebaaf87cf8e09231188",
            "value": 566426227
          }
        },
        "a1b4ff4c4a914ae8b5b9022ca62859fb": {
          "model_module": "@jupyter-widgets/controls",
          "model_module_version": "1.5.0",
          "model_name": "HTMLModel",
          "state": {
            "_dom_classes": [],
            "_model_module": "@jupyter-widgets/controls",
            "_model_module_version": "1.5.0",
            "_model_name": "HTMLModel",
            "_view_count": null,
            "_view_module": "@jupyter-widgets/controls",
            "_view_module_version": "1.5.0",
            "_view_name": "HTMLView",
            "description": "",
            "description_tooltip": null,
            "layout": "IPY_MODEL_957992fd850d4775ad9c54e41e77fdd8",
            "placeholder": "​",
            "style": "IPY_MODEL_6bc764919f624e44b55a55fd6a3f8c4d",
            "value": " 90447/90447 [00:54&lt;00:00, 3076.72 examples/s]"
          }
        },
        "a44728f29e1a4ac1be943dea32b4f523": {
          "model_module": "@jupyter-widgets/base",
          "model_module_version": "1.2.0",
          "model_name": "LayoutModel",
          "state": {
            "_model_module": "@jupyter-widgets/base",
            "_model_module_version": "1.2.0",
            "_model_name": "LayoutModel",
            "_view_count": null,
            "_view_module": "@jupyter-widgets/base",
            "_view_module_version": "1.2.0",
            "_view_name": "LayoutView",
            "align_content": null,
            "align_items": null,
            "align_self": null,
            "border": null,
            "bottom": null,
            "display": null,
            "flex": null,
            "flex_flow": null,
            "grid_area": null,
            "grid_auto_columns": null,
            "grid_auto_flow": null,
            "grid_auto_rows": null,
            "grid_column": null,
            "grid_gap": null,
            "grid_row": null,
            "grid_template_areas": null,
            "grid_template_columns": null,
            "grid_template_rows": null,
            "height": null,
            "justify_content": null,
            "justify_items": null,
            "left": null,
            "margin": null,
            "max_height": null,
            "max_width": null,
            "min_height": null,
            "min_width": null,
            "object_fit": null,
            "object_position": null,
            "order": null,
            "overflow": null,
            "overflow_x": null,
            "overflow_y": null,
            "padding": null,
            "right": null,
            "top": null,
            "visibility": null,
            "width": null
          }
        },
        "a6b6a55df9e54f4e8a78b60be2d6b428": {
          "model_module": "@jupyter-widgets/base",
          "model_module_version": "1.2.0",
          "model_name": "LayoutModel",
          "state": {
            "_model_module": "@jupyter-widgets/base",
            "_model_module_version": "1.2.0",
            "_model_name": "LayoutModel",
            "_view_count": null,
            "_view_module": "@jupyter-widgets/base",
            "_view_module_version": "1.2.0",
            "_view_name": "LayoutView",
            "align_content": null,
            "align_items": null,
            "align_self": null,
            "border": null,
            "bottom": null,
            "display": null,
            "flex": null,
            "flex_flow": null,
            "grid_area": null,
            "grid_auto_columns": null,
            "grid_auto_flow": null,
            "grid_auto_rows": null,
            "grid_column": null,
            "grid_gap": null,
            "grid_row": null,
            "grid_template_areas": null,
            "grid_template_columns": null,
            "grid_template_rows": null,
            "height": null,
            "justify_content": null,
            "justify_items": null,
            "left": null,
            "margin": null,
            "max_height": null,
            "max_width": null,
            "min_height": null,
            "min_width": null,
            "object_fit": null,
            "object_position": null,
            "order": null,
            "overflow": null,
            "overflow_x": null,
            "overflow_y": null,
            "padding": null,
            "right": null,
            "top": null,
            "visibility": null,
            "width": null
          }
        },
        "a73e7ea4421a48caaabee0d52dd9b587": {
          "model_module": "@jupyter-widgets/controls",
          "model_module_version": "1.5.0",
          "model_name": "HTMLModel",
          "state": {
            "_dom_classes": [],
            "_model_module": "@jupyter-widgets/controls",
            "_model_module_version": "1.5.0",
            "_model_name": "HTMLModel",
            "_view_count": null,
            "_view_module": "@jupyter-widgets/controls",
            "_view_module_version": "1.5.0",
            "_view_name": "HTMLView",
            "description": "",
            "description_tooltip": null,
            "layout": "IPY_MODEL_6a175e0b70904ad38ae51a34b1e45213",
            "placeholder": "​",
            "style": "IPY_MODEL_aad65fcec3914434b3426c4642525fdb",
            "value": "Downloading data: 100%"
          }
        },
        "a7916b5cf83d478392c92d03d613ad0b": {
          "model_module": "@jupyter-widgets/controls",
          "model_module_version": "1.5.0",
          "model_name": "ProgressStyleModel",
          "state": {
            "_model_module": "@jupyter-widgets/controls",
            "_model_module_version": "1.5.0",
            "_model_name": "ProgressStyleModel",
            "_view_count": null,
            "_view_module": "@jupyter-widgets/base",
            "_view_module_version": "1.2.0",
            "_view_name": "StyleView",
            "bar_color": null,
            "description_width": ""
          }
        },
        "aa094cc9d2de43628f9c5d84e912cc28": {
          "model_module": "@jupyter-widgets/controls",
          "model_module_version": "1.5.0",
          "model_name": "HTMLModel",
          "state": {
            "_dom_classes": [],
            "_model_module": "@jupyter-widgets/controls",
            "_model_module_version": "1.5.0",
            "_model_name": "HTMLModel",
            "_view_count": null,
            "_view_module": "@jupyter-widgets/controls",
            "_view_module_version": "1.5.0",
            "_view_name": "HTMLView",
            "description": "",
            "description_tooltip": null,
            "layout": "IPY_MODEL_7e2b681cdc6a4bdc9fe8960f0716075b",
            "placeholder": "​",
            "style": "IPY_MODEL_d21d239a8cd4400b9987c0d8f67e9e6a",
            "value": " 9.19k/9.19k [00:00&lt;00:00, 322kB/s]"
          }
        },
        "aad65fcec3914434b3426c4642525fdb": {
          "model_module": "@jupyter-widgets/controls",
          "model_module_version": "1.5.0",
          "model_name": "DescriptionStyleModel",
          "state": {
            "_model_module": "@jupyter-widgets/controls",
            "_model_module_version": "1.5.0",
            "_model_name": "DescriptionStyleModel",
            "_view_count": null,
            "_view_module": "@jupyter-widgets/base",
            "_view_module_version": "1.2.0",
            "_view_name": "StyleView",
            "description_width": ""
          }
        },
        "aea86595dc1240df892fa61d2cb08b9f": {
          "model_module": "@jupyter-widgets/base",
          "model_module_version": "1.2.0",
          "model_name": "LayoutModel",
          "state": {
            "_model_module": "@jupyter-widgets/base",
            "_model_module_version": "1.2.0",
            "_model_name": "LayoutModel",
            "_view_count": null,
            "_view_module": "@jupyter-widgets/base",
            "_view_module_version": "1.2.0",
            "_view_name": "LayoutView",
            "align_content": null,
            "align_items": null,
            "align_self": null,
            "border": null,
            "bottom": null,
            "display": null,
            "flex": null,
            "flex_flow": null,
            "grid_area": null,
            "grid_auto_columns": null,
            "grid_auto_flow": null,
            "grid_auto_rows": null,
            "grid_column": null,
            "grid_gap": null,
            "grid_row": null,
            "grid_template_areas": null,
            "grid_template_columns": null,
            "grid_template_rows": null,
            "height": null,
            "justify_content": null,
            "justify_items": null,
            "left": null,
            "margin": null,
            "max_height": null,
            "max_width": null,
            "min_height": null,
            "min_width": null,
            "object_fit": null,
            "object_position": null,
            "order": null,
            "overflow": null,
            "overflow_x": null,
            "overflow_y": null,
            "padding": null,
            "right": null,
            "top": null,
            "visibility": null,
            "width": null
          }
        },
        "b2ee20a1a0304a53ad2fb0f255eaa238": {
          "model_module": "@jupyter-widgets/controls",
          "model_module_version": "1.5.0",
          "model_name": "FloatProgressModel",
          "state": {
            "_dom_classes": [],
            "_model_module": "@jupyter-widgets/controls",
            "_model_module_version": "1.5.0",
            "_model_name": "FloatProgressModel",
            "_view_count": null,
            "_view_module": "@jupyter-widgets/controls",
            "_view_module_version": "1.5.0",
            "_view_name": "ProgressView",
            "bar_style": "success",
            "description": "",
            "description_tooltip": null,
            "layout": "IPY_MODEL_7602ef16a6cd47ea99437b7169309bf5",
            "max": 47454698,
            "min": 0,
            "orientation": "horizontal",
            "style": "IPY_MODEL_c5074a2d505e4ec3bbdeda7fd102d136",
            "value": 47454698
          }
        },
        "b3a0943acee3465f8b8a17022e5377e4": {
          "model_module": "@jupyter-widgets/controls",
          "model_module_version": "1.5.0",
          "model_name": "ProgressStyleModel",
          "state": {
            "_model_module": "@jupyter-widgets/controls",
            "_model_module_version": "1.5.0",
            "_model_name": "ProgressStyleModel",
            "_view_count": null,
            "_view_module": "@jupyter-widgets/base",
            "_view_module_version": "1.2.0",
            "_view_name": "StyleView",
            "bar_color": null,
            "description_width": ""
          }
        },
        "b3b02e6442fb404794e71927d1f51193": {
          "model_module": "@jupyter-widgets/controls",
          "model_module_version": "1.5.0",
          "model_name": "FloatProgressModel",
          "state": {
            "_dom_classes": [],
            "_model_module": "@jupyter-widgets/controls",
            "_model_module_version": "1.5.0",
            "_model_name": "FloatProgressModel",
            "_view_count": null,
            "_view_module": "@jupyter-widgets/controls",
            "_view_module_version": "1.5.0",
            "_view_name": "ProgressView",
            "bar_style": "success",
            "description": "",
            "description_tooltip": null,
            "layout": "IPY_MODEL_8368607ff6a245d28651cb836f69f4ce",
            "max": 46213747,
            "min": 0,
            "orientation": "horizontal",
            "style": "IPY_MODEL_ea18f461695c46929f5e460171076f78",
            "value": 46213747
          }
        },
        "b5470ceb8e7549e182922046553ebe14": {
          "model_module": "@jupyter-widgets/controls",
          "model_module_version": "1.5.0",
          "model_name": "DescriptionStyleModel",
          "state": {
            "_model_module": "@jupyter-widgets/controls",
            "_model_module_version": "1.5.0",
            "_model_name": "DescriptionStyleModel",
            "_view_count": null,
            "_view_module": "@jupyter-widgets/base",
            "_view_module_version": "1.2.0",
            "_view_name": "StyleView",
            "description_width": ""
          }
        },
        "b6222ce0ab55472c803f1e588b2094d1": {
          "model_module": "@jupyter-widgets/controls",
          "model_module_version": "1.5.0",
          "model_name": "HBoxModel",
          "state": {
            "_dom_classes": [],
            "_model_module": "@jupyter-widgets/controls",
            "_model_module_version": "1.5.0",
            "_model_name": "HBoxModel",
            "_view_count": null,
            "_view_module": "@jupyter-widgets/controls",
            "_view_module_version": "1.5.0",
            "_view_name": "HBoxView",
            "box_style": "",
            "children": [
              "IPY_MODEL_37aa6d1288f64fe48404a0225d057f90",
              "IPY_MODEL_1b61b7277cfc4b93b00ae0d5e912672a",
              "IPY_MODEL_18ec38fb829f489e9f70ec1a99b1ac8a"
            ],
            "layout": "IPY_MODEL_6594989c3c784e1889bfab4936bf0202"
          }
        },
        "b6bda1a7494144b2a33f90d388904cb1": {
          "model_module": "@jupyter-widgets/base",
          "model_module_version": "1.2.0",
          "model_name": "LayoutModel",
          "state": {
            "_model_module": "@jupyter-widgets/base",
            "_model_module_version": "1.2.0",
            "_model_name": "LayoutModel",
            "_view_count": null,
            "_view_module": "@jupyter-widgets/base",
            "_view_module_version": "1.2.0",
            "_view_name": "LayoutView",
            "align_content": null,
            "align_items": null,
            "align_self": null,
            "border": null,
            "bottom": null,
            "display": null,
            "flex": null,
            "flex_flow": null,
            "grid_area": null,
            "grid_auto_columns": null,
            "grid_auto_flow": null,
            "grid_auto_rows": null,
            "grid_column": null,
            "grid_gap": null,
            "grid_row": null,
            "grid_template_areas": null,
            "grid_template_columns": null,
            "grid_template_rows": null,
            "height": null,
            "justify_content": null,
            "justify_items": null,
            "left": null,
            "margin": null,
            "max_height": null,
            "max_width": null,
            "min_height": null,
            "min_width": null,
            "object_fit": null,
            "object_position": null,
            "order": null,
            "overflow": null,
            "overflow_x": null,
            "overflow_y": null,
            "padding": null,
            "right": null,
            "top": null,
            "visibility": null,
            "width": null
          }
        },
        "ba1fb3d2e0444db7aadd5e36d0ee3554": {
          "model_module": "@jupyter-widgets/base",
          "model_module_version": "1.2.0",
          "model_name": "LayoutModel",
          "state": {
            "_model_module": "@jupyter-widgets/base",
            "_model_module_version": "1.2.0",
            "_model_name": "LayoutModel",
            "_view_count": null,
            "_view_module": "@jupyter-widgets/base",
            "_view_module_version": "1.2.0",
            "_view_name": "LayoutView",
            "align_content": null,
            "align_items": null,
            "align_self": null,
            "border": null,
            "bottom": null,
            "display": null,
            "flex": null,
            "flex_flow": null,
            "grid_area": null,
            "grid_auto_columns": null,
            "grid_auto_flow": null,
            "grid_auto_rows": null,
            "grid_column": null,
            "grid_gap": null,
            "grid_row": null,
            "grid_template_areas": null,
            "grid_template_columns": null,
            "grid_template_rows": null,
            "height": null,
            "justify_content": null,
            "justify_items": null,
            "left": null,
            "margin": null,
            "max_height": null,
            "max_width": null,
            "min_height": null,
            "min_width": null,
            "object_fit": null,
            "object_position": null,
            "order": null,
            "overflow": null,
            "overflow_x": null,
            "overflow_y": null,
            "padding": null,
            "right": null,
            "top": null,
            "visibility": null,
            "width": null
          }
        },
        "bfc1ab5a674b4f43bce5a2426be04fa3": {
          "model_module": "@jupyter-widgets/base",
          "model_module_version": "1.2.0",
          "model_name": "LayoutModel",
          "state": {
            "_model_module": "@jupyter-widgets/base",
            "_model_module_version": "1.2.0",
            "_model_name": "LayoutModel",
            "_view_count": null,
            "_view_module": "@jupyter-widgets/base",
            "_view_module_version": "1.2.0",
            "_view_name": "LayoutView",
            "align_content": null,
            "align_items": null,
            "align_self": null,
            "border": null,
            "bottom": null,
            "display": null,
            "flex": null,
            "flex_flow": null,
            "grid_area": null,
            "grid_auto_columns": null,
            "grid_auto_flow": null,
            "grid_auto_rows": null,
            "grid_column": null,
            "grid_gap": null,
            "grid_row": null,
            "grid_template_areas": null,
            "grid_template_columns": null,
            "grid_template_rows": null,
            "height": null,
            "justify_content": null,
            "justify_items": null,
            "left": null,
            "margin": null,
            "max_height": null,
            "max_width": null,
            "min_height": null,
            "min_width": null,
            "object_fit": null,
            "object_position": null,
            "order": null,
            "overflow": null,
            "overflow_x": null,
            "overflow_y": null,
            "padding": null,
            "right": null,
            "top": null,
            "visibility": null,
            "width": null
          }
        },
        "bfdd211fe3254acebc8055c64d860df4": {
          "model_module": "@jupyter-widgets/controls",
          "model_module_version": "1.5.0",
          "model_name": "ProgressStyleModel",
          "state": {
            "_model_module": "@jupyter-widgets/controls",
            "_model_module_version": "1.5.0",
            "_model_name": "ProgressStyleModel",
            "_view_count": null,
            "_view_module": "@jupyter-widgets/base",
            "_view_module_version": "1.2.0",
            "_view_name": "StyleView",
            "bar_color": null,
            "description_width": ""
          }
        },
        "bfff80779eec4b5892db0bffc21b51dc": {
          "model_module": "@jupyter-widgets/controls",
          "model_module_version": "1.5.0",
          "model_name": "HTMLModel",
          "state": {
            "_dom_classes": [],
            "_model_module": "@jupyter-widgets/controls",
            "_model_module_version": "1.5.0",
            "_model_name": "HTMLModel",
            "_view_count": null,
            "_view_module": "@jupyter-widgets/controls",
            "_view_module_version": "1.5.0",
            "_view_name": "HTMLView",
            "description": "",
            "description_tooltip": null,
            "layout": "IPY_MODEL_67e6d1b2ee2c4848ab2d970eab619ba8",
            "placeholder": "​",
            "style": "IPY_MODEL_332e15773ba849e19240cc8445fdb8a0",
            "value": " 46.2M/46.2M [00:01&lt;00:00, 48.1MB/s]"
          }
        },
        "c5074a2d505e4ec3bbdeda7fd102d136": {
          "model_module": "@jupyter-widgets/controls",
          "model_module_version": "1.5.0",
          "model_name": "ProgressStyleModel",
          "state": {
            "_model_module": "@jupyter-widgets/controls",
            "_model_module_version": "1.5.0",
            "_model_name": "ProgressStyleModel",
            "_view_count": null,
            "_view_module": "@jupyter-widgets/base",
            "_view_module_version": "1.2.0",
            "_view_name": "StyleView",
            "bar_color": null,
            "description_width": ""
          }
        },
        "c8648d7df7aa4a788baf738a1b741d18": {
          "model_module": "@jupyter-widgets/base",
          "model_module_version": "1.2.0",
          "model_name": "LayoutModel",
          "state": {
            "_model_module": "@jupyter-widgets/base",
            "_model_module_version": "1.2.0",
            "_model_name": "LayoutModel",
            "_view_count": null,
            "_view_module": "@jupyter-widgets/base",
            "_view_module_version": "1.2.0",
            "_view_name": "LayoutView",
            "align_content": null,
            "align_items": null,
            "align_self": null,
            "border": null,
            "bottom": null,
            "display": null,
            "flex": null,
            "flex_flow": null,
            "grid_area": null,
            "grid_auto_columns": null,
            "grid_auto_flow": null,
            "grid_auto_rows": null,
            "grid_column": null,
            "grid_gap": null,
            "grid_row": null,
            "grid_template_areas": null,
            "grid_template_columns": null,
            "grid_template_rows": null,
            "height": null,
            "justify_content": null,
            "justify_items": null,
            "left": null,
            "margin": null,
            "max_height": null,
            "max_width": null,
            "min_height": null,
            "min_width": null,
            "object_fit": null,
            "object_position": null,
            "order": null,
            "overflow": null,
            "overflow_x": null,
            "overflow_y": null,
            "padding": null,
            "right": null,
            "top": null,
            "visibility": null,
            "width": null
          }
        },
        "c9a5e98ac1c0439184a25156faccafa4": {
          "model_module": "@jupyter-widgets/controls",
          "model_module_version": "1.5.0",
          "model_name": "HTMLModel",
          "state": {
            "_dom_classes": [],
            "_model_module": "@jupyter-widgets/controls",
            "_model_module_version": "1.5.0",
            "_model_name": "HTMLModel",
            "_view_count": null,
            "_view_module": "@jupyter-widgets/controls",
            "_view_module_version": "1.5.0",
            "_view_name": "HTMLView",
            "description": "",
            "description_tooltip": null,
            "layout": "IPY_MODEL_f582823133e742fd97c493b13ad6725a",
            "placeholder": "​",
            "style": "IPY_MODEL_3fabea11413045bc855b15f67a19295b",
            "value": "hotpot_qa.py: 100%"
          }
        },
        "cccb6cb145144b4dbc1193a3ad038da6": {
          "model_module": "@jupyter-widgets/controls",
          "model_module_version": "1.5.0",
          "model_name": "HBoxModel",
          "state": {
            "_dom_classes": [],
            "_model_module": "@jupyter-widgets/controls",
            "_model_module_version": "1.5.0",
            "_model_name": "HBoxModel",
            "_view_count": null,
            "_view_module": "@jupyter-widgets/controls",
            "_view_module_version": "1.5.0",
            "_view_name": "HBoxView",
            "box_style": "",
            "children": [
              "IPY_MODEL_ef9741e6c7294731a93322a729722a70",
              "IPY_MODEL_7fe72ab9ede74cc99fe65d4661711878",
              "IPY_MODEL_aa094cc9d2de43628f9c5d84e912cc28"
            ],
            "layout": "IPY_MODEL_439d0a0aa2ee45a596ffb818f7e9aba7"
          }
        },
        "ce41c10f3b084a3b8a85c4f5773204fe": {
          "model_module": "@jupyter-widgets/controls",
          "model_module_version": "1.5.0",
          "model_name": "ProgressStyleModel",
          "state": {
            "_model_module": "@jupyter-widgets/controls",
            "_model_module_version": "1.5.0",
            "_model_name": "ProgressStyleModel",
            "_view_count": null,
            "_view_module": "@jupyter-widgets/base",
            "_view_module_version": "1.2.0",
            "_view_name": "StyleView",
            "bar_color": null,
            "description_width": ""
          }
        },
        "d21d239a8cd4400b9987c0d8f67e9e6a": {
          "model_module": "@jupyter-widgets/controls",
          "model_module_version": "1.5.0",
          "model_name": "DescriptionStyleModel",
          "state": {
            "_model_module": "@jupyter-widgets/controls",
            "_model_module_version": "1.5.0",
            "_model_name": "DescriptionStyleModel",
            "_view_count": null,
            "_view_module": "@jupyter-widgets/base",
            "_view_module_version": "1.2.0",
            "_view_name": "StyleView",
            "description_width": ""
          }
        },
        "d493a94b45e043cb9160bfa1c8551034": {
          "model_module": "@jupyter-widgets/controls",
          "model_module_version": "1.5.0",
          "model_name": "DescriptionStyleModel",
          "state": {
            "_model_module": "@jupyter-widgets/controls",
            "_model_module_version": "1.5.0",
            "_model_name": "DescriptionStyleModel",
            "_view_count": null,
            "_view_module": "@jupyter-widgets/base",
            "_view_module_version": "1.2.0",
            "_view_name": "StyleView",
            "description_width": ""
          }
        },
        "ddc89690926542edb21e18d21b38f290": {
          "model_module": "@jupyter-widgets/controls",
          "model_module_version": "1.5.0",
          "model_name": "HBoxModel",
          "state": {
            "_dom_classes": [],
            "_model_module": "@jupyter-widgets/controls",
            "_model_module_version": "1.5.0",
            "_model_name": "HBoxModel",
            "_view_count": null,
            "_view_module": "@jupyter-widgets/controls",
            "_view_module_version": "1.5.0",
            "_view_name": "HBoxView",
            "box_style": "",
            "children": [
              "IPY_MODEL_c9a5e98ac1c0439184a25156faccafa4",
              "IPY_MODEL_3cc62e51c0054391a97285041effb9eb",
              "IPY_MODEL_157f2e32d4d64b0f97fce8dd6b6c0aa0"
            ],
            "layout": "IPY_MODEL_e9f68cc27b0447edbf869c2b574561d3"
          }
        },
        "e4252456e5e64ffcb8b878cd8e91fccd": {
          "model_module": "@jupyter-widgets/controls",
          "model_module_version": "1.5.0",
          "model_name": "DescriptionStyleModel",
          "state": {
            "_model_module": "@jupyter-widgets/controls",
            "_model_module_version": "1.5.0",
            "_model_name": "DescriptionStyleModel",
            "_view_count": null,
            "_view_module": "@jupyter-widgets/base",
            "_view_module_version": "1.2.0",
            "_view_name": "StyleView",
            "description_width": ""
          }
        },
        "e9f68cc27b0447edbf869c2b574561d3": {
          "model_module": "@jupyter-widgets/base",
          "model_module_version": "1.2.0",
          "model_name": "LayoutModel",
          "state": {
            "_model_module": "@jupyter-widgets/base",
            "_model_module_version": "1.2.0",
            "_model_name": "LayoutModel",
            "_view_count": null,
            "_view_module": "@jupyter-widgets/base",
            "_view_module_version": "1.2.0",
            "_view_name": "LayoutView",
            "align_content": null,
            "align_items": null,
            "align_self": null,
            "border": null,
            "bottom": null,
            "display": null,
            "flex": null,
            "flex_flow": null,
            "grid_area": null,
            "grid_auto_columns": null,
            "grid_auto_flow": null,
            "grid_auto_rows": null,
            "grid_column": null,
            "grid_gap": null,
            "grid_row": null,
            "grid_template_areas": null,
            "grid_template_columns": null,
            "grid_template_rows": null,
            "height": null,
            "justify_content": null,
            "justify_items": null,
            "left": null,
            "margin": null,
            "max_height": null,
            "max_width": null,
            "min_height": null,
            "min_width": null,
            "object_fit": null,
            "object_position": null,
            "order": null,
            "overflow": null,
            "overflow_x": null,
            "overflow_y": null,
            "padding": null,
            "right": null,
            "top": null,
            "visibility": null,
            "width": null
          }
        },
        "ea13eefe1e5146c1b0efaf6daea9836d": {
          "model_module": "@jupyter-widgets/controls",
          "model_module_version": "1.5.0",
          "model_name": "HBoxModel",
          "state": {
            "_dom_classes": [],
            "_model_module": "@jupyter-widgets/controls",
            "_model_module_version": "1.5.0",
            "_model_name": "HBoxModel",
            "_view_count": null,
            "_view_module": "@jupyter-widgets/controls",
            "_view_module_version": "1.5.0",
            "_view_name": "HBoxView",
            "box_style": "",
            "children": [
              "IPY_MODEL_a73e7ea4421a48caaabee0d52dd9b587",
              "IPY_MODEL_b3b02e6442fb404794e71927d1f51193",
              "IPY_MODEL_bfff80779eec4b5892db0bffc21b51dc"
            ],
            "layout": "IPY_MODEL_ef61094d96b947fbb6eae94525f26de4"
          }
        },
        "ea18f461695c46929f5e460171076f78": {
          "model_module": "@jupyter-widgets/controls",
          "model_module_version": "1.5.0",
          "model_name": "ProgressStyleModel",
          "state": {
            "_model_module": "@jupyter-widgets/controls",
            "_model_module_version": "1.5.0",
            "_model_name": "ProgressStyleModel",
            "_view_count": null,
            "_view_module": "@jupyter-widgets/base",
            "_view_module_version": "1.2.0",
            "_view_name": "StyleView",
            "bar_color": null,
            "description_width": ""
          }
        },
        "eaa63f930e1b42cab7f023a7269adbfd": {
          "model_module": "@jupyter-widgets/controls",
          "model_module_version": "1.5.0",
          "model_name": "HTMLModel",
          "state": {
            "_dom_classes": [],
            "_model_module": "@jupyter-widgets/controls",
            "_model_module_version": "1.5.0",
            "_model_name": "HTMLModel",
            "_view_count": null,
            "_view_module": "@jupyter-widgets/controls",
            "_view_module_version": "1.5.0",
            "_view_name": "HTMLView",
            "description": "",
            "description_tooltip": null,
            "layout": "IPY_MODEL_52076f7a4bac47cfb3a65c9757694908",
            "placeholder": "​",
            "style": "IPY_MODEL_19ef5ad5902d43b38a2fce37391800ea",
            "value": "Generating train split: 100%"
          }
        },
        "ef61094d96b947fbb6eae94525f26de4": {
          "model_module": "@jupyter-widgets/base",
          "model_module_version": "1.2.0",
          "model_name": "LayoutModel",
          "state": {
            "_model_module": "@jupyter-widgets/base",
            "_model_module_version": "1.2.0",
            "_model_name": "LayoutModel",
            "_view_count": null,
            "_view_module": "@jupyter-widgets/base",
            "_view_module_version": "1.2.0",
            "_view_name": "LayoutView",
            "align_content": null,
            "align_items": null,
            "align_self": null,
            "border": null,
            "bottom": null,
            "display": null,
            "flex": null,
            "flex_flow": null,
            "grid_area": null,
            "grid_auto_columns": null,
            "grid_auto_flow": null,
            "grid_auto_rows": null,
            "grid_column": null,
            "grid_gap": null,
            "grid_row": null,
            "grid_template_areas": null,
            "grid_template_columns": null,
            "grid_template_rows": null,
            "height": null,
            "justify_content": null,
            "justify_items": null,
            "left": null,
            "margin": null,
            "max_height": null,
            "max_width": null,
            "min_height": null,
            "min_width": null,
            "object_fit": null,
            "object_position": null,
            "order": null,
            "overflow": null,
            "overflow_x": null,
            "overflow_y": null,
            "padding": null,
            "right": null,
            "top": null,
            "visibility": null,
            "width": null
          }
        },
        "ef9741e6c7294731a93322a729722a70": {
          "model_module": "@jupyter-widgets/controls",
          "model_module_version": "1.5.0",
          "model_name": "HTMLModel",
          "state": {
            "_dom_classes": [],
            "_model_module": "@jupyter-widgets/controls",
            "_model_module_version": "1.5.0",
            "_model_name": "HTMLModel",
            "_view_count": null,
            "_view_module": "@jupyter-widgets/controls",
            "_view_module_version": "1.5.0",
            "_view_name": "HTMLView",
            "description": "",
            "description_tooltip": null,
            "layout": "IPY_MODEL_67d1745c64aa4b84ae3ee9af9913300d",
            "placeholder": "​",
            "style": "IPY_MODEL_9c17831856c9468db0a509757dad7bab",
            "value": "README.md: 100%"
          }
        },
        "f582823133e742fd97c493b13ad6725a": {
          "model_module": "@jupyter-widgets/base",
          "model_module_version": "1.2.0",
          "model_name": "LayoutModel",
          "state": {
            "_model_module": "@jupyter-widgets/base",
            "_model_module_version": "1.2.0",
            "_model_name": "LayoutModel",
            "_view_count": null,
            "_view_module": "@jupyter-widgets/base",
            "_view_module_version": "1.2.0",
            "_view_name": "LayoutView",
            "align_content": null,
            "align_items": null,
            "align_self": null,
            "border": null,
            "bottom": null,
            "display": null,
            "flex": null,
            "flex_flow": null,
            "grid_area": null,
            "grid_auto_columns": null,
            "grid_auto_flow": null,
            "grid_auto_rows": null,
            "grid_column": null,
            "grid_gap": null,
            "grid_row": null,
            "grid_template_areas": null,
            "grid_template_columns": null,
            "grid_template_rows": null,
            "height": null,
            "justify_content": null,
            "justify_items": null,
            "left": null,
            "margin": null,
            "max_height": null,
            "max_width": null,
            "min_height": null,
            "min_width": null,
            "object_fit": null,
            "object_position": null,
            "order": null,
            "overflow": null,
            "overflow_x": null,
            "overflow_y": null,
            "padding": null,
            "right": null,
            "top": null,
            "visibility": null,
            "width": null
          }
        },
        "fa46867bccfa46a99776ef6860efcad5": {
          "model_module": "@jupyter-widgets/base",
          "model_module_version": "1.2.0",
          "model_name": "LayoutModel",
          "state": {
            "_model_module": "@jupyter-widgets/base",
            "_model_module_version": "1.2.0",
            "_model_name": "LayoutModel",
            "_view_count": null,
            "_view_module": "@jupyter-widgets/base",
            "_view_module_version": "1.2.0",
            "_view_name": "LayoutView",
            "align_content": null,
            "align_items": null,
            "align_self": null,
            "border": null,
            "bottom": null,
            "display": null,
            "flex": null,
            "flex_flow": null,
            "grid_area": null,
            "grid_auto_columns": null,
            "grid_auto_flow": null,
            "grid_auto_rows": null,
            "grid_column": null,
            "grid_gap": null,
            "grid_row": null,
            "grid_template_areas": null,
            "grid_template_columns": null,
            "grid_template_rows": null,
            "height": null,
            "justify_content": null,
            "justify_items": null,
            "left": null,
            "margin": null,
            "max_height": null,
            "max_width": null,
            "min_height": null,
            "min_width": null,
            "object_fit": null,
            "object_position": null,
            "order": null,
            "overflow": null,
            "overflow_x": null,
            "overflow_y": null,
            "padding": null,
            "right": null,
            "top": null,
            "visibility": null,
            "width": null
          }
        }
      }
    }
  },
  "nbformat": 4,
  "nbformat_minor": 0
}
