{
  "nbformat": 4,
  "nbformat_minor": 0,
  "metadata": {
    "colab": {
      "provenance": [],
      "collapsed_sections": [
        "njT94cGl7THo"
      ],
      "machine_shape": "hm",
      "gpuType": "A100",
      "include_colab_link": true
    },
    "kernelspec": {
      "name": "python3",
      "display_name": "Python 3"
    },
    "language_info": {
      "name": "python"
    },
    "accelerator": "GPU",
    "widgets": {
      "application/vnd.jupyter.widget-state+json": {
        "f9c74d597b3045dc9a1f071b5263c712": {
          "model_module": "@jupyter-widgets/controls",
          "model_name": "VBoxModel",
          "model_module_version": "1.5.0",
          "state": {
            "_dom_classes": [],
            "_model_module": "@jupyter-widgets/controls",
            "_model_module_version": "1.5.0",
            "_model_name": "VBoxModel",
            "_view_count": null,
            "_view_module": "@jupyter-widgets/controls",
            "_view_module_version": "1.5.0",
            "_view_name": "VBoxView",
            "box_style": "",
            "children": [],
            "layout": "IPY_MODEL_e141cb60efba41be9c253f8dd86e5cbc"
          }
        },
        "8bd3f7b8e8494a73badede41569b2d8a": {
          "model_module": "@jupyter-widgets/controls",
          "model_name": "HTMLModel",
          "model_module_version": "1.5.0",
          "state": {
            "_dom_classes": [],
            "_model_module": "@jupyter-widgets/controls",
            "_model_module_version": "1.5.0",
            "_model_name": "HTMLModel",
            "_view_count": null,
            "_view_module": "@jupyter-widgets/controls",
            "_view_module_version": "1.5.0",
            "_view_name": "HTMLView",
            "description": "",
            "description_tooltip": null,
            "layout": "IPY_MODEL_e71d0fb536cf453c860bd0e94ff7ed39",
            "placeholder": "​",
            "style": "IPY_MODEL_792f18e3464e4872988e896047a53920",
            "value": "<center> <img\nsrc=https://huggingface.co/front/assets/huggingface_logo-noborder.svg\nalt='Hugging Face'> <br> Copy a token from <a\nhref=\"https://huggingface.co/settings/tokens\" target=\"_blank\">your Hugging Face\ntokens page</a> and paste it below. <br> Immediately click login after copying\nyour token or it might be stored in plain text in this notebook file. </center>"
          }
        },
        "f6edd557ab9844069dca5a4e974dd045": {
          "model_module": "@jupyter-widgets/controls",
          "model_name": "PasswordModel",
          "model_module_version": "1.5.0",
          "state": {
            "_dom_classes": [],
            "_model_module": "@jupyter-widgets/controls",
            "_model_module_version": "1.5.0",
            "_model_name": "PasswordModel",
            "_view_count": null,
            "_view_module": "@jupyter-widgets/controls",
            "_view_module_version": "1.5.0",
            "_view_name": "PasswordView",
            "continuous_update": true,
            "description": "Token:",
            "description_tooltip": null,
            "disabled": false,
            "layout": "IPY_MODEL_0d503a6cf348451d8b3c154078599776",
            "placeholder": "​",
            "style": "IPY_MODEL_dd77e54e646b4895bee97aa2735aa6ed",
            "value": ""
          }
        },
        "f2b713fd225f4bf4bcd117b1a0e04adc": {
          "model_module": "@jupyter-widgets/controls",
          "model_name": "CheckboxModel",
          "model_module_version": "1.5.0",
          "state": {
            "_dom_classes": [],
            "_model_module": "@jupyter-widgets/controls",
            "_model_module_version": "1.5.0",
            "_model_name": "CheckboxModel",
            "_view_count": null,
            "_view_module": "@jupyter-widgets/controls",
            "_view_module_version": "1.5.0",
            "_view_name": "CheckboxView",
            "description": "Add token as git credential?",
            "description_tooltip": null,
            "disabled": false,
            "indent": true,
            "layout": "IPY_MODEL_ef4a293320ea4792a9a7ad764848f2d9",
            "style": "IPY_MODEL_4d2ab585ef2344c59b077b8b2c064458",
            "value": true
          }
        },
        "1899a8d3b9964ae983f39034eb2be99b": {
          "model_module": "@jupyter-widgets/controls",
          "model_name": "ButtonModel",
          "model_module_version": "1.5.0",
          "state": {
            "_dom_classes": [],
            "_model_module": "@jupyter-widgets/controls",
            "_model_module_version": "1.5.0",
            "_model_name": "ButtonModel",
            "_view_count": null,
            "_view_module": "@jupyter-widgets/controls",
            "_view_module_version": "1.5.0",
            "_view_name": "ButtonView",
            "button_style": "",
            "description": "Login",
            "disabled": false,
            "icon": "",
            "layout": "IPY_MODEL_bbbf78bad91e454fa82572320575232f",
            "style": "IPY_MODEL_1f772d4556d645ee9e52fde011ed422e",
            "tooltip": ""
          }
        },
        "29c50dba80d2476183076836dadb9d60": {
          "model_module": "@jupyter-widgets/controls",
          "model_name": "HTMLModel",
          "model_module_version": "1.5.0",
          "state": {
            "_dom_classes": [],
            "_model_module": "@jupyter-widgets/controls",
            "_model_module_version": "1.5.0",
            "_model_name": "HTMLModel",
            "_view_count": null,
            "_view_module": "@jupyter-widgets/controls",
            "_view_module_version": "1.5.0",
            "_view_name": "HTMLView",
            "description": "",
            "description_tooltip": null,
            "layout": "IPY_MODEL_cb958d8913a6458b88e31f9b0146d314",
            "placeholder": "​",
            "style": "IPY_MODEL_a738ab4498824709bf229b7bb02e73f5",
            "value": "\n<b>Pro Tip:</b> If you don't already have one, you can create a dedicated\n'notebooks' token with 'write' access, that you can then easily reuse for all\nnotebooks. </center>"
          }
        },
        "e141cb60efba41be9c253f8dd86e5cbc": {
          "model_module": "@jupyter-widgets/base",
          "model_name": "LayoutModel",
          "model_module_version": "1.2.0",
          "state": {
            "_model_module": "@jupyter-widgets/base",
            "_model_module_version": "1.2.0",
            "_model_name": "LayoutModel",
            "_view_count": null,
            "_view_module": "@jupyter-widgets/base",
            "_view_module_version": "1.2.0",
            "_view_name": "LayoutView",
            "align_content": null,
            "align_items": "center",
            "align_self": null,
            "border": null,
            "bottom": null,
            "display": "flex",
            "flex": null,
            "flex_flow": "column",
            "grid_area": null,
            "grid_auto_columns": null,
            "grid_auto_flow": null,
            "grid_auto_rows": null,
            "grid_column": null,
            "grid_gap": null,
            "grid_row": null,
            "grid_template_areas": null,
            "grid_template_columns": null,
            "grid_template_rows": null,
            "height": null,
            "justify_content": null,
            "justify_items": null,
            "left": null,
            "margin": null,
            "max_height": null,
            "max_width": null,
            "min_height": null,
            "min_width": null,
            "object_fit": null,
            "object_position": null,
            "order": null,
            "overflow": null,
            "overflow_x": null,
            "overflow_y": null,
            "padding": null,
            "right": null,
            "top": null,
            "visibility": null,
            "width": "50%"
          }
        },
        "e71d0fb536cf453c860bd0e94ff7ed39": {
          "model_module": "@jupyter-widgets/base",
          "model_name": "LayoutModel",
          "model_module_version": "1.2.0",
          "state": {
            "_model_module": "@jupyter-widgets/base",
            "_model_module_version": "1.2.0",
            "_model_name": "LayoutModel",
            "_view_count": null,
            "_view_module": "@jupyter-widgets/base",
            "_view_module_version": "1.2.0",
            "_view_name": "LayoutView",
            "align_content": null,
            "align_items": null,
            "align_self": null,
            "border": null,
            "bottom": null,
            "display": null,
            "flex": null,
            "flex_flow": null,
            "grid_area": null,
            "grid_auto_columns": null,
            "grid_auto_flow": null,
            "grid_auto_rows": null,
            "grid_column": null,
            "grid_gap": null,
            "grid_row": null,
            "grid_template_areas": null,
            "grid_template_columns": null,
            "grid_template_rows": null,
            "height": null,
            "justify_content": null,
            "justify_items": null,
            "left": null,
            "margin": null,
            "max_height": null,
            "max_width": null,
            "min_height": null,
            "min_width": null,
            "object_fit": null,
            "object_position": null,
            "order": null,
            "overflow": null,
            "overflow_x": null,
            "overflow_y": null,
            "padding": null,
            "right": null,
            "top": null,
            "visibility": null,
            "width": null
          }
        },
        "792f18e3464e4872988e896047a53920": {
          "model_module": "@jupyter-widgets/controls",
          "model_name": "DescriptionStyleModel",
          "model_module_version": "1.5.0",
          "state": {
            "_model_module": "@jupyter-widgets/controls",
            "_model_module_version": "1.5.0",
            "_model_name": "DescriptionStyleModel",
            "_view_count": null,
            "_view_module": "@jupyter-widgets/base",
            "_view_module_version": "1.2.0",
            "_view_name": "StyleView",
            "description_width": ""
          }
        },
        "0d503a6cf348451d8b3c154078599776": {
          "model_module": "@jupyter-widgets/base",
          "model_name": "LayoutModel",
          "model_module_version": "1.2.0",
          "state": {
            "_model_module": "@jupyter-widgets/base",
            "_model_module_version": "1.2.0",
            "_model_name": "LayoutModel",
            "_view_count": null,
            "_view_module": "@jupyter-widgets/base",
            "_view_module_version": "1.2.0",
            "_view_name": "LayoutView",
            "align_content": null,
            "align_items": null,
            "align_self": null,
            "border": null,
            "bottom": null,
            "display": null,
            "flex": null,
            "flex_flow": null,
            "grid_area": null,
            "grid_auto_columns": null,
            "grid_auto_flow": null,
            "grid_auto_rows": null,
            "grid_column": null,
            "grid_gap": null,
            "grid_row": null,
            "grid_template_areas": null,
            "grid_template_columns": null,
            "grid_template_rows": null,
            "height": null,
            "justify_content": null,
            "justify_items": null,
            "left": null,
            "margin": null,
            "max_height": null,
            "max_width": null,
            "min_height": null,
            "min_width": null,
            "object_fit": null,
            "object_position": null,
            "order": null,
            "overflow": null,
            "overflow_x": null,
            "overflow_y": null,
            "padding": null,
            "right": null,
            "top": null,
            "visibility": null,
            "width": null
          }
        },
        "dd77e54e646b4895bee97aa2735aa6ed": {
          "model_module": "@jupyter-widgets/controls",
          "model_name": "DescriptionStyleModel",
          "model_module_version": "1.5.0",
          "state": {
            "_model_module": "@jupyter-widgets/controls",
            "_model_module_version": "1.5.0",
            "_model_name": "DescriptionStyleModel",
            "_view_count": null,
            "_view_module": "@jupyter-widgets/base",
            "_view_module_version": "1.2.0",
            "_view_name": "StyleView",
            "description_width": ""
          }
        },
        "ef4a293320ea4792a9a7ad764848f2d9": {
          "model_module": "@jupyter-widgets/base",
          "model_name": "LayoutModel",
          "model_module_version": "1.2.0",
          "state": {
            "_model_module": "@jupyter-widgets/base",
            "_model_module_version": "1.2.0",
            "_model_name": "LayoutModel",
            "_view_count": null,
            "_view_module": "@jupyter-widgets/base",
            "_view_module_version": "1.2.0",
            "_view_name": "LayoutView",
            "align_content": null,
            "align_items": null,
            "align_self": null,
            "border": null,
            "bottom": null,
            "display": null,
            "flex": null,
            "flex_flow": null,
            "grid_area": null,
            "grid_auto_columns": null,
            "grid_auto_flow": null,
            "grid_auto_rows": null,
            "grid_column": null,
            "grid_gap": null,
            "grid_row": null,
            "grid_template_areas": null,
            "grid_template_columns": null,
            "grid_template_rows": null,
            "height": null,
            "justify_content": null,
            "justify_items": null,
            "left": null,
            "margin": null,
            "max_height": null,
            "max_width": null,
            "min_height": null,
            "min_width": null,
            "object_fit": null,
            "object_position": null,
            "order": null,
            "overflow": null,
            "overflow_x": null,
            "overflow_y": null,
            "padding": null,
            "right": null,
            "top": null,
            "visibility": null,
            "width": null
          }
        },
        "4d2ab585ef2344c59b077b8b2c064458": {
          "model_module": "@jupyter-widgets/controls",
          "model_name": "DescriptionStyleModel",
          "model_module_version": "1.5.0",
          "state": {
            "_model_module": "@jupyter-widgets/controls",
            "_model_module_version": "1.5.0",
            "_model_name": "DescriptionStyleModel",
            "_view_count": null,
            "_view_module": "@jupyter-widgets/base",
            "_view_module_version": "1.2.0",
            "_view_name": "StyleView",
            "description_width": ""
          }
        },
        "bbbf78bad91e454fa82572320575232f": {
          "model_module": "@jupyter-widgets/base",
          "model_name": "LayoutModel",
          "model_module_version": "1.2.0",
          "state": {
            "_model_module": "@jupyter-widgets/base",
            "_model_module_version": "1.2.0",
            "_model_name": "LayoutModel",
            "_view_count": null,
            "_view_module": "@jupyter-widgets/base",
            "_view_module_version": "1.2.0",
            "_view_name": "LayoutView",
            "align_content": null,
            "align_items": null,
            "align_self": null,
            "border": null,
            "bottom": null,
            "display": null,
            "flex": null,
            "flex_flow": null,
            "grid_area": null,
            "grid_auto_columns": null,
            "grid_auto_flow": null,
            "grid_auto_rows": null,
            "grid_column": null,
            "grid_gap": null,
            "grid_row": null,
            "grid_template_areas": null,
            "grid_template_columns": null,
            "grid_template_rows": null,
            "height": null,
            "justify_content": null,
            "justify_items": null,
            "left": null,
            "margin": null,
            "max_height": null,
            "max_width": null,
            "min_height": null,
            "min_width": null,
            "object_fit": null,
            "object_position": null,
            "order": null,
            "overflow": null,
            "overflow_x": null,
            "overflow_y": null,
            "padding": null,
            "right": null,
            "top": null,
            "visibility": null,
            "width": null
          }
        },
        "1f772d4556d645ee9e52fde011ed422e": {
          "model_module": "@jupyter-widgets/controls",
          "model_name": "ButtonStyleModel",
          "model_module_version": "1.5.0",
          "state": {
            "_model_module": "@jupyter-widgets/controls",
            "_model_module_version": "1.5.0",
            "_model_name": "ButtonStyleModel",
            "_view_count": null,
            "_view_module": "@jupyter-widgets/base",
            "_view_module_version": "1.2.0",
            "_view_name": "StyleView",
            "button_color": null,
            "font_weight": ""
          }
        },
        "cb958d8913a6458b88e31f9b0146d314": {
          "model_module": "@jupyter-widgets/base",
          "model_name": "LayoutModel",
          "model_module_version": "1.2.0",
          "state": {
            "_model_module": "@jupyter-widgets/base",
            "_model_module_version": "1.2.0",
            "_model_name": "LayoutModel",
            "_view_count": null,
            "_view_module": "@jupyter-widgets/base",
            "_view_module_version": "1.2.0",
            "_view_name": "LayoutView",
            "align_content": null,
            "align_items": null,
            "align_self": null,
            "border": null,
            "bottom": null,
            "display": null,
            "flex": null,
            "flex_flow": null,
            "grid_area": null,
            "grid_auto_columns": null,
            "grid_auto_flow": null,
            "grid_auto_rows": null,
            "grid_column": null,
            "grid_gap": null,
            "grid_row": null,
            "grid_template_areas": null,
            "grid_template_columns": null,
            "grid_template_rows": null,
            "height": null,
            "justify_content": null,
            "justify_items": null,
            "left": null,
            "margin": null,
            "max_height": null,
            "max_width": null,
            "min_height": null,
            "min_width": null,
            "object_fit": null,
            "object_position": null,
            "order": null,
            "overflow": null,
            "overflow_x": null,
            "overflow_y": null,
            "padding": null,
            "right": null,
            "top": null,
            "visibility": null,
            "width": null
          }
        },
        "a738ab4498824709bf229b7bb02e73f5": {
          "model_module": "@jupyter-widgets/controls",
          "model_name": "DescriptionStyleModel",
          "model_module_version": "1.5.0",
          "state": {
            "_model_module": "@jupyter-widgets/controls",
            "_model_module_version": "1.5.0",
            "_model_name": "DescriptionStyleModel",
            "_view_count": null,
            "_view_module": "@jupyter-widgets/base",
            "_view_module_version": "1.2.0",
            "_view_name": "StyleView",
            "description_width": ""
          }
        },
        "8fa37598a39148a2b3870171cb1f3f31": {
          "model_module": "@jupyter-widgets/controls",
          "model_name": "LabelModel",
          "model_module_version": "1.5.0",
          "state": {
            "_dom_classes": [],
            "_model_module": "@jupyter-widgets/controls",
            "_model_module_version": "1.5.0",
            "_model_name": "LabelModel",
            "_view_count": null,
            "_view_module": "@jupyter-widgets/controls",
            "_view_module_version": "1.5.0",
            "_view_name": "LabelView",
            "description": "",
            "description_tooltip": null,
            "layout": "IPY_MODEL_09cd0a5dcacf436c903cc1d520549f70",
            "placeholder": "​",
            "style": "IPY_MODEL_17e30569a99c4d54a0527fb96dfd4460",
            "value": "Connecting..."
          }
        },
        "09cd0a5dcacf436c903cc1d520549f70": {
          "model_module": "@jupyter-widgets/base",
          "model_name": "LayoutModel",
          "model_module_version": "1.2.0",
          "state": {
            "_model_module": "@jupyter-widgets/base",
            "_model_module_version": "1.2.0",
            "_model_name": "LayoutModel",
            "_view_count": null,
            "_view_module": "@jupyter-widgets/base",
            "_view_module_version": "1.2.0",
            "_view_name": "LayoutView",
            "align_content": null,
            "align_items": null,
            "align_self": null,
            "border": null,
            "bottom": null,
            "display": null,
            "flex": null,
            "flex_flow": null,
            "grid_area": null,
            "grid_auto_columns": null,
            "grid_auto_flow": null,
            "grid_auto_rows": null,
            "grid_column": null,
            "grid_gap": null,
            "grid_row": null,
            "grid_template_areas": null,
            "grid_template_columns": null,
            "grid_template_rows": null,
            "height": null,
            "justify_content": null,
            "justify_items": null,
            "left": null,
            "margin": null,
            "max_height": null,
            "max_width": null,
            "min_height": null,
            "min_width": null,
            "object_fit": null,
            "object_position": null,
            "order": null,
            "overflow": null,
            "overflow_x": null,
            "overflow_y": null,
            "padding": null,
            "right": null,
            "top": null,
            "visibility": null,
            "width": null
          }
        },
        "17e30569a99c4d54a0527fb96dfd4460": {
          "model_module": "@jupyter-widgets/controls",
          "model_name": "DescriptionStyleModel",
          "model_module_version": "1.5.0",
          "state": {
            "_model_module": "@jupyter-widgets/controls",
            "_model_module_version": "1.5.0",
            "_model_name": "DescriptionStyleModel",
            "_view_count": null,
            "_view_module": "@jupyter-widgets/base",
            "_view_module_version": "1.2.0",
            "_view_name": "StyleView",
            "description_width": ""
          }
        }
      }
    }
  },
  "cells": [
    {
      "cell_type": "markdown",
      "metadata": {
        "id": "view-in-github",
        "colab_type": "text"
      },
      "source": [
        "<a href=\"https://colab.research.google.com/github/gmedrano/AIE4/blob/main/%5Bworking_file%5D_Inference_Optimization_Through_Quantization_Strategies_Assignment.ipynb\" target=\"_parent\"><img src=\"https://colab.research.google.com/assets/colab-badge.svg\" alt=\"Open In Colab\"/></a>"
      ]
    },
    {
      "cell_type": "markdown",
      "source": [
        "# Inference Optimization Through Quantization Strategies\n",
        "\n",
        "We'll take a look at how effective post-training quantization strategies can be when it comes to decreasing inference latency.\n",
        "\n"
      ],
      "metadata": {
        "id": "HxN9nJHz_OcP"
      }
    },
    {
      "cell_type": "code",
      "execution_count": 1,
      "metadata": {
        "colab": {
          "base_uri": "https://localhost:8080/"
        },
        "id": "hkDQxjvdt2Fk",
        "outputId": "8dd2c983-b8b1-4e14-8fd2-fd97ae407c5e"
      },
      "outputs": [
        {
          "output_type": "stream",
          "name": "stdout",
          "text": [
            "\u001b[2K     \u001b[90m━━━━━━━━━━━━━━━━━━━━━━━━━━━━━━━━━━━━━━━━\u001b[0m \u001b[32m44.1/44.1 kB\u001b[0m \u001b[31m1.6 MB/s\u001b[0m eta \u001b[36m0:00:00\u001b[0m\n",
            "\u001b[2K   \u001b[90m━━━━━━━━━━━━━━━━━━━━━━━━━━━━━━━━━━━━━━━━\u001b[0m \u001b[32m797.1/797.1 MB\u001b[0m \u001b[31m1.3 MB/s\u001b[0m eta \u001b[36m0:00:00\u001b[0m\n",
            "\u001b[2K   \u001b[90m━━━━━━━━━━━━━━━━━━━━━━━━━━━━━━━━━━━━━━━━\u001b[0m \u001b[32m410.6/410.6 MB\u001b[0m \u001b[31m2.0 MB/s\u001b[0m eta \u001b[36m0:00:00\u001b[0m\n",
            "\u001b[2K   \u001b[90m━━━━━━━━━━━━━━━━━━━━━━━━━━━━━━━━━━━━━━━━\u001b[0m \u001b[32m14.1/14.1 MB\u001b[0m \u001b[31m101.1 MB/s\u001b[0m eta \u001b[36m0:00:00\u001b[0m\n",
            "\u001b[2K   \u001b[90m━━━━━━━━━━━━━━━━━━━━━━━━━━━━━━━━━━━━━━━━\u001b[0m \u001b[32m23.7/23.7 MB\u001b[0m \u001b[31m85.1 MB/s\u001b[0m eta \u001b[36m0:00:00\u001b[0m\n",
            "\u001b[2K   \u001b[90m━━━━━━━━━━━━━━━━━━━━━━━━━━━━━━━━━━━━━━━━\u001b[0m \u001b[32m823.6/823.6 kB\u001b[0m \u001b[31m48.1 MB/s\u001b[0m eta \u001b[36m0:00:00\u001b[0m\n",
            "\u001b[2K   \u001b[90m━━━━━━━━━━━━━━━━━━━━━━━━━━━━━━━━━━━━━━━━\u001b[0m \u001b[32m664.8/664.8 MB\u001b[0m \u001b[31m1.2 MB/s\u001b[0m eta \u001b[36m0:00:00\u001b[0m\n",
            "\u001b[2K   \u001b[90m━━━━━━━━━━━━━━━━━━━━━━━━━━━━━━━━━━━━━━━━\u001b[0m \u001b[32m121.6/121.6 MB\u001b[0m \u001b[31m14.9 MB/s\u001b[0m eta \u001b[36m0:00:00\u001b[0m\n",
            "\u001b[2K   \u001b[90m━━━━━━━━━━━━━━━━━━━━━━━━━━━━━━━━━━━━━━━━\u001b[0m \u001b[32m56.5/56.5 MB\u001b[0m \u001b[31m30.4 MB/s\u001b[0m eta \u001b[36m0:00:00\u001b[0m\n",
            "\u001b[2K   \u001b[90m━━━━━━━━━━━━━━━━━━━━━━━━━━━━━━━━━━━━━━━━\u001b[0m \u001b[32m124.2/124.2 MB\u001b[0m \u001b[31m10.7 MB/s\u001b[0m eta \u001b[36m0:00:00\u001b[0m\n",
            "\u001b[2K   \u001b[90m━━━━━━━━━━━━━━━━━━━━━━━━━━━━━━━━━━━━━━━━\u001b[0m \u001b[32m196.0/196.0 MB\u001b[0m \u001b[31m3.5 MB/s\u001b[0m eta \u001b[36m0:00:00\u001b[0m\n",
            "\u001b[2K   \u001b[90m━━━━━━━━━━━━━━━━━━━━━━━━━━━━━━━━━━━━━━━━\u001b[0m \u001b[32m176.2/176.2 MB\u001b[0m \u001b[31m11.2 MB/s\u001b[0m eta \u001b[36m0:00:00\u001b[0m\n",
            "\u001b[2K   \u001b[90m━━━━━━━━━━━━━━━━━━━━━━━━━━━━━━━━━━━━━━━━\u001b[0m \u001b[32m99.1/99.1 kB\u001b[0m \u001b[31m9.5 MB/s\u001b[0m eta \u001b[36m0:00:00\u001b[0m\n",
            "\u001b[2K   \u001b[90m━━━━━━━━━━━━━━━━━━━━━━━━━━━━━━━━━━━━━━━━\u001b[0m \u001b[32m209.4/209.4 MB\u001b[0m \u001b[31m10.1 MB/s\u001b[0m eta \u001b[36m0:00:00\u001b[0m\n",
            "\u001b[2K   \u001b[90m━━━━━━━━━━━━━━━━━━━━━━━━━━━━━━━━━━━━━━━━\u001b[0m \u001b[32m10.0/10.0 MB\u001b[0m \u001b[31m111.7 MB/s\u001b[0m eta \u001b[36m0:00:00\u001b[0m\n",
            "\u001b[2K   \u001b[90m━━━━━━━━━━━━━━━━━━━━━━━━━━━━━━━━━━━━━━━━\u001b[0m \u001b[32m84.3/84.3 kB\u001b[0m \u001b[31m7.4 MB/s\u001b[0m eta \u001b[36m0:00:00\u001b[0m\n",
            "\u001b[2K   \u001b[90m━━━━━━━━━━━━━━━━━━━━━━━━━━━━━━━━━━━━━━━━\u001b[0m \u001b[32m330.9/330.9 kB\u001b[0m \u001b[31m28.7 MB/s\u001b[0m eta \u001b[36m0:00:00\u001b[0m\n",
            "\u001b[2K   \u001b[90m━━━━━━━━━━━━━━━━━━━━━━━━━━━━━━━━━━━━━━━━\u001b[0m \u001b[32m386.9/386.9 kB\u001b[0m \u001b[31m29.2 MB/s\u001b[0m eta \u001b[36m0:00:00\u001b[0m\n",
            "\u001b[2K   \u001b[90m━━━━━━━━━━━━━━━━━━━━━━━━━━━━━━━━━━━━━━━━\u001b[0m \u001b[32m447.4/447.4 kB\u001b[0m \u001b[31m33.1 MB/s\u001b[0m eta \u001b[36m0:00:00\u001b[0m\n",
            "\u001b[2K   \u001b[90m━━━━━━━━━━━━━━━━━━━━━━━━━━━━━━━━━━━━━━━━\u001b[0m \u001b[32m320.7/320.7 kB\u001b[0m \u001b[31m23.3 MB/s\u001b[0m eta \u001b[36m0:00:00\u001b[0m\n",
            "\u001b[2K   \u001b[90m━━━━━━━━━━━━━━━━━━━━━━━━━━━━━━━━━━━━━━━━\u001b[0m \u001b[32m76.4/76.4 kB\u001b[0m \u001b[31m6.7 MB/s\u001b[0m eta \u001b[36m0:00:00\u001b[0m\n",
            "\u001b[2K   \u001b[90m━━━━━━━━━━━━━━━━━━━━━━━━━━━━━━━━━━━━━━━━\u001b[0m \u001b[32m78.0/78.0 kB\u001b[0m \u001b[31m7.6 MB/s\u001b[0m eta \u001b[36m0:00:00\u001b[0m\n",
            "\u001b[2K   \u001b[90m━━━━━━━━━━━━━━━━━━━━━━━━━━━━━━━━━━━━━━━━\u001b[0m \u001b[32m325.2/325.2 kB\u001b[0m \u001b[31m25.6 MB/s\u001b[0m eta \u001b[36m0:00:00\u001b[0m\n",
            "\u001b[2K   \u001b[90m━━━━━━━━━━━━━━━━━━━━━━━━━━━━━━━━━━━━━━━━\u001b[0m \u001b[32m3.0/3.0 MB\u001b[0m \u001b[31m96.3 MB/s\u001b[0m eta \u001b[36m0:00:00\u001b[0m\n",
            "\u001b[2K   \u001b[90m━━━━━━━━━━━━━━━━━━━━━━━━━━━━━━━━━━━━━━━━\u001b[0m \u001b[32m37.3/37.3 MB\u001b[0m \u001b[31m53.7 MB/s\u001b[0m eta \u001b[36m0:00:00\u001b[0m\n",
            "\u001b[2K   \u001b[90m━━━━━━━━━━━━━━━━━━━━━━━━━━━━━━━━━━━━━━━━\u001b[0m \u001b[32m472.7/472.7 kB\u001b[0m \u001b[31m40.5 MB/s\u001b[0m eta \u001b[36m0:00:00\u001b[0m\n",
            "\u001b[2K   \u001b[90m━━━━━━━━━━━━━━━━━━━━━━━━━━━━━━━━━━━━━━━━\u001b[0m \u001b[32m5.4/5.4 MB\u001b[0m \u001b[31m110.8 MB/s\u001b[0m eta \u001b[36m0:00:00\u001b[0m\n",
            "\u001b[2K   \u001b[90m━━━━━━━━━━━━━━━━━━━━━━━━━━━━━━━━━━━━━━━━\u001b[0m \u001b[32m116.3/116.3 kB\u001b[0m \u001b[31m12.6 MB/s\u001b[0m eta \u001b[36m0:00:00\u001b[0m\n",
            "\u001b[2K   \u001b[90m━━━━━━━━━━━━━━━━━━━━━━━━━━━━━━━━━━━━━━━━\u001b[0m \u001b[32m134.8/134.8 kB\u001b[0m \u001b[31m16.2 MB/s\u001b[0m eta \u001b[36m0:00:00\u001b[0m\n",
            "\u001b[2K   \u001b[90m━━━━━━━━━━━━━━━━━━━━━━━━━━━━━━━━━━━━━━━━\u001b[0m \u001b[32m194.1/194.1 kB\u001b[0m \u001b[31m20.1 MB/s\u001b[0m eta \u001b[36m0:00:00\u001b[0m\n",
            "\u001b[2K   \u001b[90m━━━━━━━━━━━━━━━━━━━━━━━━━━━━━━━━━━━━━━━━\u001b[0m \u001b[32m58.3/58.3 kB\u001b[0m \u001b[31m6.7 MB/s\u001b[0m eta \u001b[36m0:00:00\u001b[0m\n",
            "\u001b[?25h\u001b[31mERROR: pip's dependency resolver does not currently take into account all the packages that are installed. This behaviour is the source of the following dependency conflicts.\n",
            "torchaudio 2.5.0+cu121 requires torch==2.5.0, but you have torch 2.4.1 which is incompatible.\n",
            "torchvision 0.20.0+cu121 requires torch==2.5.0, but you have torch 2.4.1 which is incompatible.\u001b[0m\u001b[31m\n",
            "\u001b[0m"
          ]
        }
      ],
      "source": [
        "!pip install -qU transformers autoawq accelerate openai huggingface-hub peft torch==2.4.1"
      ]
    },
    {
      "cell_type": "code",
      "source": [
        "import os\n",
        "from getpass import getpass\n",
        "\n",
        "os.environ[\"HF_TOKEN\"] = getpass(\"HF_TOKEN\")"
      ],
      "metadata": {
        "colab": {
          "base_uri": "https://localhost:8080/"
        },
        "id": "Z8wI7X6212sZ",
        "outputId": "5c1a2890-ced2-4ce4-f235-80a12d89225a"
      },
      "execution_count": 2,
      "outputs": [
        {
          "name": "stdout",
          "output_type": "stream",
          "text": [
            "HF_TOKEN··········\n"
          ]
        }
      ]
    },
    {
      "cell_type": "code",
      "source": [
        "from huggingface_hub import notebook_login\n",
        "\n",
        "notebook_login()"
      ],
      "metadata": {
        "colab": {
          "base_uri": "https://localhost:8080/",
          "height": 71,
          "referenced_widgets": [
            "f9c74d597b3045dc9a1f071b5263c712",
            "8bd3f7b8e8494a73badede41569b2d8a",
            "f6edd557ab9844069dca5a4e974dd045",
            "f2b713fd225f4bf4bcd117b1a0e04adc",
            "1899a8d3b9964ae983f39034eb2be99b",
            "29c50dba80d2476183076836dadb9d60",
            "e141cb60efba41be9c253f8dd86e5cbc",
            "e71d0fb536cf453c860bd0e94ff7ed39",
            "792f18e3464e4872988e896047a53920",
            "0d503a6cf348451d8b3c154078599776",
            "dd77e54e646b4895bee97aa2735aa6ed",
            "ef4a293320ea4792a9a7ad764848f2d9",
            "4d2ab585ef2344c59b077b8b2c064458",
            "bbbf78bad91e454fa82572320575232f",
            "1f772d4556d645ee9e52fde011ed422e",
            "cb958d8913a6458b88e31f9b0146d314",
            "a738ab4498824709bf229b7bb02e73f5",
            "8fa37598a39148a2b3870171cb1f3f31",
            "09cd0a5dcacf436c903cc1d520549f70",
            "17e30569a99c4d54a0527fb96dfd4460"
          ]
        },
        "id": "04UryyDjJg6w",
        "outputId": "cb508433-e5c9-464a-e166-034c261c062e"
      },
      "execution_count": 3,
      "outputs": [
        {
          "output_type": "display_data",
          "data": {
            "text/plain": [
              "VBox(children=(HTML(value='<center> <img\\nsrc=https://huggingface.co/front/assets/huggingface_logo-noborder.sv…"
            ],
            "application/vnd.jupyter.widget-view+json": {
              "version_major": 2,
              "version_minor": 0,
              "model_id": "f9c74d597b3045dc9a1f071b5263c712"
            }
          },
          "metadata": {}
        },
        {
          "output_type": "stream",
          "name": "stderr",
          "text": [
            "Note: Environment variable`HF_TOKEN` is set and is the current active token independently from the token you've just configured.\n",
            "WARNING:huggingface_hub._login:Note: Environment variable`HF_TOKEN` is set and is the current active token independently from the token you've just configured.\n"
          ]
        }
      ]
    },
    {
      "cell_type": "markdown",
      "source": [
        "## Simple Benchmark: `BitsAndBytes` vs. GPTQ vs. AWQ\n",
        "\n",
        "We've learned, at this point, about BitsAndBytes and how much memory footprint we can save using Tim Dettmer's libraries. However, we've always had to include a small caveat:\n",
        "\n",
        "> BitsAndBytes does not improve inference performance, in fact, there is a small inference penalty for using it.\n",
        "\n",
        "Enter: GPTQ & AWQ!\n",
        "\n",
        "By taking advantage of a number of innovative techniques, GPTQ & AWQ are able to provide inference-time benefits *without* sacrificing as much accuracy/etc. as BitsAndBytes.\n",
        "\n",
        "There is one distinct *disadvantage* to GPTQ and AWQ, which is that they are post-training Quantization strategies - and so are not useful while fine-tuning/training models.\n",
        "\n",
        "Let's take a look at the inference-time benefits by comparing three Hugging Face Inference Endpoints, each running the model in GPTQ/AWQ/BNBs respectively, to see how they perform.\n",
        "\n"
      ],
      "metadata": {
        "id": "PENXQh6w_f8W"
      }
    },
    {
      "cell_type": "markdown",
      "source": [
        "> NOTE: The following cell will take a while to install - please move on to Activity #1 while you wait for the installation to complete."
      ],
      "metadata": {
        "id": "m0cD7-d-ZzkC"
      }
    },
    {
      "cell_type": "code",
      "source": [
        "!pip install -qU gptqmodel --no-build-isolation"
      ],
      "metadata": {
        "id": "v5blRCMbZxb-",
        "colab": {
          "base_uri": "https://localhost:8080/"
        },
        "outputId": "43daea2f-91a1-42d3-eec2-ae2acf0b872d"
      },
      "execution_count": 4,
      "outputs": [
        {
          "output_type": "stream",
          "name": "stdout",
          "text": [
            "\u001b[?25l     \u001b[90m━━━━━━━━━━━━━━━━━━━━━━━━━━━━━━━━━━━━━━━━\u001b[0m \u001b[32m0.0/167.6 kB\u001b[0m \u001b[31m?\u001b[0m eta \u001b[36m-:--:--\u001b[0m\r\u001b[2K     \u001b[91m━━━━━━━━━━━━━━━━━━━━━━━━━━━━━━━━━━━━━━━\u001b[0m\u001b[90m╺\u001b[0m \u001b[32m163.8/167.6 kB\u001b[0m \u001b[31m5.3 MB/s\u001b[0m eta \u001b[36m0:00:01\u001b[0m\r\u001b[2K     \u001b[90m━━━━━━━━━━━━━━━━━━━━━━━━━━━━━━━━━━━━━━━━\u001b[0m \u001b[32m167.6/167.6 kB\u001b[0m \u001b[31m4.0 MB/s\u001b[0m eta \u001b[36m0:00:00\u001b[0m\n",
            "\u001b[?25h  Preparing metadata (setup.py) ... \u001b[?25l\u001b[?25hdone\n",
            "  Building wheel for gptqmodel (setup.py) ... \u001b[?25l\u001b[?25hdone\n",
            "\u001b[33mWARNING: Error parsing dependencies of protobuf: [Errno 2] No such file or directory: '/usr/local/lib/python3.10/dist-packages/protobuf-3.20.3.dist-info/METADATA'\u001b[0m\u001b[33m\n",
            "\u001b[0m\u001b[33m    WARNING: No metadata found in /usr/local/lib/python3.10/dist-packages\u001b[0m\u001b[33m\n",
            "\u001b[0m\u001b[31mERROR: pip's dependency resolver does not currently take into account all the packages that are installed. This behaviour is the source of the following dependency conflicts.\n",
            "google-cloud-datastore 2.19.0 requires protobuf!=3.20.0,!=3.20.1,!=4.21.0,!=4.21.1,!=4.21.2,!=4.21.3,!=4.21.4,!=4.21.5,<5.0.0dev,>=3.19.5, but you have protobuf 5.28.3 which is incompatible.\n",
            "google-cloud-firestore 2.16.1 requires protobuf!=3.20.0,!=3.20.1,!=4.21.0,!=4.21.1,!=4.21.2,!=4.21.3,!=4.21.4,!=4.21.5,<5.0.0dev,>=3.19.5, but you have protobuf 5.28.3 which is incompatible.\n",
            "tensorboard 2.17.0 requires protobuf!=4.24.0,<5.0.0,>=3.19.6, but you have protobuf 5.28.3 which is incompatible.\n",
            "tensorflow 2.17.0 requires protobuf!=4.21.0,!=4.21.1,!=4.21.2,!=4.21.3,!=4.21.4,!=4.21.5,<5.0.0dev,>=3.20.3, but you have protobuf 5.28.3 which is incompatible.\n",
            "tensorflow-metadata 1.16.1 requires protobuf<4.21,>=3.20.3; python_version < \"3.11\", but you have protobuf 5.28.3 which is incompatible.\u001b[0m\u001b[31m\n",
            "\u001b[0m"
          ]
        }
      ]
    },
    {
      "cell_type": "markdown",
      "source": [
        "#### 🏗️ Activity #1:\n",
        "\n",
        "You must spin up a total of 3 inference endpoints:\n",
        "\n",
        "1. Regular [`meta-llama/Llama-3.1-8B-Instruct`](https://huggingface.co/meta-llama/Llama-3.1-8B-Instruct) (or NousResearch variant if you don't have access to Meta's weights)\n",
        "2. [Hugging Quants\n",
        "Meta-Llama-3.1-8B-Instruct-GPTQ-INT4](https://huggingface.co/hugging-quants/Meta-Llama-3.1-8B-Instruct-GPTQ-INT4) weights.\n",
        "3. [Hugging Quants\n",
        "Meta-Llama-3.1-8B-Instruct-AWQ-INT4](https://huggingface.co/hugging-quants/Meta-Llama-3.1-8B-Instruct-AWQ-INT4) weights.\n",
        "\n",
        "> NOTE: You can spin these up all at once, or serially, depending on your preference."
      ],
      "metadata": {
        "id": "rGEpw1lrRny8"
      }
    },
    {
      "cell_type": "markdown",
      "source": [
        "### Big Wall of Test Strings\n",
        "\n",
        "~100 test strings to do some generations with."
      ],
      "metadata": {
        "id": "QcEPXuGk67q_"
      }
    },
    {
      "cell_type": "markdown",
      "source": [
        "#### Wall of Strings"
      ],
      "metadata": {
        "id": "njT94cGl7THo"
      }
    },
    {
      "cell_type": "code",
      "source": [
        "test_sentences = [\n",
        "    \"The quick brown fox jumps over the lazy dog.\",\n",
        "    \"I can't believe I ate the whole thing.\",\n",
        "    \"To be or not to be, that is the question.\",\n",
        "    \"All you need is love.\",\n",
        "    \"Houston, we have a problem.\",\n",
        "    \"Elementary, my dear Watson.\",\n",
        "    \"Life is like a box of chocolates.\",\n",
        "    \"May the Force be with you.\",\n",
        "    \"E.T. phone home.\",\n",
        "    \"There's no place like home.\",\n",
        "    \"I'll be back.\",\n",
        "    \"Here's looking at you, kid.\",\n",
        "    \"You talkin' to me?\",\n",
        "    \"I'm going to make him an offer he can't refuse.\",\n",
        "    \"You can't handle the truth!\",\n",
        "    \"I see dead people.\",\n",
        "    \"Say hello to my little friend!\",\n",
        "    \"You had me at hello.\",\n",
        "    \"I'm the king of the world!\",\n",
        "    \"I'll have what she's having.\",\n",
        "    \"Keep your friends close, but your enemies closer.\",\n",
        "    \"I feel the need... the need for speed!\",\n",
        "    \"You're gonna need a bigger boat.\",\n",
        "    \"Nobody puts Baby in a corner.\",\n",
        "    \"I'm walking here! I'm walking here!\",\n",
        "    \"You complete me.\",\n",
        "    \"I drink your milkshake!\",\n",
        "    \"Why so serious?\",\n",
        "    \"I'm not bad. I'm just drawn that way.\",\n",
        "    \"You can't sit with us!\",\n",
        "    \"I volunteer as tribute!\",\n",
        "    \"Winter is coming.\",\n",
        "    \"I solemnly swear that I am up to no good.\",\n",
        "    \"Live long and prosper.\",\n",
        "    \"I'm the one who knocks.\",\n",
        "    \"You know nothing, Jon Snow.\",\n",
        "    \"I am Groot.\",\n",
        "    \"Not all those who wander are lost.\",\n",
        "    \"The night is dark and full of terrors.\",\n",
        "    \"A Lannister always pays his debts.\",\n",
        "    \"Bazinga!\",\n",
        "    \"How you doin'?\",\n",
        "    \"Wubba lubba dub dub!\",\n",
        "    \"I am the danger.\",\n",
        "    \"Clear eyes, full hearts, can't lose.\",\n",
        "    \"Doh!\",\n",
        "    \"Yada, yada, yada.\",\n",
        "    \"How you doin'?\",\n",
        "    \"Suit up!\",\n",
        "    \"That's what she said.\",\n",
        "    \"Pivot! Pivot! Pivot!\",\n",
        "    \"I'm not a regular mom, I'm a cool mom.\",\n",
        "    \"You're killing me, Smalls!\",\n",
        "    \"I am serious. And don't call me Shirley.\",\n",
        "    \"I love the smell of napalm in the morning.\",\n",
        "    \"I'm not arguing, I'm just explaining why I'm right.\",\n",
        "    \"I'm not bossy, I just have better ideas.\",\n",
        "    \"I'm not saying it was aliens, but it was aliens.\",\n",
        "    \"I'm not saying I'm Batman, I'm just saying no one has ever seen me and Batman in the same room together.\",\n",
        "    \"I'm not saying I'm Wonder Woman, I'm just saying no one has ever seen me and Wonder Woman in the same room together.\",\n",
        "    \"I'm not saying I'm Superman, I'm just saying no one has ever seen me and Superman in the same room together.\",\n",
        "    \"I'm not saying I'm Spider-Man, I'm just saying no one has ever seen me and Spider-Man in the same room together.\",\n",
        "    \"I'm not saying I'm Iron Man, I'm just saying no one has ever seen me and Iron Man in the same room together.\",\n",
        "    \"I'm not saying I'm Captain America, I'm just saying no one has ever seen me and Captain America in the same room together.\",\n",
        "    \"I'm not saying I'm Thor, I'm just saying no one has ever seen me and Thor in the same room together.\",\n",
        "    \"I'm not saying I'm the Hulk, I'm just saying no one has ever seen me and the Hulk in the same room together.\",\n",
        "    \"I'm not saying I'm Black Widow, I'm just saying no one has ever seen me and Black Widow in the same room together.\",\n",
        "    \"I'm not saying I'm Hawkeye, I'm just saying no one has ever seen me and Hawkeye in the same room together.\",\n",
        "    \"The cake is a lie.\",\n",
        "    \"All your base are belong to us.\",\n",
        "    \"It's dangerous to go alone! Take this.\",\n",
        "    \"Do a barrel roll!\",\n",
        "    \"The princess is in another castle.\",\n",
        "    \"You have died of dysentery.\",\n",
        "    \"Snake? Snake? Snaaaake!\",\n",
        "    \"War. War never changes.\",\n",
        "    \"Would you kindly?\",\n",
        "    \"Finish him!\",\n",
        "    \"Get over here!\",\n",
        "    \"Hadouken!\",\n",
        "    \"Fatality!\",\n",
        "    \"Leeeeeeeroy Jenkins!\",\n",
        "    \"Stay a while and listen!\",\n",
        "    \"You must construct additional pylons.\",\n",
        "    \"It's super effective!\",\n",
        "    \"A wild Pikachu appeared!\",\n",
        "    \"Gotta catch 'em all!\",\n",
        "    \"Do, or do not. There is no try.\",\n",
        "    \"These aren't the droids you're looking for.\",\n",
        "    \"I find your lack of faith disturbing.\",\n",
        "    \"Never tell me the odds.\",\n",
        "    \"I've got a bad feeling about this.\",\n",
        "    \"Use the Force, Luke.\",\n",
        "    \"The needs of the many outweigh the needs of the few.\",\n",
        "    \"Beam me up, Scotty.\",\n",
        "    \"Resistance is futile.\",\n",
        "    \"Make it so.\",\n",
        "    \"Space: the final frontier.\",\n",
        "    \"I'm a doctor, not a bricklayer!\",\n",
        "    \"Fascinating.\",\n",
        "    \"Engage.\",\n",
        "    \"Today is a good day to die!\",\n",
        "    \"These are the voyages of the starship Enterprise.\"\n",
        "]"
      ],
      "metadata": {
        "id": "akpU9F0h2_fg"
      },
      "execution_count": 5,
      "outputs": []
    },
    {
      "cell_type": "markdown",
      "source": [
        "### Inference Test Helper Function\n",
        "\n",
        "We'll create a function that tests a few key inference related metrics:\n",
        "\n",
        "1. Time to First Token (TTFT): How long does it take before our endpoint starts returning tokens, TTFT is key in creating applications that *feel* responsive due to responses from LLMs typically being streamed to users as tokens are generated.\n",
        "2. Inter-Token Latency (ITL): Inter-Token Latency talks about the amount of time between tokens being generated. Lower ITL helps the response come through fast enough to keep up with typical reading speeds.\n",
        "3. Tokens Per Second (TPS): A classic metric that simply indicates how many Tokens are produced per second.\n",
        "\n",
        "Let's create this function below - and then use it evaluate our AWQ endpoint and our BNB endpoint."
      ],
      "metadata": {
        "id": "vSUim2Y07Vwf"
      }
    },
    {
      "cell_type": "code",
      "source": [
        "import os\n",
        "import time\n",
        "from openai import OpenAI\n",
        "from typing import List, Dict\n",
        "from tqdm import tqdm\n",
        "\n",
        "def measure_endpoint_performance(endpoint_url: str, sentences: List[str]) -> Dict[str, float]:\n",
        "    client = OpenAI(\n",
        "        base_url=endpoint_url,\n",
        "        api_key=os.environ[\"HF_TOKEN\"]\n",
        "    )\n",
        "\n",
        "    total_time = 0\n",
        "    total_first_token_time = 0\n",
        "    total_tokens = 0\n",
        "    total_inter_token_time = 0\n",
        "    total_inter_token_intervals = 0\n",
        "\n",
        "    for sentence in tqdm(sentences):\n",
        "        start_time = time.time()\n",
        "        first_token_received = False\n",
        "        tokens_received = 0\n",
        "        last_token_time = start_time\n",
        "\n",
        "        chat_completion = client.chat.completions.create(\n",
        "            model=\"tgi\",\n",
        "            messages=[\n",
        "                {\n",
        "                    \"role\": \"user\",\n",
        "                    \"content\": sentence\n",
        "                }\n",
        "            ],\n",
        "            stream=True,\n",
        "            max_tokens=20\n",
        "        )\n",
        "\n",
        "        for message in chat_completion:\n",
        "            current_time = time.time()\n",
        "            if not first_token_received:\n",
        "                first_token_time = current_time - start_time\n",
        "                total_first_token_time += first_token_time\n",
        "                first_token_received = True\n",
        "            else:\n",
        "                inter_token_time = current_time - last_token_time\n",
        "                total_inter_token_time += inter_token_time\n",
        "                total_inter_token_intervals += 1\n",
        "\n",
        "            content = message.choices[0].delta.content\n",
        "            if content:\n",
        "                tokens_received += 1\n",
        "                last_token_time = current_time\n",
        "\n",
        "        request_time = time.time() - start_time\n",
        "        total_time += request_time\n",
        "        total_tokens += tokens_received\n",
        "\n",
        "    num_sentences = len(sentences)\n",
        "    average_time = total_time / num_sentences\n",
        "    average_first_token_time = total_first_token_time / num_sentences\n",
        "    average_tokens_per_second = total_tokens / total_time\n",
        "    average_inter_token_latency = total_inter_token_time / total_inter_token_intervals if total_inter_token_intervals > 0 else 0\n",
        "\n",
        "    return {\n",
        "        \"average_request_time\": average_time,\n",
        "        \"average_time_to_first_token\": average_first_token_time,\n",
        "        \"average_tokens_per_second\": average_tokens_per_second,\n",
        "        \"average_inter_token_latency\": average_inter_token_latency\n",
        "    }"
      ],
      "metadata": {
        "id": "CD4zAChU2F_F"
      },
      "execution_count": 6,
      "outputs": []
    },
    {
      "cell_type": "markdown",
      "source": [
        "### Bits and Bytes Endpoint Evaluation\n",
        "\n",
        "First, let's baseline with [Llama 3.1 8B Instruct](https://huggingface.co/meta-llama/Llama-3.1-8B-Instruct) powered by BitsAndBytes quantization through TGI."
      ],
      "metadata": {
        "id": "qttmH8vr9F0T"
      }
    },
    {
      "cell_type": "code",
      "source": [
        "bitsandbytes_endpoint_url = \"https://qf1v0qj8261iceib.us-east-1.aws.endpoints.huggingface.cloud\" + \"/v1/\""
      ],
      "metadata": {
        "id": "YKUS--G23kW2"
      },
      "execution_count": 7,
      "outputs": []
    },
    {
      "cell_type": "code",
      "source": [
        "results = measure_endpoint_performance(bitsandbytes_endpoint_url, test_sentences)\n",
        "print(\"\\nResults:\")\n",
        "for key, value in results.items():\n",
        "    print(f\"{key}: {value:.2f}\")"
      ],
      "metadata": {
        "colab": {
          "base_uri": "https://localhost:8080/"
        },
        "id": "I9lON9dR3sF8",
        "outputId": "be513c73-f15b-4793-e9ce-da33f0451cca"
      },
      "execution_count": 8,
      "outputs": [
        {
          "output_type": "stream",
          "name": "stderr",
          "text": [
            "100%|██████████| 103/103 [02:06<00:00,  1.22s/it]"
          ]
        },
        {
          "output_type": "stream",
          "name": "stdout",
          "text": [
            "\n",
            "Results:\n",
            "average_request_time: 1.22\n",
            "average_time_to_first_token: 0.13\n",
            "average_tokens_per_second: 15.53\n",
            "average_inter_token_latency: 0.06\n"
          ]
        },
        {
          "output_type": "stream",
          "name": "stderr",
          "text": [
            "\n"
          ]
        }
      ]
    },
    {
      "cell_type": "markdown",
      "source": [
        "### GPTQ Evaluation\n",
        "\n",
        "We'll be using the [Hugging Quants\n",
        "Meta-Llama-3.1-8B-Instruct-GPTQ-INT4](https://huggingface.co/hugging-quants/Meta-Llama-3.1-8B-Instruct-GPTQ-INT4) model as our GPTQ test model.\n",
        "\n",
        "Given what we've learned about GPTQ - this endpoint should outperform our naive BitsAndBytes quantized endpoint."
      ],
      "metadata": {
        "id": "nud8k2bcAv_-"
      }
    },
    {
      "cell_type": "markdown",
      "source": [
        "#### GPTQ: Under the Hood\n",
        "\n",
        "The basic outline of what's happening in GPTQ is as follows:\n",
        "\n",
        "1. Start with a pre-trained language model\n",
        "2. For each layer:\n",
        "  - Compute an approximation of the layer's Hessian matrix\n",
        "  - Quantize weights column-by-column\n",
        "  - After each column, update remaining weights to compensate\n",
        "3. Use special tricks to make this efficient:\n",
        "  - Quantize in fixed order instead of greedy order\n",
        "  - Process weights in batches\n",
        "  - Use Cholesky decomposition for numerical stability\n",
        "4. Result: Compressed model that can run much faster\n",
        "\n",
        "#### Hessian Matrix:\n",
        "\n",
        "Okay, so that makes sense - but there's a question: What is the layer's \"Hessian matrix\"?\n",
        "\n",
        "In essence, we can think of the layer's \"Hessian Matrix\" as a map of how sensitive a layer's output is to changes in its weights. This gives us a matrix that corresponds to how much the output will change based on changes to each weight.\n",
        "\n",
        "The process described in GPTQ uses a fast approximation to get the Hessian Matrix and then uses that to determine how to compress (or quantize) the model's weights such that they don't mess up the model's outputs.\n",
        "\n",
        "So where a process like AWQ uses the activations to determine how each parameter (weight) impacts the outputs - GPTQ uses each layer's Hessian Matrix.\n",
        "\n"
      ],
      "metadata": {
        "id": "1bGxli4iRBlC"
      }
    },
    {
      "cell_type": "code",
      "source": [
        "gptq_endpoint_url = \"https://ag3jnsrcwml0j9jq.us-east-1.aws.endpoints.huggingface.cloud\" + \"/v1/\""
      ],
      "metadata": {
        "id": "qKkCXIoSBeUU"
      },
      "execution_count": 9,
      "outputs": []
    },
    {
      "cell_type": "code",
      "source": [
        "results = measure_endpoint_performance(gptq_endpoint_url, test_sentences)\n",
        "print(\"\\nResults:\")\n",
        "for key, value in results.items():\n",
        "    print(f\"{key}: {value:.2f}\")"
      ],
      "metadata": {
        "colab": {
          "base_uri": "https://localhost:8080/"
        },
        "id": "BVx1yus4BkTc",
        "outputId": "246b4a0a-ea44-444a-af0f-ba9d39909d3b"
      },
      "execution_count": 10,
      "outputs": [
        {
          "output_type": "stream",
          "name": "stderr",
          "text": [
            "100%|██████████| 103/103 [00:50<00:00,  2.05it/s]"
          ]
        },
        {
          "output_type": "stream",
          "name": "stdout",
          "text": [
            "\n",
            "Results:\n",
            "average_request_time: 0.49\n",
            "average_time_to_first_token: 0.10\n",
            "average_tokens_per_second: 39.32\n",
            "average_inter_token_latency: 0.02\n"
          ]
        },
        {
          "output_type": "stream",
          "name": "stderr",
          "text": [
            "\n"
          ]
        }
      ]
    },
    {
      "cell_type": "markdown",
      "source": [
        "### AWQ Evaluation\n",
        "\n",
        "We'll be using the [Hugging Quants\n",
        "Meta-Llama-3.1-8B-Instruct-AWQ-INT4](https://huggingface.co/hugging-quants/Meta-Llama-3.1-8B-Instruct-AWQ-INT4) as our AWQ test model.\n",
        "\n",
        "Given what we've learned about AWQ - this endpoint should outperform our naive BitsAndBytes quantized endpoint - let's test it out!"
      ],
      "metadata": {
        "id": "ISgV4L8H9mk4"
      }
    },
    {
      "cell_type": "markdown",
      "source": [
        "#### AWQ: Under the Hood\n",
        "\n",
        "There is a key set of assumptions that AWQ is working off of:\n",
        "\n",
        "1. Some weights are more important than other weights.\n",
        "2. That proportion of important weights is extremely small (~=1%)\n",
        "3. We are working with hardware optimzed for specific kinds of computations\n",
        "4. Moving things around in GPU memory is slow and inefficient for most use-cases"
      ],
      "metadata": {
        "id": "8dwrhnKhQ9jR"
      }
    },
    {
      "cell_type": "code",
      "source": [
        "awq_endpoint_url = \"https://vew4hpsaf01rwp1a.us-east-1.aws.endpoints.huggingface.cloud\" + \"/v1/\""
      ],
      "metadata": {
        "id": "rJxFOgan20rL"
      },
      "execution_count": 11,
      "outputs": []
    },
    {
      "cell_type": "code",
      "source": [
        "results = measure_endpoint_performance(awq_endpoint_url, test_sentences)\n",
        "print(\"\\nResults:\")\n",
        "for key, value in results.items():\n",
        "    print(f\"{key}: {value:.2f}\")"
      ],
      "metadata": {
        "colab": {
          "base_uri": "https://localhost:8080/"
        },
        "id": "v2Ck10K53Eo8",
        "outputId": "ee885e0b-535e-4a8d-f284-9d77c68ea61c"
      },
      "execution_count": 12,
      "outputs": [
        {
          "output_type": "stream",
          "name": "stderr",
          "text": [
            "100%|██████████| 103/103 [00:49<00:00,  2.07it/s]"
          ]
        },
        {
          "output_type": "stream",
          "name": "stdout",
          "text": [
            "\n",
            "Results:\n",
            "average_request_time: 0.48\n",
            "average_time_to_first_token: 0.10\n",
            "average_tokens_per_second: 40.11\n",
            "average_inter_token_latency: 0.02\n"
          ]
        },
        {
          "output_type": "stream",
          "name": "stderr",
          "text": [
            "\n"
          ]
        }
      ]
    },
    {
      "cell_type": "markdown",
      "source": [
        "#### ❓ Question:\n",
        "\n",
        "Describe the difference in performance profiles between the three solutions.\n",
        "\n",
        "### Answer:\n",
        "\n",
        "In summary, moving from BitsAndBytes to either GPTQ or AWQ will give you a substantial boost. Between GPTQ and AWQ, the performance is very close, with AWQ being just a tad faster.\n",
        "\n",
        "\n",
        "![image.jpeg](data:image/jpeg;base64,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)\n",
        "\n",
        "- Speed Improvements: Both GPTQ and AWQ dramatically speed up inference compared to BitsAndBytes. We're talking about cutting the average request time by more than half.\n",
        "\n",
        "- Token Generation: When it comes to how fast tokens are produced, GPTQ and AWQ are over twice as fast as BitsAndBytes. That's a big deal if you're aiming for responsive applications.\n",
        "\n",
        "- Smoothness: The lower inter-token latency with GPTQ and AWQ means the responses feel smoother and more immediate, which is great for user experience.\n",
        "\n",
        "- Minor Differences Between GPTQ and AWQ: While both GPTQ and AWQ offer significant improvements, AWQ has a slight edge in terms of tokens per second and average request time, but the difference is pretty minimal."
      ],
      "metadata": {
        "id": "6Uo07EPZZX9J"
      }
    },
    {
      "cell_type": "markdown",
      "source": [
        "## Checkpoint Conversion\n",
        "\n",
        "For both the AWQ and GPTQ quantization strategies - there exist easy conversion strategies.\n",
        "\n",
        "We'll go over both of those strategies below."
      ],
      "metadata": {
        "id": "mfNYoFeDN6_M"
      }
    },
    {
      "cell_type": "markdown",
      "source": [
        "### Using AutoAWQ to Convert a Model\n",
        "\n",
        "We'll see in the following step how easy it is to convert a model to AWQ by leveraging AutoAWQ.\n",
        "\n",
        "First, we'll need a model we wish to convert. We'll stick with Llama 3.1 8B Instruct for demonstration purposes.\n",
        "\n",
        "We'll start by setting some parameters that will help us define the resultant model:\n",
        "\n",
        "- `zero-point` - this indicates to use Zero-Point Quantization as our quantization strategy.\n",
        "  - `q = round((x / scale) + zero_point)`, this quantization strategy allows us to better represent numbers asymetrically around zero, meaning we can use unsigned 8bit integers to describe both positvie and negative weights.\n",
        "- `q_group_size` - like in BNB quantization, we quantize many weights under the same `scale` and `zero_point` to add additional efficiency during quanitzation without losing as much precision. These are sometimes called \"bins\" or \"blocks\".\n",
        "- `w_bit` - the size of the weight in bits\n",
        "\n"
      ],
      "metadata": {
        "id": "ULv33HnzA8IC"
      }
    },
    {
      "cell_type": "code",
      "source": [
        "model_path = \"meta-llama/Meta-Llama-3.1-8B-Instruct\"\n",
        "quant_path = \"hugging-quants/Meta-Llama-3.1-8B-Instruct-AWQ-INT4\"\n",
        "\n",
        "quant_config = {\n",
        "  \"zero_point\": True,\n",
        "  \"q_group_size\": 128,\n",
        "  \"w_bit\": 4,\n",
        "  \"version\": \"GEMM\",\n",
        "}"
      ],
      "metadata": {
        "id": "tx9yD8wrDpMR"
      },
      "execution_count": 13,
      "outputs": []
    },
    {
      "cell_type": "code",
      "source": [
        "from awq import AutoAWQForCausalLM\n",
        "from transformers import AutoTokenizer\n",
        "\n",
        "# Load model\n",
        "model = AutoAWQForCausalLM.from_pretrained(\n",
        "  model_path, low_cpu_mem_usage=True, use_cache=False, device_map=\"auto\",\n",
        ")\n",
        "tokenizer = AutoTokenizer.from_pretrained(model_path)\n",
        "\n",
        "# Quantize\n",
        "model.quantize(tokenizer, quant_config=quant_config)\n",
        "\n",
        "# Save quantized model\n",
        "model.save_quantized(quant_path)\n",
        "tokenizer.save_pretrained(quant_path)\n",
        "\n",
        "print(f'Model is quantized and saved at \"{quant_path}\"')"
      ],
      "metadata": {
        "id": "GTWEpsa8BGYw"
      },
      "execution_count": null,
      "outputs": []
    },
    {
      "cell_type": "markdown",
      "source": [
        "### Using GPTQModel to Convert a Model\n",
        "\n",
        "We'll see in the following step how easy it is to convert a model to GPTQ by leveraging [GPTQModel](https://github.com/ModelCloud/GPTQModel).\n",
        "\n",
        "First, we'll need a model we wish to convert. We'll stick with Llama 3.1 8B Instruct for demonstration purposes.\n",
        "\n",
        "We'll start by setting some parameters that will help us define the resultant model:\n",
        "\n",
        "- `bits` - the target bit width for the final quanitzed model\n",
        "- `group_size` - the number of weights to be quantized under a single scaling factor"
      ],
      "metadata": {
        "id": "4qj0bwAlPlC1"
      }
    },
    {
      "cell_type": "code",
      "source": [
        "from gptqmodel import GPTQModel, QuantizeConfig\n",
        "\n",
        "pretrained_model_dir = \"NousResearch/Meta-Llama-3.1-8B-Instruct\"\n",
        "quantized_model_dir = \"Meta-Llama-3.1-8B-Instruct-4bit\"\n",
        "\n",
        "quant_config = QuantizeConfig(\n",
        "    bits=4,\n",
        "    group_size=128,\n",
        ")"
      ],
      "metadata": {
        "id": "PrwAvIA8PlC1"
      },
      "execution_count": null,
      "outputs": []
    },
    {
      "cell_type": "code",
      "source": [
        "import logging\n",
        "\n",
        "logging.basicConfig(\n",
        "    format=\"%(asctime)s %(levelname)s [%(name)s] %(message)s\", level=logging.INFO, datefmt=\"%Y-%m-%d %H:%M:%S\"\n",
        ")"
      ],
      "metadata": {
        "id": "MiiRGTFZB4Zt"
      },
      "execution_count": null,
      "outputs": []
    },
    {
      "cell_type": "code",
      "source": [
        "from transformers import AutoTokenizer, TextGenerationPipeline\n",
        "\n",
        "# Load model\n",
        "model = GPTQModel.from_pretrained(pretrained_model_dir, quant_config)\n",
        "tokenizer = AutoTokenizer.from_pretrained(pretrained_model_dir, use_fast=True)\n",
        "calibration_dataset = [tokenizer(text) for text in test_sentences]\n",
        "\n",
        "# Quantize\n",
        "model.quantize(calibration_dataset)\n",
        "\n",
        "# Save quantized model\n",
        "model.save_quantized(quantized_model_dir)\n",
        "\n",
        "print(f'Model is quantized and saved at \"{quantized_model_dir}\"')"
      ],
      "metadata": {
        "colab": {
          "base_uri": "https://localhost:8080/",
          "height": 1000,
          "referenced_widgets": [
            "a17134ebb18c4e24b18cc8383bdadfad",
            "37a9cbbb0dcd491892392508f263738e",
            "20e5e5ea6c4440f19df0385adacc75af",
            "ec1728dc15424286bb4cbe6896cbe281",
            "eb3e00e976054992aef546d8353988e6",
            "41873bcd56774689a47489f096544218",
            "c2fdedb17526439c8718f51ef5602261",
            "5438fc7c8cc14777843f3d9140655496",
            "05250a8946404ed9b1b397268b3f3dac",
            "413ea802400a4990bf0d248088dd23a8",
            "579164ac0bc7415d9e6bd2c3780fe923"
          ]
        },
        "outputId": "0f636dad-e746-449f-9add-111e4676a8bf",
        "id": "9bOeXn4PPlC2"
      },
      "execution_count": null,
      "outputs": [
        {
          "output_type": "display_data",
          "data": {
            "text/plain": [
              "Loading checkpoint shards:   0%|          | 0/4 [00:00<?, ?it/s]"
            ],
            "application/vnd.jupyter.widget-view+json": {
              "version_major": 2,
              "version_minor": 0,
              "model_id": "a17134ebb18c4e24b18cc8383bdadfad"
            }
          },
          "metadata": {}
        },
        {
          "output_type": "stream",
          "name": "stderr",
          "text": [
            "WARNING - Calibration dataset size should be greater than 256. Current size: 103.\n",
            "WARNING - The average length of input_ids of calibration_dataset should be greater than 256: actual avg: 10.320388349514563.\n",
            "WARNING - Model config does not have pad token mapped. Please pass in tokenizer to `quantize()` so GPTQModel can auto-select the best pad token.\n",
            "Quantizing self_attn.k_proj in layer 0 of 31:   0%|          | 0/32 [00:00<?, ?it/s]INFO - {'layer': 0, 'module': 'self_attn.k_proj', 'avg_loss': '0.00119', 'damp_percent': '0.00500', 'time': '3.234'}\n",
            "Quantizing self_attn.v_proj in layer 0 of 31:   0%|          | 0/32 [00:04<?, ?it/s]INFO - {'layer': 0, 'module': 'self_attn.v_proj', 'avg_loss': '0.00005', 'damp_percent': '0.00500', 'time': '1.608'}\n",
            "Quantizing self_attn.q_proj in layer 0 of 31:   0%|          | 0/32 [00:05<?, ?it/s]INFO - {'layer': 0, 'module': 'self_attn.q_proj', 'avg_loss': '0.00199', 'damp_percent': '0.00500', 'time': '1.643'}\n",
            "Quantizing self_attn.o_proj in layer 0 of 31:   0%|          | 0/32 [00:07<?, ?it/s]INFO - {'layer': 0, 'module': 'self_attn.o_proj', 'avg_loss': '0.00000', 'damp_percent': '0.00500', 'time': '1.620'}\n",
            "Quantizing mlp.up_proj in layer 0 of 31:   0%|          | 0/32 [00:09<?, ?it/s]     INFO - {'layer': 0, 'module': 'mlp.up_proj', 'avg_loss': '0.00368', 'damp_percent': '0.00500', 'time': '1.645'}\n",
            "Quantizing mlp.gate_proj in layer 0 of 31:   0%|          | 0/32 [00:11<?, ?it/s]INFO - {'layer': 0, 'module': 'mlp.gate_proj', 'avg_loss': '0.00435', 'damp_percent': '0.00500', 'time': '1.649'}\n",
            "Quantizing mlp.down_proj in layer 0 of 31:   0%|          | 0/32 [00:13<?, ?it/s]INFO - {'layer': 0, 'module': 'mlp.down_proj', 'avg_loss': '0.00005', 'damp_percent': '0.00500', 'time': '6.314'}\n",
            "Quantizing self_attn.k_proj in layer 1 of 31:   3%|▎         | 1/32 [00:20<10:24, 20.14s/it]INFO - {'layer': 1, 'module': 'self_attn.k_proj', 'avg_loss': '0.00238', 'damp_percent': '0.00500', 'time': '1.603'}\n",
            "Quantizing self_attn.v_proj in layer 1 of 31:   3%|▎         | 1/32 [00:22<10:24, 20.14s/it]INFO - {'layer': 1, 'module': 'self_attn.v_proj', 'avg_loss': '0.00019', 'damp_percent': '0.00500', 'time': '1.615'}\n",
            "Quantizing self_attn.q_proj in layer 1 of 31:   3%|▎         | 1/32 [00:23<10:24, 20.14s/it]INFO - {'layer': 1, 'module': 'self_attn.q_proj', 'avg_loss': '0.00471', 'damp_percent': '0.00500', 'time': '1.652'}\n",
            "Quantizing self_attn.o_proj in layer 1 of 31:   3%|▎         | 1/32 [00:25<10:24, 20.14s/it]INFO - {'layer': 1, 'module': 'self_attn.o_proj', 'avg_loss': '0.00001', 'damp_percent': '0.00500', 'time': '1.695'}\n",
            "Quantizing mlp.up_proj in layer 1 of 31:   3%|▎         | 1/32 [00:27<10:24, 20.14s/it]     INFO - {'layer': 1, 'module': 'mlp.up_proj', 'avg_loss': '0.00831', 'damp_percent': '0.00500', 'time': '1.646'}\n",
            "Quantizing mlp.gate_proj in layer 1 of 31:   3%|▎         | 1/32 [00:29<10:24, 20.14s/it]INFO - {'layer': 1, 'module': 'mlp.gate_proj', 'avg_loss': '0.00979', 'damp_percent': '0.00500', 'time': '1.669'}\n",
            "Quantizing mlp.down_proj in layer 1 of 31:   3%|▎         | 1/32 [00:31<10:24, 20.14s/it]INFO - {'layer': 1, 'module': 'mlp.down_proj', 'avg_loss': '0.84043', 'damp_percent': '0.00500', 'time': '6.209'}\n",
            "Quantizing self_attn.k_proj in layer 2 of 31:   6%|▋         | 2/32 [00:38<09:23, 18.77s/it]INFO - {'layer': 2, 'module': 'self_attn.k_proj', 'avg_loss': '0.01027', 'damp_percent': '0.00500', 'time': '1.614'}\n",
            "Quantizing self_attn.v_proj in layer 2 of 31:   6%|▋         | 2/32 [00:39<09:23, 18.77s/it]INFO - {'layer': 2, 'module': 'self_attn.v_proj', 'avg_loss': '0.00078', 'damp_percent': '0.00500', 'time': '1.643'}\n",
            "Quantizing self_attn.q_proj in layer 2 of 31:   6%|▋         | 2/32 [00:41<09:23, 18.77s/it]INFO - {'layer': 2, 'module': 'self_attn.q_proj', 'avg_loss': '0.01926', 'damp_percent': '0.00500', 'time': '1.697'}\n",
            "Quantizing self_attn.o_proj in layer 2 of 31:   6%|▋         | 2/32 [00:43<09:23, 18.77s/it]INFO - {'layer': 2, 'module': 'self_attn.o_proj', 'avg_loss': '0.00001', 'damp_percent': '0.00500', 'time': '1.641'}\n",
            "Quantizing mlp.up_proj in layer 2 of 31:   6%|▋         | 2/32 [00:45<09:23, 18.77s/it]     INFO - {'layer': 2, 'module': 'mlp.up_proj', 'avg_loss': '0.01392', 'damp_percent': '0.00500', 'time': '1.650'}\n",
            "Quantizing mlp.gate_proj in layer 2 of 31:   6%|▋         | 2/32 [00:46<09:23, 18.77s/it]INFO - {'layer': 2, 'module': 'mlp.gate_proj', 'avg_loss': '0.01725', 'damp_percent': '0.00500', 'time': '1.678'}\n",
            "Quantizing mlp.down_proj in layer 2 of 31:   6%|▋         | 2/32 [00:49<09:23, 18.77s/it]INFO - {'layer': 2, 'module': 'mlp.down_proj', 'avg_loss': '0.00002', 'damp_percent': '0.00500', 'time': '6.252'}\n",
            "Quantizing self_attn.k_proj in layer 3 of 31:   9%|▉         | 3/32 [00:56<08:52, 18.37s/it]INFO - {'layer': 3, 'module': 'self_attn.k_proj', 'avg_loss': '0.01386', 'damp_percent': '0.00500', 'time': '1.613'}\n",
            "Quantizing self_attn.v_proj in layer 3 of 31:   9%|▉         | 3/32 [00:57<08:52, 18.37s/it]INFO - {'layer': 3, 'module': 'self_attn.v_proj', 'avg_loss': '0.00147', 'damp_percent': '0.00500', 'time': '1.628'}\n",
            "Quantizing self_attn.q_proj in layer 3 of 31:   9%|▉         | 3/32 [00:59<08:52, 18.37s/it]INFO - {'layer': 3, 'module': 'self_attn.q_proj', 'avg_loss': '0.02667', 'damp_percent': '0.00500', 'time': '1.649'}\n",
            "Quantizing self_attn.o_proj in layer 3 of 31:   9%|▉         | 3/32 [01:01<08:52, 18.37s/it]INFO - {'layer': 3, 'module': 'self_attn.o_proj', 'avg_loss': '0.00002', 'damp_percent': '0.00500', 'time': '1.645'}\n",
            "Quantizing mlp.up_proj in layer 3 of 31:   9%|▉         | 3/32 [01:03<08:52, 18.37s/it]     INFO - {'layer': 3, 'module': 'mlp.up_proj', 'avg_loss': '0.01933', 'damp_percent': '0.00500', 'time': '1.658'}\n",
            "Quantizing mlp.gate_proj in layer 3 of 31:   9%|▉         | 3/32 [01:04<08:52, 18.37s/it]INFO - {'layer': 3, 'module': 'mlp.gate_proj', 'avg_loss': '0.02750', 'damp_percent': '0.00500', 'time': '1.672'}\n",
            "Quantizing mlp.down_proj in layer 3 of 31:   9%|▉         | 3/32 [01:06<08:52, 18.37s/it]INFO - {'layer': 3, 'module': 'mlp.down_proj', 'avg_loss': '0.00004', 'damp_percent': '0.00500', 'time': '6.234'}\n",
            "Quantizing self_attn.k_proj in layer 4 of 31:  12%|█▎        | 4/32 [01:13<08:28, 18.15s/it]INFO - {'layer': 4, 'module': 'self_attn.k_proj', 'avg_loss': '0.01120', 'damp_percent': '0.00500', 'time': '1.604'}\n",
            "Quantizing self_attn.v_proj in layer 4 of 31:  12%|█▎        | 4/32 [01:15<08:28, 18.15s/it]INFO - {'layer': 4, 'module': 'self_attn.v_proj', 'avg_loss': '0.00146', 'damp_percent': '0.00500', 'time': '1.640'}\n",
            "Quantizing self_attn.q_proj in layer 4 of 31:  12%|█▎        | 4/32 [01:17<08:28, 18.15s/it]INFO - {'layer': 4, 'module': 'self_attn.q_proj', 'avg_loss': '0.02152', 'damp_percent': '0.00500', 'time': '1.658'}\n",
            "Quantizing self_attn.o_proj in layer 4 of 31:  12%|█▎        | 4/32 [01:19<08:28, 18.15s/it]INFO - {'layer': 4, 'module': 'self_attn.o_proj', 'avg_loss': '0.00003', 'damp_percent': '0.00500', 'time': '1.617'}\n",
            "Quantizing mlp.up_proj in layer 4 of 31:  12%|█▎        | 4/32 [01:20<08:28, 18.15s/it]     INFO - {'layer': 4, 'module': 'mlp.up_proj', 'avg_loss': '0.02430', 'damp_percent': '0.00500', 'time': '1.647'}\n",
            "Quantizing mlp.gate_proj in layer 4 of 31:  12%|█▎        | 4/32 [01:22<08:28, 18.15s/it]INFO - {'layer': 4, 'module': 'mlp.gate_proj', 'avg_loss': '0.03881', 'damp_percent': '0.00500', 'time': '1.668'}\n",
            "Quantizing mlp.down_proj in layer 4 of 31:  12%|█▎        | 4/32 [01:24<08:28, 18.15s/it]INFO - {'layer': 4, 'module': 'mlp.down_proj', 'avg_loss': '0.00007', 'damp_percent': '0.00500', 'time': '6.310'}\n",
            "Quantizing self_attn.k_proj in layer 5 of 31:  16%|█▌        | 5/32 [01:31<08:07, 18.05s/it]INFO - {'layer': 5, 'module': 'self_attn.k_proj', 'avg_loss': '0.01470', 'damp_percent': '0.00500', 'time': '1.606'}\n",
            "Quantizing self_attn.v_proj in layer 5 of 31:  16%|█▌        | 5/32 [01:33<08:07, 18.05s/it]INFO - {'layer': 5, 'module': 'self_attn.v_proj', 'avg_loss': '0.00134', 'damp_percent': '0.00500', 'time': '1.625'}\n",
            "Quantizing self_attn.q_proj in layer 5 of 31:  16%|█▌        | 5/32 [01:35<08:07, 18.05s/it]INFO - {'layer': 5, 'module': 'self_attn.q_proj', 'avg_loss': '0.02803', 'damp_percent': '0.00500', 'time': '1.647'}\n",
            "Quantizing self_attn.o_proj in layer 5 of 31:  16%|█▌        | 5/32 [01:36<08:07, 18.05s/it]INFO - {'layer': 5, 'module': 'self_attn.o_proj', 'avg_loss': '0.00003', 'damp_percent': '0.00500', 'time': '1.621'}\n",
            "Quantizing mlp.up_proj in layer 5 of 31:  16%|█▌        | 5/32 [01:38<08:07, 18.05s/it]     INFO - {'layer': 5, 'module': 'mlp.up_proj', 'avg_loss': '0.02872', 'damp_percent': '0.00500', 'time': '1.651'}\n",
            "Quantizing mlp.gate_proj in layer 5 of 31:  16%|█▌        | 5/32 [01:40<08:07, 18.05s/it]INFO - {'layer': 5, 'module': 'mlp.gate_proj', 'avg_loss': '0.04535', 'damp_percent': '0.00500', 'time': '1.660'}\n",
            "Quantizing mlp.down_proj in layer 5 of 31:  16%|█▌        | 5/32 [01:42<08:07, 18.05s/it]INFO - {'layer': 5, 'module': 'mlp.down_proj', 'avg_loss': '0.00010', 'damp_percent': '0.00500', 'time': '6.214'}\n",
            "Quantizing self_attn.k_proj in layer 6 of 31:  19%|█▉        | 6/32 [01:49<07:46, 17.94s/it]INFO - {'layer': 6, 'module': 'self_attn.k_proj', 'avg_loss': '0.01468', 'damp_percent': '0.00500', 'time': '1.601'}\n",
            "Quantizing self_attn.v_proj in layer 6 of 31:  19%|█▉        | 6/32 [01:51<07:46, 17.94s/it]INFO - {'layer': 6, 'module': 'self_attn.v_proj', 'avg_loss': '0.00162', 'damp_percent': '0.00500', 'time': '1.629'}\n",
            "Quantizing self_attn.q_proj in layer 6 of 31:  19%|█▉        | 6/32 [01:52<07:46, 17.94s/it]INFO - {'layer': 6, 'module': 'self_attn.q_proj', 'avg_loss': '0.02949', 'damp_percent': '0.00500', 'time': '1.647'}\n",
            "Quantizing self_attn.o_proj in layer 6 of 31:  19%|█▉        | 6/32 [01:54<07:46, 17.94s/it]INFO - {'layer': 6, 'module': 'self_attn.o_proj', 'avg_loss': '0.00006', 'damp_percent': '0.00500', 'time': '1.634'}\n",
            "Quantizing mlp.up_proj in layer 6 of 31:  19%|█▉        | 6/32 [01:56<07:46, 17.94s/it]     INFO - {'layer': 6, 'module': 'mlp.up_proj', 'avg_loss': '0.03058', 'damp_percent': '0.00500', 'time': '1.655'}\n",
            "Quantizing mlp.gate_proj in layer 6 of 31:  19%|█▉        | 6/32 [01:58<07:46, 17.94s/it]INFO - {'layer': 6, 'module': 'mlp.gate_proj', 'avg_loss': '0.04875', 'damp_percent': '0.00500', 'time': '1.663'}\n",
            "Quantizing mlp.down_proj in layer 6 of 31:  19%|█▉        | 6/32 [02:00<07:46, 17.94s/it]INFO - {'layer': 6, 'module': 'mlp.down_proj', 'avg_loss': '0.00013', 'damp_percent': '0.00500', 'time': '6.217'}\n",
            "Quantizing self_attn.k_proj in layer 7 of 31:  22%|██▏       | 7/32 [02:07<07:27, 17.88s/it]INFO - {'layer': 7, 'module': 'self_attn.k_proj', 'avg_loss': '0.01619', 'damp_percent': '0.00500', 'time': '1.601'}\n",
            "Quantizing self_attn.v_proj in layer 7 of 31:  22%|██▏       | 7/32 [02:08<07:27, 17.88s/it]INFO - {'layer': 7, 'module': 'self_attn.v_proj', 'avg_loss': '0.00164', 'damp_percent': '0.00500', 'time': '1.613'}\n",
            "Quantizing self_attn.q_proj in layer 7 of 31:  22%|██▏       | 7/32 [02:10<07:27, 17.88s/it]INFO - {'layer': 7, 'module': 'self_attn.q_proj', 'avg_loss': '0.02940', 'damp_percent': '0.00500', 'time': '1.649'}\n",
            "Quantizing self_attn.o_proj in layer 7 of 31:  22%|██▏       | 7/32 [02:12<07:27, 17.88s/it]INFO - {'layer': 7, 'module': 'self_attn.o_proj', 'avg_loss': '0.00010', 'damp_percent': '0.00500', 'time': '1.632'}\n",
            "Quantizing mlp.up_proj in layer 7 of 31:  22%|██▏       | 7/32 [02:14<07:27, 17.88s/it]     INFO - {'layer': 7, 'module': 'mlp.up_proj', 'avg_loss': '0.03146', 'damp_percent': '0.00500', 'time': '1.669'}\n",
            "Quantizing mlp.gate_proj in layer 7 of 31:  22%|██▏       | 7/32 [02:15<07:27, 17.88s/it]INFO - {'layer': 7, 'module': 'mlp.gate_proj', 'avg_loss': '0.04726', 'damp_percent': '0.00500', 'time': '1.675'}\n",
            "Quantizing mlp.down_proj in layer 7 of 31:  22%|██▏       | 7/32 [02:18<07:27, 17.88s/it]INFO - {'layer': 7, 'module': 'mlp.down_proj', 'avg_loss': '0.00016', 'damp_percent': '0.00500', 'time': '6.232'}\n",
            "Quantizing self_attn.k_proj in layer 8 of 31:  25%|██▌       | 8/32 [02:25<07:08, 17.85s/it]INFO - {'layer': 8, 'module': 'self_attn.k_proj', 'avg_loss': '0.01793', 'damp_percent': '0.00500', 'time': '1.607'}\n",
            "Quantizing self_attn.v_proj in layer 8 of 31:  25%|██▌       | 8/32 [02:26<07:08, 17.85s/it]INFO - {'layer': 8, 'module': 'self_attn.v_proj', 'avg_loss': '0.00210', 'damp_percent': '0.00500', 'time': '1.622'}\n",
            "Quantizing self_attn.q_proj in layer 8 of 31:  25%|██▌       | 8/32 [02:28<07:08, 17.85s/it]INFO - {'layer': 8, 'module': 'self_attn.q_proj', 'avg_loss': '0.03302', 'damp_percent': '0.00500', 'time': '1.676'}\n",
            "Quantizing self_attn.o_proj in layer 8 of 31:  25%|██▌       | 8/32 [02:30<07:08, 17.85s/it]INFO - {'layer': 8, 'module': 'self_attn.o_proj', 'avg_loss': '0.00012', 'damp_percent': '0.00500', 'time': '1.622'}\n",
            "Quantizing mlp.up_proj in layer 8 of 31:  25%|██▌       | 8/32 [02:32<07:08, 17.85s/it]     INFO - {'layer': 8, 'module': 'mlp.up_proj', 'avg_loss': '0.03190', 'damp_percent': '0.00500', 'time': '1.643'}\n",
            "Quantizing mlp.gate_proj in layer 8 of 31:  25%|██▌       | 8/32 [02:33<07:08, 17.85s/it]INFO - {'layer': 8, 'module': 'mlp.gate_proj', 'avg_loss': '0.04822', 'damp_percent': '0.00500', 'time': '1.664'}\n",
            "Quantizing mlp.down_proj in layer 8 of 31:  25%|██▌       | 8/32 [02:35<07:08, 17.85s/it]INFO - {'layer': 8, 'module': 'mlp.down_proj', 'avg_loss': '0.00015', 'damp_percent': '0.00500', 'time': '6.257'}\n",
            "Quantizing self_attn.k_proj in layer 9 of 31:  28%|██▊       | 9/32 [02:42<06:50, 17.84s/it]INFO - {'layer': 9, 'module': 'self_attn.k_proj', 'avg_loss': '0.01798', 'damp_percent': '0.00500', 'time': '1.608'}\n",
            "Quantizing self_attn.v_proj in layer 9 of 31:  28%|██▊       | 9/32 [02:44<06:50, 17.84s/it]INFO - {'layer': 9, 'module': 'self_attn.v_proj', 'avg_loss': '0.00277', 'damp_percent': '0.00500', 'time': '1.603'}\n",
            "Quantizing self_attn.q_proj in layer 9 of 31:  28%|██▊       | 9/32 [02:46<06:50, 17.84s/it]INFO - {'layer': 9, 'module': 'self_attn.q_proj', 'avg_loss': '0.03262', 'damp_percent': '0.00500', 'time': '1.657'}\n",
            "Quantizing self_attn.o_proj in layer 9 of 31:  28%|██▊       | 9/32 [02:47<06:50, 17.84s/it]INFO - {'layer': 9, 'module': 'self_attn.o_proj', 'avg_loss': '0.00014', 'damp_percent': '0.00500', 'time': '1.647'}\n",
            "Quantizing mlp.up_proj in layer 9 of 31:  28%|██▊       | 9/32 [02:49<06:50, 17.84s/it]     INFO - {'layer': 9, 'module': 'mlp.up_proj', 'avg_loss': '0.03147', 'damp_percent': '0.00500', 'time': '1.667'}\n",
            "Quantizing mlp.gate_proj in layer 9 of 31:  28%|██▊       | 9/32 [02:51<06:50, 17.84s/it]INFO - {'layer': 9, 'module': 'mlp.gate_proj', 'avg_loss': '0.04817', 'damp_percent': '0.00500', 'time': '1.678'}\n",
            "Quantizing mlp.down_proj in layer 9 of 31:  28%|██▊       | 9/32 [02:53<06:50, 17.84s/it]INFO - {'layer': 9, 'module': 'mlp.down_proj', 'avg_loss': '0.00015', 'damp_percent': '0.00500', 'time': '6.253'}\n",
            "Quantizing self_attn.k_proj in layer 10 of 31:  31%|███▏      | 10/32 [03:00<06:32, 17.84s/it]INFO - {'layer': 10, 'module': 'self_attn.k_proj', 'avg_loss': '0.01924', 'damp_percent': '0.00500', 'time': '1.620'}\n",
            "Quantizing self_attn.v_proj in layer 10 of 31:  31%|███▏      | 10/32 [03:02<06:32, 17.84s/it]INFO - {'layer': 10, 'module': 'self_attn.v_proj', 'avg_loss': '0.00217', 'damp_percent': '0.00500', 'time': '1.624'}\n",
            "Quantizing self_attn.q_proj in layer 10 of 31:  31%|███▏      | 10/32 [03:04<06:32, 17.84s/it]INFO - {'layer': 10, 'module': 'self_attn.q_proj', 'avg_loss': '0.03551', 'damp_percent': '0.00500', 'time': '1.660'}\n",
            "Quantizing self_attn.o_proj in layer 10 of 31:  31%|███▏      | 10/32 [03:05<06:32, 17.84s/it]INFO - {'layer': 10, 'module': 'self_attn.o_proj', 'avg_loss': '0.00012', 'damp_percent': '0.00500', 'time': '1.624'}\n",
            "Quantizing mlp.up_proj in layer 10 of 31:  31%|███▏      | 10/32 [03:07<06:32, 17.84s/it]     INFO - {'layer': 10, 'module': 'mlp.up_proj', 'avg_loss': '0.03116', 'damp_percent': '0.00500', 'time': '1.651'}\n",
            "Quantizing mlp.gate_proj in layer 10 of 31:  31%|███▏      | 10/32 [03:09<06:32, 17.84s/it]INFO - {'layer': 10, 'module': 'mlp.gate_proj', 'avg_loss': '0.04442', 'damp_percent': '0.00500', 'time': '1.675'}\n",
            "Quantizing mlp.down_proj in layer 10 of 31:  31%|███▏      | 10/32 [03:11<06:32, 17.84s/it]INFO - {'layer': 10, 'module': 'mlp.down_proj', 'avg_loss': '0.00017', 'damp_percent': '0.00500', 'time': '6.284'}\n",
            "Quantizing self_attn.k_proj in layer 11 of 31:  34%|███▍      | 11/32 [03:18<06:14, 17.85s/it]INFO - {'layer': 11, 'module': 'self_attn.k_proj', 'avg_loss': '0.01967', 'damp_percent': '0.00500', 'time': '1.605'}\n",
            "Quantizing self_attn.v_proj in layer 11 of 31:  34%|███▍      | 11/32 [03:20<06:14, 17.85s/it]INFO - {'layer': 11, 'module': 'self_attn.v_proj', 'avg_loss': '0.00211', 'damp_percent': '0.00500', 'time': '1.615'}\n",
            "Quantizing self_attn.q_proj in layer 11 of 31:  34%|███▍      | 11/32 [03:21<06:14, 17.85s/it]INFO - {'layer': 11, 'module': 'self_attn.q_proj', 'avg_loss': '0.03333', 'damp_percent': '0.00500', 'time': '1.648'}\n",
            "Quantizing self_attn.o_proj in layer 11 of 31:  34%|███▍      | 11/32 [03:23<06:14, 17.85s/it]INFO - {'layer': 11, 'module': 'self_attn.o_proj', 'avg_loss': '0.00015', 'damp_percent': '0.00500', 'time': '1.649'}\n",
            "Quantizing mlp.up_proj in layer 11 of 31:  34%|███▍      | 11/32 [03:25<06:14, 17.85s/it]     INFO - {'layer': 11, 'module': 'mlp.up_proj', 'avg_loss': '0.03168', 'damp_percent': '0.00500', 'time': '1.662'}\n",
            "Quantizing mlp.gate_proj in layer 11 of 31:  34%|███▍      | 11/32 [03:27<06:14, 17.85s/it]INFO - {'layer': 11, 'module': 'mlp.gate_proj', 'avg_loss': '0.04335', 'damp_percent': '0.00500', 'time': '1.662'}\n",
            "Quantizing mlp.down_proj in layer 11 of 31:  34%|███▍      | 11/32 [03:29<06:14, 17.85s/it]INFO - {'layer': 11, 'module': 'mlp.down_proj', 'avg_loss': '0.00016', 'damp_percent': '0.00500', 'time': '6.254'}\n",
            "Quantizing self_attn.k_proj in layer 12 of 31:  38%|███▊      | 12/32 [03:36<05:56, 17.84s/it]INFO - {'layer': 12, 'module': 'self_attn.k_proj', 'avg_loss': '0.01659', 'damp_percent': '0.00500', 'time': '1.610'}\n",
            "Quantizing self_attn.v_proj in layer 12 of 31:  38%|███▊      | 12/32 [03:38<05:56, 17.84s/it]INFO - {'layer': 12, 'module': 'self_attn.v_proj', 'avg_loss': '0.00256', 'damp_percent': '0.00500', 'time': '1.615'}\n",
            "Quantizing self_attn.q_proj in layer 12 of 31:  38%|███▊      | 12/32 [03:39<05:56, 17.84s/it]INFO - {'layer': 12, 'module': 'self_attn.q_proj', 'avg_loss': '0.03003', 'damp_percent': '0.00500', 'time': '1.650'}\n",
            "Quantizing self_attn.o_proj in layer 12 of 31:  38%|███▊      | 12/32 [03:41<05:56, 17.84s/it]INFO - {'layer': 12, 'module': 'self_attn.o_proj', 'avg_loss': '0.00018', 'damp_percent': '0.00500', 'time': '1.646'}\n",
            "Quantizing mlp.up_proj in layer 12 of 31:  38%|███▊      | 12/32 [03:43<05:56, 17.84s/it]     INFO - {'layer': 12, 'module': 'mlp.up_proj', 'avg_loss': '0.03084', 'damp_percent': '0.00500', 'time': '1.686'}\n",
            "Quantizing mlp.gate_proj in layer 12 of 31:  38%|███▊      | 12/32 [03:45<05:56, 17.84s/it]INFO - {'layer': 12, 'module': 'mlp.gate_proj', 'avg_loss': '0.03949', 'damp_percent': '0.00500', 'time': '1.674'}\n",
            "Quantizing mlp.down_proj in layer 12 of 31:  38%|███▊      | 12/32 [03:47<05:56, 17.84s/it]INFO - {'layer': 12, 'module': 'mlp.down_proj', 'avg_loss': '0.00017', 'damp_percent': '0.00500', 'time': '6.289'}\n",
            "Quantizing self_attn.k_proj in layer 13 of 31:  41%|████      | 13/32 [03:54<05:39, 17.86s/it]INFO - {'layer': 13, 'module': 'self_attn.k_proj', 'avg_loss': '0.02102', 'damp_percent': '0.00500', 'time': '1.626'}\n",
            "Quantizing self_attn.v_proj in layer 13 of 31:  41%|████      | 13/32 [03:56<05:39, 17.86s/it]INFO - {'layer': 13, 'module': 'self_attn.v_proj', 'avg_loss': '0.00273', 'damp_percent': '0.00500', 'time': '1.644'}\n",
            "Quantizing self_attn.q_proj in layer 13 of 31:  41%|████      | 13/32 [03:57<05:39, 17.86s/it]INFO - {'layer': 13, 'module': 'self_attn.q_proj', 'avg_loss': '0.03727', 'damp_percent': '0.00500', 'time': '1.675'}\n",
            "Quantizing self_attn.o_proj in layer 13 of 31:  41%|████      | 13/32 [03:59<05:39, 17.86s/it]INFO - {'layer': 13, 'module': 'self_attn.o_proj', 'avg_loss': '0.00015', 'damp_percent': '0.00500', 'time': '1.643'}\n",
            "Quantizing mlp.up_proj in layer 13 of 31:  41%|████      | 13/32 [04:01<05:39, 17.86s/it]     INFO - {'layer': 13, 'module': 'mlp.up_proj', 'avg_loss': '0.03224', 'damp_percent': '0.00500', 'time': '1.673'}\n",
            "Quantizing mlp.gate_proj in layer 13 of 31:  41%|████      | 13/32 [04:03<05:39, 17.86s/it]INFO - {'layer': 13, 'module': 'mlp.gate_proj', 'avg_loss': '0.04095', 'damp_percent': '0.00500', 'time': '1.690'}\n",
            "Quantizing mlp.down_proj in layer 13 of 31:  41%|████      | 13/32 [04:05<05:39, 17.86s/it]INFO - {'layer': 13, 'module': 'mlp.down_proj', 'avg_loss': '0.00019', 'damp_percent': '0.00500', 'time': '6.347'}\n",
            "Quantizing self_attn.k_proj in layer 14 of 31:  44%|████▍     | 14/32 [04:12<05:22, 17.91s/it]INFO - {'layer': 14, 'module': 'self_attn.k_proj', 'avg_loss': '0.02097', 'damp_percent': '0.00500', 'time': '1.633'}\n",
            "Quantizing self_attn.v_proj in layer 14 of 31:  44%|████▍     | 14/32 [04:14<05:22, 17.91s/it]INFO - {'layer': 14, 'module': 'self_attn.v_proj', 'avg_loss': '0.00269', 'damp_percent': '0.00500', 'time': '1.623'}\n",
            "Quantizing self_attn.q_proj in layer 14 of 31:  44%|████▍     | 14/32 [04:15<05:22, 17.91s/it]INFO - {'layer': 14, 'module': 'self_attn.q_proj', 'avg_loss': '0.03636', 'damp_percent': '0.00500', 'time': '1.670'}\n",
            "Quantizing self_attn.o_proj in layer 14 of 31:  44%|████▍     | 14/32 [04:17<05:22, 17.91s/it]INFO - {'layer': 14, 'module': 'self_attn.o_proj', 'avg_loss': '0.00018', 'damp_percent': '0.00500', 'time': '1.644'}\n",
            "Quantizing mlp.up_proj in layer 14 of 31:  44%|████▍     | 14/32 [04:19<05:22, 17.91s/it]     INFO - {'layer': 14, 'module': 'mlp.up_proj', 'avg_loss': '0.03487', 'damp_percent': '0.00500', 'time': '1.653'}\n",
            "Quantizing mlp.gate_proj in layer 14 of 31:  44%|████▍     | 14/32 [04:21<05:22, 17.91s/it]INFO - {'layer': 14, 'module': 'mlp.gate_proj', 'avg_loss': '0.04589', 'damp_percent': '0.00500', 'time': '1.701'}\n",
            "Quantizing mlp.down_proj in layer 14 of 31:  44%|████▍     | 14/32 [04:23<05:22, 17.91s/it]INFO - {'layer': 14, 'module': 'mlp.down_proj', 'avg_loss': '0.00024', 'damp_percent': '0.00500', 'time': '6.262'}\n",
            "Quantizing self_attn.k_proj in layer 15 of 31:  47%|████▋     | 15/32 [04:30<05:04, 17.92s/it]INFO - {'layer': 15, 'module': 'self_attn.k_proj', 'avg_loss': '0.02006', 'damp_percent': '0.00500', 'time': '1.601'}\n",
            "Quantizing self_attn.v_proj in layer 15 of 31:  47%|████▋     | 15/32 [04:31<05:04, 17.92s/it]INFO - {'layer': 15, 'module': 'self_attn.v_proj', 'avg_loss': '0.00311', 'damp_percent': '0.00500', 'time': '1.697'}\n",
            "Quantizing self_attn.q_proj in layer 15 of 31:  47%|████▋     | 15/32 [04:33<05:04, 17.92s/it]INFO - {'layer': 15, 'module': 'self_attn.q_proj', 'avg_loss': '0.04323', 'damp_percent': '0.00500', 'time': '1.673'}\n",
            "Quantizing self_attn.o_proj in layer 15 of 31:  47%|████▋     | 15/32 [04:35<05:04, 17.92s/it]INFO - {'layer': 15, 'module': 'self_attn.o_proj', 'avg_loss': '0.00018', 'damp_percent': '0.00500', 'time': '1.634'}\n",
            "Quantizing mlp.up_proj in layer 15 of 31:  47%|████▋     | 15/32 [04:37<05:04, 17.92s/it]     INFO - {'layer': 15, 'module': 'mlp.up_proj', 'avg_loss': '0.03869', 'damp_percent': '0.00500', 'time': '1.662'}\n",
            "Quantizing mlp.gate_proj in layer 15 of 31:  47%|████▋     | 15/32 [04:39<05:04, 17.92s/it]INFO - {'layer': 15, 'module': 'mlp.gate_proj', 'avg_loss': '0.05388', 'damp_percent': '0.00500', 'time': '1.667'}\n",
            "Quantizing mlp.down_proj in layer 15 of 31:  47%|████▋     | 15/32 [04:41<05:04, 17.92s/it]INFO - {'layer': 15, 'module': 'mlp.down_proj', 'avg_loss': '0.00030', 'damp_percent': '0.00500', 'time': '6.266'}\n",
            "Quantizing self_attn.k_proj in layer 16 of 31:  50%|█████     | 16/32 [04:48<04:46, 17.92s/it]INFO - {'layer': 16, 'module': 'self_attn.k_proj', 'avg_loss': '0.02000', 'damp_percent': '0.00500', 'time': '1.615'}\n",
            "Quantizing self_attn.v_proj in layer 16 of 31:  50%|█████     | 16/32 [04:49<04:46, 17.92s/it]INFO - {'layer': 16, 'module': 'self_attn.v_proj', 'avg_loss': '0.00263', 'damp_percent': '0.00500', 'time': '1.623'}\n",
            "Quantizing self_attn.q_proj in layer 16 of 31:  50%|█████     | 16/32 [04:51<04:46, 17.92s/it]INFO - {'layer': 16, 'module': 'self_attn.q_proj', 'avg_loss': '0.03986', 'damp_percent': '0.00500', 'time': '1.666'}\n",
            "Quantizing self_attn.o_proj in layer 16 of 31:  50%|█████     | 16/32 [04:53<04:46, 17.92s/it]INFO - {'layer': 16, 'module': 'self_attn.o_proj', 'avg_loss': '0.00018', 'damp_percent': '0.00500', 'time': '1.630'}\n",
            "Quantizing mlp.up_proj in layer 16 of 31:  50%|█████     | 16/32 [04:55<04:46, 17.92s/it]     INFO - {'layer': 16, 'module': 'mlp.up_proj', 'avg_loss': '0.04260', 'damp_percent': '0.00500', 'time': '1.683'}\n",
            "Quantizing mlp.gate_proj in layer 16 of 31:  50%|█████     | 16/32 [04:56<04:46, 17.92s/it]INFO - {'layer': 16, 'module': 'mlp.gate_proj', 'avg_loss': '0.06429', 'damp_percent': '0.00500', 'time': '1.694'}\n",
            "Quantizing mlp.down_proj in layer 16 of 31:  50%|█████     | 16/32 [04:59<04:46, 17.92s/it]INFO - {'layer': 16, 'module': 'mlp.down_proj', 'avg_loss': '0.00035', 'damp_percent': '0.00500', 'time': '6.264'}\n",
            "Quantizing self_attn.k_proj in layer 17 of 31:  53%|█████▎    | 17/32 [05:06<04:28, 17.91s/it]INFO - {'layer': 17, 'module': 'self_attn.k_proj', 'avg_loss': '0.02126', 'damp_percent': '0.00500', 'time': '1.604'}\n",
            "Quantizing self_attn.v_proj in layer 17 of 31:  53%|█████▎    | 17/32 [05:07<04:28, 17.91s/it]INFO - {'layer': 17, 'module': 'self_attn.v_proj', 'avg_loss': '0.00350', 'damp_percent': '0.00500', 'time': '1.638'}\n",
            "Quantizing self_attn.q_proj in layer 17 of 31:  53%|█████▎    | 17/32 [05:09<04:28, 17.91s/it]INFO - {'layer': 17, 'module': 'self_attn.q_proj', 'avg_loss': '0.04381', 'damp_percent': '0.00500', 'time': '1.663'}\n",
            "Quantizing self_attn.o_proj in layer 17 of 31:  53%|█████▎    | 17/32 [05:11<04:28, 17.91s/it]INFO - {'layer': 17, 'module': 'self_attn.o_proj', 'avg_loss': '0.00012', 'damp_percent': '0.00500', 'time': '1.638'}\n",
            "Quantizing mlp.up_proj in layer 17 of 31:  53%|█████▎    | 17/32 [05:13<04:28, 17.91s/it]     INFO - {'layer': 17, 'module': 'mlp.up_proj', 'avg_loss': '0.04671', 'damp_percent': '0.00500', 'time': '1.655'}\n",
            "Quantizing mlp.gate_proj in layer 17 of 31:  53%|█████▎    | 17/32 [05:14<04:28, 17.91s/it]INFO - {'layer': 17, 'module': 'mlp.gate_proj', 'avg_loss': '0.07192', 'damp_percent': '0.00500', 'time': '1.666'}\n",
            "Quantizing mlp.down_proj in layer 17 of 31:  53%|█████▎    | 17/32 [05:16<04:28, 17.91s/it]INFO - {'layer': 17, 'module': 'mlp.down_proj', 'avg_loss': '0.00042', 'damp_percent': '0.00500', 'time': '6.274'}\n",
            "Quantizing self_attn.k_proj in layer 18 of 31:  56%|█████▋    | 18/32 [05:24<04:10, 17.90s/it]INFO - {'layer': 18, 'module': 'self_attn.k_proj', 'avg_loss': '0.02425', 'damp_percent': '0.00500', 'time': '1.604'}\n",
            "Quantizing self_attn.v_proj in layer 18 of 31:  56%|█████▋    | 18/32 [05:25<04:10, 17.90s/it]INFO - {'layer': 18, 'module': 'self_attn.v_proj', 'avg_loss': '0.00311', 'damp_percent': '0.00500', 'time': '1.616'}\n",
            "Quantizing self_attn.q_proj in layer 18 of 31:  56%|█████▋    | 18/32 [05:27<04:10, 17.90s/it]INFO - {'layer': 18, 'module': 'self_attn.q_proj', 'avg_loss': '0.04720', 'damp_percent': '0.00500', 'time': '1.656'}\n",
            "Quantizing self_attn.o_proj in layer 18 of 31:  56%|█████▋    | 18/32 [05:29<04:10, 17.90s/it]INFO - {'layer': 18, 'module': 'self_attn.o_proj', 'avg_loss': '0.00009', 'damp_percent': '0.00500', 'time': '1.627'}\n",
            "Quantizing mlp.up_proj in layer 18 of 31:  56%|█████▋    | 18/32 [05:30<04:10, 17.90s/it]     INFO - {'layer': 18, 'module': 'mlp.up_proj', 'avg_loss': '0.05035', 'damp_percent': '0.00500', 'time': '1.667'}\n",
            "Quantizing mlp.gate_proj in layer 18 of 31:  56%|█████▋    | 18/32 [05:32<04:10, 17.90s/it]INFO - {'layer': 18, 'module': 'mlp.gate_proj', 'avg_loss': '0.07981', 'damp_percent': '0.00500', 'time': '1.741'}\n",
            "Quantizing mlp.down_proj in layer 18 of 31:  56%|█████▋    | 18/32 [05:34<04:10, 17.90s/it]INFO - {'layer': 18, 'module': 'mlp.down_proj', 'avg_loss': '0.00044', 'damp_percent': '0.00500', 'time': '6.248'}\n",
            "Quantizing self_attn.k_proj in layer 19 of 31:  59%|█████▉    | 19/32 [05:41<03:52, 17.89s/it]INFO - {'layer': 19, 'module': 'self_attn.k_proj', 'avg_loss': '0.02354', 'damp_percent': '0.00500', 'time': '1.620'}\n",
            "Quantizing self_attn.v_proj in layer 19 of 31:  59%|█████▉    | 19/32 [05:43<03:52, 17.89s/it]INFO - {'layer': 19, 'module': 'self_attn.v_proj', 'avg_loss': '0.00364', 'damp_percent': '0.00500', 'time': '1.623'}\n",
            "Quantizing self_attn.q_proj in layer 19 of 31:  59%|█████▉    | 19/32 [05:45<03:52, 17.89s/it]INFO - {'layer': 19, 'module': 'self_attn.q_proj', 'avg_loss': '0.04848', 'damp_percent': '0.00500', 'time': '1.647'}\n",
            "Quantizing self_attn.o_proj in layer 19 of 31:  59%|█████▉    | 19/32 [05:46<03:52, 17.89s/it]INFO - {'layer': 19, 'module': 'self_attn.o_proj', 'avg_loss': '0.00007', 'damp_percent': '0.00500', 'time': '1.640'}\n",
            "Quantizing mlp.up_proj in layer 19 of 31:  59%|█████▉    | 19/32 [05:48<03:52, 17.89s/it]     INFO - {'layer': 19, 'module': 'mlp.up_proj', 'avg_loss': '0.05403', 'damp_percent': '0.00500', 'time': '1.648'}\n",
            "Quantizing mlp.gate_proj in layer 19 of 31:  59%|█████▉    | 19/32 [05:50<03:52, 17.89s/it]INFO - {'layer': 19, 'module': 'mlp.gate_proj', 'avg_loss': '0.08745', 'damp_percent': '0.00500', 'time': '1.663'}\n",
            "Quantizing mlp.down_proj in layer 19 of 31:  59%|█████▉    | 19/32 [05:52<03:52, 17.89s/it]INFO - {'layer': 19, 'module': 'mlp.down_proj', 'avg_loss': '0.00048', 'damp_percent': '0.00500', 'time': '6.256'}\n",
            "Quantizing self_attn.k_proj in layer 20 of 31:  62%|██████▎   | 20/32 [05:59<03:34, 17.87s/it]INFO - {'layer': 20, 'module': 'self_attn.k_proj', 'avg_loss': '0.02356', 'damp_percent': '0.00500', 'time': '1.597'}\n",
            "Quantizing self_attn.v_proj in layer 20 of 31:  62%|██████▎   | 20/32 [06:01<03:34, 17.87s/it]INFO - {'layer': 20, 'module': 'self_attn.v_proj', 'avg_loss': '0.00422', 'damp_percent': '0.00500', 'time': '1.600'}\n",
            "Quantizing self_attn.q_proj in layer 20 of 31:  62%|██████▎   | 20/32 [06:03<03:34, 17.87s/it]INFO - {'layer': 20, 'module': 'self_attn.q_proj', 'avg_loss': '0.04948', 'damp_percent': '0.00500', 'time': '1.629'}\n",
            "Quantizing self_attn.o_proj in layer 20 of 31:  62%|██████▎   | 20/32 [06:04<03:34, 17.87s/it]INFO - {'layer': 20, 'module': 'self_attn.o_proj', 'avg_loss': '0.00009', 'damp_percent': '0.00500', 'time': '1.624'}\n",
            "Quantizing mlp.up_proj in layer 20 of 31:  62%|██████▎   | 20/32 [06:06<03:34, 17.87s/it]     INFO - {'layer': 20, 'module': 'mlp.up_proj', 'avg_loss': '0.05972', 'damp_percent': '0.00500', 'time': '1.661'}\n",
            "Quantizing mlp.gate_proj in layer 20 of 31:  62%|██████▎   | 20/32 [06:08<03:34, 17.87s/it]INFO - {'layer': 20, 'module': 'mlp.gate_proj', 'avg_loss': '0.09566', 'damp_percent': '0.00500', 'time': '1.681'}\n",
            "Quantizing mlp.down_proj in layer 20 of 31:  62%|██████▎   | 20/32 [06:10<03:34, 17.87s/it]INFO - {'layer': 20, 'module': 'mlp.down_proj', 'avg_loss': '0.00052', 'damp_percent': '0.00500', 'time': '6.237'}\n",
            "Quantizing self_attn.k_proj in layer 21 of 31:  66%|██████▌   | 21/32 [06:17<03:16, 17.87s/it]INFO - {'layer': 21, 'module': 'self_attn.k_proj', 'avg_loss': '0.02444', 'damp_percent': '0.00500', 'time': '1.627'}\n",
            "Quantizing self_attn.v_proj in layer 21 of 31:  66%|██████▌   | 21/32 [06:19<03:16, 17.87s/it]INFO - {'layer': 21, 'module': 'self_attn.v_proj', 'avg_loss': '0.00458', 'damp_percent': '0.00500', 'time': '1.623'}\n",
            "Quantizing self_attn.q_proj in layer 21 of 31:  66%|██████▌   | 21/32 [06:20<03:16, 17.87s/it]INFO - {'layer': 21, 'module': 'self_attn.q_proj', 'avg_loss': '0.04822', 'damp_percent': '0.00500', 'time': '1.659'}\n",
            "Quantizing self_attn.o_proj in layer 21 of 31:  66%|██████▌   | 21/32 [06:22<03:16, 17.87s/it]INFO - {'layer': 21, 'module': 'self_attn.o_proj', 'avg_loss': '0.00013', 'damp_percent': '0.00500', 'time': '1.629'}\n",
            "Quantizing mlp.up_proj in layer 21 of 31:  66%|██████▌   | 21/32 [06:24<03:16, 17.87s/it]     INFO - {'layer': 21, 'module': 'mlp.up_proj', 'avg_loss': '0.06599', 'damp_percent': '0.00500', 'time': '1.650'}\n",
            "Quantizing mlp.gate_proj in layer 21 of 31:  66%|██████▌   | 21/32 [06:26<03:16, 17.87s/it]INFO - {'layer': 21, 'module': 'mlp.gate_proj', 'avg_loss': '0.10653', 'damp_percent': '0.00500', 'time': '1.670'}\n",
            "Quantizing mlp.down_proj in layer 21 of 31:  66%|██████▌   | 21/32 [06:28<03:16, 17.87s/it]INFO - {'layer': 21, 'module': 'mlp.down_proj', 'avg_loss': '0.00060', 'damp_percent': '0.00500', 'time': '6.253'}\n",
            "Quantizing self_attn.k_proj in layer 22 of 31:  69%|██████▉   | 22/32 [06:35<02:58, 17.86s/it]INFO - {'layer': 22, 'module': 'self_attn.k_proj', 'avg_loss': '0.02509', 'damp_percent': '0.00500', 'time': '1.609'}\n",
            "Quantizing self_attn.v_proj in layer 22 of 31:  69%|██████▉   | 22/32 [06:37<02:58, 17.86s/it]INFO - {'layer': 22, 'module': 'self_attn.v_proj', 'avg_loss': '0.00537', 'damp_percent': '0.00500', 'time': '1.616'}\n",
            "Quantizing self_attn.q_proj in layer 22 of 31:  69%|██████▉   | 22/32 [06:38<02:58, 17.86s/it]INFO - {'layer': 22, 'module': 'self_attn.q_proj', 'avg_loss': '0.04935', 'damp_percent': '0.00500', 'time': '1.651'}\n",
            "Quantizing self_attn.o_proj in layer 22 of 31:  69%|██████▉   | 22/32 [06:40<02:58, 17.86s/it]INFO - {'layer': 22, 'module': 'self_attn.o_proj', 'avg_loss': '0.00008', 'damp_percent': '0.00500', 'time': '1.643'}\n",
            "Quantizing mlp.up_proj in layer 22 of 31:  69%|██████▉   | 22/32 [06:42<02:58, 17.86s/it]     INFO - {'layer': 22, 'module': 'mlp.up_proj', 'avg_loss': '0.07020', 'damp_percent': '0.00500', 'time': '1.666'}\n",
            "Quantizing mlp.gate_proj in layer 22 of 31:  69%|██████▉   | 22/32 [06:44<02:58, 17.86s/it]INFO - {'layer': 22, 'module': 'mlp.gate_proj', 'avg_loss': '0.11305', 'damp_percent': '0.00500', 'time': '1.673'}\n",
            "Quantizing mlp.down_proj in layer 22 of 31:  69%|██████▉   | 22/32 [06:46<02:58, 17.86s/it]INFO - {'layer': 22, 'module': 'mlp.down_proj', 'avg_loss': '0.00063', 'damp_percent': '0.00500', 'time': '6.245'}\n",
            "Quantizing self_attn.k_proj in layer 23 of 31:  72%|███████▏  | 23/32 [06:53<02:40, 17.85s/it]INFO - {'layer': 23, 'module': 'self_attn.k_proj', 'avg_loss': '0.02611', 'damp_percent': '0.00500', 'time': '1.621'}\n",
            "Quantizing self_attn.v_proj in layer 23 of 31:  72%|███████▏  | 23/32 [06:54<02:40, 17.85s/it]INFO - {'layer': 23, 'module': 'self_attn.v_proj', 'avg_loss': '0.00631', 'damp_percent': '0.00500', 'time': '1.641'}\n",
            "Quantizing self_attn.q_proj in layer 23 of 31:  72%|███████▏  | 23/32 [06:56<02:40, 17.85s/it]INFO - {'layer': 23, 'module': 'self_attn.q_proj', 'avg_loss': '0.05167', 'damp_percent': '0.00500', 'time': '1.654'}\n",
            "Quantizing self_attn.o_proj in layer 23 of 31:  72%|███████▏  | 23/32 [06:58<02:40, 17.85s/it]INFO - {'layer': 23, 'module': 'self_attn.o_proj', 'avg_loss': '0.00010', 'damp_percent': '0.00500', 'time': '1.628'}\n",
            "Quantizing mlp.up_proj in layer 23 of 31:  72%|███████▏  | 23/32 [07:00<02:40, 17.85s/it]     INFO - {'layer': 23, 'module': 'mlp.up_proj', 'avg_loss': '0.07539', 'damp_percent': '0.00500', 'time': '1.647'}\n",
            "Quantizing mlp.gate_proj in layer 23 of 31:  72%|███████▏  | 23/32 [07:01<02:40, 17.85s/it]INFO - {'layer': 23, 'module': 'mlp.gate_proj', 'avg_loss': '0.12104', 'damp_percent': '0.00500', 'time': '1.667'}\n",
            "Quantizing mlp.down_proj in layer 23 of 31:  72%|███████▏  | 23/32 [07:04<02:40, 17.85s/it]INFO - {'layer': 23, 'module': 'mlp.down_proj', 'avg_loss': '0.00067', 'damp_percent': '0.00500', 'time': '6.251'}\n",
            "Quantizing self_attn.k_proj in layer 24 of 31:  75%|███████▌  | 24/32 [07:11<02:22, 17.84s/it]INFO - {'layer': 24, 'module': 'self_attn.k_proj', 'avg_loss': '0.02364', 'damp_percent': '0.00500', 'time': '1.606'}\n",
            "Quantizing self_attn.v_proj in layer 24 of 31:  75%|███████▌  | 24/32 [07:12<02:22, 17.84s/it]INFO - {'layer': 24, 'module': 'self_attn.v_proj', 'avg_loss': '0.00752', 'damp_percent': '0.00500', 'time': '1.611'}\n",
            "Quantizing self_attn.q_proj in layer 24 of 31:  75%|███████▌  | 24/32 [07:14<02:22, 17.84s/it]INFO - {'layer': 24, 'module': 'self_attn.q_proj', 'avg_loss': '0.04962', 'damp_percent': '0.00500', 'time': '1.652'}\n",
            "Quantizing self_attn.o_proj in layer 24 of 31:  75%|███████▌  | 24/32 [07:16<02:22, 17.84s/it]INFO - {'layer': 24, 'module': 'self_attn.o_proj', 'avg_loss': '0.00011', 'damp_percent': '0.00500', 'time': '1.634'}\n",
            "Quantizing mlp.up_proj in layer 24 of 31:  75%|███████▌  | 24/32 [07:17<02:22, 17.84s/it]     INFO - {'layer': 24, 'module': 'mlp.up_proj', 'avg_loss': '0.08004', 'damp_percent': '0.00500', 'time': '1.665'}\n",
            "Quantizing mlp.gate_proj in layer 24 of 31:  75%|███████▌  | 24/32 [07:19<02:22, 17.84s/it]INFO - {'layer': 24, 'module': 'mlp.gate_proj', 'avg_loss': '0.12830', 'damp_percent': '0.00500', 'time': '1.664'}\n",
            "Quantizing mlp.down_proj in layer 24 of 31:  75%|███████▌  | 24/32 [07:21<02:22, 17.84s/it]INFO - {'layer': 24, 'module': 'mlp.down_proj', 'avg_loss': '0.00070', 'damp_percent': '0.00500', 'time': '6.254'}\n",
            "Quantizing self_attn.k_proj in layer 25 of 31:  78%|███████▊  | 25/32 [07:28<02:04, 17.83s/it]INFO - {'layer': 25, 'module': 'self_attn.k_proj', 'avg_loss': '0.02458', 'damp_percent': '0.00500', 'time': '1.611'}\n",
            "Quantizing self_attn.v_proj in layer 25 of 31:  78%|███████▊  | 25/32 [07:30<02:04, 17.83s/it]INFO - {'layer': 25, 'module': 'self_attn.v_proj', 'avg_loss': '0.00779', 'damp_percent': '0.00500', 'time': '1.623'}\n",
            "Quantizing self_attn.q_proj in layer 25 of 31:  78%|███████▊  | 25/32 [07:32<02:04, 17.83s/it]INFO - {'layer': 25, 'module': 'self_attn.q_proj', 'avg_loss': '0.04974', 'damp_percent': '0.00500', 'time': '1.651'}\n",
            "Quantizing self_attn.o_proj in layer 25 of 31:  78%|███████▊  | 25/32 [07:33<02:04, 17.83s/it]INFO - {'layer': 25, 'module': 'self_attn.o_proj', 'avg_loss': '0.00016', 'damp_percent': '0.00500', 'time': '1.626'}\n",
            "Quantizing mlp.up_proj in layer 25 of 31:  78%|███████▊  | 25/32 [07:35<02:04, 17.83s/it]     INFO - {'layer': 25, 'module': 'mlp.up_proj', 'avg_loss': '0.08645', 'damp_percent': '0.00500', 'time': '1.692'}\n",
            "Quantizing mlp.gate_proj in layer 25 of 31:  78%|███████▊  | 25/32 [07:37<02:04, 17.83s/it]INFO - {'layer': 25, 'module': 'mlp.gate_proj', 'avg_loss': '0.13866', 'damp_percent': '0.00500', 'time': '1.683'}\n",
            "Quantizing mlp.down_proj in layer 25 of 31:  78%|███████▊  | 25/32 [07:39<02:04, 17.83s/it]INFO - {'layer': 25, 'module': 'mlp.down_proj', 'avg_loss': '0.00080', 'damp_percent': '0.00500', 'time': '6.230'}\n",
            "Quantizing self_attn.k_proj in layer 26 of 31:  81%|████████▏ | 26/32 [07:46<01:47, 17.83s/it]INFO - {'layer': 26, 'module': 'self_attn.k_proj', 'avg_loss': '0.02344', 'damp_percent': '0.00500', 'time': '1.605'}\n",
            "Quantizing self_attn.v_proj in layer 26 of 31:  81%|████████▏ | 26/32 [07:48<01:47, 17.83s/it]INFO - {'layer': 26, 'module': 'self_attn.v_proj', 'avg_loss': '0.00817', 'damp_percent': '0.00500', 'time': '1.620'}\n",
            "Quantizing self_attn.q_proj in layer 26 of 31:  81%|████████▏ | 26/32 [07:49<01:47, 17.83s/it]INFO - {'layer': 26, 'module': 'self_attn.q_proj', 'avg_loss': '0.04547', 'damp_percent': '0.00500', 'time': '1.670'}\n",
            "Quantizing self_attn.o_proj in layer 26 of 31:  81%|████████▏ | 26/32 [07:51<01:47, 17.83s/it]INFO - {'layer': 26, 'module': 'self_attn.o_proj', 'avg_loss': '0.00017', 'damp_percent': '0.00500', 'time': '1.628'}\n",
            "Quantizing mlp.up_proj in layer 26 of 31:  81%|████████▏ | 26/32 [07:53<01:47, 17.83s/it]     INFO - {'layer': 26, 'module': 'mlp.up_proj', 'avg_loss': '0.09256', 'damp_percent': '0.00500', 'time': '1.652'}\n",
            "Quantizing mlp.gate_proj in layer 26 of 31:  81%|████████▏ | 26/32 [07:55<01:47, 17.83s/it]INFO - {'layer': 26, 'module': 'mlp.gate_proj', 'avg_loss': '0.14886', 'damp_percent': '0.00500', 'time': '1.675'}\n",
            "Quantizing mlp.down_proj in layer 26 of 31:  81%|████████▏ | 26/32 [07:57<01:47, 17.83s/it]INFO - {'layer': 26, 'module': 'mlp.down_proj', 'avg_loss': '0.00091', 'damp_percent': '0.00500', 'time': '6.236'}\n",
            "Quantizing self_attn.k_proj in layer 27 of 31:  84%|████████▍ | 27/32 [08:04<01:29, 17.83s/it]INFO - {'layer': 27, 'module': 'self_attn.k_proj', 'avg_loss': '0.02482', 'damp_percent': '0.00500', 'time': '1.612'}\n",
            "Quantizing self_attn.v_proj in layer 27 of 31:  84%|████████▍ | 27/32 [08:06<01:29, 17.83s/it]INFO - {'layer': 27, 'module': 'self_attn.v_proj', 'avg_loss': '0.00965', 'damp_percent': '0.00500', 'time': '1.626'}\n",
            "Quantizing self_attn.q_proj in layer 27 of 31:  84%|████████▍ | 27/32 [08:07<01:29, 17.83s/it]INFO - {'layer': 27, 'module': 'self_attn.q_proj', 'avg_loss': '0.04852', 'damp_percent': '0.00500', 'time': '1.663'}\n",
            "Quantizing self_attn.o_proj in layer 27 of 31:  84%|████████▍ | 27/32 [08:09<01:29, 17.83s/it]INFO - {'layer': 27, 'module': 'self_attn.o_proj', 'avg_loss': '0.00026', 'damp_percent': '0.00500', 'time': '1.634'}\n",
            "Quantizing mlp.up_proj in layer 27 of 31:  84%|████████▍ | 27/32 [08:11<01:29, 17.83s/it]     INFO - {'layer': 27, 'module': 'mlp.up_proj', 'avg_loss': '0.10096', 'damp_percent': '0.00500', 'time': '1.657'}\n",
            "Quantizing mlp.gate_proj in layer 27 of 31:  84%|████████▍ | 27/32 [08:13<01:29, 17.83s/it]INFO - {'layer': 27, 'module': 'mlp.gate_proj', 'avg_loss': '0.16123', 'damp_percent': '0.00500', 'time': '1.674'}\n",
            "Quantizing mlp.down_proj in layer 27 of 31:  84%|████████▍ | 27/32 [08:15<01:29, 17.83s/it]INFO - {'layer': 27, 'module': 'mlp.down_proj', 'avg_loss': '0.00115', 'damp_percent': '0.00500', 'time': '6.241'}\n",
            "Quantizing self_attn.k_proj in layer 28 of 31:  88%|████████▊ | 28/32 [08:22<01:11, 17.83s/it]INFO - {'layer': 28, 'module': 'self_attn.k_proj', 'avg_loss': '0.02206', 'damp_percent': '0.00500', 'time': '1.614'}\n",
            "Quantizing self_attn.v_proj in layer 28 of 31:  88%|████████▊ | 28/32 [08:23<01:11, 17.83s/it]INFO - {'layer': 28, 'module': 'self_attn.v_proj', 'avg_loss': '0.01089', 'damp_percent': '0.00500', 'time': '1.626'}\n",
            "Quantizing self_attn.q_proj in layer 28 of 31:  88%|████████▊ | 28/32 [08:25<01:11, 17.83s/it]INFO - {'layer': 28, 'module': 'self_attn.q_proj', 'avg_loss': '0.04739', 'damp_percent': '0.00500', 'time': '1.670'}\n",
            "Quantizing self_attn.o_proj in layer 28 of 31:  88%|████████▊ | 28/32 [08:27<01:11, 17.83s/it]INFO - {'layer': 28, 'module': 'self_attn.o_proj', 'avg_loss': '0.00039', 'damp_percent': '0.00500', 'time': '1.620'}\n",
            "Quantizing mlp.up_proj in layer 28 of 31:  88%|████████▊ | 28/32 [08:29<01:11, 17.83s/it]     INFO - {'layer': 28, 'module': 'mlp.up_proj', 'avg_loss': '0.11278', 'damp_percent': '0.00500', 'time': '1.651'}\n",
            "Quantizing mlp.gate_proj in layer 28 of 31:  88%|████████▊ | 28/32 [08:30<01:11, 17.83s/it]INFO - {'layer': 28, 'module': 'mlp.gate_proj', 'avg_loss': '0.17125', 'damp_percent': '0.00500', 'time': '1.659'}\n",
            "Quantizing mlp.down_proj in layer 28 of 31:  88%|████████▊ | 28/32 [08:33<01:11, 17.83s/it]INFO - {'layer': 28, 'module': 'mlp.down_proj', 'avg_loss': '0.00154', 'damp_percent': '0.00500', 'time': '6.211'}\n",
            "Quantizing self_attn.k_proj in layer 29 of 31:  91%|█████████ | 29/32 [08:40<00:53, 17.81s/it]INFO - {'layer': 29, 'module': 'self_attn.k_proj', 'avg_loss': '0.02733', 'damp_percent': '0.00500', 'time': '1.606'}\n",
            "Quantizing self_attn.v_proj in layer 29 of 31:  91%|█████████ | 29/32 [08:41<00:53, 17.81s/it]INFO - {'layer': 29, 'module': 'self_attn.v_proj', 'avg_loss': '0.01282', 'damp_percent': '0.00500', 'time': '1.613'}\n",
            "Quantizing self_attn.q_proj in layer 29 of 31:  91%|█████████ | 29/32 [08:43<00:53, 17.81s/it]INFO - {'layer': 29, 'module': 'self_attn.q_proj', 'avg_loss': '0.05175', 'damp_percent': '0.00500', 'time': '1.648'}\n",
            "Quantizing self_attn.o_proj in layer 29 of 31:  91%|█████████ | 29/32 [08:45<00:53, 17.81s/it]INFO - {'layer': 29, 'module': 'self_attn.o_proj', 'avg_loss': '0.00057', 'damp_percent': '0.00500', 'time': '1.618'}\n",
            "Quantizing mlp.up_proj in layer 29 of 31:  91%|█████████ | 29/32 [08:47<00:53, 17.81s/it]     INFO - {'layer': 29, 'module': 'mlp.up_proj', 'avg_loss': '0.12045', 'damp_percent': '0.00500', 'time': '1.652'}\n",
            "Quantizing mlp.gate_proj in layer 29 of 31:  91%|█████████ | 29/32 [08:48<00:53, 17.81s/it]INFO - {'layer': 29, 'module': 'mlp.gate_proj', 'avg_loss': '0.17405', 'damp_percent': '0.00500', 'time': '1.664'}\n",
            "Quantizing mlp.down_proj in layer 29 of 31:  91%|█████████ | 29/32 [08:50<00:53, 17.81s/it]INFO - {'layer': 29, 'module': 'mlp.down_proj', 'avg_loss': '0.00224', 'damp_percent': '0.00500', 'time': '6.246'}\n",
            "Quantizing self_attn.k_proj in layer 30 of 31:  94%|█████████▍| 30/32 [08:57<00:35, 17.80s/it]INFO - {'layer': 30, 'module': 'self_attn.k_proj', 'avg_loss': '0.01650', 'damp_percent': '0.00500', 'time': '1.611'}\n",
            "Quantizing self_attn.v_proj in layer 30 of 31:  94%|█████████▍| 30/32 [08:59<00:35, 17.80s/it]INFO - {'layer': 30, 'module': 'self_attn.v_proj', 'avg_loss': '0.01472', 'damp_percent': '0.00500', 'time': '1.650'}\n",
            "Quantizing self_attn.q_proj in layer 30 of 31:  94%|█████████▍| 30/32 [09:01<00:35, 17.80s/it]INFO - {'layer': 30, 'module': 'self_attn.q_proj', 'avg_loss': '0.03854', 'damp_percent': '0.00500', 'time': '1.658'}\n",
            "Quantizing self_attn.o_proj in layer 30 of 31:  94%|█████████▍| 30/32 [09:02<00:35, 17.80s/it]INFO - {'layer': 30, 'module': 'self_attn.o_proj', 'avg_loss': '0.00076', 'damp_percent': '0.00500', 'time': '1.627'}\n",
            "Quantizing mlp.up_proj in layer 30 of 31:  94%|█████████▍| 30/32 [09:04<00:35, 17.80s/it]     INFO - {'layer': 30, 'module': 'mlp.up_proj', 'avg_loss': '0.12522', 'damp_percent': '0.00500', 'time': '1.671'}\n",
            "Quantizing mlp.gate_proj in layer 30 of 31:  94%|█████████▍| 30/32 [09:06<00:35, 17.80s/it]INFO - {'layer': 30, 'module': 'mlp.gate_proj', 'avg_loss': '0.18604', 'damp_percent': '0.00500', 'time': '1.667'}\n",
            "Quantizing mlp.down_proj in layer 30 of 31:  94%|█████████▍| 30/32 [09:08<00:35, 17.80s/it]INFO - {'layer': 30, 'module': 'mlp.down_proj', 'avg_loss': '0.00419', 'damp_percent': '0.00500', 'time': '6.293'}\n",
            "Quantizing self_attn.k_proj in layer 31 of 31:  97%|█████████▋| 31/32 [09:15<00:17, 17.83s/it]INFO - {'layer': 31, 'module': 'self_attn.k_proj', 'avg_loss': '0.01680', 'damp_percent': '0.00500', 'time': '1.608'}\n",
            "Quantizing self_attn.v_proj in layer 31 of 31:  97%|█████████▋| 31/32 [09:17<00:17, 17.83s/it]INFO - {'layer': 31, 'module': 'self_attn.v_proj', 'avg_loss': '0.00901', 'damp_percent': '0.00500', 'time': '1.614'}\n",
            "Quantizing self_attn.q_proj in layer 31 of 31:  97%|█████████▋| 31/32 [09:19<00:17, 17.83s/it]INFO - {'layer': 31, 'module': 'self_attn.q_proj', 'avg_loss': '0.03791', 'damp_percent': '0.00500', 'time': '1.646'}\n",
            "Quantizing self_attn.o_proj in layer 31 of 31:  97%|█████████▋| 31/32 [09:20<00:17, 17.83s/it]INFO - {'layer': 31, 'module': 'self_attn.o_proj', 'avg_loss': '0.00333', 'damp_percent': '0.00500', 'time': '1.627'}\n",
            "Quantizing mlp.up_proj in layer 31 of 31:  97%|█████████▋| 31/32 [09:22<00:17, 17.83s/it]     INFO - {'layer': 31, 'module': 'mlp.up_proj', 'avg_loss': '0.11848', 'damp_percent': '0.00500', 'time': '1.680'}\n",
            "Quantizing mlp.gate_proj in layer 31 of 31:  97%|█████████▋| 31/32 [09:24<00:17, 17.83s/it]INFO - {'layer': 31, 'module': 'mlp.gate_proj', 'avg_loss': '0.17089', 'damp_percent': '0.00500', 'time': '1.672'}\n",
            "Quantizing mlp.down_proj in layer 31 of 31:  97%|█████████▋| 31/32 [09:26<00:17, 17.83s/it]INFO - {'layer': 31, 'module': 'mlp.down_proj', 'avg_loss': '0.06427', 'damp_percent': '0.00500', 'time': '6.230'}\n",
            "Quantizing mlp.down_proj in layer 31 of 31: 100%|██████████| 32/32 [09:33<00:00, 17.92s/it]\n",
            "INFO - Quantization summary:\n",
            "[{'layer': 0, 'module': 'self_attn.k_proj', 'avg_loss': '0.00119', 'damp_percent': '0.00500', 'time': '3.234'}, {'layer': 0, 'module': 'self_attn.v_proj', 'avg_loss': '0.00005', 'damp_percent': '0.00500', 'time': '1.608'}, {'layer': 0, 'module': 'self_attn.q_proj', 'avg_loss': '0.00199', 'damp_percent': '0.00500', 'time': '1.643'}, {'layer': 0, 'module': 'self_attn.o_proj', 'avg_loss': '0.00000', 'damp_percent': '0.00500', 'time': '1.620'}, {'layer': 0, 'module': 'mlp.up_proj', 'avg_loss': '0.00368', 'damp_percent': '0.00500', 'time': '1.645'}, {'layer': 0, 'module': 'mlp.gate_proj', 'avg_loss': '0.00435', 'damp_percent': '0.00500', 'time': '1.649'}, {'layer': 0, 'module': 'mlp.down_proj', 'avg_loss': '0.00005', 'damp_percent': '0.00500', 'time': '6.314'}, {'layer': 1, 'module': 'self_attn.k_proj', 'avg_loss': '0.00238', 'damp_percent': '0.00500', 'time': '1.603'}, {'layer': 1, 'module': 'self_attn.v_proj', 'avg_loss': '0.00019', 'damp_percent': '0.00500', 'time': '1.615'}, {'layer': 1, 'module': 'self_attn.q_proj', 'avg_loss': '0.00471', 'damp_percent': '0.00500', 'time': '1.652'}, {'layer': 1, 'module': 'self_attn.o_proj', 'avg_loss': '0.00001', 'damp_percent': '0.00500', 'time': '1.695'}, {'layer': 1, 'module': 'mlp.up_proj', 'avg_loss': '0.00831', 'damp_percent': '0.00500', 'time': '1.646'}, {'layer': 1, 'module': 'mlp.gate_proj', 'avg_loss': '0.00979', 'damp_percent': '0.00500', 'time': '1.669'}, {'layer': 1, 'module': 'mlp.down_proj', 'avg_loss': '0.84043', 'damp_percent': '0.00500', 'time': '6.209'}, {'layer': 2, 'module': 'self_attn.k_proj', 'avg_loss': '0.01027', 'damp_percent': '0.00500', 'time': '1.614'}, {'layer': 2, 'module': 'self_attn.v_proj', 'avg_loss': '0.00078', 'damp_percent': '0.00500', 'time': '1.643'}, {'layer': 2, 'module': 'self_attn.q_proj', 'avg_loss': '0.01926', 'damp_percent': '0.00500', 'time': '1.697'}, {'layer': 2, 'module': 'self_attn.o_proj', 'avg_loss': '0.00001', 'damp_percent': '0.00500', 'time': '1.641'}, {'layer': 2, 'module': 'mlp.up_proj', 'avg_loss': '0.01392', 'damp_percent': '0.00500', 'time': '1.650'}, {'layer': 2, 'module': 'mlp.gate_proj', 'avg_loss': '0.01725', 'damp_percent': '0.00500', 'time': '1.678'}, {'layer': 2, 'module': 'mlp.down_proj', 'avg_loss': '0.00002', 'damp_percent': '0.00500', 'time': '6.252'}, {'layer': 3, 'module': 'self_attn.k_proj', 'avg_loss': '0.01386', 'damp_percent': '0.00500', 'time': '1.613'}, {'layer': 3, 'module': 'self_attn.v_proj', 'avg_loss': '0.00147', 'damp_percent': '0.00500', 'time': '1.628'}, {'layer': 3, 'module': 'self_attn.q_proj', 'avg_loss': '0.02667', 'damp_percent': '0.00500', 'time': '1.649'}, {'layer': 3, 'module': 'self_attn.o_proj', 'avg_loss': '0.00002', 'damp_percent': '0.00500', 'time': '1.645'}, {'layer': 3, 'module': 'mlp.up_proj', 'avg_loss': '0.01933', 'damp_percent': '0.00500', 'time': '1.658'}, {'layer': 3, 'module': 'mlp.gate_proj', 'avg_loss': '0.02750', 'damp_percent': '0.00500', 'time': '1.672'}, {'layer': 3, 'module': 'mlp.down_proj', 'avg_loss': '0.00004', 'damp_percent': '0.00500', 'time': '6.234'}, {'layer': 4, 'module': 'self_attn.k_proj', 'avg_loss': '0.01120', 'damp_percent': '0.00500', 'time': '1.604'}, {'layer': 4, 'module': 'self_attn.v_proj', 'avg_loss': '0.00146', 'damp_percent': '0.00500', 'time': '1.640'}, {'layer': 4, 'module': 'self_attn.q_proj', 'avg_loss': '0.02152', 'damp_percent': '0.00500', 'time': '1.658'}, {'layer': 4, 'module': 'self_attn.o_proj', 'avg_loss': '0.00003', 'damp_percent': '0.00500', 'time': '1.617'}, {'layer': 4, 'module': 'mlp.up_proj', 'avg_loss': '0.02430', 'damp_percent': '0.00500', 'time': '1.647'}, {'layer': 4, 'module': 'mlp.gate_proj', 'avg_loss': '0.03881', 'damp_percent': '0.00500', 'time': '1.668'}, {'layer': 4, 'module': 'mlp.down_proj', 'avg_loss': '0.00007', 'damp_percent': '0.00500', 'time': '6.310'}, {'layer': 5, 'module': 'self_attn.k_proj', 'avg_loss': '0.01470', 'damp_percent': '0.00500', 'time': '1.606'}, {'layer': 5, 'module': 'self_attn.v_proj', 'avg_loss': '0.00134', 'damp_percent': '0.00500', 'time': '1.625'}, {'layer': 5, 'module': 'self_attn.q_proj', 'avg_loss': '0.02803', 'damp_percent': '0.00500', 'time': '1.647'}, {'layer': 5, 'module': 'self_attn.o_proj', 'avg_loss': '0.00003', 'damp_percent': '0.00500', 'time': '1.621'}, {'layer': 5, 'module': 'mlp.up_proj', 'avg_loss': '0.02872', 'damp_percent': '0.00500', 'time': '1.651'}, {'layer': 5, 'module': 'mlp.gate_proj', 'avg_loss': '0.04535', 'damp_percent': '0.00500', 'time': '1.660'}, {'layer': 5, 'module': 'mlp.down_proj', 'avg_loss': '0.00010', 'damp_percent': '0.00500', 'time': '6.214'}, {'layer': 6, 'module': 'self_attn.k_proj', 'avg_loss': '0.01468', 'damp_percent': '0.00500', 'time': '1.601'}, {'layer': 6, 'module': 'self_attn.v_proj', 'avg_loss': '0.00162', 'damp_percent': '0.00500', 'time': '1.629'}, {'layer': 6, 'module': 'self_attn.q_proj', 'avg_loss': '0.02949', 'damp_percent': '0.00500', 'time': '1.647'}, {'layer': 6, 'module': 'self_attn.o_proj', 'avg_loss': '0.00006', 'damp_percent': '0.00500', 'time': '1.634'}, {'layer': 6, 'module': 'mlp.up_proj', 'avg_loss': '0.03058', 'damp_percent': '0.00500', 'time': '1.655'}, {'layer': 6, 'module': 'mlp.gate_proj', 'avg_loss': '0.04875', 'damp_percent': '0.00500', 'time': '1.663'}, {'layer': 6, 'module': 'mlp.down_proj', 'avg_loss': '0.00013', 'damp_percent': '0.00500', 'time': '6.217'}, {'layer': 7, 'module': 'self_attn.k_proj', 'avg_loss': '0.01619', 'damp_percent': '0.00500', 'time': '1.601'}, {'layer': 7, 'module': 'self_attn.v_proj', 'avg_loss': '0.00164', 'damp_percent': '0.00500', 'time': '1.613'}, {'layer': 7, 'module': 'self_attn.q_proj', 'avg_loss': '0.02940', 'damp_percent': '0.00500', 'time': '1.649'}, {'layer': 7, 'module': 'self_attn.o_proj', 'avg_loss': '0.00010', 'damp_percent': '0.00500', 'time': '1.632'}, {'layer': 7, 'module': 'mlp.up_proj', 'avg_loss': '0.03146', 'damp_percent': '0.00500', 'time': '1.669'}, {'layer': 7, 'module': 'mlp.gate_proj', 'avg_loss': '0.04726', 'damp_percent': '0.00500', 'time': '1.675'}, {'layer': 7, 'module': 'mlp.down_proj', 'avg_loss': '0.00016', 'damp_percent': '0.00500', 'time': '6.232'}, {'layer': 8, 'module': 'self_attn.k_proj', 'avg_loss': '0.01793', 'damp_percent': '0.00500', 'time': '1.607'}, {'layer': 8, 'module': 'self_attn.v_proj', 'avg_loss': '0.00210', 'damp_percent': '0.00500', 'time': '1.622'}, {'layer': 8, 'module': 'self_attn.q_proj', 'avg_loss': '0.03302', 'damp_percent': '0.00500', 'time': '1.676'}, {'layer': 8, 'module': 'self_attn.o_proj', 'avg_loss': '0.00012', 'damp_percent': '0.00500', 'time': '1.622'}, {'layer': 8, 'module': 'mlp.up_proj', 'avg_loss': '0.03190', 'damp_percent': '0.00500', 'time': '1.643'}, {'layer': 8, 'module': 'mlp.gate_proj', 'avg_loss': '0.04822', 'damp_percent': '0.00500', 'time': '1.664'}, {'layer': 8, 'module': 'mlp.down_proj', 'avg_loss': '0.00015', 'damp_percent': '0.00500', 'time': '6.257'}, {'layer': 9, 'module': 'self_attn.k_proj', 'avg_loss': '0.01798', 'damp_percent': '0.00500', 'time': '1.608'}, {'layer': 9, 'module': 'self_attn.v_proj', 'avg_loss': '0.00277', 'damp_percent': '0.00500', 'time': '1.603'}, {'layer': 9, 'module': 'self_attn.q_proj', 'avg_loss': '0.03262', 'damp_percent': '0.00500', 'time': '1.657'}, {'layer': 9, 'module': 'self_attn.o_proj', 'avg_loss': '0.00014', 'damp_percent': '0.00500', 'time': '1.647'}, {'layer': 9, 'module': 'mlp.up_proj', 'avg_loss': '0.03147', 'damp_percent': '0.00500', 'time': '1.667'}, {'layer': 9, 'module': 'mlp.gate_proj', 'avg_loss': '0.04817', 'damp_percent': '0.00500', 'time': '1.678'}, {'layer': 9, 'module': 'mlp.down_proj', 'avg_loss': '0.00015', 'damp_percent': '0.00500', 'time': '6.253'}, {'layer': 10, 'module': 'self_attn.k_proj', 'avg_loss': '0.01924', 'damp_percent': '0.00500', 'time': '1.620'}, {'layer': 10, 'module': 'self_attn.v_proj', 'avg_loss': '0.00217', 'damp_percent': '0.00500', 'time': '1.624'}, {'layer': 10, 'module': 'self_attn.q_proj', 'avg_loss': '0.03551', 'damp_percent': '0.00500', 'time': '1.660'}, {'layer': 10, 'module': 'self_attn.o_proj', 'avg_loss': '0.00012', 'damp_percent': '0.00500', 'time': '1.624'}, {'layer': 10, 'module': 'mlp.up_proj', 'avg_loss': '0.03116', 'damp_percent': '0.00500', 'time': '1.651'}, {'layer': 10, 'module': 'mlp.gate_proj', 'avg_loss': '0.04442', 'damp_percent': '0.00500', 'time': '1.675'}, {'layer': 10, 'module': 'mlp.down_proj', 'avg_loss': '0.00017', 'damp_percent': '0.00500', 'time': '6.284'}, {'layer': 11, 'module': 'self_attn.k_proj', 'avg_loss': '0.01967', 'damp_percent': '0.00500', 'time': '1.605'}, {'layer': 11, 'module': 'self_attn.v_proj', 'avg_loss': '0.00211', 'damp_percent': '0.00500', 'time': '1.615'}, {'layer': 11, 'module': 'self_attn.q_proj', 'avg_loss': '0.03333', 'damp_percent': '0.00500', 'time': '1.648'}, {'layer': 11, 'module': 'self_attn.o_proj', 'avg_loss': '0.00015', 'damp_percent': '0.00500', 'time': '1.649'}, {'layer': 11, 'module': 'mlp.up_proj', 'avg_loss': '0.03168', 'damp_percent': '0.00500', 'time': '1.662'}, {'layer': 11, 'module': 'mlp.gate_proj', 'avg_loss': '0.04335', 'damp_percent': '0.00500', 'time': '1.662'}, {'layer': 11, 'module': 'mlp.down_proj', 'avg_loss': '0.00016', 'damp_percent': '0.00500', 'time': '6.254'}, {'layer': 12, 'module': 'self_attn.k_proj', 'avg_loss': '0.01659', 'damp_percent': '0.00500', 'time': '1.610'}, {'layer': 12, 'module': 'self_attn.v_proj', 'avg_loss': '0.00256', 'damp_percent': '0.00500', 'time': '1.615'}, {'layer': 12, 'module': 'self_attn.q_proj', 'avg_loss': '0.03003', 'damp_percent': '0.00500', 'time': '1.650'}, {'layer': 12, 'module': 'self_attn.o_proj', 'avg_loss': '0.00018', 'damp_percent': '0.00500', 'time': '1.646'}, {'layer': 12, 'module': 'mlp.up_proj', 'avg_loss': '0.03084', 'damp_percent': '0.00500', 'time': '1.686'}, {'layer': 12, 'module': 'mlp.gate_proj', 'avg_loss': '0.03949', 'damp_percent': '0.00500', 'time': '1.674'}, {'layer': 12, 'module': 'mlp.down_proj', 'avg_loss': '0.00017', 'damp_percent': '0.00500', 'time': '6.289'}, {'layer': 13, 'module': 'self_attn.k_proj', 'avg_loss': '0.02102', 'damp_percent': '0.00500', 'time': '1.626'}, {'layer': 13, 'module': 'self_attn.v_proj', 'avg_loss': '0.00273', 'damp_percent': '0.00500', 'time': '1.644'}, {'layer': 13, 'module': 'self_attn.q_proj', 'avg_loss': '0.03727', 'damp_percent': '0.00500', 'time': '1.675'}, {'layer': 13, 'module': 'self_attn.o_proj', 'avg_loss': '0.00015', 'damp_percent': '0.00500', 'time': '1.643'}, {'layer': 13, 'module': 'mlp.up_proj', 'avg_loss': '0.03224', 'damp_percent': '0.00500', 'time': '1.673'}, {'layer': 13, 'module': 'mlp.gate_proj', 'avg_loss': '0.04095', 'damp_percent': '0.00500', 'time': '1.690'}, {'layer': 13, 'module': 'mlp.down_proj', 'avg_loss': '0.00019', 'damp_percent': '0.00500', 'time': '6.347'}, {'layer': 14, 'module': 'self_attn.k_proj', 'avg_loss': '0.02097', 'damp_percent': '0.00500', 'time': '1.633'}, {'layer': 14, 'module': 'self_attn.v_proj', 'avg_loss': '0.00269', 'damp_percent': '0.00500', 'time': '1.623'}, {'layer': 14, 'module': 'self_attn.q_proj', 'avg_loss': '0.03636', 'damp_percent': '0.00500', 'time': '1.670'}, {'layer': 14, 'module': 'self_attn.o_proj', 'avg_loss': '0.00018', 'damp_percent': '0.00500', 'time': '1.644'}, {'layer': 14, 'module': 'mlp.up_proj', 'avg_loss': '0.03487', 'damp_percent': '0.00500', 'time': '1.653'}, {'layer': 14, 'module': 'mlp.gate_proj', 'avg_loss': '0.04589', 'damp_percent': '0.00500', 'time': '1.701'}, {'layer': 14, 'module': 'mlp.down_proj', 'avg_loss': '0.00024', 'damp_percent': '0.00500', 'time': '6.262'}, {'layer': 15, 'module': 'self_attn.k_proj', 'avg_loss': '0.02006', 'damp_percent': '0.00500', 'time': '1.601'}, {'layer': 15, 'module': 'self_attn.v_proj', 'avg_loss': '0.00311', 'damp_percent': '0.00500', 'time': '1.697'}, {'layer': 15, 'module': 'self_attn.q_proj', 'avg_loss': '0.04323', 'damp_percent': '0.00500', 'time': '1.673'}, {'layer': 15, 'module': 'self_attn.o_proj', 'avg_loss': '0.00018', 'damp_percent': '0.00500', 'time': '1.634'}, {'layer': 15, 'module': 'mlp.up_proj', 'avg_loss': '0.03869', 'damp_percent': '0.00500', 'time': '1.662'}, {'layer': 15, 'module': 'mlp.gate_proj', 'avg_loss': '0.05388', 'damp_percent': '0.00500', 'time': '1.667'}, {'layer': 15, 'module': 'mlp.down_proj', 'avg_loss': '0.00030', 'damp_percent': '0.00500', 'time': '6.266'}, {'layer': 16, 'module': 'self_attn.k_proj', 'avg_loss': '0.02000', 'damp_percent': '0.00500', 'time': '1.615'}, {'layer': 16, 'module': 'self_attn.v_proj', 'avg_loss': '0.00263', 'damp_percent': '0.00500', 'time': '1.623'}, {'layer': 16, 'module': 'self_attn.q_proj', 'avg_loss': '0.03986', 'damp_percent': '0.00500', 'time': '1.666'}, {'layer': 16, 'module': 'self_attn.o_proj', 'avg_loss': '0.00018', 'damp_percent': '0.00500', 'time': '1.630'}, {'layer': 16, 'module': 'mlp.up_proj', 'avg_loss': '0.04260', 'damp_percent': '0.00500', 'time': '1.683'}, {'layer': 16, 'module': 'mlp.gate_proj', 'avg_loss': '0.06429', 'damp_percent': '0.00500', 'time': '1.694'}, {'layer': 16, 'module': 'mlp.down_proj', 'avg_loss': '0.00035', 'damp_percent': '0.00500', 'time': '6.264'}, {'layer': 17, 'module': 'self_attn.k_proj', 'avg_loss': '0.02126', 'damp_percent': '0.00500', 'time': '1.604'}, {'layer': 17, 'module': 'self_attn.v_proj', 'avg_loss': '0.00350', 'damp_percent': '0.00500', 'time': '1.638'}, {'layer': 17, 'module': 'self_attn.q_proj', 'avg_loss': '0.04381', 'damp_percent': '0.00500', 'time': '1.663'}, {'layer': 17, 'module': 'self_attn.o_proj', 'avg_loss': '0.00012', 'damp_percent': '0.00500', 'time': '1.638'}, {'layer': 17, 'module': 'mlp.up_proj', 'avg_loss': '0.04671', 'damp_percent': '0.00500', 'time': '1.655'}, {'layer': 17, 'module': 'mlp.gate_proj', 'avg_loss': '0.07192', 'damp_percent': '0.00500', 'time': '1.666'}, {'layer': 17, 'module': 'mlp.down_proj', 'avg_loss': '0.00042', 'damp_percent': '0.00500', 'time': '6.274'}, {'layer': 18, 'module': 'self_attn.k_proj', 'avg_loss': '0.02425', 'damp_percent': '0.00500', 'time': '1.604'}, {'layer': 18, 'module': 'self_attn.v_proj', 'avg_loss': '0.00311', 'damp_percent': '0.00500', 'time': '1.616'}, {'layer': 18, 'module': 'self_attn.q_proj', 'avg_loss': '0.04720', 'damp_percent': '0.00500', 'time': '1.656'}, {'layer': 18, 'module': 'self_attn.o_proj', 'avg_loss': '0.00009', 'damp_percent': '0.00500', 'time': '1.627'}, {'layer': 18, 'module': 'mlp.up_proj', 'avg_loss': '0.05035', 'damp_percent': '0.00500', 'time': '1.667'}, {'layer': 18, 'module': 'mlp.gate_proj', 'avg_loss': '0.07981', 'damp_percent': '0.00500', 'time': '1.741'}, {'layer': 18, 'module': 'mlp.down_proj', 'avg_loss': '0.00044', 'damp_percent': '0.00500', 'time': '6.248'}, {'layer': 19, 'module': 'self_attn.k_proj', 'avg_loss': '0.02354', 'damp_percent': '0.00500', 'time': '1.620'}, {'layer': 19, 'module': 'self_attn.v_proj', 'avg_loss': '0.00364', 'damp_percent': '0.00500', 'time': '1.623'}, {'layer': 19, 'module': 'self_attn.q_proj', 'avg_loss': '0.04848', 'damp_percent': '0.00500', 'time': '1.647'}, {'layer': 19, 'module': 'self_attn.o_proj', 'avg_loss': '0.00007', 'damp_percent': '0.00500', 'time': '1.640'}, {'layer': 19, 'module': 'mlp.up_proj', 'avg_loss': '0.05403', 'damp_percent': '0.00500', 'time': '1.648'}, {'layer': 19, 'module': 'mlp.gate_proj', 'avg_loss': '0.08745', 'damp_percent': '0.00500', 'time': '1.663'}, {'layer': 19, 'module': 'mlp.down_proj', 'avg_loss': '0.00048', 'damp_percent': '0.00500', 'time': '6.256'}, {'layer': 20, 'module': 'self_attn.k_proj', 'avg_loss': '0.02356', 'damp_percent': '0.00500', 'time': '1.597'}, {'layer': 20, 'module': 'self_attn.v_proj', 'avg_loss': '0.00422', 'damp_percent': '0.00500', 'time': '1.600'}, {'layer': 20, 'module': 'self_attn.q_proj', 'avg_loss': '0.04948', 'damp_percent': '0.00500', 'time': '1.629'}, {'layer': 20, 'module': 'self_attn.o_proj', 'avg_loss': '0.00009', 'damp_percent': '0.00500', 'time': '1.624'}, {'layer': 20, 'module': 'mlp.up_proj', 'avg_loss': '0.05972', 'damp_percent': '0.00500', 'time': '1.661'}, {'layer': 20, 'module': 'mlp.gate_proj', 'avg_loss': '0.09566', 'damp_percent': '0.00500', 'time': '1.681'}, {'layer': 20, 'module': 'mlp.down_proj', 'avg_loss': '0.00052', 'damp_percent': '0.00500', 'time': '6.237'}, {'layer': 21, 'module': 'self_attn.k_proj', 'avg_loss': '0.02444', 'damp_percent': '0.00500', 'time': '1.627'}, {'layer': 21, 'module': 'self_attn.v_proj', 'avg_loss': '0.00458', 'damp_percent': '0.00500', 'time': '1.623'}, {'layer': 21, 'module': 'self_attn.q_proj', 'avg_loss': '0.04822', 'damp_percent': '0.00500', 'time': '1.659'}, {'layer': 21, 'module': 'self_attn.o_proj', 'avg_loss': '0.00013', 'damp_percent': '0.00500', 'time': '1.629'}, {'layer': 21, 'module': 'mlp.up_proj', 'avg_loss': '0.06599', 'damp_percent': '0.00500', 'time': '1.650'}, {'layer': 21, 'module': 'mlp.gate_proj', 'avg_loss': '0.10653', 'damp_percent': '0.00500', 'time': '1.670'}, {'layer': 21, 'module': 'mlp.down_proj', 'avg_loss': '0.00060', 'damp_percent': '0.00500', 'time': '6.253'}, {'layer': 22, 'module': 'self_attn.k_proj', 'avg_loss': '0.02509', 'damp_percent': '0.00500', 'time': '1.609'}, {'layer': 22, 'module': 'self_attn.v_proj', 'avg_loss': '0.00537', 'damp_percent': '0.00500', 'time': '1.616'}, {'layer': 22, 'module': 'self_attn.q_proj', 'avg_loss': '0.04935', 'damp_percent': '0.00500', 'time': '1.651'}, {'layer': 22, 'module': 'self_attn.o_proj', 'avg_loss': '0.00008', 'damp_percent': '0.00500', 'time': '1.643'}, {'layer': 22, 'module': 'mlp.up_proj', 'avg_loss': '0.07020', 'damp_percent': '0.00500', 'time': '1.666'}, {'layer': 22, 'module': 'mlp.gate_proj', 'avg_loss': '0.11305', 'damp_percent': '0.00500', 'time': '1.673'}, {'layer': 22, 'module': 'mlp.down_proj', 'avg_loss': '0.00063', 'damp_percent': '0.00500', 'time': '6.245'}, {'layer': 23, 'module': 'self_attn.k_proj', 'avg_loss': '0.02611', 'damp_percent': '0.00500', 'time': '1.621'}, {'layer': 23, 'module': 'self_attn.v_proj', 'avg_loss': '0.00631', 'damp_percent': '0.00500', 'time': '1.641'}, {'layer': 23, 'module': 'self_attn.q_proj', 'avg_loss': '0.05167', 'damp_percent': '0.00500', 'time': '1.654'}, {'layer': 23, 'module': 'self_attn.o_proj', 'avg_loss': '0.00010', 'damp_percent': '0.00500', 'time': '1.628'}, {'layer': 23, 'module': 'mlp.up_proj', 'avg_loss': '0.07539', 'damp_percent': '0.00500', 'time': '1.647'}, {'layer': 23, 'module': 'mlp.gate_proj', 'avg_loss': '0.12104', 'damp_percent': '0.00500', 'time': '1.667'}, {'layer': 23, 'module': 'mlp.down_proj', 'avg_loss': '0.00067', 'damp_percent': '0.00500', 'time': '6.251'}, {'layer': 24, 'module': 'self_attn.k_proj', 'avg_loss': '0.02364', 'damp_percent': '0.00500', 'time': '1.606'}, {'layer': 24, 'module': 'self_attn.v_proj', 'avg_loss': '0.00752', 'damp_percent': '0.00500', 'time': '1.611'}, {'layer': 24, 'module': 'self_attn.q_proj', 'avg_loss': '0.04962', 'damp_percent': '0.00500', 'time': '1.652'}, {'layer': 24, 'module': 'self_attn.o_proj', 'avg_loss': '0.00011', 'damp_percent': '0.00500', 'time': '1.634'}, {'layer': 24, 'module': 'mlp.up_proj', 'avg_loss': '0.08004', 'damp_percent': '0.00500', 'time': '1.665'}, {'layer': 24, 'module': 'mlp.gate_proj', 'avg_loss': '0.12830', 'damp_percent': '0.00500', 'time': '1.664'}, {'layer': 24, 'module': 'mlp.down_proj', 'avg_loss': '0.00070', 'damp_percent': '0.00500', 'time': '6.254'}, {'layer': 25, 'module': 'self_attn.k_proj', 'avg_loss': '0.02458', 'damp_percent': '0.00500', 'time': '1.611'}, {'layer': 25, 'module': 'self_attn.v_proj', 'avg_loss': '0.00779', 'damp_percent': '0.00500', 'time': '1.623'}, {'layer': 25, 'module': 'self_attn.q_proj', 'avg_loss': '0.04974', 'damp_percent': '0.00500', 'time': '1.651'}, {'layer': 25, 'module': 'self_attn.o_proj', 'avg_loss': '0.00016', 'damp_percent': '0.00500', 'time': '1.626'}, {'layer': 25, 'module': 'mlp.up_proj', 'avg_loss': '0.08645', 'damp_percent': '0.00500', 'time': '1.692'}, {'layer': 25, 'module': 'mlp.gate_proj', 'avg_loss': '0.13866', 'damp_percent': '0.00500', 'time': '1.683'}, {'layer': 25, 'module': 'mlp.down_proj', 'avg_loss': '0.00080', 'damp_percent': '0.00500', 'time': '6.230'}, {'layer': 26, 'module': 'self_attn.k_proj', 'avg_loss': '0.02344', 'damp_percent': '0.00500', 'time': '1.605'}, {'layer': 26, 'module': 'self_attn.v_proj', 'avg_loss': '0.00817', 'damp_percent': '0.00500', 'time': '1.620'}, {'layer': 26, 'module': 'self_attn.q_proj', 'avg_loss': '0.04547', 'damp_percent': '0.00500', 'time': '1.670'}, {'layer': 26, 'module': 'self_attn.o_proj', 'avg_loss': '0.00017', 'damp_percent': '0.00500', 'time': '1.628'}, {'layer': 26, 'module': 'mlp.up_proj', 'avg_loss': '0.09256', 'damp_percent': '0.00500', 'time': '1.652'}, {'layer': 26, 'module': 'mlp.gate_proj', 'avg_loss': '0.14886', 'damp_percent': '0.00500', 'time': '1.675'}, {'layer': 26, 'module': 'mlp.down_proj', 'avg_loss': '0.00091', 'damp_percent': '0.00500', 'time': '6.236'}, {'layer': 27, 'module': 'self_attn.k_proj', 'avg_loss': '0.02482', 'damp_percent': '0.00500', 'time': '1.612'}, {'layer': 27, 'module': 'self_attn.v_proj', 'avg_loss': '0.00965', 'damp_percent': '0.00500', 'time': '1.626'}, {'layer': 27, 'module': 'self_attn.q_proj', 'avg_loss': '0.04852', 'damp_percent': '0.00500', 'time': '1.663'}, {'layer': 27, 'module': 'self_attn.o_proj', 'avg_loss': '0.00026', 'damp_percent': '0.00500', 'time': '1.634'}, {'layer': 27, 'module': 'mlp.up_proj', 'avg_loss': '0.10096', 'damp_percent': '0.00500', 'time': '1.657'}, {'layer': 27, 'module': 'mlp.gate_proj', 'avg_loss': '0.16123', 'damp_percent': '0.00500', 'time': '1.674'}, {'layer': 27, 'module': 'mlp.down_proj', 'avg_loss': '0.00115', 'damp_percent': '0.00500', 'time': '6.241'}, {'layer': 28, 'module': 'self_attn.k_proj', 'avg_loss': '0.02206', 'damp_percent': '0.00500', 'time': '1.614'}, {'layer': 28, 'module': 'self_attn.v_proj', 'avg_loss': '0.01089', 'damp_percent': '0.00500', 'time': '1.626'}, {'layer': 28, 'module': 'self_attn.q_proj', 'avg_loss': '0.04739', 'damp_percent': '0.00500', 'time': '1.670'}, {'layer': 28, 'module': 'self_attn.o_proj', 'avg_loss': '0.00039', 'damp_percent': '0.00500', 'time': '1.620'}, {'layer': 28, 'module': 'mlp.up_proj', 'avg_loss': '0.11278', 'damp_percent': '0.00500', 'time': '1.651'}, {'layer': 28, 'module': 'mlp.gate_proj', 'avg_loss': '0.17125', 'damp_percent': '0.00500', 'time': '1.659'}, {'layer': 28, 'module': 'mlp.down_proj', 'avg_loss': '0.00154', 'damp_percent': '0.00500', 'time': '6.211'}, {'layer': 29, 'module': 'self_attn.k_proj', 'avg_loss': '0.02733', 'damp_percent': '0.00500', 'time': '1.606'}, {'layer': 29, 'module': 'self_attn.v_proj', 'avg_loss': '0.01282', 'damp_percent': '0.00500', 'time': '1.613'}, {'layer': 29, 'module': 'self_attn.q_proj', 'avg_loss': '0.05175', 'damp_percent': '0.00500', 'time': '1.648'}, {'layer': 29, 'module': 'self_attn.o_proj', 'avg_loss': '0.00057', 'damp_percent': '0.00500', 'time': '1.618'}, {'layer': 29, 'module': 'mlp.up_proj', 'avg_loss': '0.12045', 'damp_percent': '0.00500', 'time': '1.652'}, {'layer': 29, 'module': 'mlp.gate_proj', 'avg_loss': '0.17405', 'damp_percent': '0.00500', 'time': '1.664'}, {'layer': 29, 'module': 'mlp.down_proj', 'avg_loss': '0.00224', 'damp_percent': '0.00500', 'time': '6.246'}, {'layer': 30, 'module': 'self_attn.k_proj', 'avg_loss': '0.01650', 'damp_percent': '0.00500', 'time': '1.611'}, {'layer': 30, 'module': 'self_attn.v_proj', 'avg_loss': '0.01472', 'damp_percent': '0.00500', 'time': '1.650'}, {'layer': 30, 'module': 'self_attn.q_proj', 'avg_loss': '0.03854', 'damp_percent': '0.00500', 'time': '1.658'}, {'layer': 30, 'module': 'self_attn.o_proj', 'avg_loss': '0.00076', 'damp_percent': '0.00500', 'time': '1.627'}, {'layer': 30, 'module': 'mlp.up_proj', 'avg_loss': '0.12522', 'damp_percent': '0.00500', 'time': '1.671'}, {'layer': 30, 'module': 'mlp.gate_proj', 'avg_loss': '0.18604', 'damp_percent': '0.00500', 'time': '1.667'}, {'layer': 30, 'module': 'mlp.down_proj', 'avg_loss': '0.00419', 'damp_percent': '0.00500', 'time': '6.293'}, {'layer': 31, 'module': 'self_attn.k_proj', 'avg_loss': '0.01680', 'damp_percent': '0.00500', 'time': '1.608'}, {'layer': 31, 'module': 'self_attn.v_proj', 'avg_loss': '0.00901', 'damp_percent': '0.00500', 'time': '1.614'}, {'layer': 31, 'module': 'self_attn.q_proj', 'avg_loss': '0.03791', 'damp_percent': '0.00500', 'time': '1.646'}, {'layer': 31, 'module': 'self_attn.o_proj', 'avg_loss': '0.00333', 'damp_percent': '0.00500', 'time': '1.627'}, {'layer': 31, 'module': 'mlp.up_proj', 'avg_loss': '0.11848', 'damp_percent': '0.00500', 'time': '1.680'}, {'layer': 31, 'module': 'mlp.gate_proj', 'avg_loss': '0.17089', 'damp_percent': '0.00500', 'time': '1.672'}, {'layer': 31, 'module': 'mlp.down_proj', 'avg_loss': '0.06427', 'damp_percent': '0.00500', 'time': '6.230'}]\n",
            "INFO - {'layer': 0, 'module': 'self_attn.k_proj', 'avg_loss': '0.00119', 'damp_percent': '0.00500', 'time': '3.234'}\n",
            "INFO - {'layer': 0, 'module': 'self_attn.v_proj', 'avg_loss': '0.00005', 'damp_percent': '0.00500', 'time': '1.608'}\n",
            "INFO - {'layer': 0, 'module': 'self_attn.q_proj', 'avg_loss': '0.00199', 'damp_percent': '0.00500', 'time': '1.643'}\n",
            "INFO - {'layer': 0, 'module': 'self_attn.o_proj', 'avg_loss': '0.00000', 'damp_percent': '0.00500', 'time': '1.620'}\n",
            "INFO - {'layer': 0, 'module': 'mlp.up_proj', 'avg_loss': '0.00368', 'damp_percent': '0.00500', 'time': '1.645'}\n",
            "INFO - {'layer': 0, 'module': 'mlp.gate_proj', 'avg_loss': '0.00435', 'damp_percent': '0.00500', 'time': '1.649'}\n",
            "INFO - {'layer': 0, 'module': 'mlp.down_proj', 'avg_loss': '0.00005', 'damp_percent': '0.00500', 'time': '6.314'}\n",
            "INFO - {'layer': 1, 'module': 'self_attn.k_proj', 'avg_loss': '0.00238', 'damp_percent': '0.00500', 'time': '1.603'}\n",
            "INFO - {'layer': 1, 'module': 'self_attn.v_proj', 'avg_loss': '0.00019', 'damp_percent': '0.00500', 'time': '1.615'}\n",
            "INFO - {'layer': 1, 'module': 'self_attn.q_proj', 'avg_loss': '0.00471', 'damp_percent': '0.00500', 'time': '1.652'}\n",
            "INFO - {'layer': 1, 'module': 'self_attn.o_proj', 'avg_loss': '0.00001', 'damp_percent': '0.00500', 'time': '1.695'}\n",
            "INFO - {'layer': 1, 'module': 'mlp.up_proj', 'avg_loss': '0.00831', 'damp_percent': '0.00500', 'time': '1.646'}\n",
            "INFO - {'layer': 1, 'module': 'mlp.gate_proj', 'avg_loss': '0.00979', 'damp_percent': '0.00500', 'time': '1.669'}\n",
            "INFO - {'layer': 1, 'module': 'mlp.down_proj', 'avg_loss': '0.84043', 'damp_percent': '0.00500', 'time': '6.209'}\n",
            "INFO - {'layer': 2, 'module': 'self_attn.k_proj', 'avg_loss': '0.01027', 'damp_percent': '0.00500', 'time': '1.614'}\n",
            "INFO - {'layer': 2, 'module': 'self_attn.v_proj', 'avg_loss': '0.00078', 'damp_percent': '0.00500', 'time': '1.643'}\n",
            "INFO - {'layer': 2, 'module': 'self_attn.q_proj', 'avg_loss': '0.01926', 'damp_percent': '0.00500', 'time': '1.697'}\n",
            "INFO - {'layer': 2, 'module': 'self_attn.o_proj', 'avg_loss': '0.00001', 'damp_percent': '0.00500', 'time': '1.641'}\n",
            "INFO - {'layer': 2, 'module': 'mlp.up_proj', 'avg_loss': '0.01392', 'damp_percent': '0.00500', 'time': '1.650'}\n",
            "INFO - {'layer': 2, 'module': 'mlp.gate_proj', 'avg_loss': '0.01725', 'damp_percent': '0.00500', 'time': '1.678'}\n",
            "INFO - {'layer': 2, 'module': 'mlp.down_proj', 'avg_loss': '0.00002', 'damp_percent': '0.00500', 'time': '6.252'}\n",
            "INFO - {'layer': 3, 'module': 'self_attn.k_proj', 'avg_loss': '0.01386', 'damp_percent': '0.00500', 'time': '1.613'}\n",
            "INFO - {'layer': 3, 'module': 'self_attn.v_proj', 'avg_loss': '0.00147', 'damp_percent': '0.00500', 'time': '1.628'}\n",
            "INFO - {'layer': 3, 'module': 'self_attn.q_proj', 'avg_loss': '0.02667', 'damp_percent': '0.00500', 'time': '1.649'}\n",
            "INFO - {'layer': 3, 'module': 'self_attn.o_proj', 'avg_loss': '0.00002', 'damp_percent': '0.00500', 'time': '1.645'}\n",
            "INFO - {'layer': 3, 'module': 'mlp.up_proj', 'avg_loss': '0.01933', 'damp_percent': '0.00500', 'time': '1.658'}\n",
            "INFO - {'layer': 3, 'module': 'mlp.gate_proj', 'avg_loss': '0.02750', 'damp_percent': '0.00500', 'time': '1.672'}\n",
            "INFO - {'layer': 3, 'module': 'mlp.down_proj', 'avg_loss': '0.00004', 'damp_percent': '0.00500', 'time': '6.234'}\n",
            "INFO - {'layer': 4, 'module': 'self_attn.k_proj', 'avg_loss': '0.01120', 'damp_percent': '0.00500', 'time': '1.604'}\n",
            "INFO - {'layer': 4, 'module': 'self_attn.v_proj', 'avg_loss': '0.00146', 'damp_percent': '0.00500', 'time': '1.640'}\n",
            "INFO - {'layer': 4, 'module': 'self_attn.q_proj', 'avg_loss': '0.02152', 'damp_percent': '0.00500', 'time': '1.658'}\n",
            "INFO - {'layer': 4, 'module': 'self_attn.o_proj', 'avg_loss': '0.00003', 'damp_percent': '0.00500', 'time': '1.617'}\n",
            "INFO - {'layer': 4, 'module': 'mlp.up_proj', 'avg_loss': '0.02430', 'damp_percent': '0.00500', 'time': '1.647'}\n",
            "INFO - {'layer': 4, 'module': 'mlp.gate_proj', 'avg_loss': '0.03881', 'damp_percent': '0.00500', 'time': '1.668'}\n",
            "INFO - {'layer': 4, 'module': 'mlp.down_proj', 'avg_loss': '0.00007', 'damp_percent': '0.00500', 'time': '6.310'}\n",
            "INFO - {'layer': 5, 'module': 'self_attn.k_proj', 'avg_loss': '0.01470', 'damp_percent': '0.00500', 'time': '1.606'}\n",
            "INFO - {'layer': 5, 'module': 'self_attn.v_proj', 'avg_loss': '0.00134', 'damp_percent': '0.00500', 'time': '1.625'}\n",
            "INFO - {'layer': 5, 'module': 'self_attn.q_proj', 'avg_loss': '0.02803', 'damp_percent': '0.00500', 'time': '1.647'}\n",
            "INFO - {'layer': 5, 'module': 'self_attn.o_proj', 'avg_loss': '0.00003', 'damp_percent': '0.00500', 'time': '1.621'}\n",
            "INFO - {'layer': 5, 'module': 'mlp.up_proj', 'avg_loss': '0.02872', 'damp_percent': '0.00500', 'time': '1.651'}\n",
            "INFO - {'layer': 5, 'module': 'mlp.gate_proj', 'avg_loss': '0.04535', 'damp_percent': '0.00500', 'time': '1.660'}\n",
            "INFO - {'layer': 5, 'module': 'mlp.down_proj', 'avg_loss': '0.00010', 'damp_percent': '0.00500', 'time': '6.214'}\n",
            "INFO - {'layer': 6, 'module': 'self_attn.k_proj', 'avg_loss': '0.01468', 'damp_percent': '0.00500', 'time': '1.601'}\n",
            "INFO - {'layer': 6, 'module': 'self_attn.v_proj', 'avg_loss': '0.00162', 'damp_percent': '0.00500', 'time': '1.629'}\n",
            "INFO - {'layer': 6, 'module': 'self_attn.q_proj', 'avg_loss': '0.02949', 'damp_percent': '0.00500', 'time': '1.647'}\n",
            "INFO - {'layer': 6, 'module': 'self_attn.o_proj', 'avg_loss': '0.00006', 'damp_percent': '0.00500', 'time': '1.634'}\n",
            "INFO - {'layer': 6, 'module': 'mlp.up_proj', 'avg_loss': '0.03058', 'damp_percent': '0.00500', 'time': '1.655'}\n",
            "INFO - {'layer': 6, 'module': 'mlp.gate_proj', 'avg_loss': '0.04875', 'damp_percent': '0.00500', 'time': '1.663'}\n",
            "INFO - {'layer': 6, 'module': 'mlp.down_proj', 'avg_loss': '0.00013', 'damp_percent': '0.00500', 'time': '6.217'}\n",
            "INFO - {'layer': 7, 'module': 'self_attn.k_proj', 'avg_loss': '0.01619', 'damp_percent': '0.00500', 'time': '1.601'}\n",
            "INFO - {'layer': 7, 'module': 'self_attn.v_proj', 'avg_loss': '0.00164', 'damp_percent': '0.00500', 'time': '1.613'}\n",
            "INFO - {'layer': 7, 'module': 'self_attn.q_proj', 'avg_loss': '0.02940', 'damp_percent': '0.00500', 'time': '1.649'}\n",
            "INFO - {'layer': 7, 'module': 'self_attn.o_proj', 'avg_loss': '0.00010', 'damp_percent': '0.00500', 'time': '1.632'}\n",
            "INFO - {'layer': 7, 'module': 'mlp.up_proj', 'avg_loss': '0.03146', 'damp_percent': '0.00500', 'time': '1.669'}\n",
            "INFO - {'layer': 7, 'module': 'mlp.gate_proj', 'avg_loss': '0.04726', 'damp_percent': '0.00500', 'time': '1.675'}\n",
            "INFO - {'layer': 7, 'module': 'mlp.down_proj', 'avg_loss': '0.00016', 'damp_percent': '0.00500', 'time': '6.232'}\n",
            "INFO - {'layer': 8, 'module': 'self_attn.k_proj', 'avg_loss': '0.01793', 'damp_percent': '0.00500', 'time': '1.607'}\n",
            "INFO - {'layer': 8, 'module': 'self_attn.v_proj', 'avg_loss': '0.00210', 'damp_percent': '0.00500', 'time': '1.622'}\n",
            "INFO - {'layer': 8, 'module': 'self_attn.q_proj', 'avg_loss': '0.03302', 'damp_percent': '0.00500', 'time': '1.676'}\n",
            "INFO - {'layer': 8, 'module': 'self_attn.o_proj', 'avg_loss': '0.00012', 'damp_percent': '0.00500', 'time': '1.622'}\n",
            "INFO - {'layer': 8, 'module': 'mlp.up_proj', 'avg_loss': '0.03190', 'damp_percent': '0.00500', 'time': '1.643'}\n",
            "INFO - {'layer': 8, 'module': 'mlp.gate_proj', 'avg_loss': '0.04822', 'damp_percent': '0.00500', 'time': '1.664'}\n",
            "INFO - {'layer': 8, 'module': 'mlp.down_proj', 'avg_loss': '0.00015', 'damp_percent': '0.00500', 'time': '6.257'}\n",
            "INFO - {'layer': 9, 'module': 'self_attn.k_proj', 'avg_loss': '0.01798', 'damp_percent': '0.00500', 'time': '1.608'}\n",
            "INFO - {'layer': 9, 'module': 'self_attn.v_proj', 'avg_loss': '0.00277', 'damp_percent': '0.00500', 'time': '1.603'}\n",
            "INFO - {'layer': 9, 'module': 'self_attn.q_proj', 'avg_loss': '0.03262', 'damp_percent': '0.00500', 'time': '1.657'}\n",
            "INFO - {'layer': 9, 'module': 'self_attn.o_proj', 'avg_loss': '0.00014', 'damp_percent': '0.00500', 'time': '1.647'}\n",
            "INFO - {'layer': 9, 'module': 'mlp.up_proj', 'avg_loss': '0.03147', 'damp_percent': '0.00500', 'time': '1.667'}\n",
            "INFO - {'layer': 9, 'module': 'mlp.gate_proj', 'avg_loss': '0.04817', 'damp_percent': '0.00500', 'time': '1.678'}\n",
            "INFO - {'layer': 9, 'module': 'mlp.down_proj', 'avg_loss': '0.00015', 'damp_percent': '0.00500', 'time': '6.253'}\n",
            "INFO - {'layer': 10, 'module': 'self_attn.k_proj', 'avg_loss': '0.01924', 'damp_percent': '0.00500', 'time': '1.620'}\n",
            "INFO - {'layer': 10, 'module': 'self_attn.v_proj', 'avg_loss': '0.00217', 'damp_percent': '0.00500', 'time': '1.624'}\n",
            "INFO - {'layer': 10, 'module': 'self_attn.q_proj', 'avg_loss': '0.03551', 'damp_percent': '0.00500', 'time': '1.660'}\n",
            "INFO - {'layer': 10, 'module': 'self_attn.o_proj', 'avg_loss': '0.00012', 'damp_percent': '0.00500', 'time': '1.624'}\n",
            "INFO - {'layer': 10, 'module': 'mlp.up_proj', 'avg_loss': '0.03116', 'damp_percent': '0.00500', 'time': '1.651'}\n",
            "INFO - {'layer': 10, 'module': 'mlp.gate_proj', 'avg_loss': '0.04442', 'damp_percent': '0.00500', 'time': '1.675'}\n",
            "INFO - {'layer': 10, 'module': 'mlp.down_proj', 'avg_loss': '0.00017', 'damp_percent': '0.00500', 'time': '6.284'}\n",
            "INFO - {'layer': 11, 'module': 'self_attn.k_proj', 'avg_loss': '0.01967', 'damp_percent': '0.00500', 'time': '1.605'}\n",
            "INFO - {'layer': 11, 'module': 'self_attn.v_proj', 'avg_loss': '0.00211', 'damp_percent': '0.00500', 'time': '1.615'}\n",
            "INFO - {'layer': 11, 'module': 'self_attn.q_proj', 'avg_loss': '0.03333', 'damp_percent': '0.00500', 'time': '1.648'}\n",
            "INFO - {'layer': 11, 'module': 'self_attn.o_proj', 'avg_loss': '0.00015', 'damp_percent': '0.00500', 'time': '1.649'}\n",
            "INFO - {'layer': 11, 'module': 'mlp.up_proj', 'avg_loss': '0.03168', 'damp_percent': '0.00500', 'time': '1.662'}\n",
            "INFO - {'layer': 11, 'module': 'mlp.gate_proj', 'avg_loss': '0.04335', 'damp_percent': '0.00500', 'time': '1.662'}\n",
            "INFO - {'layer': 11, 'module': 'mlp.down_proj', 'avg_loss': '0.00016', 'damp_percent': '0.00500', 'time': '6.254'}\n",
            "INFO - {'layer': 12, 'module': 'self_attn.k_proj', 'avg_loss': '0.01659', 'damp_percent': '0.00500', 'time': '1.610'}\n",
            "INFO - {'layer': 12, 'module': 'self_attn.v_proj', 'avg_loss': '0.00256', 'damp_percent': '0.00500', 'time': '1.615'}\n",
            "INFO - {'layer': 12, 'module': 'self_attn.q_proj', 'avg_loss': '0.03003', 'damp_percent': '0.00500', 'time': '1.650'}\n",
            "INFO - {'layer': 12, 'module': 'self_attn.o_proj', 'avg_loss': '0.00018', 'damp_percent': '0.00500', 'time': '1.646'}\n",
            "INFO - {'layer': 12, 'module': 'mlp.up_proj', 'avg_loss': '0.03084', 'damp_percent': '0.00500', 'time': '1.686'}\n",
            "INFO - {'layer': 12, 'module': 'mlp.gate_proj', 'avg_loss': '0.03949', 'damp_percent': '0.00500', 'time': '1.674'}\n",
            "INFO - {'layer': 12, 'module': 'mlp.down_proj', 'avg_loss': '0.00017', 'damp_percent': '0.00500', 'time': '6.289'}\n",
            "INFO - {'layer': 13, 'module': 'self_attn.k_proj', 'avg_loss': '0.02102', 'damp_percent': '0.00500', 'time': '1.626'}\n",
            "INFO - {'layer': 13, 'module': 'self_attn.v_proj', 'avg_loss': '0.00273', 'damp_percent': '0.00500', 'time': '1.644'}\n",
            "INFO - {'layer': 13, 'module': 'self_attn.q_proj', 'avg_loss': '0.03727', 'damp_percent': '0.00500', 'time': '1.675'}\n",
            "INFO - {'layer': 13, 'module': 'self_attn.o_proj', 'avg_loss': '0.00015', 'damp_percent': '0.00500', 'time': '1.643'}\n",
            "INFO - {'layer': 13, 'module': 'mlp.up_proj', 'avg_loss': '0.03224', 'damp_percent': '0.00500', 'time': '1.673'}\n",
            "INFO - {'layer': 13, 'module': 'mlp.gate_proj', 'avg_loss': '0.04095', 'damp_percent': '0.00500', 'time': '1.690'}\n",
            "INFO - {'layer': 13, 'module': 'mlp.down_proj', 'avg_loss': '0.00019', 'damp_percent': '0.00500', 'time': '6.347'}\n",
            "INFO - {'layer': 14, 'module': 'self_attn.k_proj', 'avg_loss': '0.02097', 'damp_percent': '0.00500', 'time': '1.633'}\n",
            "INFO - {'layer': 14, 'module': 'self_attn.v_proj', 'avg_loss': '0.00269', 'damp_percent': '0.00500', 'time': '1.623'}\n",
            "INFO - {'layer': 14, 'module': 'self_attn.q_proj', 'avg_loss': '0.03636', 'damp_percent': '0.00500', 'time': '1.670'}\n",
            "INFO - {'layer': 14, 'module': 'self_attn.o_proj', 'avg_loss': '0.00018', 'damp_percent': '0.00500', 'time': '1.644'}\n",
            "INFO - {'layer': 14, 'module': 'mlp.up_proj', 'avg_loss': '0.03487', 'damp_percent': '0.00500', 'time': '1.653'}\n",
            "INFO - {'layer': 14, 'module': 'mlp.gate_proj', 'avg_loss': '0.04589', 'damp_percent': '0.00500', 'time': '1.701'}\n",
            "INFO - {'layer': 14, 'module': 'mlp.down_proj', 'avg_loss': '0.00024', 'damp_percent': '0.00500', 'time': '6.262'}\n",
            "INFO - {'layer': 15, 'module': 'self_attn.k_proj', 'avg_loss': '0.02006', 'damp_percent': '0.00500', 'time': '1.601'}\n",
            "INFO - {'layer': 15, 'module': 'self_attn.v_proj', 'avg_loss': '0.00311', 'damp_percent': '0.00500', 'time': '1.697'}\n",
            "INFO - {'layer': 15, 'module': 'self_attn.q_proj', 'avg_loss': '0.04323', 'damp_percent': '0.00500', 'time': '1.673'}\n",
            "INFO - {'layer': 15, 'module': 'self_attn.o_proj', 'avg_loss': '0.00018', 'damp_percent': '0.00500', 'time': '1.634'}\n",
            "INFO - {'layer': 15, 'module': 'mlp.up_proj', 'avg_loss': '0.03869', 'damp_percent': '0.00500', 'time': '1.662'}\n",
            "INFO - {'layer': 15, 'module': 'mlp.gate_proj', 'avg_loss': '0.05388', 'damp_percent': '0.00500', 'time': '1.667'}\n",
            "INFO - {'layer': 15, 'module': 'mlp.down_proj', 'avg_loss': '0.00030', 'damp_percent': '0.00500', 'time': '6.266'}\n",
            "INFO - {'layer': 16, 'module': 'self_attn.k_proj', 'avg_loss': '0.02000', 'damp_percent': '0.00500', 'time': '1.615'}\n",
            "INFO - {'layer': 16, 'module': 'self_attn.v_proj', 'avg_loss': '0.00263', 'damp_percent': '0.00500', 'time': '1.623'}\n",
            "INFO - {'layer': 16, 'module': 'self_attn.q_proj', 'avg_loss': '0.03986', 'damp_percent': '0.00500', 'time': '1.666'}\n",
            "INFO - {'layer': 16, 'module': 'self_attn.o_proj', 'avg_loss': '0.00018', 'damp_percent': '0.00500', 'time': '1.630'}\n",
            "INFO - {'layer': 16, 'module': 'mlp.up_proj', 'avg_loss': '0.04260', 'damp_percent': '0.00500', 'time': '1.683'}\n",
            "INFO - {'layer': 16, 'module': 'mlp.gate_proj', 'avg_loss': '0.06429', 'damp_percent': '0.00500', 'time': '1.694'}\n",
            "INFO - {'layer': 16, 'module': 'mlp.down_proj', 'avg_loss': '0.00035', 'damp_percent': '0.00500', 'time': '6.264'}\n",
            "INFO - {'layer': 17, 'module': 'self_attn.k_proj', 'avg_loss': '0.02126', 'damp_percent': '0.00500', 'time': '1.604'}\n",
            "INFO - {'layer': 17, 'module': 'self_attn.v_proj', 'avg_loss': '0.00350', 'damp_percent': '0.00500', 'time': '1.638'}\n",
            "INFO - {'layer': 17, 'module': 'self_attn.q_proj', 'avg_loss': '0.04381', 'damp_percent': '0.00500', 'time': '1.663'}\n",
            "INFO - {'layer': 17, 'module': 'self_attn.o_proj', 'avg_loss': '0.00012', 'damp_percent': '0.00500', 'time': '1.638'}\n",
            "INFO - {'layer': 17, 'module': 'mlp.up_proj', 'avg_loss': '0.04671', 'damp_percent': '0.00500', 'time': '1.655'}\n",
            "INFO - {'layer': 17, 'module': 'mlp.gate_proj', 'avg_loss': '0.07192', 'damp_percent': '0.00500', 'time': '1.666'}\n",
            "INFO - {'layer': 17, 'module': 'mlp.down_proj', 'avg_loss': '0.00042', 'damp_percent': '0.00500', 'time': '6.274'}\n",
            "INFO - {'layer': 18, 'module': 'self_attn.k_proj', 'avg_loss': '0.02425', 'damp_percent': '0.00500', 'time': '1.604'}\n",
            "INFO - {'layer': 18, 'module': 'self_attn.v_proj', 'avg_loss': '0.00311', 'damp_percent': '0.00500', 'time': '1.616'}\n",
            "INFO - {'layer': 18, 'module': 'self_attn.q_proj', 'avg_loss': '0.04720', 'damp_percent': '0.00500', 'time': '1.656'}\n",
            "INFO - {'layer': 18, 'module': 'self_attn.o_proj', 'avg_loss': '0.00009', 'damp_percent': '0.00500', 'time': '1.627'}\n",
            "INFO - {'layer': 18, 'module': 'mlp.up_proj', 'avg_loss': '0.05035', 'damp_percent': '0.00500', 'time': '1.667'}\n",
            "INFO - {'layer': 18, 'module': 'mlp.gate_proj', 'avg_loss': '0.07981', 'damp_percent': '0.00500', 'time': '1.741'}\n",
            "INFO - {'layer': 18, 'module': 'mlp.down_proj', 'avg_loss': '0.00044', 'damp_percent': '0.00500', 'time': '6.248'}\n",
            "INFO - {'layer': 19, 'module': 'self_attn.k_proj', 'avg_loss': '0.02354', 'damp_percent': '0.00500', 'time': '1.620'}\n",
            "INFO - {'layer': 19, 'module': 'self_attn.v_proj', 'avg_loss': '0.00364', 'damp_percent': '0.00500', 'time': '1.623'}\n",
            "INFO - {'layer': 19, 'module': 'self_attn.q_proj', 'avg_loss': '0.04848', 'damp_percent': '0.00500', 'time': '1.647'}\n",
            "INFO - {'layer': 19, 'module': 'self_attn.o_proj', 'avg_loss': '0.00007', 'damp_percent': '0.00500', 'time': '1.640'}\n",
            "INFO - {'layer': 19, 'module': 'mlp.up_proj', 'avg_loss': '0.05403', 'damp_percent': '0.00500', 'time': '1.648'}\n",
            "INFO - {'layer': 19, 'module': 'mlp.gate_proj', 'avg_loss': '0.08745', 'damp_percent': '0.00500', 'time': '1.663'}\n",
            "INFO - {'layer': 19, 'module': 'mlp.down_proj', 'avg_loss': '0.00048', 'damp_percent': '0.00500', 'time': '6.256'}\n",
            "INFO - {'layer': 20, 'module': 'self_attn.k_proj', 'avg_loss': '0.02356', 'damp_percent': '0.00500', 'time': '1.597'}\n",
            "INFO - {'layer': 20, 'module': 'self_attn.v_proj', 'avg_loss': '0.00422', 'damp_percent': '0.00500', 'time': '1.600'}\n",
            "INFO - {'layer': 20, 'module': 'self_attn.q_proj', 'avg_loss': '0.04948', 'damp_percent': '0.00500', 'time': '1.629'}\n",
            "INFO - {'layer': 20, 'module': 'self_attn.o_proj', 'avg_loss': '0.00009', 'damp_percent': '0.00500', 'time': '1.624'}\n",
            "INFO - {'layer': 20, 'module': 'mlp.up_proj', 'avg_loss': '0.05972', 'damp_percent': '0.00500', 'time': '1.661'}\n",
            "INFO - {'layer': 20, 'module': 'mlp.gate_proj', 'avg_loss': '0.09566', 'damp_percent': '0.00500', 'time': '1.681'}\n",
            "INFO - {'layer': 20, 'module': 'mlp.down_proj', 'avg_loss': '0.00052', 'damp_percent': '0.00500', 'time': '6.237'}\n",
            "INFO - {'layer': 21, 'module': 'self_attn.k_proj', 'avg_loss': '0.02444', 'damp_percent': '0.00500', 'time': '1.627'}\n",
            "INFO - {'layer': 21, 'module': 'self_attn.v_proj', 'avg_loss': '0.00458', 'damp_percent': '0.00500', 'time': '1.623'}\n",
            "INFO - {'layer': 21, 'module': 'self_attn.q_proj', 'avg_loss': '0.04822', 'damp_percent': '0.00500', 'time': '1.659'}\n",
            "INFO - {'layer': 21, 'module': 'self_attn.o_proj', 'avg_loss': '0.00013', 'damp_percent': '0.00500', 'time': '1.629'}\n",
            "INFO - {'layer': 21, 'module': 'mlp.up_proj', 'avg_loss': '0.06599', 'damp_percent': '0.00500', 'time': '1.650'}\n",
            "INFO - {'layer': 21, 'module': 'mlp.gate_proj', 'avg_loss': '0.10653', 'damp_percent': '0.00500', 'time': '1.670'}\n",
            "INFO - {'layer': 21, 'module': 'mlp.down_proj', 'avg_loss': '0.00060', 'damp_percent': '0.00500', 'time': '6.253'}\n",
            "INFO - {'layer': 22, 'module': 'self_attn.k_proj', 'avg_loss': '0.02509', 'damp_percent': '0.00500', 'time': '1.609'}\n",
            "INFO - {'layer': 22, 'module': 'self_attn.v_proj', 'avg_loss': '0.00537', 'damp_percent': '0.00500', 'time': '1.616'}\n",
            "INFO - {'layer': 22, 'module': 'self_attn.q_proj', 'avg_loss': '0.04935', 'damp_percent': '0.00500', 'time': '1.651'}\n",
            "INFO - {'layer': 22, 'module': 'self_attn.o_proj', 'avg_loss': '0.00008', 'damp_percent': '0.00500', 'time': '1.643'}\n",
            "INFO - {'layer': 22, 'module': 'mlp.up_proj', 'avg_loss': '0.07020', 'damp_percent': '0.00500', 'time': '1.666'}\n",
            "INFO - {'layer': 22, 'module': 'mlp.gate_proj', 'avg_loss': '0.11305', 'damp_percent': '0.00500', 'time': '1.673'}\n",
            "INFO - {'layer': 22, 'module': 'mlp.down_proj', 'avg_loss': '0.00063', 'damp_percent': '0.00500', 'time': '6.245'}\n",
            "INFO - {'layer': 23, 'module': 'self_attn.k_proj', 'avg_loss': '0.02611', 'damp_percent': '0.00500', 'time': '1.621'}\n",
            "INFO - {'layer': 23, 'module': 'self_attn.v_proj', 'avg_loss': '0.00631', 'damp_percent': '0.00500', 'time': '1.641'}\n",
            "INFO - {'layer': 23, 'module': 'self_attn.q_proj', 'avg_loss': '0.05167', 'damp_percent': '0.00500', 'time': '1.654'}\n",
            "INFO - {'layer': 23, 'module': 'self_attn.o_proj', 'avg_loss': '0.00010', 'damp_percent': '0.00500', 'time': '1.628'}\n",
            "INFO - {'layer': 23, 'module': 'mlp.up_proj', 'avg_loss': '0.07539', 'damp_percent': '0.00500', 'time': '1.647'}\n",
            "INFO - {'layer': 23, 'module': 'mlp.gate_proj', 'avg_loss': '0.12104', 'damp_percent': '0.00500', 'time': '1.667'}\n",
            "INFO - {'layer': 23, 'module': 'mlp.down_proj', 'avg_loss': '0.00067', 'damp_percent': '0.00500', 'time': '6.251'}\n",
            "INFO - {'layer': 24, 'module': 'self_attn.k_proj', 'avg_loss': '0.02364', 'damp_percent': '0.00500', 'time': '1.606'}\n",
            "INFO - {'layer': 24, 'module': 'self_attn.v_proj', 'avg_loss': '0.00752', 'damp_percent': '0.00500', 'time': '1.611'}\n",
            "INFO - {'layer': 24, 'module': 'self_attn.q_proj', 'avg_loss': '0.04962', 'damp_percent': '0.00500', 'time': '1.652'}\n",
            "INFO - {'layer': 24, 'module': 'self_attn.o_proj', 'avg_loss': '0.00011', 'damp_percent': '0.00500', 'time': '1.634'}\n",
            "INFO - {'layer': 24, 'module': 'mlp.up_proj', 'avg_loss': '0.08004', 'damp_percent': '0.00500', 'time': '1.665'}\n",
            "INFO - {'layer': 24, 'module': 'mlp.gate_proj', 'avg_loss': '0.12830', 'damp_percent': '0.00500', 'time': '1.664'}\n",
            "INFO - {'layer': 24, 'module': 'mlp.down_proj', 'avg_loss': '0.00070', 'damp_percent': '0.00500', 'time': '6.254'}\n",
            "INFO - {'layer': 25, 'module': 'self_attn.k_proj', 'avg_loss': '0.02458', 'damp_percent': '0.00500', 'time': '1.611'}\n",
            "INFO - {'layer': 25, 'module': 'self_attn.v_proj', 'avg_loss': '0.00779', 'damp_percent': '0.00500', 'time': '1.623'}\n",
            "INFO - {'layer': 25, 'module': 'self_attn.q_proj', 'avg_loss': '0.04974', 'damp_percent': '0.00500', 'time': '1.651'}\n",
            "INFO - {'layer': 25, 'module': 'self_attn.o_proj', 'avg_loss': '0.00016', 'damp_percent': '0.00500', 'time': '1.626'}\n",
            "INFO - {'layer': 25, 'module': 'mlp.up_proj', 'avg_loss': '0.08645', 'damp_percent': '0.00500', 'time': '1.692'}\n",
            "INFO - {'layer': 25, 'module': 'mlp.gate_proj', 'avg_loss': '0.13866', 'damp_percent': '0.00500', 'time': '1.683'}\n",
            "INFO - {'layer': 25, 'module': 'mlp.down_proj', 'avg_loss': '0.00080', 'damp_percent': '0.00500', 'time': '6.230'}\n",
            "INFO - {'layer': 26, 'module': 'self_attn.k_proj', 'avg_loss': '0.02344', 'damp_percent': '0.00500', 'time': '1.605'}\n",
            "INFO - {'layer': 26, 'module': 'self_attn.v_proj', 'avg_loss': '0.00817', 'damp_percent': '0.00500', 'time': '1.620'}\n",
            "INFO - {'layer': 26, 'module': 'self_attn.q_proj', 'avg_loss': '0.04547', 'damp_percent': '0.00500', 'time': '1.670'}\n",
            "INFO - {'layer': 26, 'module': 'self_attn.o_proj', 'avg_loss': '0.00017', 'damp_percent': '0.00500', 'time': '1.628'}\n",
            "INFO - {'layer': 26, 'module': 'mlp.up_proj', 'avg_loss': '0.09256', 'damp_percent': '0.00500', 'time': '1.652'}\n",
            "INFO - {'layer': 26, 'module': 'mlp.gate_proj', 'avg_loss': '0.14886', 'damp_percent': '0.00500', 'time': '1.675'}\n",
            "INFO - {'layer': 26, 'module': 'mlp.down_proj', 'avg_loss': '0.00091', 'damp_percent': '0.00500', 'time': '6.236'}\n",
            "INFO - {'layer': 27, 'module': 'self_attn.k_proj', 'avg_loss': '0.02482', 'damp_percent': '0.00500', 'time': '1.612'}\n",
            "INFO - {'layer': 27, 'module': 'self_attn.v_proj', 'avg_loss': '0.00965', 'damp_percent': '0.00500', 'time': '1.626'}\n",
            "INFO - {'layer': 27, 'module': 'self_attn.q_proj', 'avg_loss': '0.04852', 'damp_percent': '0.00500', 'time': '1.663'}\n",
            "INFO - {'layer': 27, 'module': 'self_attn.o_proj', 'avg_loss': '0.00026', 'damp_percent': '0.00500', 'time': '1.634'}\n",
            "INFO - {'layer': 27, 'module': 'mlp.up_proj', 'avg_loss': '0.10096', 'damp_percent': '0.00500', 'time': '1.657'}\n",
            "INFO - {'layer': 27, 'module': 'mlp.gate_proj', 'avg_loss': '0.16123', 'damp_percent': '0.00500', 'time': '1.674'}\n",
            "INFO - {'layer': 27, 'module': 'mlp.down_proj', 'avg_loss': '0.00115', 'damp_percent': '0.00500', 'time': '6.241'}\n",
            "INFO - {'layer': 28, 'module': 'self_attn.k_proj', 'avg_loss': '0.02206', 'damp_percent': '0.00500', 'time': '1.614'}\n",
            "INFO - {'layer': 28, 'module': 'self_attn.v_proj', 'avg_loss': '0.01089', 'damp_percent': '0.00500', 'time': '1.626'}\n",
            "INFO - {'layer': 28, 'module': 'self_attn.q_proj', 'avg_loss': '0.04739', 'damp_percent': '0.00500', 'time': '1.670'}\n",
            "INFO - {'layer': 28, 'module': 'self_attn.o_proj', 'avg_loss': '0.00039', 'damp_percent': '0.00500', 'time': '1.620'}\n",
            "INFO - {'layer': 28, 'module': 'mlp.up_proj', 'avg_loss': '0.11278', 'damp_percent': '0.00500', 'time': '1.651'}\n",
            "INFO - {'layer': 28, 'module': 'mlp.gate_proj', 'avg_loss': '0.17125', 'damp_percent': '0.00500', 'time': '1.659'}\n",
            "INFO - {'layer': 28, 'module': 'mlp.down_proj', 'avg_loss': '0.00154', 'damp_percent': '0.00500', 'time': '6.211'}\n",
            "INFO - {'layer': 29, 'module': 'self_attn.k_proj', 'avg_loss': '0.02733', 'damp_percent': '0.00500', 'time': '1.606'}\n",
            "INFO - {'layer': 29, 'module': 'self_attn.v_proj', 'avg_loss': '0.01282', 'damp_percent': '0.00500', 'time': '1.613'}\n",
            "INFO - {'layer': 29, 'module': 'self_attn.q_proj', 'avg_loss': '0.05175', 'damp_percent': '0.00500', 'time': '1.648'}\n",
            "INFO - {'layer': 29, 'module': 'self_attn.o_proj', 'avg_loss': '0.00057', 'damp_percent': '0.00500', 'time': '1.618'}\n",
            "INFO - {'layer': 29, 'module': 'mlp.up_proj', 'avg_loss': '0.12045', 'damp_percent': '0.00500', 'time': '1.652'}\n",
            "INFO - {'layer': 29, 'module': 'mlp.gate_proj', 'avg_loss': '0.17405', 'damp_percent': '0.00500', 'time': '1.664'}\n",
            "INFO - {'layer': 29, 'module': 'mlp.down_proj', 'avg_loss': '0.00224', 'damp_percent': '0.00500', 'time': '6.246'}\n",
            "INFO - {'layer': 30, 'module': 'self_attn.k_proj', 'avg_loss': '0.01650', 'damp_percent': '0.00500', 'time': '1.611'}\n",
            "INFO - {'layer': 30, 'module': 'self_attn.v_proj', 'avg_loss': '0.01472', 'damp_percent': '0.00500', 'time': '1.650'}\n",
            "INFO - {'layer': 30, 'module': 'self_attn.q_proj', 'avg_loss': '0.03854', 'damp_percent': '0.00500', 'time': '1.658'}\n",
            "INFO - {'layer': 30, 'module': 'self_attn.o_proj', 'avg_loss': '0.00076', 'damp_percent': '0.00500', 'time': '1.627'}\n",
            "INFO - {'layer': 30, 'module': 'mlp.up_proj', 'avg_loss': '0.12522', 'damp_percent': '0.00500', 'time': '1.671'}\n",
            "INFO - {'layer': 30, 'module': 'mlp.gate_proj', 'avg_loss': '0.18604', 'damp_percent': '0.00500', 'time': '1.667'}\n",
            "INFO - {'layer': 30, 'module': 'mlp.down_proj', 'avg_loss': '0.00419', 'damp_percent': '0.00500', 'time': '6.293'}\n",
            "INFO - {'layer': 31, 'module': 'self_attn.k_proj', 'avg_loss': '0.01680', 'damp_percent': '0.00500', 'time': '1.608'}\n",
            "INFO - {'layer': 31, 'module': 'self_attn.v_proj', 'avg_loss': '0.00901', 'damp_percent': '0.00500', 'time': '1.614'}\n",
            "INFO - {'layer': 31, 'module': 'self_attn.q_proj', 'avg_loss': '0.03791', 'damp_percent': '0.00500', 'time': '1.646'}\n",
            "INFO - {'layer': 31, 'module': 'self_attn.o_proj', 'avg_loss': '0.00333', 'damp_percent': '0.00500', 'time': '1.627'}\n",
            "INFO - {'layer': 31, 'module': 'mlp.up_proj', 'avg_loss': '0.11848', 'damp_percent': '0.00500', 'time': '1.680'}\n",
            "INFO - {'layer': 31, 'module': 'mlp.gate_proj', 'avg_loss': '0.17089', 'damp_percent': '0.00500', 'time': '1.672'}\n",
            "INFO - {'layer': 31, 'module': 'mlp.down_proj', 'avg_loss': '0.06427', 'damp_percent': '0.00500', 'time': '6.230'}\n",
            "INFO - Packing model...\n",
            "INFO:gptqmodel.utils.model:Packing model...\n",
            "Packing model.layers.31.mlp.down_proj: 100%|██████████| 224/224 [03:39<00:00,  1.02it/s]\n",
            "INFO - Model packed.\n",
            "INFO:gptqmodel.utils.model:Model packed.\n",
            "INFO - Pre-Quantized model size: 30633.14MB, 29.92GB\n",
            "INFO - Quantized model size: 5467.36MB, 5.34GB\n",
            "INFO - Size difference: 25165.78MB, 24.58GB - 82.15%\n"
          ]
        },
        {
          "output_type": "stream",
          "name": "stdout",
          "text": [
            "Model is quantized and saved at \"Meta-Llama-3.1-8B-Instruct-4bit\"\n"
          ]
        }
      ]
    },
    {
      "cell_type": "code",
      "source": [
        "model = GPTQModel.from_quantized(quantized_model_dir)"
      ],
      "metadata": {
        "colab": {
          "base_uri": "https://localhost:8080/"
        },
        "id": "y551VI6OSgvZ",
        "outputId": "5a764783-992e-47b5-b894-3514f9179ceb"
      },
      "execution_count": null,
      "outputs": [
        {
          "output_type": "stream",
          "name": "stderr",
          "text": [
            "INFO - Compatibility: converting `checkpoint_format` from `gptq` to `gptq_v2`.\n"
          ]
        }
      ]
    },
    {
      "cell_type": "code",
      "source": [
        "print(tokenizer.decode(model.generate(**tokenizer(\"gptqmodel is\", return_tensors=\"pt\").to(model.device))[0]))"
      ],
      "metadata": {
        "id": "WLhtWVPdSm2e",
        "outputId": "544ab006-2e90-406a-de3e-5e7501e2dab7",
        "colab": {
          "base_uri": "https://localhost:8080/"
        }
      },
      "execution_count": null,
      "outputs": [
        {
          "output_type": "stream",
          "name": "stderr",
          "text": [
            "Setting `pad_token_id` to `eos_token_id`:None for open-end generation.\n",
            "/usr/local/lib/python3.10/dist-packages/transformers/generation/utils.py:1220: UserWarning: Using the model-agnostic default `max_length` (=20) to control the generation length. We recommend setting `max_new_tokens` to control the maximum length of the generation.\n",
            "  warnings.warn(\n",
            "Starting from v4.46, the `logits` model output will have the same type as the model (except at train time, where it will always be FP32)\n"
          ]
        },
        {
          "output_type": "stream",
          "name": "stdout",
          "text": [
            "<|begin_of_text|>gptqmodel is a Python package for working with the GPT-Q model. It provides\n"
          ]
        }
      ]
    }
  ]
}